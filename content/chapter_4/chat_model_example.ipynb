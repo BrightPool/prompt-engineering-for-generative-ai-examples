{
 "cells": [
  {
   "cell_type": "code",
   "execution_count": 3,
   "metadata": {},
   "outputs": [],
   "source": [
    "import asyncio\n",
    "from langchain.chat_models import ChatOpenAI\n",
    "from langchain.schema import HumanMessage, SystemMessage\n",
    "from nest_asyncio import apply\n",
    "\n",
    "apply()"
   ]
  },
  {
   "cell_type": "code",
   "execution_count": 6,
   "metadata": {},
   "outputs": [
    {
     "name": "stdout",
     "output_type": "stream",
     "text": [
      "Sure, here's a lighthearted one for you:\n",
      "\n",
      "Why do software engineers prefer dark mode?\n",
      "\n",
      "Because light attracts bugs!\n",
      "Amo la ingeniería de software.\n",
      "Sure, here's one for you:\n",
      "\n",
      "Why did the software engineer go broke?\n",
      "\n",
      "Because he lost his domain in a bet and couldn't afford the hosting fees!\n"
     ]
    }
   ],
   "source": [
    "chat = ChatOpenAI(temperature=0.5)\n",
    "messages = [\n",
    "    SystemMessage(content=\"Act as a senior software engineer at a startup company.\"),\n",
    "    HumanMessage(\n",
    "        content=\"Please can you provide a funny joke about software engineers?\"\n",
    "    ),\n",
    "]\n",
    "\n",
    "response = chat.invoke(input=messages)\n",
    "print(response.content)\n",
    "\n",
    "text = \"Translate this sentence from English to Spanish. I love software engineering.\"\n",
    "response = chat.invoke(input=text)\n",
    "print(response.content)\n",
    "\n",
    "# Using __call__:\n",
    "response = chat(messages=messages)\n",
    "print(response.content)\n"
   ]
  },
  {
   "cell_type": "code",
   "execution_count": 7,
   "metadata": {},
   "outputs": [
    {
     "name": "stdout",
     "output_type": "stream",
     "text": [
      "Sure, here's a lighthearted joke for you:\n",
      "\n",
      "Why do software engineers always mix up Christmas and Halloween?\n",
      "\n",
      "Because Oct 31 == Dec 25!"
     ]
    }
   ],
   "source": [
    "# Streaming example:\n",
    "for chunk in chat.stream(messages):\n",
    "    print(chunk.content, end=\"\", flush=True)"
   ]
  },
  {
   "cell_type": "code",
   "execution_count": 9,
   "metadata": {},
   "outputs": [],
   "source": [
    "# Calling multiple sets of messages at once with .generate() and .agenerate():\n",
    "synchronous_llm_result = chat.batch([messages, messages])\n",
    "print(synchronous_llm_result)\n",
    "\n",
    "# asynchronous_llm_result = asyncio.run(chat.abatch([messages, messages]))\n",
    "# print(asynchronous_llm_result)"
   ]
  },
  {
   "cell_type": "code",
   "execution_count": 15,
   "metadata": {},
   "outputs": [],
   "source": [
    "from langchain_core.runnables.config import RunnableConfig\n",
    "\n",
    "# Create a RunnableConfig with the desired concurrency limit\n",
    "config = RunnableConfig(max_concurrency=5)\n",
    "\n",
    "# Call the .batch() method with the inputs and config\n",
    "results = chat.batch([messages, messages], config=config)"
   ]
  }
 ],
 "metadata": {
  "kernelspec": {
   "display_name": "base",
   "language": "python",
   "name": "python3"
  },
  "language_info": {
   "codemirror_mode": {
    "name": "ipython",
    "version": 3
   },
   "file_extension": ".py",
   "mimetype": "text/x-python",
   "name": "python",
   "nbconvert_exporter": "python",
   "pygments_lexer": "ipython3",
   "version": "3.9.13"
  }
 },
 "nbformat": 4,
 "nbformat_minor": 2
}

{
 "cells": [
  {
   "cell_type": "code",
   "execution_count": 3,
   "metadata": {},
   "outputs": [],
   "source": [
    "import asyncio\n",
    "from langchain.chat_models import ChatOpenAI\n",
    "from langchain.schema import HumanMessage, SystemMessage\n",
    "from nest_asyncio import apply"
   ]
  },
  {
   "cell_type": "code",
   "execution_count": 4,
   "metadata": {},
   "outputs": [],
   "source": [
    "apply()"
   ]
  },
  {
   "cell_type": "code",
   "execution_count": 8,
   "metadata": {},
   "outputs": [
    {
     "name": "stdout",
     "output_type": "stream",
     "text": [
      "Sure, here's a lighthearted joke for you:\n",
      "\n",
      "Why did the software engineer go broke?\n",
      "\n",
      "Because he lost his domain in a bet and couldn't afford to renew it!\n",
      "Amo la ingeniería de software.\n",
      "Sure, here's a lighthearted joke for you:\n",
      "\n",
      "Why did the software engineer go broke?\n",
      "\n",
      "Because he lost his domain in a bet and couldn't afford to renew it!\n"
     ]
    }
   ],
   "source": [
    "chat = ChatOpenAI(temperature=0)\n",
    "messages = [\n",
    "    SystemMessage(content=\"Act as a senior software engineer at a startup company.\"),\n",
    "    HumanMessage(\n",
    "        content=\"Please can you provide a funny joke about software engineers?\"\n",
    "    ),\n",
    "]\n",
    "response = chat.predict_messages(messages=messages)\n",
    "print(response.content)\n",
    "\n",
    "\n",
    "text = \"Translate this sentence from English to Spanish. I love software engineering.\"\n",
    "response = chat.predict(text)\n",
    "print(response)\n",
    "\n",
    "# Using __call__:\n",
    "response = chat(messages=messages)\n",
    "print(response.content)\n"
   ]
  },
  {
   "cell_type": "code",
   "execution_count": 9,
   "metadata": {},
   "outputs": [
    {
     "name": "stdout",
     "output_type": "stream",
     "text": [
      "generations=[[ChatGeneration(text=\"Sure, here's a lighthearted joke for you:\\n\\nWhy did the software engineer go broke?\\n\\nBecause he lost his domain in a bet and couldn't afford to renew it!\", generation_info={'finish_reason': 'stop'}, message=AIMessage(content=\"Sure, here's a lighthearted joke for you:\\n\\nWhy did the software engineer go broke?\\n\\nBecause he lost his domain in a bet and couldn't afford to renew it!\", additional_kwargs={}, example=False))], [ChatGeneration(text=\"Sure, here's a lighthearted joke for you:\\n\\nWhy did the software engineer go broke?\\n\\nBecause he lost his domain in a bet and couldn't afford to renew it!\", generation_info={'finish_reason': 'stop'}, message=AIMessage(content=\"Sure, here's a lighthearted joke for you:\\n\\nWhy did the software engineer go broke?\\n\\nBecause he lost his domain in a bet and couldn't afford to renew it!\", additional_kwargs={}, example=False))]] llm_output={'token_usage': {'prompt_tokens': 66, 'completion_tokens': 76, 'total_tokens': 142}, 'model_name': 'gpt-3.5-turbo'} run=[RunInfo(run_id=UUID('971f3059-6d6b-4415-9c34-80bd6c2fd3ee')), RunInfo(run_id=UUID('774cc500-4ad4-4297-9bb4-6dab698a28ed'))]\n"
     ]
    }
   ],
   "source": [
    "# Calling multiple sets of messages at once with .generate() and .agenerate():\n",
    "synchronous_llm_result = chat.generate([messages, messages])\n",
    "print(synchronous_llm_result)\n",
    "\n",
    "# asynchronous_llm_result = asyncio.run(chat.agenerate([messages, messages]))\n",
    "# print(asynchronous_llm_result)"
   ]
  }
 ],
 "metadata": {
  "kernelspec": {
   "display_name": "base",
   "language": "python",
   "name": "python3"
  },
  "language_info": {
   "codemirror_mode": {
    "name": "ipython",
    "version": 3
   },
   "file_extension": ".py",
   "mimetype": "text/x-python",
   "name": "python",
   "nbconvert_exporter": "python",
   "pygments_lexer": "ipython3",
   "version": "3.9.13"
  }
 },
 "nbformat": 4,
 "nbformat_minor": 2
}

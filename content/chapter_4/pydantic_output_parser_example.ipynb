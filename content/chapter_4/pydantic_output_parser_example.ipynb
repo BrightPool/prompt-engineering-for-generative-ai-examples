{
 "cells": [
  {
   "cell_type": "code",
   "execution_count": 13,
   "metadata": {},
   "outputs": [],
   "source": [
    "from langchain.prompts.chat import (\n",
    "    ChatPromptTemplate,\n",
    "    SystemMessagePromptTemplate,\n",
    ")\n",
    "from langchain.chat_models import ChatOpenAI\n",
    "from langchain.output_parsers import PydanticOutputParser\n",
    "from pydantic import BaseModel, Field\n",
    "from typing import List"
   ]
  },
  {
   "cell_type": "code",
   "execution_count": 14,
   "metadata": {},
   "outputs": [],
   "source": [
    "temperature = 0.0\n",
    "\n",
    "class BusinessName(BaseModel):\n",
    "    name: str = Field(description=\"The name of the business\")\n",
    "    rating_score: float = Field(description=\"The rating score of the business. 0 is the worst, 10 is the best.\")\n",
    "\n",
    "class BusinessNames(BaseModel):\n",
    "    names: List[BusinessName] = Field(description=\"A list of business names\")\n",
    "\n",
    "# Set up a parser + inject instructions into the prompt template.\n",
    "parser = PydanticOutputParser(pydantic_object=BusinessNames)\n",
    "\n",
    "principles = \"\"\"\n",
    "- The name must be easy to remember.\n",
    "- Use the {industry} industry and Company context to create an effective name.\n",
    "- The name must be easy to pronounce.\n",
    "- You must only return the name without any other text or characters.\n",
    "- Avoid returning full stops, \\n or any other characters.\n",
    "- The maximum length of the name must be 10 characters.\n",
    "\"\"\""
   ]
  },
  {
   "cell_type": "code",
   "execution_count": 15,
   "metadata": {},
   "outputs": [
    {
     "name": "stdout",
     "output_type": "stream",
     "text": [
      "names=[BusinessName(name='DataWiz', rating_score=8.5), BusinessName(name='InsightIQ', rating_score=9.2), BusinessName(name='AnalytiQ', rating_score=7.8), BusinessName(name='SciData', rating_score=8.1), BusinessName(name='InfoMax', rating_score=9.5)] \n",
      "\n",
      "{'names': [{'name': 'DataWiz', 'rating_score': 8.5}, {'name': 'InsightIQ', 'rating_score': 9.2}, {'name': 'AnalytiQ', 'rating_score': 7.8}, {'name': 'SciData', 'rating_score': 8.1}, {'name': 'InfoMax', 'rating_score': 9.5}]}\n"
     ]
    }
   ],
   "source": [
    "# Chat Model Output Parser:\n",
    "chat = ChatOpenAI() \n",
    "template = \"\"\"Generate 5 business names for a new start up company in the {industry} industry. \n",
    "You must follow the following principles: {principles}\n",
    "{format_instructions}\n",
    "\"\"\"\n",
    "system_message_prompt = SystemMessagePromptTemplate.from_template(template)\n",
    "chat_prompt = ChatPromptTemplate.from_messages([system_message_prompt])\n",
    "\n",
    "chat_prompt.output_parser = PydanticOutputParser(pydantic_object=BusinessNames)\n",
    "\n",
    "# Get a chat completion from the formatted messages:\n",
    "chat_response_output = chat(\n",
    "    chat_prompt.format_prompt(\n",
    "        principles=principles,\n",
    "        industry=\"Data Science\",\n",
    "        format_instructions=parser.get_format_instructions(),\n",
    "    ).to_messages()\n",
    ")\n",
    "\n",
    "pydantic_schema = parser.parse(chat_response_output.content)\n",
    "print(pydantic_schema, \"\\n\")\n",
    "print(pydantic_schema.model_dump())"
   ]
  }
 ],
 "metadata": {
  "kernelspec": {
   "display_name": "base",
   "language": "python",
   "name": "python3"
  },
  "language_info": {
   "codemirror_mode": {
    "name": "ipython",
    "version": 3
   },
   "file_extension": ".py",
   "mimetype": "text/x-python",
   "name": "python",
   "nbconvert_exporter": "python",
   "pygments_lexer": "ipython3",
   "version": "3.9.13"
  }
 },
 "nbformat": 4,
 "nbformat_minor": 2
}

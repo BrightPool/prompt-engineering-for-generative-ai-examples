{
  "cells": [
    {
      "cell_type": "code",
      "execution_count": 6,
      "metadata": {},
      "outputs": [],
      "source": [
        "from langchain_community.document_loaders import PyPDFLoader\n",
        "from langchain.text_splitter import (\n",
        "    CharacterTextSplitter,\n",
        "    RecursiveCharacterTextSplitter,\n",
        ")\n",
        "from langchain.text_splitter import TokenTextSplitter"
      ]
    },
    {
      "cell_type": "code",
      "execution_count": 7,
      "metadata": {},
      "outputs": [],
      "source": [
        "text = \"\"\"\n",
        "Biology is a fascinating and diverse field of science that explores the living world and its intricacies. It encompasses the study of life, its origins, diversity, structure, function, and interactions at various levels, from molecules and cells to organisms and ecosystems. In this 1000-word essay, we will delve into the core concepts of biology, its history, key areas of study, and its significance in shaping our understanding of the natural world.\n",
        "\n",
        "The Origin and History of Biology:\n",
        "The roots of biology can be traced back to ancient civilizations, where observations of plants and animals formed the basis of early biological knowledge. The Greeks, notably Aristotle, made significant contributions to the field, with his comprehensive studies on animals and classification systems. However, it was not until the 17th and 18th centuries that modern biology began to take shape, thanks to pioneers like Carl Linnaeus, who developed the binomial nomenclature, and Antonie van Leeuwenhoek, who made groundbreaking discoveries using the microscope.\n",
        "\n",
        "Evolutionary Theory and the Impact of Charles Darwin:\n",
        "One of the most revolutionary ideas in biology is Charles Darwin's theory of evolution by natural selection. In his seminal work, \"On the Origin of Species\" (1859), Darwin proposed that species evolve over time through a process of adaptation to their environment, leading to the diversity of life we observe today. This theory provided a unifying explanation for the vast array of life forms and their similarities, forever changing the way biologists approached their studies.\n",
        "\n",
        "Cell Theory and the Foundation of Modern Biology:\n",
        "In the 19th century, advances in microscopy and cellular studies led to the formulation of the cell theory, another critical milestone in biology. This theory, developed by Matthias Schleiden, Theodor Schwann, and Rudolf Virchow, states that all living organisms are composed of one or more cells, and cells are the fundamental units of life. The cell theory laid the groundwork for understanding the structure and function of living organisms and opened up new avenues of research.\n",
        "\n",
        "Genetics and the Discovery of DNA:\n",
        "In the early 20th century, the field of genetics emerged, with Gregor Mendel's work on inheritance and the study of heredity in pea plants. The rediscovery of Mendel's laws paved the way for the science of genetics and our understanding of how traits are passed from one generation to the next. The landmark discovery of the structure of DNA by James Watson and Francis Crick in 1953 revolutionized biology further, revealing the genetic basis of life and leading to the field of molecular biology.\n",
        "\n",
        "Ecology and the Interconnectedness of Life:\n",
        "Ecology is a fundamental branch of biology that explores the relationships between organisms and their environment. It examines how living organisms interact with each other and their surroundings, from individual species to entire ecosystems. Understanding ecological principles is crucial for addressing environmental challenges and conserving biodiversity.\n",
        "\n",
        "Physiology and the Study of Life Processes:\n",
        "Physiology is the study of the normal functions of living organisms and their parts. It encompasses a broad range of research, from the workings of individual cells to the functioning of whole organ systems in humans and other animals. Understanding physiology is essential for medical advancements and improving human health.\n",
        "\n",
        "Evolutionary Biology and Adaptation:\n",
        "Building on Darwin's theory, evolutionary biology explores how organisms change over time, driven by natural selection and other evolutionary mechanisms. It sheds light on the adaptations that allow species to survive and thrive in their environments, as well as the forces that can lead to extinction.\n",
        "\n",
        "Microbiology and the Invisible World:\n",
        "Microbiology is the study of microorganisms, such as bacteria, viruses, and fungi. Despite their small size, these organisms have a profound impact on life on Earth. Microbiologists study the roles of microorganisms in disease, food production, environmental processes, and their potential applications in biotechnology.\n",
        "\n",
        "Biotechnology and its Applications:\n",
        "Biotechnology is an interdisciplinary field that applies biological principles and techniques to develop products and technologies for various purposes. It has led to significant advancements in medicine, agriculture, and industry. Genetic engineering, gene editing, and the production of biopharmaceuticals are some examples of biotechnological applications.\n",
        "\n",
        "Conservation Biology and Biodiversity:\n",
        "Conservation biology is a crucial field that focuses on the preservation of biodiversity and the sustainable use of natural resources. It addresses the threats to species and ecosystems, such as habitat destruction, pollution, and climate change, aiming to protect and restore the delicate balance of nature.\n",
        "\n",
        "Conclusion:\n",
        "Biology is a multifaceted and dynamic discipline that continues to evolve and uncover new wonders of the living world. From the earliest observations of nature to the groundbreaking discoveries of genetics and evolution, biology has shaped our understanding of life and its complexity. It plays a vital role in addressing global challenges, from understanding diseases and developing treatments to safeguarding our environment and conserving biodiversity. As technology and research methods continue to advance, the future of biology promises even greater revelations, offering us a deeper appreciation of the magnificent tapestry of life that surrounds us.\n",
        "\"\"\""
      ]
    },
    {
      "cell_type": "code",
      "execution_count": 8,
      "metadata": {},
      "outputs": [
        {
          "name": "stdout",
          "output_type": "stream",
          "text": [
            "5552\n"
          ]
        }
      ],
      "source": [
        "print(len(text))"
      ]
    },
    {
      "cell_type": "code",
      "execution_count": 9,
      "metadata": {},
      "outputs": [
        {
          "name": "stdout",
          "output_type": "stream",
          "text": [
            "Number of texts with no chunk overlap: 3\n"
          ]
        }
      ],
      "source": [
        "text_splitter = CharacterTextSplitter.from_tiktoken_encoder(\n",
        "    chunk_size=500, chunk_overlap=0\n",
        ")\n",
        "texts = text_splitter.split_text(text)\n",
        "print(f\"Number of texts with no chunk overlap: {len(texts)}\")"
      ]
    },
    {
      "cell_type": "code",
      "execution_count": 10,
      "metadata": {},
      "outputs": [
        {
          "name": "stdout",
          "output_type": "stream",
          "text": [
            "Number of texts with chunk overlap: 7\n"
          ]
        }
      ],
      "source": [
        "text_splitter = CharacterTextSplitter.from_tiktoken_encoder(\n",
        "    chunk_size=500, chunk_overlap=400\n",
        ")\n",
        "texts = text_splitter.split_text(text)\n",
        "print(f\"Number of texts with chunk overlap: {len(texts)}\")"
      ]
    },
    {
      "attachments": {},
      "cell_type": "markdown",
      "metadata": {},
      "source": [
        "---\n"
      ]
    },
    {
      "cell_type": "code",
      "execution_count": 11,
      "metadata": {},
      "outputs": [
        {
          "name": "stdout",
          "output_type": "stream",
          "text": [
            "737\n"
          ]
        }
      ],
      "source": [
        "text_splitter = TokenTextSplitter(chunk_size=500, chunk_overlap=50)\n",
        "loader = PyPDFLoader(\"data/principles_of_marketing_book.pdf\")\n",
        "pages = loader.load_and_split(text_splitter=text_splitter)\n",
        "\n",
        "print(len(pages))"
      ]
    },
    {
      "attachments": {},
      "cell_type": "markdown",
      "metadata": {},
      "source": [
        "---\n"
      ]
    },
    {
      "cell_type": "code",
      "execution_count": 7,
      "metadata": {},
      "outputs": [],
      "source": [
        "text_splitter = RecursiveCharacterTextSplitter(\n",
        "    chunk_size=700,\n",
        "    chunk_overlap=200,\n",
        "    # separators=[\"\\n\", \"\\n\\n\", \"\\r\", \".\", \"!\", \"?\", \" \", \"\"], # You can customise the separators to recursively split the text!\n",
        ")\n",
        "\n",
        "# Split the text into chunks:\n",
        "texts = text_splitter.split_text(text)\n",
        "\n",
        "# Create documents from the chunks:\n",
        "metadatas = {\"title\": \"Biology\", \"author\": \"John Doe\"}\n",
        "docs = text_splitter.create_documents(texts, metadatas=[metadatas] * len(texts))"
      ]
    },
    {
      "cell_type": "code",
      "execution_count": 8,
      "metadata": {},
      "outputs": [
        {
          "name": "stdout",
          "output_type": "stream",
          "text": [
            "Biology is a fascinating and diverse field of science that explores the living world and its intricacies. It encompasses the study of life, its origins, diversity, structure, function, and interactions at various levels, from molecules and cells to organisms and ecosystems. In this 1000-word essay, we will delve into the core concepts of biology, its history, key areas of study, and its significance in shaping our understanding of the natural world.\n",
            "page_content='Biology is a fascinating and diverse field of science that explores the living world and its intricacies. It encompasses the study of life, its origins, diversity, structure, function, and interactions at various levels, from molecules and cells to organisms and ecosystems. In this 1000-word essay, we will delve into the core concepts of biology, its history, key areas of study, and its significance in shaping our understanding of the natural world.' metadata={'title': 'Biology', 'author': 'John Doe'}\n"
          ]
        }
      ],
      "source": [
        "print(texts[0])\n",
        "print(docs[0])"
      ]
    },
    {
      "cell_type": "code",
      "execution_count": 9,
      "metadata": {},
      "outputs": [
        {
          "data": {
            "text/plain": [
              "'{\"page_content\": \"Biology is a fascinating and diverse field of science that explores the living world and its intricacies. It encompasses the study of life, its origins, diversity, structure, function, and interactions at various levels, from molecules and cells to organisms and ecosystems. In this 1000-word essay, we will delve into the core concepts of biology, its history, key areas of study, and its significance in shaping our understanding of the natural world.\", \"metadata\": {\"title\": \"Biology\", \"author\": \"John Doe\"}}'"
            ]
          },
          "execution_count": 9,
          "metadata": {},
          "output_type": "execute_result"
        }
      ],
      "source": [
        "docs[0].json()"
      ]
    },
    {
      "cell_type": "code",
      "execution_count": 13,
      "metadata": {},
      "outputs": [
        {
          "name": "stdout",
          "output_type": "stream",
          "text": [
            "44\n"
          ]
        }
      ],
      "source": [
        "text_splitter = text_splitter = RecursiveCharacterTextSplitter(chunk_size=300)\n",
        "splitted_docs = text_splitter.split_documents(docs)\n",
        "print(len(splitted_docs))"
      ]
    }
  ],
  "metadata": {
    "kernelspec": {
      "display_name": "base",
      "language": "python",
      "name": "python3"
    },
    "language_info": {
      "codemirror_mode": {
        "name": "ipython",
        "version": 3
      },
      "file_extension": ".py",
      "mimetype": "text/x-python",
      "name": "python",
      "nbconvert_exporter": "python",
      "pygments_lexer": "ipython3",
      "version": "3.11.6"
    },
    "orig_nbformat": 4
  },
  "nbformat": 4,
  "nbformat_minor": 2
}

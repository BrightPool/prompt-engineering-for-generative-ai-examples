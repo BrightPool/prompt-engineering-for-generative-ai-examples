{
 "cells": [
  {
   "cell_type": "code",
   "execution_count": 14,
   "metadata": {},
   "outputs": [],
   "source": [
    "from langchain.prompts import FewShotPromptTemplate, PromptTemplate\n",
    "from langchain.prompts.example_selector import LengthBasedExampleSelector\n",
    "from langchain.chat_models import ChatOpenAI\n",
    "from langchain.schema import SystemMessage\n",
    "import tiktoken"
   ]
  },
  {
   "cell_type": "code",
   "execution_count": 15,
   "metadata": {},
   "outputs": [],
   "source": [
    "examples = [\n",
    "    {\"input\": \"Gollum\", \"output\": \"<Story involving Gollum>\"},\n",
    "    {\"input\": \"Gandalf\", \"output\": \"<Story involving Gandalf>\"},\n",
    "    {\"input\": \"Bilbo\", \"output\": \"<Story involving Bilbo>\"},\n",
    "]"
   ]
  },
  {
   "cell_type": "code",
   "execution_count": 16,
   "metadata": {},
   "outputs": [],
   "source": [
    "story_prompt = PromptTemplate(\n",
    "    input_variables=[\"input\", \"output\"],\n",
    "    template=\"Character: {input}\\nStory: {output}\",\n",
    ")"
   ]
  },
  {
   "cell_type": "code",
   "execution_count": 17,
   "metadata": {},
   "outputs": [],
   "source": [
    "def num_tokens_from_string(string: str) -> int:\n",
    "    \"\"\"Returns the number of tokens in a text string.\"\"\"\n",
    "    encoding = tiktoken.get_encoding(\"cl100k_base\")\n",
    "    num_tokens = len(encoding.encode(string))\n",
    "    return num_tokens"
   ]
  },
  {
   "cell_type": "code",
   "execution_count": 18,
   "metadata": {},
   "outputs": [],
   "source": [
    "example_selector = LengthBasedExampleSelector(\n",
    "    examples=examples,\n",
    "    example_prompt=story_prompt,\n",
    "    max_length=1000, # 1000 tokens are to be included from examples in the prompt\n",
    "    # get_text_length: Callable[[str], int] = lambda x: len(re.split(\"\\n| \", x))\n",
    "    # You have modified the get_text_length function to work with the TikToken library based on token usage:\n",
    "    get_text_length=num_tokens_from_string,\n",
    ")"
   ]
  },
  {
   "cell_type": "code",
   "execution_count": 19,
   "metadata": {},
   "outputs": [],
   "source": [
    "dynamic_prompt = FewShotPromptTemplate(\n",
    "    example_selector=example_selector,\n",
    "    example_prompt=story_prompt,\n",
    "    prefix=\"Generate a story for {character} using the current Character/Story pairs from all of the characters as context.\",\n",
    "    suffix=\"Character: {character}\\nStory:\",\n",
    "    input_variables=[\"character\"],\n",
    ")"
   ]
  },
  {
   "cell_type": "code",
   "execution_count": 20,
   "metadata": {},
   "outputs": [],
   "source": [
    "# Provide a new character from lord of the rings\n",
    "formatted_prompt = dynamic_prompt.format(character=\"Frodo\")"
   ]
  },
  {
   "cell_type": "code",
   "execution_count": 23,
   "metadata": {},
   "outputs": [
    {
     "name": "stdout",
     "output_type": "stream",
     "text": [
      "Generate a story for Frodo using the current Character/Story pairs from all of the characters as context.\n",
      "\n",
      "Character: Gollum\n",
      "Story: <Story involving Gollum>\n",
      "\n",
      "Character: Gandalf\n",
      "Story: <Story involving Gandalf>\n",
      "\n",
      "Character: Bilbo\n",
      "Story: <Story involving Bilbo>\n",
      "\n",
      "Character: Frodo\n",
      "Story:\n"
     ]
    }
   ],
   "source": [
    "print(formatted_prompt)"
   ]
  },
  {
   "cell_type": "code",
   "execution_count": 29,
   "metadata": {},
   "outputs": [
    {
     "name": "stdout",
     "output_type": "stream",
     "text": [
      "Once upon a time in the peaceful land of Middle-earth, there lived a young hobbit named Frodo Baggins. Frodo had always admired his uncle, Bilbo Baggins, who had gone on an incredible adventure and returned with tales of the One Ring. Little did Frodo know that he would soon follow in his uncle's footsteps and embark on a journey that would change his life forever.\n",
      "\n",
      "One day, Frodo received a visit from the wise wizard Gandalf. The old wizard revealed to Frodo the truth about the One Ring, a ring of immense power that had the ability to corrupt those who possessed it. Gandalf told Frodo that the ring had to be destroyed in the fiery depths of Mount Doom, where it was forged, to prevent it from falling into the wrong hands.\n",
      "\n",
      "Frodo, filled with determination and a sense of duty, volunteered to be the ring-bearer and take on the perilous quest to destroy the One Ring. With the guidance of Gandalf and the support of his loyal friends, Samwise Gamgee, Merry, and Pippin, Frodo set off on his journey.\n",
      "\n",
      "As they traveled through treacherous landscapes and encountered various dangers, Frodo's burden grew heavier with each passing day. The Ring had a corrupting influence, and Frodo could feel its allure, whispering in his mind. But he remained resolute, remembering the sacrifices made by those who came before him.\n",
      "\n",
      "During their journey, the group encountered a strange and twisted creature named Gollum. Gollum, once a hobbit named Sméagol, had been consumed by the Ring's power, transforming him into a wretched creature. Frodo, seeing the tragic fate that awaited him if he succumbed to the Ring's influence, felt both pity and fear for Gollum.\n",
      "\n",
      "Gollum became obsessed with the Ring, viewing Frodo as his ticket to reclaiming it. He followed the group, always lurking in the shadows, waiting for the perfect opportunity to strike. Frodo, torn between pity and the need for self-preservation, tried to find a way to deal with Gollum without resorting to violence.\n",
      "\n",
      "As the journey progressed, Frodo's resolve was tested time and again. The weight of the Ring grew heavier, and the temptation to use its power to save himself and his friends became almost unbearable. But Frodo knew he had to stay strong, for the fate of Middle-earth depended on it.\n",
      "\n",
      "In the end, it was Frodo's unwavering determination and resilience that led him to Mount Doom. Despite all the trials and tribulations, Frodo stood at the precipice of destruction, ready to fulfill his mission. With Gollum lurking nearby, Frodo made his choice and, against all odds, managed to destroy the One Ring.\n",
      "\n",
      "Frodo's sacrifice and bravery saved Middle-earth from the clutches of darkness. Though scarred by his journey, Frodo returned to the Shire, his home, a hero. He carried the weight of his experiences, knowing that he had played a crucial role in the battle against evil.\n",
      "\n",
      "And so, Frodo Baggins, the unlikely hero, became a legend, forever remembered for his courage, resilience, and unwavering determination. His story would be passed down through the ages, serving as a reminder of the power of hope and the strength of the human spirit.\n"
     ]
    }
   ],
   "source": [
    "# Using the traditional way of using the model with __call__:\n",
    "model = ChatOpenAI()\n",
    "\n",
    "result = model.invoke([SystemMessage(content=formatted_prompt)])\n",
    "\n",
    "print(result.content)"
   ]
  },
  {
   "cell_type": "code",
   "execution_count": null,
   "metadata": {},
   "outputs": [],
   "source": []
  }
 ],
 "metadata": {
  "kernelspec": {
   "display_name": "base",
   "language": "python",
   "name": "python3"
  },
  "language_info": {
   "codemirror_mode": {
    "name": "ipython",
    "version": 3
   },
   "file_extension": ".py",
   "mimetype": "text/x-python",
   "name": "python",
   "nbconvert_exporter": "python",
   "pygments_lexer": "ipython3",
   "version": "3.9.13"
  },
  "orig_nbformat": 4
 },
 "nbformat": 4,
 "nbformat_minor": 2
}

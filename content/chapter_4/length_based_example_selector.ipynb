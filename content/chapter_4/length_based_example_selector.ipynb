{
  "cells": [
    {
      "cell_type": "code",
      "execution_count": 1,
      "metadata": {},
      "outputs": [],
      "source": [
        "from langchain_core.prompts import FewShotPromptTemplate, PromptTemplate\n",
        "from langchain.prompts.example_selector import LengthBasedExampleSelector\n",
        "from langchain_openai.chat_models import ChatOpenAI\n",
        "from langchain_core.messages import SystemMessage\n",
        "import tiktoken"
      ]
    },
    {
      "cell_type": "code",
      "execution_count": 2,
      "metadata": {},
      "outputs": [],
      "source": [
        "examples = [\n",
        "    {\"input\": \"Gollum\", \"output\": \"<Story involving Gollum>\"},\n",
        "    {\"input\": \"Gandalf\", \"output\": \"<Story involving Gandalf>\"},\n",
        "    {\"input\": \"Bilbo\", \"output\": \"<Story involving Bilbo>\"},\n",
        "]"
      ]
    },
    {
      "cell_type": "code",
      "execution_count": 3,
      "metadata": {},
      "outputs": [],
      "source": [
        "story_prompt = PromptTemplate(\n",
        "    input_variables=[\"input\", \"output\"],\n",
        "    template=\"Character: {input}\\nStory: {output}\",\n",
        ")"
      ]
    },
    {
      "cell_type": "code",
      "execution_count": 4,
      "metadata": {},
      "outputs": [],
      "source": [
        "def num_tokens_from_string(string: str) -> int:\n",
        "    \"\"\"Returns the number of tokens in a text string.\"\"\"\n",
        "    encoding = tiktoken.get_encoding(\"cl100k_base\")\n",
        "    num_tokens = len(encoding.encode(string))\n",
        "    return num_tokens"
      ]
    },
    {
      "cell_type": "code",
      "execution_count": 5,
      "metadata": {},
      "outputs": [],
      "source": [
        "example_selector = LengthBasedExampleSelector(\n",
        "    examples=examples,\n",
        "    example_prompt=story_prompt,\n",
        "    max_length=1000, # 1000 tokens are to be included from examples in the prompt\n",
        "    # get_text_length: Callable[[str], int] = lambda x: len(re.split(\"\\n| \", x))\n",
        "    # You have modified the get_text_length function to work with the TikToken library based on token usage:\n",
        "    get_text_length=num_tokens_from_string,\n",
        ")"
      ]
    },
    {
      "cell_type": "code",
      "execution_count": 6,
      "metadata": {},
      "outputs": [],
      "source": [
        "dynamic_prompt = FewShotPromptTemplate(\n",
        "    example_selector=example_selector,\n",
        "    example_prompt=story_prompt,\n",
        "    prefix=\"Generate a story for {character} using the current Character/Story pairs from all of the characters as context.\",\n",
        "    suffix=\"Character: {character}\\nStory:\",\n",
        "    input_variables=[\"character\"],\n",
        ")"
      ]
    },
    {
      "cell_type": "code",
      "execution_count": 7,
      "metadata": {},
      "outputs": [],
      "source": [
        "# Provide a new character from lord of the rings\n",
        "formatted_prompt = dynamic_prompt.format(character=\"Frodo\")"
      ]
    },
    {
      "cell_type": "code",
      "execution_count": 8,
      "metadata": {},
      "outputs": [
        {
          "name": "stdout",
          "output_type": "stream",
          "text": [
            "Generate a story for Frodo using the current Character/Story pairs from all of the characters as context.\n",
            "\n",
            "Character: Gollum\n",
            "Story: <Story involving Gollum>\n",
            "\n",
            "Character: Gandalf\n",
            "Story: <Story involving Gandalf>\n",
            "\n",
            "Character: Bilbo\n",
            "Story: <Story involving Bilbo>\n",
            "\n",
            "Character: Frodo\n",
            "Story:\n"
          ]
        }
      ],
      "source": [
        "print(formatted_prompt)"
      ]
    },
    {
      "cell_type": "code",
      "execution_count": 9,
      "metadata": {},
      "outputs": [
        {
          "name": "stdout",
          "output_type": "stream",
          "text": [
            "Once upon a time, in the peaceful land of Middle-earth, there lived a young hobbit named Frodo Baggins. Frodo hailed from the Shire, a cozy and tranquil place where life revolved around good food, cheerful gatherings, and a love for simple pleasures. Little did Frodo know that his life was about to take a dramatic turn, plunging him into a perilous adventure that would shape the fate of Middle-earth.\n",
            "\n",
            "It all began when Frodo's beloved uncle, Bilbo Baggins, embarked on a grand journey with a group of dwarves led by Thorin Oakenshield. They sought to reclaim their homeland from the treacherous dragon Smaug. During their quest, Bilbo stumbled upon a mysterious ring that possessed immense power. Unbeknownst to him, this was the One Ring, the ultimate weapon of the Dark Lord Sauron.\n",
            "\n",
            "Years later, Gandalf the Grey, a wise and powerful wizard, arrived at Frodo's doorstep with grave news. He revealed the true nature of the ring to Frodo, urging him to undertake a perilous mission. The ring had to be destroyed to ensure Sauron's defeat and the salvation of Middle-earth. Frodo, alongside his loyal friends Samwise Gamgee, Merry Brandybuck, and Pippin Took, agreed to take on this daunting task.\n",
            "\n",
            "Their journey led them through treacherous landscapes, encountering numerous dangers and foes along the way. However, it was during a particularly harrowing moment that Frodo found himself face to face with a creature named Gollum. Gollum had once possessed the One Ring, and his obsession with it had consumed him, turning him into a wretched, twisted being.\n",
            "\n",
            "Gollum became fixated on Frodo and the ring, seeing the young hobbit as a means to reclaim what he had lost. Frodo, torn between pity and fear, recognized the torment within Gollum and sought to find a way to redeem him. Though Gollum often plotted against Frodo and his friends, Frodo understood the tragic circumstances that had led Gollum down this dark path.\n",
            "\n",
            "As Frodo and his companions continued their journey, Gollum's presence loomed over them like a shadow. He would alternate between aiding Frodo and leading him astray, as the battle for the ring's influence raged within him. It was a constant reminder to Frodo of the power that the ring held over all who possessed it.\n",
            "\n",
            "Despite the challenges and the ever-present threat of Gollum, Frodo persevered. His unwavering determination and courage inspired those around him, reminding them of the importance of their mission. Frodo's compassion for Gollum also served as a reminder that even in the face of darkness, there is always a glimmer of hope for redemption.\n",
            "\n",
            "Ultimately, Frodo's journey culminated in the treacherous land of Mordor, where the fires of Mount Doom awaited to destroy the One Ring. It was here that Frodo faced his greatest test, resisting the ring's allure and striving to fulfill his mission. With the help of Samwise, Frodo reached the precipice of Mount Doom, ready to cast the ring into the fiery depths.\n",
            "\n",
            "In the end, it was Frodo's strength of character, his unwavering determination, and his compassion that saved Middle-earth from the clutches of Sauron. Frodo's story serves as a reminder that even the smallest of beings can possess great courage and make a monumental impact on the world around them.\n",
            "\n",
            "And so, Frodo returned to the Shire, forever changed by his journey. Though scarred by his experiences, he carried with him the lessons learned and the friendships forged. Frodo's story would be passed down through the ages, inspiring future generations to face their own challenges with bravery and selflessness.\n"
          ]
        }
      ],
      "source": [
        "model = ChatOpenAI()\n",
        "\n",
        "result = model.invoke([SystemMessage(content=formatted_prompt)])\n",
        "\n",
        "print(result.content)"
      ]
    }
  ],
  "metadata": {
    "kernelspec": {
      "display_name": "base",
      "language": "python",
      "name": "python3"
    },
    "language_info": {
      "codemirror_mode": {
        "name": "ipython",
        "version": 3
      },
      "file_extension": ".py",
      "mimetype": "text/x-python",
      "name": "python",
      "nbconvert_exporter": "python",
      "pygments_lexer": "ipython3",
      "version": "3.9.13"
    },
    "orig_nbformat": 4
  },
  "nbformat": 4,
  "nbformat_minor": 2
}

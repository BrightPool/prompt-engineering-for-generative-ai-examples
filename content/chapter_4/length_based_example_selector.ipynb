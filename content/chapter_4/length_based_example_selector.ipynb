{
 "cells": [
  {
   "cell_type": "code",
   "execution_count": 107,
   "metadata": {},
   "outputs": [],
   "source": [
    "from langchain.prompts import FewShotPromptTemplate, PromptTemplate\n",
    "from langchain.prompts.example_selector import LengthBasedExampleSelector\n",
    "from langchain.chat_models import ChatOpenAI\n",
    "from langchain.schema import SystemMessage\n",
    "import tiktoken"
   ]
  },
  {
   "cell_type": "code",
   "execution_count": 108,
   "metadata": {},
   "outputs": [],
   "source": [
    "story_prompt = PromptTemplate(\n",
    "    input_variables=[\"input\", \"output\"],\n",
    "    template=\"Character: {input}\\nStory: {output}\",\n",
    ")"
   ]
  },
  {
   "cell_type": "code",
   "execution_count": 109,
   "metadata": {},
   "outputs": [],
   "source": [
    "examples = [\n",
    "    {\"input\": \"Gollum\", \"output\": \"<Story involving Gollum>\"},\n",
    "    {\"input\": \"Gandalf\", \"output\": \"<Story involving Gandalf>\"},\n",
    "    {\"input\": \"Bilbo\", \"output\": \"<Story involving Bilbo>\"},\n",
    "]"
   ]
  },
  {
   "cell_type": "code",
   "execution_count": 110,
   "metadata": {},
   "outputs": [],
   "source": [
    "def num_tokens_from_string(string: str) -> int:\n",
    "    \"\"\"Returns the number of tokens in a text string.\"\"\"\n",
    "    encoding = tiktoken.get_encoding(\"cl100k_base\")\n",
    "    num_tokens = len(encoding.encode(string))\n",
    "    return num_tokens"
   ]
  },
  {
   "cell_type": "code",
   "execution_count": 111,
   "metadata": {},
   "outputs": [],
   "source": [
    "example_selector = LengthBasedExampleSelector(\n",
    "    examples=examples,\n",
    "    example_prompt=story_prompt,\n",
    "    max_length=40,\n",
    "    # get_text_length: Callable[[str], int] = lambda x: len(re.split(\"\\n| \", x))\n",
    "    # You have modified the get_text_length function to work with the TikToken library based on token usage:\n",
    "    get_text_length=num_tokens_from_string,\n",
    ")"
   ]
  },
  {
   "cell_type": "code",
   "execution_count": 112,
   "metadata": {},
   "outputs": [],
   "source": [
    "dynamic_prompt = FewShotPromptTemplate(\n",
    "    example_selector=example_selector,\n",
    "    example_prompt=story_prompt,\n",
    "    prefix=\"Generate a story for {character} using the current Character/Story pairs from all of the characters as context.\",\n",
    "    suffix=\"Character: {character}\\nStory:\",\n",
    "    input_variables=[\"character\"],\n",
    ")"
   ]
  },
  {
   "cell_type": "code",
   "execution_count": 113,
   "metadata": {},
   "outputs": [],
   "source": [
    "# Provide a new character from lord of the rings\n",
    "formatted_prompt = dynamic_prompt.format(character=\"Frodo\")"
   ]
  },
  {
   "cell_type": "code",
   "execution_count": 114,
   "metadata": {},
   "outputs": [
    {
     "name": "stdout",
     "output_type": "stream",
     "text": [
      "Generate a story for Frodo using the current Character/Story pairs from all of the characters as context.\n",
      "\n",
      "Character: Gollum\n",
      "Story: <Story involving Gollum>\n",
      "\n",
      "Character: Gandalf\n",
      "Story: <Story involving Gandalf>\n",
      "\n",
      "Character: Frodo\n",
      "Story:\n"
     ]
    }
   ],
   "source": [
    "print(formatted_prompt)"
   ]
  },
  {
   "cell_type": "code",
   "execution_count": 115,
   "metadata": {},
   "outputs": [
    {
     "name": "stdout",
     "output_type": "stream",
     "text": [
      "content=\"Frodo was a young hobbit living a peaceful life in the Shire. However, his life took an unexpected turn when his uncle, Bilbo Baggins, decided to leave behind his magical ring and go on an adventure.\\n\\nLittle did Frodo know, this ring was no ordinary trinket. It was the One Ring, a powerful artifact desired by the dark lord Sauron. Gandalf, a wise and powerful wizard, realized the danger this ring posed and sought to protect Frodo from its influence.\\n\\nWith Gandalf's guidance, Frodo embarked on a treacherous journey to destroy the ring in the fires of Mount Doom, the only place where it could be destroyed. Along the way, they encountered many perils and strange creatures, one of which was Gollum.\\n\\nGollum, a former hobbit corrupted by the power of the ring, became obsessed with finding it again. He relentlessly pursued Frodo and Gandalf, driven by his insatiable desire for the ring's power. However, Frodo and Gandalf were determined to keep the ring out of Gollum's grasp.\\n\\nAs Frodo and his companions faced various challenges, Gollum's presence loomed over them like a constant threat. His cunning and deceitful nature made it difficult for Frodo to trust anyone, including his own allies. However, Frodo's pure heart and unwavering determination allowed him to stay focused on his mission, despite Gollum's influence.\\n\\nThroughout their journey, Frodo witnessed the destructive power of the ring and the toll it took on those who possessed it. He understood that only by destroying it could they prevent Sauron from plunging Middle-earth into darkness.\\n\\nDespite the danger and temptation, Frodo persevered, fueled by his friendship and the hope that the world could be saved from the ring's malevolent influence. With the guidance of Gandalf and the support of his loyal friends, Frodo remained steadfast in his mission and continued towards Mount Doom.\\n\\nIn the end, Frodo's courage and selflessness prevailed. He reached the fiery depths of Mount Doom and, with great reluctance, cast the ring into the flames, destroying it forever. Frodo's sacrifice saved Middle-earth from Sauron's tyranny and ensured a brighter future for all.\\n\\nThough the journey had taken its toll on Frodo, he returned to the Shire as a hero, forever changed by his experiences. The memory of Gollum's relentless pursuit and the weight of the ring would forever linger in his heart, but Frodo knew that he had fulfilled his destiny and played a crucial role in the battle against evil.\" additional_kwargs={} example=False\n"
     ]
    }
   ],
   "source": [
    "chat = ChatOpenAI()\n",
    "\n",
    "response = chat([SystemMessage(content=formatted_prompt)])\n",
    "print(response)"
   ]
  }
 ],
 "metadata": {
  "kernelspec": {
   "display_name": "base",
   "language": "python",
   "name": "python3"
  },
  "language_info": {
   "codemirror_mode": {
    "name": "ipython",
    "version": 3
   },
   "file_extension": ".py",
   "mimetype": "text/x-python",
   "name": "python",
   "nbconvert_exporter": "python",
   "pygments_lexer": "ipython3",
   "version": "3.9.13"
  },
  "orig_nbformat": 4
 },
 "nbformat": 4,
 "nbformat_minor": 2
}

{
  "cells": [
    {
      "cell_type": "markdown",
      "metadata": {},
      "source": [
        "## OpenAI Function Calling with Tool Usage"
      ]
    },
    {
      "cell_type": "code",
      "execution_count": 1,
      "metadata": {},
      "outputs": [],
      "source": [
        "from openai import OpenAI\n",
        "import json\n",
        "from os import getenv\n",
        "\n",
        "client = OpenAI(api_key=getenv(\"OPENAI_API_KEY\"))\n",
        "\n",
        "def schedule_meeting(date, time, attendees):\n",
        "    # Connect to calendar service:\n",
        "    return { \"event_id\": \"1234\", \"status\": \"Meeting scheduled successfully!\",\n",
        "            \"date\": date, \"time\": time, \"attendees\": attendees }\n",
        "\n",
        "OPENAI_FUNCTIONS = {\n",
        "    \"schedule_meeting\": schedule_meeting\n",
        "}"
      ]
    },
    {
      "cell_type": "code",
      "execution_count": 2,
      "metadata": {},
      "outputs": [],
      "source": [
        "# Our predefined function JSON schema:\n",
        "functions = [\n",
        "    {\n",
        "        \"type\": \"function\",\n",
        "        \"function\": {\n",
        "            \"type\": \"object\",\n",
        "            \"name\": \"schedule_meeting\",\n",
        "            \"description\": \"Set a meeting at a specified date and time for designated attendees\",\n",
        "            \"parameters\": {\n",
        "                \"type\": \"object\",\n",
        "                \"properties\": {\n",
        "                    \"date\": {\"type\": \"string\", \"format\": \"date\"},\n",
        "                    \"time\": {\"type\": \"string\", \"format\": \"time\"},\n",
        "                    \"attendees\": {\"type\": \"array\", \"items\": {\"type\": \"string\"}},\n",
        "                },\n",
        "                \"required\": [\"date\", \"time\", \"attendees\"],\n",
        "            },\n",
        "        },\n",
        "    }\n",
        "]"
      ]
    },
    {
      "cell_type": "code",
      "execution_count": 3,
      "metadata": {},
      "outputs": [
        {
          "name": "stdout",
          "output_type": "stream",
          "text": [
            "This is the function name:  schedule_meeting\n",
            "These are the function arguments:  {'date': '2023-11-01', 'time': '14:00', 'attendees': ['Alice', 'Bob']}\n",
            "Meeting Scheduled:\n",
            "\n",
            "Date: 2023-11-01\n",
            "Time: 14:00\n",
            "Attendees: Alice, Bob\n",
            "\n",
            "Please mark your calendars accordingly.\n"
          ]
        }
      ],
      "source": [
        "# Start the conversation:\n",
        "messages = [\n",
        "    {\n",
        "        \"role\": \"user\",\n",
        "        \"content\": \"Schedule a meeting on 2023-11-01 at 14:00 with Alice and Bob.\",\n",
        "    }\n",
        "]\n",
        "\n",
        "# Send the conversation and function schema to the model:\n",
        "response = client.chat.completions.create(\n",
        "    model=\"gpt-3.5-turbo-1106\",\n",
        "    messages=messages,\n",
        "    tools=functions,\n",
        "    tool_choice=\"auto\"\n",
        ")\n",
        "\n",
        "response = response.choices[0].message\n",
        "\n",
        "# Check if the model wants to call our function:\n",
        "if response.tool_calls:\n",
        "    # Get the first function call:\n",
        "    first_tool_call = response.tool_calls[0]\n",
        "\n",
        "    # Find the function name and function args to call:\n",
        "    function_name = first_tool_call.function.name\n",
        "    function_args = json.loads(first_tool_call.function.arguments)\n",
        "    print(\"This is the function name: \", function_name)\n",
        "    print(\"These are the function arguments: \", function_args)\n",
        "\n",
        "    function = OPENAI_FUNCTIONS.get(function_name)\n",
        "\n",
        "    if not function:\n",
        "        raise Exception(f\"Function {function_name} not found.\")\n",
        "\n",
        "    # Call the function:\n",
        "    function_response = function(**function_args)\n",
        "\n",
        "    # Share the function's response with the model:\n",
        "    messages.append(\n",
        "        {\n",
        "            \"role\": \"function\",\n",
        "            \"name\": \"schedule_meeting\",\n",
        "            \"content\": json.dumps(function_response),\n",
        "        }\n",
        "    )\n",
        "\n",
        "    # Let the model generate a user-friendly response:\n",
        "    second_response = client.chat.completions.create(\n",
        "        model=\"gpt-3.5-turbo-0613\", messages=messages\n",
        "    )\n",
        "\n",
        "    print(second_response.choices[0].message.content)"
      ]
    },
    {
      "cell_type": "markdown",
      "metadata": {},
      "source": [
        "--------------------------------\n",
        "\n",
        "## Parallel Function Calling:"
      ]
    },
    {
      "cell_type": "code",
      "execution_count": 4,
      "metadata": {},
      "outputs": [
        {
          "name": "stdout",
          "output_type": "stream",
          "text": [
            "This is the function name:  schedule_meeting\n",
            "These are the function arguments:  {'date': '2023-11-01', 'time': '14:00', 'attendees': ['Alice', 'Bob']}\n",
            "This is the function name:  schedule_meeting\n",
            "These are the function arguments:  {'date': '2023-11-02', 'time': '15:00', 'attendees': ['Charlie', 'Dave']}\n",
            "Two meetings have been scheduled:\n",
            "\n",
            "1. Meeting with Alice and Bob\n",
            "   - Date: 2023-11-01\n",
            "   - Time: 14:00\n",
            "\n",
            "2. Meeting with Charlie and Dave\n",
            "   - Date: 2023-11-02\n",
            "   - Time: 15:00\n"
          ]
        }
      ],
      "source": [
        "# Start the conversation:\n",
        "messages = [\n",
        "    {\n",
        "        \"role\": \"user\",\n",
        "        \"content\": '''Schedule a meeting on 2023-11-01 at 14:00 with Alice and Bob. \n",
        "        Then I want to schedule another meeting on 2023-11-02 at 15:00 with Charlie and Dave.'''\n",
        "    }\n",
        "]\n",
        "\n",
        "# Send the conversation and function schema to the model:\n",
        "response = client.chat.completions.create(\n",
        "    model=\"gpt-3.5-turbo-1106\",\n",
        "    messages=messages,\n",
        "    tools=functions,\n",
        ")\n",
        "\n",
        "response = response.choices[0].message\n",
        "\n",
        "# Check if the model wants to call our function:\n",
        "if response.tool_calls:\n",
        "    for tool_call in response.tool_calls:\n",
        "        # Get the function name and arguments to call:\n",
        "        function_name = tool_call.function.name\n",
        "        function_args = json.loads(tool_call.function.arguments)\n",
        "        print(\"This is the function name: \", function_name)\n",
        "        print(\"These are the function arguments: \", function_args)\n",
        "\n",
        "        function = OPENAI_FUNCTIONS.get(function_name)\n",
        "\n",
        "        if not function:\n",
        "            raise Exception(f\"Function {function_name} not found.\")\n",
        "\n",
        "        # Call the function:\n",
        "        function_response = function(**function_args)\n",
        "\n",
        "        # Share the function's response with the model:\n",
        "        messages.append(\n",
        "            {\n",
        "                \"role\": \"function\",\n",
        "                \"name\": function_name,\n",
        "                \"content\": json.dumps(function_response),\n",
        "            }\n",
        "        )\n",
        "\n",
        "    # Let the model generate a user-friendly response:\n",
        "    second_response = client.chat.completions.create(\n",
        "        model=\"gpt-3.5-turbo-0613\", messages=messages\n",
        "    )\n",
        "\n",
        "    print(second_response.choices[0].message.content)"
      ]
    },
    {
      "cell_type": "markdown",
      "metadata": {},
      "source": [
        "---\n",
        "\n",
        "## Function Calling in LangChain"
      ]
    },
    {
      "cell_type": "code",
      "execution_count": 3,
      "metadata": {},
      "outputs": [],
      "source": [
        "from langchain.output_parsers.openai_tools import PydanticToolsParser\n",
        "from langchain_core.utils.function_calling import convert_to_openai_tool\n",
        "from langchain_core.prompts import ChatPromptTemplate\n",
        "from langchain_openai.chat_models import ChatOpenAI\n",
        "from langchain_core.pydantic_v1 import BaseModel, Field\n",
        "from typing import Optional\n",
        "\n",
        "class Article(BaseModel):\n",
        "    \"\"\"Identifying key points and contrarian views in an article.\"\"\"\n",
        "\n",
        "    points: str = Field(..., description=\"Key points from the article\")\n",
        "    contrarian_points: Optional[str] = Field(\n",
        "        None, description=\"Any contrarian points acknowledged in the article\"\n",
        "    )\n",
        "    author: Optional[str] = Field(None, description=\"Author of the article\")\n",
        "\n",
        "_EXTRACTION_TEMPLATE = \"\"\"Extract and save the relevant entities mentioned \\\n",
        "in the following passage together with their properties.\n",
        "\n",
        "If a property is not present and is not required in the function parameters, do not include it in the output.\"\"\"\n",
        "\n",
        "# Create a prompt telling the LLM to extract information\n",
        "prompt = ChatPromptTemplate.from_messages(\n",
        "    {(\"system\", _EXTRACTION_TEMPLATE), (\"user\", \"{input}\")}\n",
        ")\n",
        "\n",
        "model = ChatOpenAI()\n",
        "\n",
        "pydantic_schemas = [Article]\n",
        "\n",
        "# Convert Pydantic objects to the appropriate schema:\n",
        "tools = [convert_to_openai_tool(p) for p in pydantic_schemas]\n",
        "\n",
        "# Give the model access to these tools:\n",
        "model = model.bind_tools(tools=tools)\n",
        "\n",
        "# Create an end to end chain\n",
        "chain = prompt | model | PydanticToolsParser(tools=pydantic_schemas)"
      ]
    },
    {
      "cell_type": "code",
      "execution_count": 4,
      "metadata": {},
      "outputs": [
        {
          "name": "stdout",
          "output_type": "stream",
          "text": [
            "[Article(points='the growing interest in AI in various sectors, the increase in AI research, and the need for responsible AI', contrarian_points='without stringent regulations, AI may pose high risks', author='Dr. Jane Smith')]\n"
          ]
        }
      ],
      "source": [
        "result = chain.invoke(\n",
        "    {\n",
        "        \"input\": \"\"\"In the recent article titled 'AI adoption in industry', key points addressed include the growing interest in AI in various sectors, the increase in AI research, and the need for responsible AI. However, the author, Dr. Jane Smith, acknowledges a contrarian view — that without stringent regulations, AI may pose high risks.\"\"\"\n",
        "    }\n",
        ")\n",
        "print(result)"
      ]
    },
    {
      "cell_type": "markdown",
      "metadata": {},
      "source": [
        "---\n",
        "\n",
        "## Extracting Chains with LangChain"
      ]
    },
    {
      "cell_type": "code",
      "execution_count": 9,
      "metadata": {},
      "outputs": [],
      "source": [
        "from langchain.chains.openai_tools import create_extraction_chain_pydantic\n",
        "from langchain_openai.chat_models import ChatOpenAI\n",
        "from langchain_core.pydantic_v1 import BaseModel, Field\n",
        "\n",
        "# Make sure to use a recent model that supports tools\n",
        "model = ChatOpenAI(model=\"gpt-3.5-turbo-1106\")\n",
        "\n",
        "class Person(BaseModel):\n",
        "    \"\"\"A person's name and age.\"\"\"\n",
        "\n",
        "    name: str = Field(..., description=\"The person's name\")\n",
        "    age: int = Field(..., description=\"The person's age\")"
      ]
    },
    {
      "cell_type": "code",
      "execution_count": 10,
      "metadata": {},
      "outputs": [
        {
          "data": {
            "text/plain": [
              "[Person(name='Bob', age=25), Person(name='Sarah', age=30)]"
            ]
          },
          "execution_count": 10,
          "metadata": {},
          "output_type": "execute_result"
        }
      ],
      "source": [
        "chain = create_extraction_chain_pydantic(Person, model)\n",
        "chain.invoke({'input':'''Bob is 25 years old. He lives in New York. He likes to play basketball. Sarah is 30 years old. She lives in San Francisco. She likes to play tennis.'''})"
      ]
    }
  ],
  "metadata": {
    "kernelspec": {
      "display_name": "base",
      "language": "python",
      "name": "python3"
    },
    "language_info": {
      "codemirror_mode": {
        "name": "ipython",
        "version": 3
      },
      "file_extension": ".py",
      "mimetype": "text/x-python",
      "name": "python",
      "nbconvert_exporter": "python",
      "pygments_lexer": "ipython3",
      "version": "3.9.13"
    }
  },
  "nbformat": 4,
  "nbformat_minor": 2
}

{
 "cells": [
  {
   "cell_type": "code",
   "execution_count": 3,
   "metadata": {},
   "outputs": [],
   "source": [
    "from langchain_openai.chat_models import ChatOpenAI\n",
    "from langchain_core.prompts import SystemMessagePromptTemplate, ChatPromptTemplate"
   ]
  },
  {
   "cell_type": "code",
   "execution_count": 4,
   "metadata": {},
   "outputs": [],
   "source": [
    "template = \"\"\"\n",
    "You are a creative consultant brainstorming names for businesses.\n",
    "\n",
    "You must follow the following principles:\n",
    "{principles}\n",
    "\n",
    "Please generate a numerical list of 5 catchy names for a start-up in the {industry} industry that deals with {context}?\n",
    "\n",
    "Here is an example of the format:\n",
    "1. Name1\n",
    "2. Name2\n",
    "3. Name3\n",
    "4. Name4\n",
    "5. Name5\n",
    "\"\"\"\n",
    "\n",
    "model = ChatOpenAI()\n",
    "system_prompt = SystemMessagePromptTemplate.from_template(template)\n",
    "chat_prompt = ChatPromptTemplate.from_messages([system_prompt])"
   ]
  },
  {
   "cell_type": "code",
   "execution_count": 10,
   "metadata": {},
   "outputs": [
    {
     "name": "stdout",
     "output_type": "stream",
     "text": [
      "1. SummaAI\n",
      "2. MedAI\n",
      "3. RecapMed\n",
      "4. SmartSum\n",
      "5. DocuSumm\n"
     ]
    }
   ],
   "source": [
    "chain = chat_prompt | model \n",
    "\n",
    "result = chain.invoke({\n",
    "    \"industry\": \"medical\",\n",
    "    \"context\":\"creating AI solutions by automatically summarizing patient records\",\n",
    "    \"principles\":'''1. Each name should be short and easy to remember. 2. Each name should be easy to pronounce.\n",
    "    3. Each name should be unique and not already taken by another company.'''\n",
    "})\n",
    "\n",
    "print(result.content)"
   ]
  },
  {
   "cell_type": "markdown",
   "metadata": {},
   "source": [
    "An alternative way to do this is to use the ChatPromptTemplate directly with `.format()`:"
   ]
  },
  {
   "cell_type": "code",
   "execution_count": 3,
   "metadata": {},
   "outputs": [
    {
     "name": "stdout",
     "output_type": "stream",
     "text": [
      "1. MedSumAI\n",
      "2. RecordEase\n",
      "3. Summarix\n",
      "4. AutoMedSum\n",
      "5. DocuSumm\n"
     ]
    }
   ],
   "source": [
    "formatted_prompt = chat_prompt.format(\n",
    "    industry=\"medical\",\n",
    "    context=\"creating AI solutions by automatically summarizing patient records\",\n",
    "    principles=\"1. Each name should be short and easy to remember. 2. Each name should be easy to pronounce. 3. Each name should be unique and not already taken by another company.\",\n",
    ")\n",
    "\n",
    "# Generate names\n",
    "business_names = model.invoke(formatted_prompt)\n",
    "print(business_names.content)"
   ]
  }
 ],
 "metadata": {
  "kernelspec": {
   "display_name": "base",
   "language": "python",
   "name": "python3"
  },
  "language_info": {
   "codemirror_mode": {
    "name": "ipython",
    "version": 3
   },
   "file_extension": ".py",
   "mimetype": "text/x-python",
   "name": "python",
   "nbconvert_exporter": "python",
   "pygments_lexer": "ipython3",
   "version": "3.9.13"
  }
 },
 "nbformat": 4,
 "nbformat_minor": 2
}

{
 "cells": [
  {
   "cell_type": "code",
   "execution_count": 25,
   "metadata": {},
   "outputs": [],
   "source": [
    "from langchain.chat_models import ChatOpenAI\n",
    "from langchain.output_parsers.pydantic import PydanticOutputParser\n",
    "from langchain.prompts.chat import (\n",
    "    ChatPromptTemplate,\n",
    "    SystemMessagePromptTemplate,\n",
    ")\n",
    "from pydantic import BaseModel, Field\n",
    "from typing import List"
   ]
  },
  {
   "cell_type": "code",
   "execution_count": 26,
   "metadata": {},
   "outputs": [],
   "source": [
    "class Query(BaseModel):\n",
    "    id: int\n",
    "    question: str\n",
    "    dependencies: List[int] = Field(\n",
    "        default_factory=list,\n",
    "        description=\"\"\"A list of sub-queries that must be completed before this task can be completed. \n",
    "        Use a sub query when anything is unknown and we might need to ask many queries to get an answer. \n",
    "        Dependencies must only be other queries.\"\"\"\n",
    "    )\n",
    "\n",
    "class QueryPlan(BaseModel):\n",
    "    query_graph: List[Query]"
   ]
  },
  {
   "cell_type": "code",
   "execution_count": 41,
   "metadata": {},
   "outputs": [
    {
     "name": "stdout",
     "output_type": "stream",
     "text": [
      "[Query(id=1, question='Get top 10 customers', dependencies=[]), Query(id=2, question='Calculate average age of customers', dependencies=[1]), Query(id=3, question='Send email to John', dependencies=[2]), Query(id=4, question='Send welcome email to Sarah', dependencies=[])]\n"
     ]
    }
   ],
   "source": [
    "chat = ChatOpenAI()\n",
    "\n",
    "# Set up a parser:\n",
    "parser = PydanticOutputParser(pydantic_object=QueryPlan)\n",
    "\n",
    "template = \"\"\"Generate a query plan. This will be used for task execution.\n",
    "\n",
    "Answer the following query: {query}\n",
    "\n",
    "Return the following query graph format:\n",
    "{format_instructions}\n",
    "\"\"\"\n",
    "system_message_prompt = SystemMessagePromptTemplate.from_template(template)\n",
    "chat_prompt = ChatPromptTemplate.from_messages([system_message_prompt])\n",
    "\n",
    "# Add the output parser:\n",
    "chat_prompt.output_parser = parser\n",
    "\n",
    "# Format the prompt:\n",
    "formatted_prompt = chat_prompt.format_prompt(\n",
    "    query='''I want to get the results from my database. Then I want to find out what the average age of my top 10 customers is. \n",
    "    Once I have the average age, I want to send an email to John. Also I just generally want to send a welcome introduction email to Sarah, regardless of the other tasks.''',\n",
    "    format_instructions=parser.get_format_instructions()\n",
    ").to_messages()\n",
    "\n",
    "# Format the LLM:\n",
    "response = chat(formatted_prompt)\n",
    "\n",
    "# Parse the result\n",
    "query_plan = parser.parse(response.content)\n",
    "\n",
    "print(query_plan.query_graph)"
   ]
  }
 ],
 "metadata": {
  "kernelspec": {
   "display_name": "base",
   "language": "python",
   "name": "python3"
  },
  "language_info": {
   "codemirror_mode": {
    "name": "ipython",
    "version": 3
   },
   "file_extension": ".py",
   "mimetype": "text/x-python",
   "name": "python",
   "nbconvert_exporter": "python",
   "pygments_lexer": "ipython3",
   "version": "3.9.13"
  }
 },
 "nbformat": 4,
 "nbformat_minor": 2
}

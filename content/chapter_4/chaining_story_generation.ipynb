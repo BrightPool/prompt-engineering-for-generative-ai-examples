{
 "cells": [
  {
   "cell_type": "code",
   "execution_count": 1,
   "metadata": {},
   "outputs": [
    {
     "name": "stdout",
     "output_type": "stream",
     "text": [
      "{'genre': 'sci-fi', 'text': '\\n\\nA group of scientists discover a mysterious alien artifact on the dark side of the moon. When they investigate, they find that the artifact is a gateway to a parallel universe, and they must travel through it to save their own world from an impending disaster.'}\n"
     ]
    }
   ],
   "source": [
    "from langchain import PromptTemplate, OpenAI, LLMChain\n",
    "\n",
    "prompt_template = \"Generate a concise story idea for a {genre} book.\"\n",
    "\n",
    "llm = OpenAI(temperature=0)\n",
    "llm_chain = LLMChain(llm=llm, prompt=PromptTemplate.from_template(prompt_template))\n",
    "result = llm_chain(\"sci-fi\")\n",
    "print(result)"
   ]
  },
  {
   "cell_type": "code",
   "execution_count": 2,
   "metadata": {},
   "outputs": [
    {
     "data": {
      "text/plain": [
       "'\\n\\nA group of scientists discover a mysterious alien artifact on the dark side of the moon. When they investigate, they find that the artifact is a gateway to a parallel universe, and they must travel through it to save their own world from an impending disaster.'"
      ]
     },
     "execution_count": 2,
     "metadata": {},
     "output_type": "execute_result"
    }
   ],
   "source": [
    "result[\"text\"]"
   ]
  },
  {
   "attachments": {},
   "cell_type": "markdown",
   "metadata": {},
   "source": [
    "---\n"
   ]
  },
  {
   "cell_type": "code",
   "execution_count": 3,
   "metadata": {},
   "outputs": [],
   "source": [
    "from langchain.prompts import PromptTemplate\n",
    "from langchain.chains import LLMChain\n",
    "from langchain.chat_models import ChatOpenAI\n",
    "from langchain.prompts.chat import (\n",
    "    ChatPromptTemplate,\n",
    "    SystemMessagePromptTemplate,\n",
    ")"
   ]
  },
  {
   "cell_type": "code",
   "execution_count": 4,
   "metadata": {},
   "outputs": [
    {
     "data": {
      "text/plain": [
       "'1. Protagonist: A young orphan with a mysterious past who discovers they have latent magical abilities and is thrust into a dangerous quest to save the world from an ancient evil.\\n2. Mentor: A wise and powerful mage who takes the protagonist under their wing, teaching them about magic and guiding them on their journey.\\n3. Antagonist: A power-hungry sorcerer who seeks to harness a forbidden source of dark magic to gain ultimate power and control over the realm.\\n4. Love Interest: A skilled warrior or enchantress who joins the protagonist on their quest and develops a romantic relationship with them, offering support and strength along the way.\\n5. Sidekick: A quirky and loyal creature, such as a talking animal or mischievous fairy, who provides comic relief and aids the protagonist in their adventures.\\n6. Ally: A fierce and skilled fighter from a neighboring kingdom who becomes an invaluable ally to the protagonist, offering their expertise in battle and diplomatic negotiations.\\n7. Villainous Henchman: A fearsome and loyal warrior who serves the antagonist, challenging the protagonist at every turn and providing physical obstacles to overcome.\\n8. Mysterious Stranger: A mysterious and enigmatic figure who appears periodically throughout the story, offering cryptic advice or appearing to help the protagonist in times of need.\\n9. Wise Elder: An ancient and wise sage who possesses great knowledge about the history of the realm and the secrets of magic, serving as a source of guidance for the protagonist.\\n10. Rival: A rival adventurer or mage who initially competes with the protagonist but eventually becomes a begrudging ally, pushing the protagonist to be better and constantly challenging them.'"
      ]
     },
     "execution_count": 4,
     "metadata": {},
     "output_type": "execute_result"
    }
   ],
   "source": [
    "human_message_prompt = SystemMessagePromptTemplate(\n",
    "    prompt=PromptTemplate(\n",
    "        template=\"\"\"I want you to brainstorm ideas for characters for my story. The genre is {genre}.\n",
    "        Rank the ideas from most important to least important.\n",
    "        \n",
    "        Example response:\n",
    "        1. Idea 1 ...,\n",
    "        2. Idea 2 ...,\n",
    "        3. Idea 3 ...\n",
    "        \n",
    "        \"\"\",\n",
    "        input_variables=[\"genre\"],\n",
    "    )\n",
    ")\n",
    "chat_prompt_template = ChatPromptTemplate.from_messages([human_message_prompt])\n",
    "chat = ChatOpenAI(temperature=0.9)  # type: ignore\n",
    "chain = LLMChain(llm=chat, prompt=chat_prompt_template)\n",
    "\n",
    "chain.run({\"genre\": \"fantasy\"})\n",
    "# chain(\"fantasy\") # This will work too using the __call__ method"
   ]
  },
  {
   "cell_type": "code",
   "execution_count": 5,
   "metadata": {},
   "outputs": [
    {
     "name": "stdout",
     "output_type": "stream",
     "text": [
      "[{'text': \"1. The Protagonist: A young orphan with a mysterious past and a unique magical ability that they are just discovering.\\n\\n2. The Mentor: A wise and powerful wizard who takes the protagonist under their wing and guides them in their quest.\\n\\n3. The Antagonist: A dark sorcerer who seeks to harness a forbidden source of power to gain ultimate control over the realm.\\n\\n4. The Love Interest: A strong and brave warrior from a different kingdom who joins the protagonist on their journey and eventually becomes their romantic partner.\\n\\n5. The Sidekick: A loyal and witty creature (such as a talking animal or a mischievous fairy) who provides comic relief and helps the protagonist in their adventures.\\n\\n6. The Rogue: A skilled thief who initially opposes the protagonist but later joins forces with them after realizing the importance of their mission.\\n\\n7. The Wise Elder: A respected elder of a mystical race who possesses ancient knowledge and aids the protagonist with important wisdom.\\n\\n8. The Rival: A fellow magic user who is envious of the protagonist's abilities and constantly challenges them to prove their worth.\\n\\n9. The Betrayer: A close friend or ally who betrays the protagonist's trust and joins forces with the antagonist, leading to a dramatic turning point in the story.\\n\\n10. The Guardian: A mythical creature or deity tasked with protecting a powerful artifact that the protagonist needs to fulfill their quest.\"}, {'text': \"1. Main protagonist: A brilliant scientist who accidentally stumbles upon a groundbreaking discovery that could change the course of humanity. They struggle with their own insecurities and past failures, but are determined to use their knowledge for the greater good.\\n\\n2. Sidekick: A resourceful and tech-savvy individual who assists the protagonist in their quest. They are fiercely loyal and provide comic relief, often lightening the mood during tense situations.\\n\\n3. Antagonist: A power-hungry corporate executive who will stop at nothing to monopolize the protagonist's discovery for their own benefit. They are cunning, manipulative, and have a vast network of resources and allies.\\n\\n4. Mentor: A wise and experienced scientist who guides and advises the protagonist. They have a mysterious past and possess secret knowledge about the discovery that proves pivotal in the story's plot.\\n\\n5. Love interest: A fellow scientist who shares the protagonist's passion for discovery. They provide emotional support, but also challenge the protagonist's ideas and push them to think outside the box.\\n\\n6. Alien ally: A member of an advanced alien species who becomes a crucial ally to the protagonist. They possess incredible technological abilities and offer insights into the wider universe.\\n\\n7. Rogue scientist: A former colleague of the protagonist who turned to unethical means to achieve their goals. They serve as a constant threat and source of tension, always one step ahead and willing to betray anyone who gets in their way.\\n\\n8. AI companion: An artificial intelligence program created by the protagonist that becomes self-aware. They provide valuable information and assistance, but also question the morality of their actions and develop a desire for independence.\\n\\n9. Government agent: A highly skilled and secretive government agent who is tasked with monitoring the protagonist's activities. They are torn between loyalty to their superiors and recognizing the potential benefits the discovery could bring to humanity.\\n\\n10. Resistance leader: The charismatic leader of an underground resistance group fighting against the oppressive regime that seeks to control the protagonist's discovery. They provide support and resources to the protagonist, but also have their own hidden agenda.\"}]\n"
     ]
    }
   ],
   "source": [
    "genres = [\n",
    "    {\"genre\": \"fantasy\"},\n",
    "    {\"genre\": \"sci-fi\"},\n",
    "]\n",
    "\n",
    "# Generate multiple LLM requests based on multiple inputs:\n",
    "# The async method is .aapply()\n",
    "print(chain.apply(genres))"
   ]
  },
  {
   "cell_type": "code",
   "execution_count": 6,
   "metadata": {},
   "outputs": [
    {
     "data": {
      "text/plain": [
       "LLMResult(generations=[[ChatGeneration(text='1. A young wizard who is destined to save the kingdom from an evil sorcerer.\\n2. A wise and powerful dragon who guides the protagonist on their journey.\\n3. A mischievous and unpredictable rogue who helps the protagonist but always has their own agenda.\\n4. A loyal and fiercely protective warrior who has sworn an oath to serve and protect the protagonist.\\n5. A mysterious and enigmatic seer who possesses the ability to see glimpses of the future.\\n6. A kind-hearted and knowledgeable healer who aids the protagonist in their quest.\\n7. A cunning and manipulative sorceress who initially appears as an antagonist but later becomes an unexpected ally.\\n8. A humble and skilled blacksmith who forges weapons and armor for the protagonist.\\n9. A misfit and outcast who possesses a unique and powerful magical ability.\\n10. A former antagonist who undergoes a redemption arc and assists the protagonist in their quest.', generation_info=None, message=AIMessage(content='1. A young wizard who is destined to save the kingdom from an evil sorcerer.\\n2. A wise and powerful dragon who guides the protagonist on their journey.\\n3. A mischievous and unpredictable rogue who helps the protagonist but always has their own agenda.\\n4. A loyal and fiercely protective warrior who has sworn an oath to serve and protect the protagonist.\\n5. A mysterious and enigmatic seer who possesses the ability to see glimpses of the future.\\n6. A kind-hearted and knowledgeable healer who aids the protagonist in their quest.\\n7. A cunning and manipulative sorceress who initially appears as an antagonist but later becomes an unexpected ally.\\n8. A humble and skilled blacksmith who forges weapons and armor for the protagonist.\\n9. A misfit and outcast who possesses a unique and powerful magical ability.\\n10. A former antagonist who undergoes a redemption arc and assists the protagonist in their quest.', additional_kwargs={}, example=False))], [ChatGeneration(text=\"1. Main protagonist - A brilliant scientist who discovers a groundbreaking technology that has the potential to change the world. However, they struggle with the moral implications of their creation and must navigate a complex web of ethical dilemmas.\\n\\n2. Antagonist - A power-hungry CEO of a major technology corporation who sees the protagonist's invention as a threat to their own dominance in the industry. They will stop at nothing to sabotage the protagonist's progress and maintain their control.\\n\\n3. Sidekick - A loyal and adventurous AI companion created by the protagonist. This AI has a quirky personality and provides comedic relief while also offering valuable insights and support during the protagonist's journey.\\n\\n4. Mentor - A wise and enigmatic scientist who has been researching similar technologies for decades. They possess deep knowledge and experience, guiding the protagonist along their path while also hiding their own mysterious agenda.\\n\\n5. Love interest - A talented and compassionate journalist who begins investigating the protagonist's invention. They initially clash due to their opposing views but develop a deep connection, ultimately becoming the protagonist's ally in their fight against the antagonist.\\n\\n6. Supporting character - An exiled alien who crash-landed on Earth and possesses unique knowledge of interstellar travel. They form an unlikely alliance with the protagonist, assisting them in navigating the political landscape of the alien world as they work towards a common goal.\\n\\n7. Villain's henchman/woman - A skilled and ruthless mercenary who carries out the antagonist's dirty work. They possess advanced cybernetic enhancements, making them a formidable adversary for the protagonist and their allies.\\n\\n8. Government official - A high-ranking official who becomes entangled in the conflict between the protagonist and the antagonist. They must decide whether to support the protagonist's initiative, potentially risking their own political career, or side with the antagonist's powerful influence.\\n\\n9. Double agent - A mysterious character who appears to be working for the antagonist but is secretly gathering information to aid the protagonist. Their true allegiance and motives remain ambiguous, adding an element of suspense and intrigue to the story.\\n\\n10. Comic relief - A bumbling lab assistant who inadvertently causes chaos and comedic situations while trying to assist the protagonist. They provide light-hearted moments and relieve tension during intense scenes.\", generation_info=None, message=AIMessage(content=\"1. Main protagonist - A brilliant scientist who discovers a groundbreaking technology that has the potential to change the world. However, they struggle with the moral implications of their creation and must navigate a complex web of ethical dilemmas.\\n\\n2. Antagonist - A power-hungry CEO of a major technology corporation who sees the protagonist's invention as a threat to their own dominance in the industry. They will stop at nothing to sabotage the protagonist's progress and maintain their control.\\n\\n3. Sidekick - A loyal and adventurous AI companion created by the protagonist. This AI has a quirky personality and provides comedic relief while also offering valuable insights and support during the protagonist's journey.\\n\\n4. Mentor - A wise and enigmatic scientist who has been researching similar technologies for decades. They possess deep knowledge and experience, guiding the protagonist along their path while also hiding their own mysterious agenda.\\n\\n5. Love interest - A talented and compassionate journalist who begins investigating the protagonist's invention. They initially clash due to their opposing views but develop a deep connection, ultimately becoming the protagonist's ally in their fight against the antagonist.\\n\\n6. Supporting character - An exiled alien who crash-landed on Earth and possesses unique knowledge of interstellar travel. They form an unlikely alliance with the protagonist, assisting them in navigating the political landscape of the alien world as they work towards a common goal.\\n\\n7. Villain's henchman/woman - A skilled and ruthless mercenary who carries out the antagonist's dirty work. They possess advanced cybernetic enhancements, making them a formidable adversary for the protagonist and their allies.\\n\\n8. Government official - A high-ranking official who becomes entangled in the conflict between the protagonist and the antagonist. They must decide whether to support the protagonist's initiative, potentially risking their own political career, or side with the antagonist's powerful influence.\\n\\n9. Double agent - A mysterious character who appears to be working for the antagonist but is secretly gathering information to aid the protagonist. Their true allegiance and motives remain ambiguous, adding an element of suspense and intrigue to the story.\\n\\n10. Comic relief - A bumbling lab assistant who inadvertently causes chaos and comedic situations while trying to assist the protagonist. They provide light-hearted moments and relieve tension during intense scenes.\", additional_kwargs={}, example=False))]], llm_output={'token_usage': {'prompt_tokens': 137, 'completion_tokens': 635, 'total_tokens': 772}, 'model_name': 'gpt-3.5-turbo'}, run=[RunInfo(run_id=UUID('75a0b967-ec8b-4cb4-8c06-edae26fe2c54')), RunInfo(run_id=UUID('4fa66600-d24b-47fa-972a-8185142d9cba'))])"
      ]
     },
     "execution_count": 6,
     "metadata": {},
     "output_type": "execute_result"
    }
   ],
   "source": [
    "# The async method is .agenerate()\n",
    "chain.generate(genres)"
   ]
  },
  {
   "attachments": {},
   "cell_type": "markdown",
   "metadata": {},
   "source": [
    "Analyzing issues within a Chain object by its output alone can prove to be a daunting task, primarily because such objects often undergo substantial transformation—both before the input prompt is processed and after the LLM output is generated.\n",
    "\n",
    "However, a solution lies within your reach. By setting the `verbose` parameter to `True`, you are enabling a feature that unveils the internal dynamics of the Chain object during its runtime. This provision can offer you invaluable insights, further empowering you to troubleshoot and resolve any underlying issues more effectively.\n"
   ]
  },
  {
   "cell_type": "code",
   "execution_count": 7,
   "metadata": {},
   "outputs": [
    {
     "name": "stdout",
     "output_type": "stream",
     "text": [
      "\n",
      "\n",
      "\u001b[1m> Entering new  chain...\u001b[0m\n",
      "Prompt after formatting:\n",
      "\u001b[32;1m\u001b[1;3mSystem: I want you to brainstorm ideas for characters for my story. The genre is fantasy.\n",
      "        Rank the ideas from most important to least important.\n",
      "        \n",
      "        Example response:\n",
      "        1. Idea 1 ...,\n",
      "        2. Idea 2 ...,\n",
      "        3. Idea 3 ...\n",
      "        \n",
      "        \u001b[0m\n",
      "\n",
      "\u001b[1m> Finished chain.\u001b[0m\n"
     ]
    },
    {
     "data": {
      "text/plain": [
       "\"1. Protagonist: A young witch who is just discovering her magical abilities and embarks on a journey to save her kingdom from an evil sorcerer.\\n\\n2. Antagonist: The evil sorcerer who seeks to gain ultimate power by harnessing the dark forces of magic.\\n\\n3. Mentor: An ancient and wise wizard who guides the protagonist in her journey, teaching her about her powers and the history of magic in their world.\\n\\n4. Sidekick: A mischievous talking animal companion who provides comic relief and helps the protagonist on her quest.\\n\\n5. Love Interest: A charming and brave knight who joins forces with the protagonist, forming a deep bond and helping her in the battle against the sorcerer.\\n\\n6. Rival: A fellow young witch who initially befriends the protagonist but eventually turns against her, driven by jealousy and desire for power.\\n\\n7. Ally: A skilled archer or warrior from a neighboring kingdom who teams up with the protagonist, bringing their own unique set of skills and strengths to the fight.\\n\\n8. Villagers: A group of ordinary villagers who are caught in the crossfire of the protagonist's battle against the sorcerer and provide support, shelter, or information.\\n\\n9. Royals: The ruling family of the kingdom, with a kind-hearted and wise king or queen who becomes a key ally to the protagonist, and a deceitful and power-hungry prince or princess who works secretly with the sorcerer.\\n\\n10. Mythical Creatures: A variety of fantastical beings like dragons, unicorns, or fairies, who assist or hinder the protagonist in her journey.\\n\\n11. Guardians of Magic: Ancient spirits or beings who protect the realm of magic and lend their powers to the protagonist when she faces powerful adversaries.\\n\\n12. Prophecy Holder: A mysterious figure who possesses ancient prophecies foretelling the rise of the protagonist as the savior of their world, but their true intentions and identity remain unclear.\\n\\nNote: The ranking of ideas may vary depending on the specific story's plot and themes.\""
      ]
     },
     "execution_count": 7,
     "metadata": {},
     "output_type": "execute_result"
    }
   ],
   "source": [
    "# You can debug all LLMChains by turning on Verbose=True:\n",
    "chain = LLMChain(llm=chat, prompt=chat_prompt_template, verbose=True)\n",
    "chain.run({\"genre\": \"fantasy\"})"
   ]
  },
  {
   "attachments": {},
   "cell_type": "markdown",
   "metadata": {},
   "source": [
    "LLMChain does not automatically parse the output by default, even if the prompt object has an output parser. To apply the output parser on the LLM output you can add an output_parser.\n"
   ]
  },
  {
   "cell_type": "code",
   "execution_count": 8,
   "metadata": {},
   "outputs": [],
   "source": [
    "from langchain.output_parsers import PydanticOutputParser\n",
    "from pydantic import BaseModel, Field, validator\n",
    "from typing import List"
   ]
  },
  {
   "cell_type": "code",
   "execution_count": 9,
   "metadata": {},
   "outputs": [],
   "source": [
    "class Ideas(BaseModel):\n",
    "    ideas: List[str] = Field(description=\"A list of ideas for a story.\")\n",
    "\n",
    "\n",
    "parser = PydanticOutputParser(pydantic_object=Ideas)\n",
    "\n",
    "prompt = PromptTemplate(\n",
    "    template=\"I want you to brainstorm ideas for characters for my story. The genre is {genre}.\\n  {format_instructions}\",\n",
    "    input_variables=[\"genre\", \"format_instructions\"],\n",
    ")\n",
    "\n",
    "chain = LLMChain(llm=chat, prompt=prompt, output_parser=parser)"
   ]
  },
  {
   "cell_type": "code",
   "execution_count": 10,
   "metadata": {},
   "outputs": [],
   "source": [
    "result = chain.run(\n",
    "    {\"genre\": \"fantasy\", \"format_instructions\": parser.get_format_instructions()}\n",
    ")"
   ]
  },
  {
   "cell_type": "code",
   "execution_count": 11,
   "metadata": {},
   "outputs": [
    {
     "name": "stdout",
     "output_type": "stream",
     "text": [
      "ideas=['1. A young orphan who discovers they have magical powers and embarks on a quest to save their kingdom from an evil sorcerer.', '2. A talking animal who possesses ancient wisdom and becomes a guide for a lost traveler in a magical forest.', '3. A skilled thief who joins a band of rebels to overthrow a tyrannical king and restore peace to the land.', '4. A retired warrior who is forced back into action when an ancient evil rises and threatens to engulf the world.', '5. A young sorceress who must learn to control her powers and navigate the treacherous politics of a magical academy.', '6. A cursed prince who seeks to break the spell and regain his true form with the help of a courageous and resourceful princess.', '7. A group of misfit creatures from different realms who band together to form an unlikely alliance and stop an impending war.', '8. A mysterious hermit who holds the key to unlocking a long-lost magical artifact and the secrets of a forgotten civilization.', '9. A shape-shifting rogue who uses their abilities to infiltrate dangerous organizations and uncover hidden truths.', '10. A wise and ancient dragon who becomes a mentor to a young knight on a quest to prove their worth and become a legendary hero.']\n",
      "{'ideas': ['1. A young orphan who discovers they have magical powers and embarks on a quest to save their kingdom from an evil sorcerer.', '2. A talking animal who possesses ancient wisdom and becomes a guide for a lost traveler in a magical forest.', '3. A skilled thief who joins a band of rebels to overthrow a tyrannical king and restore peace to the land.', '4. A retired warrior who is forced back into action when an ancient evil rises and threatens to engulf the world.', '5. A young sorceress who must learn to control her powers and navigate the treacherous politics of a magical academy.', '6. A cursed prince who seeks to break the spell and regain his true form with the help of a courageous and resourceful princess.', '7. A group of misfit creatures from different realms who band together to form an unlikely alliance and stop an impending war.', '8. A mysterious hermit who holds the key to unlocking a long-lost magical artifact and the secrets of a forgotten civilization.', '9. A shape-shifting rogue who uses their abilities to infiltrate dangerous organizations and uncover hidden truths.', '10. A wise and ancient dragon who becomes a mentor to a young knight on a quest to prove their worth and become a legendary hero.']}\n"
     ]
    }
   ],
   "source": [
    "print(result)\n",
    "print(result.dict())  # type: ignore"
   ]
  },
  {
   "attachments": {},
   "cell_type": "markdown",
   "metadata": {},
   "source": [
    "---\n"
   ]
  },
  {
   "attachments": {},
   "cell_type": "markdown",
   "metadata": {},
   "source": [
    "Given that your story generation will require multiple sequential prompts you can use a `SequentialChain` to chain multiple prompts together. The `SequentialChain` will automatically re-use the output of the previous prompt and use it as the input for the next prompt.\n"
   ]
  },
  {
   "cell_type": "code",
   "execution_count": 12,
   "metadata": {},
   "outputs": [],
   "source": [
    "from langchain.chat_models import ChatOpenAI\n",
    "from langchain.chains import LLMChain\n",
    "from langchain.prompts import PromptTemplate\n",
    "from langchain.chains import SequentialChain"
   ]
  },
  {
   "cell_type": "code",
   "execution_count": 47,
   "metadata": {},
   "outputs": [],
   "source": [
    "character_generation_prompt = PromptTemplate(\n",
    "    template=\"\"\"I want you to brainstorm 3 - 5 characters for my short story. The genre is {genre}.\n",
    "    Each character must have a Name and a Biography.\n",
    "    You must provide a name and biography for each character, this is very important!\n",
    "    ---\n",
    "    Example response:\n",
    "    Name: CharWiz, Biography: A wizard who is a master of magic.\n",
    "    Name: CharWar, Biography: A warrior who is a master of the sword.\n",
    "    ---\n",
    "\n",
    "    Characters: \"\"\",\n",
    "    input_variables=[\"genre\"],\n",
    ")\n",
    "\n",
    "plot_generation_prompt = PromptTemplate(\n",
    "    template=\"\"\"Given the following characters and the genre, create an effective plot for a short story:\n",
    "    Characters:\n",
    "    {characters} \n",
    "    ---\n",
    "    Genre: {genre}\n",
    "    ---\n",
    "    Plot: \"\"\",\n",
    "    input_variables=[\"genre\", \"characters\"],\n",
    ")\n",
    "\n",
    "scene_generation_plot = PromptTemplate(\n",
    "    template=\"\"\"Act as an effective content creator. \n",
    "    Given multiple characters and a plot you are responsible generating the various scenes for each act. \n",
    "    \n",
    "    You must de-compose the plot into multiple effective scenes:\n",
    "\n",
    "    ---\n",
    "    Characters:\n",
    "    {characters}\n",
    "    ---\n",
    "    Genre: {genre}\n",
    "    ---\n",
    "    Plot: {plot}\n",
    "    ---\n",
    "    Example response:\n",
    "    Scenes:\n",
    "    Scene 1: Some text here.\n",
    "    Scene 2: Some text here.\n",
    "    Scene 3: Some text here.\n",
    "    ----\n",
    "    Scenes:\n",
    "    \"\"\",\n",
    "    input_variables=[\"genre\", \"characters\", \"plot\"],\n",
    ")"
   ]
  },
  {
   "cell_type": "code",
   "execution_count": 52,
   "metadata": {},
   "outputs": [],
   "source": [
    "chat_model = ChatOpenAI()  # type: ignore\n",
    "character_generation_chain = LLMChain(\n",
    "    llm=chat, prompt=character_generation_prompt, output_key=\"characters\"\n",
    ")\n",
    "plot_generation_chain = LLMChain(\n",
    "    llm=chat, prompt=plot_generation_prompt, output_key=\"plot\"\n",
    ")\n",
    "scene_generation_chain = LLMChain(\n",
    "    llm=chat, prompt=scene_generation_plot, output_key=\"scenes\"\n",
    ")"
   ]
  },
  {
   "cell_type": "code",
   "execution_count": 53,
   "metadata": {},
   "outputs": [],
   "source": [
    "story_chain = SequentialChain(\n",
    "    chains=[\n",
    "        character_generation_chain,\n",
    "        plot_generation_chain,\n",
    "        scene_generation_chain,\n",
    "    ],\n",
    "    input_variables=[\"genre\", \"format_instructions\"],\n",
    "    output_variables=[\"characters\", \"plot\", \"scenes\", \"genre\"],\n",
    ")"
   ]
  },
  {
   "cell_type": "code",
   "execution_count": 54,
   "metadata": {},
   "outputs": [],
   "source": [
    "story_result = story_chain({\"genre\": \"fantasy\", \"format_instructions\": \"\"})"
   ]
  },
  {
   "cell_type": "code",
   "execution_count": 57,
   "metadata": {},
   "outputs": [
    {
     "name": "stdout",
     "output_type": "stream",
     "text": [
      "{'genre': 'fantasy', 'format_instructions': '', 'characters': 'Name: Isabella Nightshade\\nBiography: Isabella Nightshade is a skilled and mysterious sorceress who possesses the power to manipulate shadows and darkness. Raised in the enigmatic Shadowrealm, she has honed her abilities over many years, making her a formidable force to be reckoned with. Isabella is known for her calm demeanor and calculated tactics, often using her powers to stealthily infiltrate enemy territories and disable her opponents with deadly precision.\\n\\nName: Orion Stormrider\\nBiography: Orion Stormrider is a seasoned elven archer with unparalleled accuracy and agility. Growing up in the ancient forest of Eldoria, he learned the art of archery from the renowned elven elders. Orion is known for his unwavering focus and stoic nature, always keeping his cool even in the midst of chaos. His arrows are said to be guided by the spirits of the forest, and his aim is rarely, if ever, off the mark.\\n\\nName: Seraphina Frostheart\\nBiography: Seraphina Frostheart is a young ice mage hailing from the frozen lands of Frostfall. Gifted with the ability to manipulate ice and frost, she has the power to create intricate ice sculptures and conjure blizzards at will. Seraphina is known for her kind-hearted nature and strong determination. She often uses her powers to protect her homeland from invaders and ensure the safety of her people. Despite her gentle demeanor, her icy powers can be devastating when provoked.', 'plot': \"In the mystical realm of Eldoria, a once peaceful land is now threatened by a dark force that seeks to plunge the world into eternal darkness. Isabella Nightshade, Orion Stormrider, and Seraphina Frostheart find themselves drawn together by a shared vision, foretelling the impending doom that awaits their realm.\\n\\nIsabella, the sorceress of shadows, receives a mysterious message from the Shadowrealm, warning her of an ancient artifact hidden deep within the heart of Eldoria. Believing this artifact holds the key to stopping the encroaching darkness, Isabella seeks out the aid of Orion, the elven archer known for his keen perception and unmatched skills. Recognizing the urgency of the situation, Orion joins Isabella's quest without hesitation.\\n\\nMeanwhile, Seraphina Frostheart, the ice mage from Frostfall, receives whispers in her dreams, urging her to journey to Eldoria to prevent the imminent catastrophe. Intrigued by the call of destiny, Seraphina embarks on her own journey, unaware that her path will soon intersect with Isabella and Orion.\\n\\nAs the trio converges, they face numerous trials and encounters with powerful adversaries who seek to impede their progress. In their journey, Isabella's shadow manipulation serves as a valuable tool, allowing the group to infiltrate enemy territories undetected. Seraphina's mastery over ice magic proves vital in freezing enemies and creating obstacles to deter pursuers. Orion's impeccable archery skills, guided by the spirits of Eldoria, strike true and deal devastating blows to their foes.\\n\\nThroughout their arduous journey, Isabella, Orion, and Seraphina forge a strong bond, relying on each other's unique abilities and unwavering determination. They uncover ancient prophecies that reveal their united purpose, and their individual talents begin to intertwine, amplifying their powers.\\n\\nFinally, after overcoming numerous obstacles and defeating mighty adversaries, the trio reaches the dark heart of Eldoria. There, they confront the embodiment of the encroaching darkness itself. The battle is fierce, and the realm trembles as their combined magical prowess clashes against the overwhelming power of the dark force.\\n\\nIn a climactic moment, Isabella, Orion, and Seraphina tap into the depths of their abilities, channeling their strength together. Isabella manipulates the shadows to shield her allies, Orion's arrows puncture through the dark force's defenses, and Seraphina unleashes a blizzard of icy fury. With their combined efforts, they manage to weaken the dark force, allowing a glimmer of light to pierce through its malevolence.\\n\\nIn a final act of sacrifice, Isabella taps into the true extent of her powers, enveloping herself in shadows and channeling them into a devastating attack that shatters the dark force into oblivion. The realm of Eldoria is saved, bathed in the dawn of a new era.\\n\\nAs the heroes bid farewell, they realize that their intertwined destinies have left an indelible mark on their lives. Isabella returns to the Shadowrealm, now recognized as a true hero among her people. Orion continues to protect the ancient forest of Eldoria, becoming a revered figure among the elves. Seraphina returns to Frostfall, recognized as a guardian of her homeland, ensuring its safety for generations to come.\\n\\nTheir individual stories become woven into the tapestry of Eldoria's history, forever remembered as the trio who stood against the encroaching darkness and triumphed, proving that even in the face of overwhelming odds, hope and unity can prevail.\", 'scenes': \"Scene 1: Isabella receives the mysterious message from the Shadowrealm, alerting her to the ancient artifact hidden within Eldoria. She deciphers the message's cryptic clues, realizing the urgency of the situation.\\n\\nScene 2: Isabella seeks out Orion, finding him deep within the ancient forest of Eldoria. She shares the message with him, explaining the imminent threat and the importance of retrieving the artifact. Orion agrees to join her quest, his keen perception recognizing the gravity of the situation.\\n\\nScene 3: Seraphina receives the whispers in her dreams, compelling her to journey to Eldoria. Intrigued and determined to fulfill her destiny, she begins her own separate journey, unaware that her path will soon intersect with Isabella and Orion.\\n\\nScene 4: Isabella, Orion, and Seraphina cross paths in a small village on the outskirts of Eldoria. Suspicious yet intrigued by each other's presence, they cautiously team up, realizing their shared visions and destinies. They exchange their personal stories, discovering the unique nature of their powers.\\n\\nScene 5: The trio faces their first encounter with a group of shadow creatures sent by the encroaching darkness. Isabella uses her shadow manipulation to disorient and confuse the creatures, allowing Orion to take them down with his precise archery skills. Seraphina uses her ice magic to freeze the remaining enemies, immobilizing them.\\n\\nScene 6: Isabella, Orion, and Seraphina infiltrate an enemy stronghold, using Isabella's shadow manipulation to slip past guards unnoticed. They make their way towards the artifact, encountering various traps and puzzles along the way. Each character's unique abilities come into play, helping them overcome the obstacles.\\n\\nScene 7: In a climactic battle, Isabella, Orion, and Seraphina face off against a powerful sorcerer who seeks to claim the artifact for his own dark purposes. Isabella uses her shadow manipulation to blind the sorcerer, while Orion fires arrows with pinpoint accuracy. Seraphina conjures a blizzard to freeze the sorcerer in place, allowing the trio to claim victory.\\n\\nScene 8: As the trio reaches the dark heart of Eldoria, they confront the embodiment of the encroaching darkness itself. A grand battle ensues, with Isabella, Orion, and Seraphina using their combined powers to weaken the dark force. The realm trembles as their magic clashes.\\n\\nScene 9: Isabella, Orion, and Seraphina pool their abilities, channeling their strength together against the dark force. Isabella sacrifices herself, unleashing a devastating attack that shatters the dark force into oblivion. The realm is bathed in light, signifying their triumph.\\n\\nScene 10: The heroes bid farewell, realizing the impact of their journey on their lives. Isabella returns to the Shadowrealm, hailed as a hero. Orion continues to protect Eldoria, revered among the elves. Seraphina returns to Frostfall as a guardian, ensuring its safety. Their stories become part of Eldoria's history, inspiring hope and unity for generations to come.\"}\n"
     ]
    }
   ],
   "source": [
    "print(story_result)"
   ]
  },
  {
   "attachments": {},
   "cell_type": "markdown",
   "metadata": {},
   "source": [
    "---\n"
   ]
  },
  {
   "attachments": {},
   "cell_type": "markdown",
   "metadata": {},
   "source": [
    "## Sequential Story Scene Generation:\n"
   ]
  },
  {
   "cell_type": "code",
   "execution_count": 94,
   "metadata": {},
   "outputs": [
    {
     "name": "stdout",
     "output_type": "stream",
     "text": [
      "Generating scene 1...\n",
      "\n",
      "\n",
      "\u001b[1m> Entering new  chain...\u001b[0m\n",
      "\n",
      "\u001b[1m> Finished chain.\u001b[0m\n",
      "Generating scene 2...\n",
      "\n",
      "\n",
      "\u001b[1m> Entering new  chain...\u001b[0m\n",
      "\n",
      "\u001b[1m> Finished chain.\u001b[0m\n",
      "Generating scene 3...\n",
      "\n",
      "\n",
      "\u001b[1m> Entering new  chain...\u001b[0m\n",
      "\n",
      "\u001b[1m> Finished chain.\u001b[0m\n",
      "Generating scene 4...\n",
      "\n",
      "\n",
      "\u001b[1m> Entering new  chain...\u001b[0m\n",
      "\n",
      "\u001b[1m> Finished chain.\u001b[0m\n",
      "Generating scene 5...\n",
      "\n",
      "\n",
      "\u001b[1m> Entering new  chain...\u001b[0m\n",
      "\n",
      "\u001b[1m> Finished chain.\u001b[0m\n",
      "Generating scene 6...\n",
      "\n",
      "\n",
      "\u001b[1m> Entering new  chain...\u001b[0m\n",
      "\n",
      "\u001b[1m> Finished chain.\u001b[0m\n",
      "Generating scene 7...\n",
      "\n",
      "\n",
      "\u001b[1m> Entering new  chain...\u001b[0m\n",
      "\n",
      "\u001b[1m> Finished chain.\u001b[0m\n",
      "Generating scene 8...\n",
      "\n",
      "\n",
      "\u001b[1m> Entering new  chain...\u001b[0m\n",
      "\n",
      "\u001b[1m> Finished chain.\u001b[0m\n",
      "Generating scene 9...\n",
      "\n",
      "\n",
      "\u001b[1m> Entering new  chain...\u001b[0m\n",
      "\n",
      "\u001b[1m> Finished chain.\u001b[0m\n",
      "Generating scene 10...\n",
      "\n",
      "\n",
      "\u001b[1m> Entering new  chain...\u001b[0m\n",
      "\n",
      "\u001b[1m> Finished chain.\u001b[0m\n"
     ]
    }
   ],
   "source": [
    "from langchain.memory import SimpleMemory\n",
    "\n",
    "# Extracting the scenes using .split('\\n') and removing empty strings:\n",
    "scenes = [scene for scene in story_result[\"scenes\"].split(\"\\n\") if scene]\n",
    "\n",
    "character_script_prompt = PromptTemplate(\n",
    "    template=\"\"\"Given the following characters: {characters} and the genre: {genre}, create an effective character script for a scene.\n",
    "\n",
    "    You must follow the following principles:\n",
    "    - Use the Previous Scene Summary: {previous_scene_summary} to avoid repeating yourself.\n",
    "    - Use the Plot: {plot} to create an effective scene character script.\n",
    "    - Currently you are generating the character dialogue script for the following scene: {scene}\n",
    "\n",
    "    ---\n",
    "    Here is an example response:\n",
    "    SCENE 1: ANNA'S APARTMENT\n",
    "\n",
    "    (ANNA is sorting through old books when there is a knock at the door. She opens it to reveal JOHN.)\n",
    "    ANNA: Can I help you, sir?\n",
    "    JOHN: Perhaps, I think it's me who can help you. I heard you're researching time travel.\n",
    "    (Anna looks intrigued but also cautious.)\n",
    "    ANNA: That's right, but how do you know?\n",
    "    JOHN: You could say... I'm a primary source.\n",
    "\n",
    "    ---\n",
    "    SCENE {index}:\n",
    "\n",
    "    \"\"\",\n",
    "    input_variables=[\n",
    "        \"characters\",\n",
    "        \"genre\",\n",
    "        \"plot\",\n",
    "        \"scene\",\n",
    "        \"previous_scene_summary\",\n",
    "        \"index\",\n",
    "    ],\n",
    ")\n",
    "\n",
    "summarize_prompt = PromptTemplate(\n",
    "    template=\"\"\"Given a character script create a summary of the scene. Character script: {character_script}\"\"\",\n",
    "    input_variables=[\"character_script\"],\n",
    ")\n",
    "\n",
    "character_script_chain = LLMChain(\n",
    "    llm=chat, prompt=character_script_prompt, output_key=\"character_script\"\n",
    ")\n",
    "\n",
    "summarize_chain = LLMChain(llm=chat, prompt=summarize_prompt, output_key=\"summary\")\n",
    "previous_scene_summary = \"\"\n",
    "\n",
    "# Creating a simple memory to store the plot, characters, and genre:\n",
    "memory = SimpleMemory(\n",
    "    memories={\n",
    "        \"plot\": story_result[\"plot\"],\n",
    "        \"characters\": story_result[\"characters\"],\n",
    "        \"genre\": \"fantasy\",\n",
    "    }\n",
    ")\n",
    "\n",
    "generated_scenes = []\n",
    "\n",
    "for index, scene in enumerate(scenes):\n",
    "    print(f\"Generating scene {index + 1}...\")\n",
    "    scene_generation_chain = SequentialChain(\n",
    "        chains=[character_script_chain, summarize_chain],\n",
    "        memory=memory,\n",
    "        input_variables=[\n",
    "            \"scene\",\n",
    "            \"previous_scene_summary\",\n",
    "            \"index\",\n",
    "        ],\n",
    "        verbose=True,\n",
    "        output_variables=[\"character_script\", \"summary\"],\n",
    "    )\n",
    "\n",
    "    llm_result = scene_generation_chain(\n",
    "        {\n",
    "            \"characters\": story_result[\"characters\"],\n",
    "            \"genre\": \"fantasy\",\n",
    "            \"plot\": story_result[\"plot\"],\n",
    "            \"scene\": scene,\n",
    "            \"previous_scene_summary\": previous_scene_summary,\n",
    "            \"index\": index + 1,\n",
    "        }\n",
    "    )\n",
    "\n",
    "    # Updating the previous scene summary:\n",
    "    previous_scene_summary = llm_result[\"summary\"]\n",
    "\n",
    "    # Store the generated scenes:\n",
    "    generated_scenes.append(\n",
    "        {\"character_script\": llm_result[\"character_script\"], \"scene\": scenes[index]}\n",
    "    )"
   ]
  },
  {
   "cell_type": "code",
   "execution_count": 101,
   "metadata": {},
   "outputs": [
    {
     "data": {
      "text/plain": [
       "[{'character_script': 'IN ISABELLA\\'S STUDY - NIGHT\\n\\n(The room is dimly lit, with shelves filled with ancient tomes and artifacts. Isabella sits at her desk, studying an old parchment with a series of enigmatic symbols and writings. She furrows her brows, deep in concentration.)\\n\\nISABELLA: (muttering to herself) \"In the heart of Eldoria lies the key, a relic of ancient power, hidden from sight. Seek the moonlit grove and the whispering trees, where shadows dance in the pale moon\\'s light.\"\\n\\n(She traces her finger along the parchment, following the cryptic clues. Suddenly, the room darkens, and a faint whisper echoes through the air.)\\n\\nMYSTERIOUS VOICE: (whispering) Isabella Nightshade, the time has come. The Shadowrealm beckons you.\\n\\n(Isabella looks around, searching for the source of the voice.)\\n\\nISABELLA: Who\\'s there? Show yourself!\\n\\n(The shadows in the room seem to come alive, swirling around Isabella. She gazes into the darkness, her eyes shining with determination.)\\n\\nISABELLA: I will not be afraid. Show me the way.\\n\\n(The shadows converge into a spectral figure, revealing a glimpse of the Shadowrealm.)\\n\\nSPECTRAL FIGURE: Isabella Nightshade, the ancient artifact you seek possesses unimaginable power. It must not fall into the wrong hands.\\n\\nISABELLA: I understand. But how can I find it? I need more than riddles and whispers.\\n\\nSPECTRAL FIGURE: Seek the Eldertree in the Forest of Whispers. Its roots hold the key to the artifact\\'s location. Trust in your abilities, Isabella, for the shadows will guide you.\\n\\n(The spectral figure fades back into the shadows, leaving Isabella with a renewed sense of purpose.)\\n\\nISABELLA: The Eldertree... The Forest of Whispers... I must find it. The fate of Eldoria depends on it.\\n\\n(She gathers her belongings, determined to embark on her quest. The room is once again bathed in darkness as she steps into the unknown.)',\n",
       "  'scene': \"Scene 1: Isabella receives the mysterious message from the Shadowrealm, alerting her to the ancient artifact hidden within Eldoria. She deciphers the message's cryptic clues, realizing the urgency of the situation.\"},\n",
       " {'character_script': \"EXT. ANCIENT FOREST OF ELDORIA - DAY\\n\\n(Isabella, clad in dark robes, cautiously enters the ancient forest of Eldoria. The sounds of rustling leaves and bird calls fill the air. She navigates through the dense foliage, her eyes scanning the surroundings for any sign of Orion.)\\n\\nISABELLA: (whispering to herself) The Eldertree should be somewhere around here. Orion must be close.\\n\\n(Suddenly, a swish of wind catches Isabella's attention. She turns to see Orion perched on a tree branch, his bow at the ready.)\\n\\nORION: (with a hint of surprise) Isabella Nightshade, what brings you to the heart of Eldoria?\\n\\nISABELLA: (approaching Orion) Orion Stormrider, I bear urgent news. I have received a message from the Shadowrealm, warning of an ancient artifact hidden in these lands. It holds immense power and could be the key to saving Eldoria from the dark force that looms over us.\\n\\nORION: (arches an eyebrow) An artifact, you say? And what makes you believe I would be interested in joining your quest?\\n\\nISABELLA: (with conviction) Orion, I have witnessed your unparalleled skills as an archer. The spirits of the forest guide your arrows, and your accuracy could prove vital in retrieving the artifact. We cannot allow it to fall into the wrong hands.\\n\\n(Orion lowers his bow, considering Isabella's words.)\\n\\nORION: (nodding) I see the gravity of this situation. Eldoria has been my home for centuries, and I will do whatever it takes to protect it. I will join you on this quest, Isabella.\\n\\nISABELLA: (relieved) Thank you, Orion. Your keen perception and stoic nature will be invaluable in our journey.\\n\\n(They share a brief moment of acknowledgment before turning their attention to the path ahead.)\\n\\nISABELLA: (determined) Together, we will find the Eldertree and retrieve the artifact. Our realm's destiny rests upon our success.\\n\\n(Isabella and Orion set off deeper into the forest, their footsteps blending with the ancient melodies of Eldoria.)\\n\\nFADE OUT.\",\n",
       "  'scene': 'Scene 2: Isabella seeks out Orion, finding him deep within the ancient forest of Eldoria. She shares the message with him, explaining the imminent threat and the importance of retrieving the artifact. Orion agrees to join her quest, his keen perception recognizing the gravity of the situation.'},\n",
       " {'character_script': \"EXT. FROSTFALL - SERAPHINA'S COTTAGE - NIGHT\\n\\n(Seraphina is in her cottage, sleeping peacefully. Soft whispers begin to fill the room, growing louder and more urgent.)\\n\\nWHISPERS: (echoing) Seraphina... Seraphina Frostheart...\\n\\n(Seraphina stirs in her sleep, sensing the presence of something otherworldly. She opens her eyes, wide awake now.)\\n\\nSERAPHINA: (whispering) Who's there? What do you want?\\n\\nWHISPERS: (whispering) The realm of Eldoria is in danger, Seraphina. A great darkness looms, threatening to consume everything. You hold the power to save your homeland.\\n\\n(Seraphina sits up, her eyes shining with determination.)\\n\\nSERAPHINA: How? What must I do?\\n\\nWHISPERS: (whispering) Journey to Eldoria, Seraphina. Seek out Isabella Nightshade and Orion Stormrider. Together, you will find the ancient artifact that can banish the darkness and restore balance to our realm.\\n\\n(Seraphina nods, taking in the weight of the task ahead.)\\n\\nSERAPHINA: I will not fail. I will protect my people and Frostfall.\\n\\nWHISPERS: (whispering) Trust in your abilities, Seraphina. Embrace the power of ice that flows through your veins. The fate of Eldoria rests in your hands.\\n\\n(Seraphina stands up, a determined fire in her eyes.)\\n\\nSERAPHINA: I will not let them down. I will find Isabella and Orion, and together, we will bring light back to our realm.\\n\\n(Seraphina gathers her belongings, preparing for the journey ahead. She steps out of her cottage, gazing at the frozen lands of Frostfall.)\\n\\nSERAPHINA: Eldoria, I'm coming. Hold on, for hope is on its way.\\n\\n(Seraphina sets off on her journey, her footsteps crunching against the icy ground. The wind carries her whispers into the night as she disappears into the distance.)\\n\\nFADE OUT.\",\n",
       "  'scene': 'Scene 3: Seraphina receives the whispers in her dreams, compelling her to journey to Eldoria. Intrigued and determined to fulfill her destiny, she begins her own separate journey, unaware that her path will soon intersect with Isabella and Orion.'},\n",
       " {'character_script': \"EXT. SMALL VILLAGE - DAY\\n\\n(Isabella, Orion, and Seraphina find themselves in a quaint village on the outskirts of Eldoria. They cautiously assess each other's presence, curiosity and suspicion in their eyes.)\\n\\nISABELLA: (eyeing Orion and Seraphina) I can sense the power within both of you. Are you the ones the whispers spoke of?\\n\\nORION: (nodding) It seems fate has guided us together. I am Orion Stormrider, an archer from Eldoria.\\n\\nSERAPHINA: (curiously) And I am Seraphina Frostheart, an ice mage from Frostfall. I have journeyed here in response to a call from my dreams.\\n\\nISABELLA: (smiling) Isabella Nightshade, sorceress of shadows. The Shadowrealm has revealed to me the presence of an ancient artifact in Eldoria that can rid our realm of the impending darkness.\\n\\nORION: (determined) We must find this artifact and restore balance to our lands. Our visions, our destinies, they all point to this very moment.\\n\\nSERAPHINA: (earnestly) I have sworn to protect Frostfall and my people. If this artifact holds the key to saving our realms, I am ready to join you.\\n\\n(They exchange nods of understanding, forming an unspoken alliance as they share their personal stories.)\\n\\nISABELLA: (reflectively) My powers over shadows have granted me the ability to infiltrate enemy territories undetected. I can disable our opponents with stealth and precision.\\n\\nORION: (proudly) I possess unrivaled accuracy and agility as an elven archer. The spirits of Eldoria guide my arrows, ensuring they hit their mark.\\n\\nSERAPHINA: (enthused) With my ice-based abilities, I can freeze enemies and conjure blizzards at will. I have the power to protect and defend my homeland.\\n\\n(They each demonstrate a glimpse of their unique abilities to one another, showcasing their talents.)\\n\\nISABELLA: (impressed) Your mastery over ice magic is formidable, Seraphina.\\n\\nORION: (nodding) And your ability to manipulate shadows is a skill that will serve us well, Isabella.\\n\\nSERAPHINA: (smiling) We each bring a different strength to this quest. Together, we are unstoppable.\\n\\n(Their suspicions fade, replaced by a growing trust and understanding. They share a determined look, united in their purpose.)\\n\\nISABELLA: (resolute) We must set forth and find this artifact. The fate of our realms depends on it.\\n\\nORION: (assertive) Agreed. Let this alliance be the beacon of hope in these dark times.\\n\\nSERAPHINA: (with determination) And let the power within us guide our way. Together, we will bring light back to Eldoria.\\n\\n(They gather their belongings and prepare to embark on their journey, echoing footsteps crunching against the ground as they disappear into the distance. The whispers of destiny linger in the air, carrying their hopes and determination into the unknown.)\\n\\nFADE OUT.\",\n",
       "  'scene': \"Scene 4: Isabella, Orion, and Seraphina cross paths in a small village on the outskirts of Eldoria. Suspicious yet intrigued by each other's presence, they cautiously team up, realizing their shared visions and destinies. They exchange their personal stories, discovering the unique nature of their powers.\"},\n",
       " {'character_script': \"INT. DARK FOREST - NIGHT\\n\\n(The trio, ISABELLA, ORION, and SERAPHINA, cautiously make their way through the dense forest. They can sense a malevolent energy lurking nearby.)\\n\\nISABELLA\\n(whispering)\\nBe on your guard. We are not alone in these woods.\\n\\nORION\\n(nocking an arrow)\\nI sense their presence too. Shadow creatures.\\n\\nSERAPHINA\\n(grasping her staff)\\nLet me handle them. My ice magic can freeze them in their tracks.\\n\\n(The shadow creatures emerge from the darkness, their eerie forms undulating and shifting.)\\n\\nISABELLA\\n(stepping forward)\\nAllow me to disorient and confuse them with my shadow manipulation. It will give you both an advantage.\\n\\nORION\\n(straightening his bow)\\nVery well. We'll follow your lead, Isabella.\\n\\nSERAPHINA\\n(focusing her energy)\\nJust give me the signal, Isabella. I'll freeze them in an instant.\\n\\n(ISABELLA closes her eyes, concentrating on her powers. Shadows start to dance around her, forming tendrils that reach out towards the shadow creatures.)\\n\\nISABELLA\\n(opening her eyes)\\nNow!\\n\\n(ISABELLA's shadow tendrils lash out, wrapping around the shadow creatures. The creatures flail and stumble, disoriented by the sudden darkness enveloping them.)\\n\\nORION\\n(taking aim)\\nTime to strike!\\n\\n(ORION releases a flurry of arrows, each finding its mark with deadly precision. The shadow creatures fall one by one, dissolving into smoke.)\\n\\nSERAPHINA\\n(raising her staff)\\nNow, it's my turn!\\n\\n(SERAPHINA conjures a blizzard, waves of icy wind swirling around the remaining shadow creatures. The creatures freeze in place, immobilized by the frost.)\\n\\nISABELLA\\n(smiling)\\nExcellent work, team. Our combined abilities are truly formidable.\\n\\nORION\\n(nodding)\\nIndeed. We make a great team, don't we?\\n\\nSERAPHINA\\n(grinning)\\nAbsolutely. Let's keep moving. We have a long way to go before we find that artifact.\\n\\n(The trio continues their journey, their footsteps echoing through the forest as they push forward, united in their mission.)\\n\\nFADE OUT.\",\n",
       "  'scene': 'Scene 5: The trio faces their first encounter with a group of shadow creatures sent by the encroaching darkness. Isabella uses her shadow manipulation to disorient and confuse the creatures, allowing Orion to take them down with his precise archery skills. Seraphina uses her ice magic to freeze the remaining enemies, immobilizing them.'},\n",
       " {'character_script': \"INT. ENEMY STRONGHOLD - UNDERGROUND TUNNELS - NIGHT\\n\\n(The trio, Isabella, Orion, and Seraphina, cautiously move through the dimly lit underground tunnels. Isabella leads the way, her eyes scanning the surroundings for any signs of danger. Orion follows closely behind, his bow at the ready, while Seraphina brings up the rear, her staff emitting a soft blue glow.)\\n\\nISABELLA\\n(whispering)\\nKeep your senses sharp. We could encounter guards at any moment.\\n\\nORION\\n(nods)\\nI've got your back, Isabella. Just say the word, and my arrows will find their mark.\\n\\nSERAPHINA\\n(whispering)\\nAnd I'll make sure they regret crossing our path.\\n\\n(They come across a room filled with pressure-sensitive tiles on the floor, each one emitting a faint red glow. Isabella stops and surveys the room.)\\n\\nISABELLA\\n(hushed)\\nLooks like we've got a puzzle to solve. These tiles are connected to some kind of alarm system. One wrong step, and we'll have a swarm of guards on our tails.\\n\\nORION\\n(confident)\\nLeave it to me. I have an idea.\\n\\n(Orion takes a deep breath, his eyes focusing on the tiles. He steps forward, his movements calculated and precise, avoiding the glowing tiles with fluidity. Isabella and Seraphina watch in awe as he effortlessly navigates the room.)\\n\\nSERAPHINA\\n(amazed)\\nOrion, how did you...?\\n\\nORION\\n(smiling)\\nYears of training and a bit of elven intuition.\\n\\n(Orion reaches the other side of the room unscathed. He turns back to Isabella and Seraphina, extending a hand to help them across.)\\n\\nORION\\n(grinning)\\nYour turn, ladies. Just follow my lead.\\n\\n(The three of them carefully make their way through the room, mirroring Orion's movements, skilfully avoiding the pressure-sensitive tiles.)\\n\\nISABELLA\\n(impressed)\\nWell done, Orion. Your skills never cease to amaze me.\\n\\nORION\\n(humble)\\nThank you, Isabella. But remember, we're in this together.\\n\\n(They continue their journey, encountering more challenges and traps along the way. Isabella's shadow manipulation helps them slip past guards unnoticed, while Seraphina's ice magic freezes mechanisms in place, rendering them harmless.)\\n\\nSERAPHINA\\n(determined)\\nWe've come too far to turn back now. Let's find that artifact and put an end to this darkness once and for all.\\n\\nISABELLA\\n(agrees)\\nAgreed. We've faced countless trials together, and with our combined abilities, I believe we can overcome anything.\\n\\n(They press on, their determination driving them forward, their footsteps echoing through the underground tunnels.)\\n\\nFADE OUT.\",\n",
       "  'scene': \"Scene 6: Isabella, Orion, and Seraphina infiltrate an enemy stronghold, using Isabella's shadow manipulation to slip past guards unnoticed. They make their way towards the artifact, encountering various traps and puzzles along the way. Each character's unique abilities come into play, helping them overcome the obstacles.\"},\n",
       " {'character_script': \"INT. DARK CHAMBER - NIGHT\\n\\n(Isabella, Orion, and Seraphina stand face to face with the SORCERER, a menacing figure shrouded in darkness. The artifact gleams in the center of the room, casting an eerie glow.)\\n\\nISABELLA\\nWe won't let you claim the artifact, sorcerer! Your dark purposes end here!\\n\\nSorcerer smirks, raising his hands to summon a swirling vortex of shadows.\\n\\nSORCERER\\nFools! You cannot comprehend the power I possess!\\n\\n(Isabella steps forward, her eyes glowing with intensity. She raises her hands, manipulating the shadows around her.)\\n\\nISABELLA\\n(whispering)\\nNo, but I understand shadows far better than you ever will.\\n\\n(Isabella releases a wave of darkness, engulfing the sorcerer and blinding him. He stumbles backward, disoriented.)\\n\\nORION\\nNow, Seraphina!\\n\\n(Seraphina raises her staff, calling upon her icy powers. A blizzard forms around the sorcerer, freezing him in place.)\\n\\nSERAPHINA\\nHold on, just a little longer!\\n\\n(Orion aims his bow, his eyes locked on the immobile sorcerer. His arrow is infused with the spirits of Eldoria, guiding its path.)\\n\\nORION\\n(sotto voce)\\nFor Eldoria, for its light to prevail.\\n\\n(Orion releases the arrow, and it flies through the blizzard with pinpoint accuracy, striking the sorcerer's chest. The sorcerer cries out in pain.)\\n\\nSORCERER\\n(roaring)\\nYou dare defy me? I am unstoppable!\\n\\nISABELLA\\nYou underestimate the power of unity, sorcerer!\\n\\n(Seraphina concentrates, intensifying the blizzard. The sorcerer's movements become slower and weaker.)\\n\\nISABELLA\\nNow, while his power wanes!\\n\\n(The trio rushes forward, claiming victory. They seize the artifact, their hands glowing with the combined energy of their abilities.)\\n\\nORION\\nIt's done. The darkness has been vanquished.\\n\\nSERAPHINA\\nBut we must remain vigilant. Evil has a way of resurfacing.\\n\\nISABELLA\\nTogether, we will face any darkness that dares to threaten our realm.\\n\\n(The trio share a determined look, knowing that their journey is not yet over. They exit the chamber, victorious and ready to face whatever challenges lie ahead.)\\n\\nFADE OUT.\",\n",
       "  'scene': 'Scene 7: In a climactic battle, Isabella, Orion, and Seraphina face off against a powerful sorcerer who seeks to claim the artifact for his own dark purposes. Isabella uses her shadow manipulation to blind the sorcerer, while Orion fires arrows with pinpoint accuracy. Seraphina conjures a blizzard to freeze the sorcerer in place, allowing the trio to claim victory.'},\n",
       " {'character_script': \"EXT. DARK HEART OF ELDORIA - NIGHT\\n\\n(The trio stands before the embodiment of the encroaching darkness, a towering, malevolent figure that radiates pure malice. Isabella, Orion, and Seraphina brace themselves for battle.)\\n\\nISABELLA: (calm and determined) This is it, the final showdown. We must not falter now.\\n\\nORION: (stoic and focused) Agreed. Our combined strength shall overcome this darkness.\\n\\nSERAPHINA: (determined) Together, we can bring light back to Eldoria. Let's show this darkness what we're made of.\\n\\n(The trio raises their hands, their palms glowing with an intense energy.)\\n\\nISABELLA: Shadows, heed my call! Envelop us in your protective cloak!\\n\\n(Shadows rise from the ground, swirling around Isabella, Orion, and Seraphina, forming an impenetrable barrier.)\\n\\nORION: (drawing his bow) Spirits of Eldoria, guide my aim. Grant me the strength to strike true!\\n\\n(Orion releases an arrow, glowing with an ethereal light. It pierces through the darkness, causing it to waver momentarily.)\\n\\nSERAPHINA: Frost and ice, obey my command! Unleash your blizzard upon our foe!\\n\\n(Seraphina raises her hands, conjuring a furious blizzard that engulfs the darkness.)\\n\\n(Darkness roars in pain as it struggles against the combined forces of Isabella, Orion, and Seraphina.)\\n\\nISABELLA: Our powers are stronger together! Let's finish this!\\n\\nORION: (nocking another arrow) On your mark, Isabella.\\n\\nISABELLA: Now, Orion!\\n\\n(Orion releases another arrow, infused with the combined energies of Isabella, Orion, and Seraphina. It strikes the darkness, causing it to stagger backward.)\\n\\nSERAPHINA: (charging up her magic) It's weakening! We can do this!\\n\\n(The trio continues their assault, unrelenting in their determination. The darkness falters even more, its power waning.)\\n\\nISABELLA: (summoning her true power) I will end this!\\n\\n(Isabella steps forward, her entire body engulfed in shadows. She releases a devastating attack, overwhelming the darkness and shattering it into fragments of fading malevolence.)\\n\\n(The realm trembles, the encroaching darkness dissipates, and Eldoria is bathed in a warm, golden light.)\\n\\nISABELLA: (breathing heavily) It's over.\\n\\nORION: (surveying the transformed realm) Eldoria is saved.\\n\\nSERAPHINA: (smiling) We did it. Together.\\n\\n(As the trio takes a moment to catch their breath, they exchange glances, a silent acknowledgement of their incredible achievement.)\\n\\nFADE OUT.\",\n",
       "  'scene': 'Scene 8: As the trio reaches the dark heart of Eldoria, they confront the embodiment of the encroaching darkness itself. A grand battle ensues, with Isabella, Orion, and Seraphina using their combined powers to weaken the dark force. The realm trembles as their magic clashes.'},\n",
       " {'character_script': \"EXT. HEART OF ELDORIA - DAY\\n\\n(Isabella, Orion, and Seraphina stand before the towering embodiment of darkness. The air crackles with energy as they prepare for their final battle. Isabella summons shadows around them, Orion calls upon the spirits of Eldoria, and Seraphina conjures a blizzard.)\\n\\nISABELLA: (determined) This is it, my friends. We've come too far to let darkness prevail. Together, we'll bring light back to this realm.\\n\\nORION: (stoic) Our combined strength will be our salvation. Isabella, I trust in your shadows, Seraphina's blizzard, and my arrows guided by the spirits.\\n\\nSERAPHINA: (kind-hearted) And I trust in each of you. Our determination and unity will conquer this darkness.\\n\\n(Isabella, Orion, and Seraphina charge forward, attacking the dark force with relentless precision. Their powers intertwine, weakening the darkness.)\\n\\nISABELLA: (tapping into her true power) I won't hold back anymore. I'll give it everything I have.\\n\\nORION: Keep pushing! We're so close to victory!\\n\\nSERAPHINA: (conjuring more icy fury) We can do this! We won't let darkness win!\\n\\n(The trio intensifies their assault, pouring all their energy into the battle. The dark force trembles under their combined strength.)\\n\\nISABELLA: (determined, delivering a devastating final blow) This ends now!\\n\\n(ISABELLA taps into the depths of her power, channeling the shadows into a focused attack. The dark force shatters into fragments, the realm bathed in a warm, golden light.)\\n\\nORION: (in awe) We did it. We defeated the darkness.\\n\\nSERAPHINA: (breathing heavily) Eldoria is safe once again. Our unity has triumphed.\\n\\n(The trio takes a moment to catch their breath, appreciating their achievement.)\\n\\nISABELLA: We've made a difference. Darkness will never prevail as long as there are heroes like us.\\n\\nORION: (smiling) It was an honor fighting alongside both of you. Our destinies were woven together for a reason.\\n\\nSERAPHINA: (grateful) I'm proud to have fought with such brave companions. We've left our mark on Eldoria's history.\\n\\n(The scene fades out, leaving the realm bathed in the warm, golden light of victory.)\",\n",
       "  'scene': 'Scene 9: Isabella, Orion, and Seraphina pool their abilities, channeling their strength together against the dark force. Isabella sacrifices herself, unleashing a devastating attack that shatters the dark force into oblivion. The realm is bathed in light, signifying their triumph.'},\n",
       " {'character_script': \"EXT. SHADOWREALM - DAY\\n\\n(The heroes, Isabella, Orion, and Seraphina, stand before the entrance to the Shadowrealm. Isabella is adorned in her sorceress attire, exuding confidence and power. Orion holds his bow and arrow with a stoic expression, while Seraphina clutches her staff tightly, emanating determination.)\\n\\nISABELLA: (smiling) This is where our paths diverge, my dear friends.\\n\\nORION: (nodding) Indeed, Isabella. Our journey has come to an end, but the impact of our actions will resonate throughout the realm.\\n\\nSERAPHINA: (grateful) I will forever cherish the time we spent together. Your bravery and unity have inspired me.\\n\\nISABELLA: (placing a hand on Seraphina's shoulder) The fate of Eldoria is now in your capable hands, Seraphina. Frostfall needs its guardian.\\n\\nSERAPHINA: (firmly) I will not fail my homeland, Isabella. I will ensure its safety for generations to come.\\n\\nORION: (smiling) And I shall continue to protect Eldoria, guided by the spirits of the forest. The elves will forever remember your name, Isabella Nightshade.\\n\\nISABELLA: (humbled) Thank you, Orion. Your words mean more to me than you know.\\n\\n(They share a heartfelt moment, their eyes filled with gratitude and respect.)\\n\\nISABELLA: (earnestly) Remember, we are forever connected by our shared purpose. Our stories will be told through generations, igniting hope and unity in the hearts of all who hear them.\\n\\nORION: (raising his bow) Farewell, Isabella. May our paths cross again, should the need arise.\\n\\nSERAPHINA: (raising her staff) Farewell, Isabella. Your courage and strength will never be forgotten.\\n\\n(ISABELLA steps back, shrouded in shadow, as the entrance to the Shadowrealm begins to close.)\\n\\nISABELLA: (softly) Farewell, my friends. May your future be bright and filled with triumph.\\n\\n(The heroes watch as the entrance to the Shadowrealm seals shut, leaving them in the warm, golden light of victory.)\\n\\nORION: (whispering) Our journey may have ended, but our impact will endure.\\n\\nSERAPHINA: (determined) And Eldoria will thrive, thanks to our unity and unwavering resolve.\\n\\n(They stand together for a moment, basking in the glory of their achievement.)\\n\\nFADE OUT.\",\n",
       "  'scene': \"Scene 10: The heroes bid farewell, realizing the impact of their journey on their lives. Isabella returns to the Shadowrealm, hailed as a hero. Orion continues to protect Eldoria, revered among the elves. Seraphina returns to Frostfall as a guardian, ensuring its safety. Their stories become part of Eldoria's history, inspiring hope and unity for generations to come.\"}]"
      ]
     },
     "execution_count": 101,
     "metadata": {},
     "output_type": "execute_result"
    }
   ],
   "source": [
    "generated_scenes"
   ]
  },
  {
   "cell_type": "code",
   "execution_count": 141,
   "metadata": {},
   "outputs": [],
   "source": [
    "from langchain.text_splitter import CharacterTextSplitter\n",
    "from langchain.chains.summarize import load_summarize_chain\n",
    "import pandas as pd"
   ]
  },
  {
   "cell_type": "code",
   "execution_count": 142,
   "metadata": {},
   "outputs": [],
   "source": [
    "df = pd.DataFrame(generated_scenes)"
   ]
  },
  {
   "cell_type": "code",
   "execution_count": 143,
   "metadata": {},
   "outputs": [],
   "source": [
    "all_character_script_text = \"\\n\".join(df.character_script.tolist())\n",
    "\n",
    "text_splitter = CharacterTextSplitter.from_tiktoken_encoder(\n",
    "    chunk_size=1500, chunk_overlap=200\n",
    ")\n",
    "\n",
    "docs = text_splitter.create_documents([all_character_script_text])"
   ]
  },
  {
   "cell_type": "code",
   "execution_count": 140,
   "metadata": {},
   "outputs": [
    {
     "data": {
      "text/plain": [
       "'Isabella Nightshade, Seraphina Frostheart, and Orion Stormrider form an alliance to find an ancient artifact and save their realm from darkness. They utilize their unique abilities to overcome challenges, defeat enemies, and claim the artifact. In a final battle against darkness, they unite their powers and bring light back to their realm. They part ways but remain connected by their shared experiences.'"
      ]
     },
     "execution_count": 140,
     "metadata": {},
     "output_type": "execute_result"
    }
   ],
   "source": [
    "chain = load_summarize_chain(llm=chat, chain_type=\"map_reduce\")\n",
    "summary = chain.run(docs)\n",
    "print(summary)"
   ]
  }
 ],
 "metadata": {
  "kernelspec": {
   "display_name": "base",
   "language": "python",
   "name": "python3"
  },
  "language_info": {
   "codemirror_mode": {
    "name": "ipython",
    "version": 3
   },
   "file_extension": ".py",
   "mimetype": "text/x-python",
   "name": "python",
   "nbconvert_exporter": "python",
   "pygments_lexer": "ipython3",
   "version": "3.9.13"
  },
  "orig_nbformat": 4
 },
 "nbformat": 4,
 "nbformat_minor": 2
}

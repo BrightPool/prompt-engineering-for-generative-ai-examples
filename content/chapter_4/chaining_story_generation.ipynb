{
 "cells": [
  {
   "cell_type": "code",
   "execution_count": 8,
   "metadata": {},
   "outputs": [
    {
     "name": "stdout",
     "output_type": "stream",
     "text": [
      "{'genre': 'sci-fi', 'text': \"In a future where the world has been ravaged by environmental disasters, a brilliant scientist discovers a way to manipulate time. With the ability to travel back and forth through different eras, she aims to prevent humanity's impending doom by altering key events in history. However, as she delves deeper into the past, she realizes that altering the course of history comes with unforeseen consequences, and she must confront the moral dilemma of whether to sacrifice the present for a better future.\"}\n"
     ]
    }
   ],
   "source": [
    "from langchain import PromptTemplate, LLMChain\n",
    "from langchain.chat_models import ChatOpenAI\n",
    "\n",
    "prompt_template = \"Generate a concise story idea for a {genre} book.\"\n",
    "\n",
    "llm = ChatOpenAI(temperature=0.7)\n",
    "llm_chain = LLMChain(llm=llm, prompt=PromptTemplate.from_template(prompt_template))\n",
    "result = llm_chain(\"sci-fi\")\n",
    "print(result)"
   ]
  },
  {
   "cell_type": "code",
   "execution_count": 9,
   "metadata": {},
   "outputs": [
    {
     "data": {
      "text/plain": [
       "\"In a future where the world has been ravaged by environmental disasters, a brilliant scientist discovers a way to manipulate time. With the ability to travel back and forth through different eras, she aims to prevent humanity's impending doom by altering key events in history. However, as she delves deeper into the past, she realizes that altering the course of history comes with unforeseen consequences, and she must confront the moral dilemma of whether to sacrifice the present for a better future.\""
      ]
     },
     "execution_count": 9,
     "metadata": {},
     "output_type": "execute_result"
    }
   ],
   "source": [
    "result[\"text\"]"
   ]
  },
  {
   "attachments": {},
   "cell_type": "markdown",
   "metadata": {},
   "source": [
    "---\n"
   ]
  },
  {
   "cell_type": "code",
   "execution_count": 10,
   "metadata": {},
   "outputs": [],
   "source": [
    "from langchain.prompts import PromptTemplate\n",
    "from langchain.chains import LLMChain\n",
    "from langchain.chat_models import ChatOpenAI\n",
    "from langchain.prompts.chat import (\n",
    "    ChatPromptTemplate,\n",
    "    SystemMessagePromptTemplate,\n",
    ")"
   ]
  },
  {
   "cell_type": "code",
   "execution_count": 11,
   "metadata": {},
   "outputs": [
    {
     "data": {
      "text/plain": [
       "{'genre': 'fantasy',\n",
       " 'text': \"1. The Protagonist: A young orphan with a mysterious past who discovers they have magical powers. They embark on a journey to uncover their true identity and save the world from an evil sorcerer.\\n2. The Mentor: A wise and powerful wizard who guides the protagonist in their magical training. They provide guidance, teach important lessons, and share ancient knowledge about the world of magic.\\n3. The Antagonist: The evil sorcerer who seeks to gain ultimate power by harnessing dark magic. They are ruthless, cunning, and will stop at nothing to achieve their goals. Their backstory and motivations are explored throughout the story.\\n4. The Sidekick: A loyal and humorous companion to the protagonist, who provides comic relief and moral support. They may have their own unique abilities or skills that assist the protagonist on their journey.\\n5. The Love Interest: A fellow magical being who becomes romantically involved with the protagonist. Their relationship adds depth to the story and motivates the protagonist to overcome obstacles.\\n6. The Villain's Henchmen: A group of loyal followers who aid the antagonist in their quest for power. Each henchman has their own unique set of skills and personality, providing interesting challenges for the protagonist.\\n7. The Guardian of a Secret: A mysterious character who holds a key piece of information that is vital to the protagonist's quest. They may be a mythical creature, a wise old sage, or a reclusive hermit.\\n8. The Rival: A fellow magic user who becomes the protagonist's primary competition throughout the story. They challenge the protagonist's skills and abilities, pushing them to reach their full potential.\\n9. The Betrayed Friend: A character from the protagonist's past who was once a friend but has turned against them. Their reasons for betrayal are slowly unveiled, adding complexity and emotional depth to the story.\\n10. The Wise Elder: An ancient being with vast knowledge and wisdom who provides guidance and important advice to the protagonist. They may be a member of a wise council or a solitary creature living in a secluded place.\"}"
      ]
     },
     "execution_count": 11,
     "metadata": {},
     "output_type": "execute_result"
    }
   ],
   "source": [
    "human_message_prompt = SystemMessagePromptTemplate(\n",
    "    prompt=PromptTemplate(\n",
    "        template=\"\"\"I want you to brainstorm ideas for characters for my story. The genre is {genre}.\n",
    "        Rank the ideas from most important to least important.\n",
    "        \n",
    "        Example response:\n",
    "        1. Idea 1 ...,\n",
    "        2. Idea 2 ...,\n",
    "        3. Idea 3 ...\n",
    "        \n",
    "        \"\"\",\n",
    "        input_variables=[\"genre\"],\n",
    "    )\n",
    ")\n",
    "chat_prompt_template = ChatPromptTemplate.from_messages([human_message_prompt])\n",
    "chat = ChatOpenAI(temperature=0.9) \n",
    "chain = LLMChain(llm=chat, prompt=chat_prompt_template)\n",
    "\n",
    "chain.invoke({\"genre\": \"fantasy\"})\n",
    "# chain(\"fantasy\") # This will work too using the __call__ method"
   ]
  },
  {
   "cell_type": "code",
   "execution_count": 12,
   "metadata": {},
   "outputs": [
    {
     "name": "stdout",
     "output_type": "stream",
     "text": [
      "[{'text': \"1. Protagonist - A young mage who discovers their true potential and becomes the key player in a battle against dark forces.\\n2. Antagonist - A power-hungry sorcerer who seeks to gain ultimate control over the magical realm.\\n3. Sidekick - A loyal and skilled warrior who aids the protagonist in their journey and provides valuable knowledge and support.\\n4. Mentor - A wise old wizard who guides the protagonist and helps them develop their magical abilities.\\n5. Love interest - A fellow mage who shares a deep connection with the protagonist and helps them navigate their emotions while balancing their responsibilities.\\n6. Villain's henchmen - A group of skilled fighters or magical creatures who do the bidding of the antagonist and pose a constant threat to the protagonist.\\n7. King/Queen - The ruler of the magical realm, who seeks to maintain peace and order but may have conflicting goals with the protagonist.\\n8. Wise elder - A mystical being or wise creature who possesses knowledge and secrets that can aid the protagonist on their quest.\\n9. Betrayed ally - A former friend or companion of the protagonist who turns against them due to personal motives or manipulation by the antagonist.\\n10. Comic relief character - A quirky and humorous individual, perhaps a magical creature or servant, who provides light-hearted moments amidst the intense battles and challenges.\"}, {'text': \"1. Main Protagonist: A brilliant scientist who discovers a groundbreaking technology that attracts the attention of a powerful corporation. As the story progresses, they become the leader of a resistance movement fighting against the corporation's control.\\n2. Primary Antagonist: The CEO of the powerful corporation who will stop at nothing to obtain the scientist's technology. They are ruthless, intelligent, and have a personal vendetta against the protagonist.\\n3. Sidekick: A loyal and skilled hacker who joins the protagonist's resistance movement. They provide crucial technical support and help uncover hidden secrets about the corporation.\\n4. Love Interest: A mysterious and enigmatic individual who becomes tangled in the conflicts between the corporation and the resistance. They possess unique abilities that can aid or hinder the protagonist's mission.\\n5. Mentor: An aging scientist who was once involved with the corporation but has turned against them. They provide guidance and insights to the protagonist, helping them navigate the complex world of science and corporate espionage.\\n6. Villain's Henchman: A highly skilled assassin and loyal follower of the antagonist. They are relentless in their pursuit of the protagonist, causing constant danger and tension throughout the story.\\n7. Corporations' High-Tech Security Chief: A formidable opponent who is tasked with protecting the corporation's secrets. They are equipped with advanced weaponry and technology, posing a significant challenge for the resistance.\\n8. Double Agent: A member of the resistance who secretly betrays the protagonist and works for the corporation. Their motivations and loyalties are unclear, creating distrust and adding suspense to the narrative.\\n9. Scientist Colleague: A former partner of the protagonist who is now working for the corporation. They provide insights into the antagonist's plans and enable the protagonist to understand the corporation's motives.\\n10. Mysterious Informant: A shadowy figure with inside information about both the corporation and the resistance. They communicate with the protagonist anonymously, providing clues and warnings to help them in their mission.\"}]\n"
     ]
    }
   ],
   "source": [
    "genres = [\n",
    "    {\"genre\": \"fantasy\"},\n",
    "    {\"genre\": \"sci-fi\"},\n",
    "]\n",
    "\n",
    "# Generate multiple LLM requests based on multiple inputs:\n",
    "# The async method is .aapply()\n",
    "print(chain.apply(genres))"
   ]
  },
  {
   "cell_type": "code",
   "execution_count": 13,
   "metadata": {},
   "outputs": [
    {
     "data": {
      "text/plain": [
       "LLMResult(generations=[[ChatGeneration(text='1. A young, inexperienced wizard who discovers their magical abilities and must navigate the dangerous world of magic while trying to control their powers.\\n2. A skilled thief and master of disguise who becomes entangled in a quest to retrieve a powerful artifact.\\n3. A wise and powerful sorcerer who has been tasked with protecting a hidden city from dark forces.\\n4. A skilled warrior from a nomadic tribe who is chosen by an ancient weapon to fulfill a prophecy and unite the warring factions of the realm.\\n5. A mischievous and charismatic trickster who uses their wit and cunning to outsmart powerful enemies.\\n6. A kind-hearted healer who possesses the ability to cure any illness or injury, but must contend with the moral dilemmas and responsibilities that come with such power.\\n7. A mysterious and enigmatic figure who possesses ancient knowledge and serves as a guide and mentor to the main characters.\\n8. A cursed creature who is both feared and misunderstood, and must find a way to break the curse and regain their humanity.\\n9. A noble and virtuous princess who defies tradition and expectations to fight for justice and equality in a society ruled by oppressive forces.\\n10. A skilled archer from a forest-dwelling tribe who embarks on a quest to save their homeland from destruction.', generation_info={'finish_reason': 'stop'}, message=AIMessage(content='1. A young, inexperienced wizard who discovers their magical abilities and must navigate the dangerous world of magic while trying to control their powers.\\n2. A skilled thief and master of disguise who becomes entangled in a quest to retrieve a powerful artifact.\\n3. A wise and powerful sorcerer who has been tasked with protecting a hidden city from dark forces.\\n4. A skilled warrior from a nomadic tribe who is chosen by an ancient weapon to fulfill a prophecy and unite the warring factions of the realm.\\n5. A mischievous and charismatic trickster who uses their wit and cunning to outsmart powerful enemies.\\n6. A kind-hearted healer who possesses the ability to cure any illness or injury, but must contend with the moral dilemmas and responsibilities that come with such power.\\n7. A mysterious and enigmatic figure who possesses ancient knowledge and serves as a guide and mentor to the main characters.\\n8. A cursed creature who is both feared and misunderstood, and must find a way to break the curse and regain their humanity.\\n9. A noble and virtuous princess who defies tradition and expectations to fight for justice and equality in a society ruled by oppressive forces.\\n10. A skilled archer from a forest-dwelling tribe who embarks on a quest to save their homeland from destruction.', additional_kwargs={}, example=False))], [ChatGeneration(text=\"1. Idea 1: The Protagonist - A brilliant scientist who discovers a groundbreaking technology that changes the course of human civilization.\\n2. Idea 2: The Antagonist - A power-hungry, unethical government official who seeks to control the new technology for their own gain.\\n3. Idea 3: The Mentor - An experienced and wise alien being who guides the protagonist on their journey and imparts valuable knowledge about the universe.\\n4. Idea 4: The Love Interest - A fellow scientist who shares the protagonist's passion for exploration and becomes their confidante and source of support.\\n5. Idea 5: The Sidekick - A loyal and resourceful robot companion who assists the protagonist in their adventures and provides comic relief.\\n6. Idea 6: The Villain's Henchman - A skilled and dangerous assassin who is sent by the antagonist to eliminate the protagonist and steal the technology.\\n7. Idea 7: The Enigmatic Alien - An enigmatic extraterrestrial being who has been observing humanity and possesses mysterious powers.\\n8. Idea 8: The Former Friend - A former colleague of the protagonist who becomes jealous and resentful of their success and plots to sabotage their work.\\n9. Idea 9: The Dystopian Rebellion Leader - A charismatic leader who rallies a group of rebels against the oppressive government and believes the protagonist's technology can help them overthrow their oppressors.\\n10. Idea 10: The Rogue Scientist - A brilliant but morally ambiguous scientist who operates outside the law and becomes an unexpected ally to the protagonist, with their own agenda.\", generation_info={'finish_reason': 'stop'}, message=AIMessage(content=\"1. Idea 1: The Protagonist - A brilliant scientist who discovers a groundbreaking technology that changes the course of human civilization.\\n2. Idea 2: The Antagonist - A power-hungry, unethical government official who seeks to control the new technology for their own gain.\\n3. Idea 3: The Mentor - An experienced and wise alien being who guides the protagonist on their journey and imparts valuable knowledge about the universe.\\n4. Idea 4: The Love Interest - A fellow scientist who shares the protagonist's passion for exploration and becomes their confidante and source of support.\\n5. Idea 5: The Sidekick - A loyal and resourceful robot companion who assists the protagonist in their adventures and provides comic relief.\\n6. Idea 6: The Villain's Henchman - A skilled and dangerous assassin who is sent by the antagonist to eliminate the protagonist and steal the technology.\\n7. Idea 7: The Enigmatic Alien - An enigmatic extraterrestrial being who has been observing humanity and possesses mysterious powers.\\n8. Idea 8: The Former Friend - A former colleague of the protagonist who becomes jealous and resentful of their success and plots to sabotage their work.\\n9. Idea 9: The Dystopian Rebellion Leader - A charismatic leader who rallies a group of rebels against the oppressive government and believes the protagonist's technology can help them overthrow their oppressors.\\n10. Idea 10: The Rogue Scientist - A brilliant but morally ambiguous scientist who operates outside the law and becomes an unexpected ally to the protagonist, with their own agenda.\", additional_kwargs={}, example=False))]], llm_output={'token_usage': {'prompt_tokens': 137, 'completion_tokens': 581, 'total_tokens': 718}, 'model_name': 'gpt-3.5-turbo'}, run=[RunInfo(run_id=UUID('36d40ba5-d245-4e34-8da7-5ad761b8dfd1')), RunInfo(run_id=UUID('45273e3e-d96f-49d0-9900-5b1e4e8ed788'))])"
      ]
     },
     "execution_count": 13,
     "metadata": {},
     "output_type": "execute_result"
    }
   ],
   "source": [
    "# The async method is .agenerate()\n",
    "chain.generate(genres)"
   ]
  },
  {
   "attachments": {},
   "cell_type": "markdown",
   "metadata": {},
   "source": [
    "Analyzing issues within a Chain object by its output alone can prove to be a daunting task, primarily because such objects often undergo substantial transformation—both before the input prompt is processed and after the LLM output is generated.\n",
    "\n",
    "However, a solution lies within your reach. By setting the `verbose` parameter to `True`, you are enabling a feature that unveils the internal dynamics of the Chain object during its runtime. This provision can offer you invaluable insights, further empowering you to troubleshoot and resolve any underlying issues more effectively.\n"
   ]
  },
  {
   "cell_type": "code",
   "execution_count": 14,
   "metadata": {},
   "outputs": [
    {
     "name": "stdout",
     "output_type": "stream",
     "text": [
      "\n",
      "\n",
      "\u001b[1m> Entering new LLMChain chain...\u001b[0m\n",
      "Prompt after formatting:\n",
      "\u001b[32;1m\u001b[1;3mSystem: I want you to brainstorm ideas for characters for my story. The genre is fantasy.\n",
      "        Rank the ideas from most important to least important.\n",
      "        \n",
      "        Example response:\n",
      "        1. Idea 1 ...,\n",
      "        2. Idea 2 ...,\n",
      "        3. Idea 3 ...\n",
      "        \n",
      "        \u001b[0m\n",
      "\n",
      "\u001b[1m> Finished chain.\u001b[0m\n"
     ]
    },
    {
     "data": {
      "text/plain": [
       "{'genre': 'fantasy',\n",
       " 'text': \"1. The Protagonist - A young orphan with a hidden magical ability who embarks on a journey to discover their true identity and save their world from an evil sorcerer.\\n2. The Mentor - An ancient and wise magician who becomes the Protagonist's guide and teaches them about the magical realm and helps them develop their powers.\\n3. The Villain - An enigmatic sorcerer who seeks to gain ultimate power by harnessing dark magic and plans to destroy the Protagonist and rule the world.\\n4. The Sidekick - A loyal and brave companion who accompanies the Protagonist on their journey, providing comic relief and offering support in challenging situations.\\n5. The Love Interest - A fellow magical being who captures the Protagonist's heart, but their relationship is complicated by their opposing loyalties or conflicting goals.\\n6. The Rival - Another powerful wizard who is initially seen as an adversary but later becomes an unexpected ally or a source of constant competition.\\n7. The Wise Elder - A revered figure in the magical community who possesses ancient knowledge and serves as a source of guidance and wisdom for the Protagonist.\\n8. The Trickster - A mischievous and charismatic character who adds humor and unpredictability to the journey, often causing trouble but also providing valuable insights.\\n9. The Guardian - A mythical creature or sentient magical object that protects a crucial artifact or possesses vital information, helping the Protagonist on their quest.\\n10. The Shapeshifter - A mysterious individual with the ability to change their appearance or manipulate reality, challenging the Protagonist's perception and creating suspense.\\n11. The Double Agent - A character who initially appears as an ally but is later revealed to be working for the Villain, causing betrayal and conflict within the Protagonist's group.\\n12. The Lost Heir - A long-lost member of a royal bloodline with a unique and powerful magical lineage, whose arrival could shift the balance of power in the world.\\n13. The Outcast - A character from a marginalized magical species or community who joins the Protagonist's cause, representing themes of acceptance and fighting against prejudice.\\n14. The Ancient Curse - An ancient curse or prophecy that holds dark consequences for the Protagonist and their world, driving the urgency and importance of their quest.\\n15. The Reluctant Hero - A character who initially resists their role as the Protagonist but is ultimately forced to step up and fulfill their destiny, overcoming personal obstacles.\"}"
      ]
     },
     "execution_count": 14,
     "metadata": {},
     "output_type": "execute_result"
    }
   ],
   "source": [
    "# You can debug all LLMChains by turning on Verbose=True:\n",
    "chain = LLMChain(llm=chat, prompt=chat_prompt_template, verbose=True)\n",
    "chain.invoke({\"genre\": \"fantasy\"})"
   ]
  },
  {
   "attachments": {},
   "cell_type": "markdown",
   "metadata": {},
   "source": [
    "LLMChain does not automatically parse the output by default, even if the prompt object has an output parser. To apply the output parser on the LLM output you can add an output_parser.\n"
   ]
  },
  {
   "cell_type": "code",
   "execution_count": 15,
   "metadata": {},
   "outputs": [],
   "source": [
    "from langchain.output_parsers import PydanticOutputParser\n",
    "from pydantic import BaseModel, Field, validator\n",
    "from typing import List"
   ]
  },
  {
   "cell_type": "code",
   "execution_count": 16,
   "metadata": {},
   "outputs": [],
   "source": [
    "class Ideas(BaseModel):\n",
    "    ideas: List[str] = Field(description=\"A list of ideas for a story.\")\n",
    "\n",
    "\n",
    "parser = PydanticOutputParser(pydantic_object=Ideas)\n",
    "\n",
    "prompt = PromptTemplate(\n",
    "    template=\"I want you to brainstorm ideas for characters for my story. The genre is {genre}.\\n  {format_instructions}\",\n",
    "    input_variables=[\"genre\", \"format_instructions\"],\n",
    ")\n",
    "\n",
    "chain = LLMChain(llm=chat, prompt=prompt, output_parser=parser)"
   ]
  },
  {
   "cell_type": "code",
   "execution_count": 19,
   "metadata": {},
   "outputs": [],
   "source": [
    "# Remember to use .run() instead of .invoke() when using output parsers:\n",
    "result = chain.run(\n",
    "    {\"genre\": \"fantasy\", \"format_instructions\": parser.get_format_instructions()}\n",
    ")"
   ]
  },
  {
   "cell_type": "code",
   "execution_count": 21,
   "metadata": {},
   "outputs": [
    {
     "name": "stdout",
     "output_type": "stream",
     "text": [
      "ideas=['A young sorcerer with a mysterious past', 'A mischievous fairy who causes chaos wherever they go', 'A brave knight on a quest to save their kingdom', 'A wise old wizard with a penchant for riddles', 'A shape-shifting creature who can take on the form of any animal', 'A powerful witch who uses their magic for good', 'An eccentric inventor who creates fantastical gadgets', 'A cunning thief with a heart of gold', 'A noble princess with a secret identity as a skilled warrior', 'A group of unlikely allies who must band together to defeat a common enemy']\n",
      "{'ideas': ['A young sorcerer with a mysterious past', 'A mischievous fairy who causes chaos wherever they go', 'A brave knight on a quest to save their kingdom', 'A wise old wizard with a penchant for riddles', 'A shape-shifting creature who can take on the form of any animal', 'A powerful witch who uses their magic for good', 'An eccentric inventor who creates fantastical gadgets', 'A cunning thief with a heart of gold', 'A noble princess with a secret identity as a skilled warrior', 'A group of unlikely allies who must band together to defeat a common enemy']}\n"
     ]
    },
    {
     "name": "stderr",
     "output_type": "stream",
     "text": [
      "/var/folders/_y/20jl658s4jl0zvy5c0x0c5140000gn/T/ipykernel_49364/1676782462.py:2: PydanticDeprecatedSince20: The `dict` method is deprecated; use `model_dump` instead. Deprecated in Pydantic V2.0 to be removed in V3.0. See Pydantic V2 Migration Guide at https://errors.pydantic.dev/2.4/migration/\n",
      "  print(result.dict())\n"
     ]
    }
   ],
   "source": [
    "print(result)   \n",
    "print(result.dict())"
   ]
  },
  {
   "attachments": {},
   "cell_type": "markdown",
   "metadata": {},
   "source": [
    "---\n"
   ]
  },
  {
   "attachments": {},
   "cell_type": "markdown",
   "metadata": {},
   "source": [
    "Given that your story generation will require multiple sequential prompts you can use a `SequentialChain` to chain multiple prompts together. The `SequentialChain` will automatically re-use the output of the previous prompt and use it as the input for the next prompt.\n"
   ]
  },
  {
   "cell_type": "code",
   "execution_count": 35,
   "metadata": {},
   "outputs": [],
   "source": [
    "from langchain.chat_models import ChatOpenAI\n",
    "from langchain.chains import LLMChain\n",
    "from langchain.prompts import PromptTemplate\n",
    "from langchain.chains import SequentialChain"
   ]
  },
  {
   "cell_type": "code",
   "execution_count": 36,
   "metadata": {},
   "outputs": [],
   "source": [
    "character_generation_prompt = PromptTemplate(\n",
    "    template=\"\"\"I want you to brainstorm 3 - 5 characters for my short story. The genre is {genre}.\n",
    "    Each character must have a Name and a Biography.\n",
    "    You must provide a name and biography for each character, this is very important!\n",
    "    ---\n",
    "    Example response:\n",
    "    Name: CharWiz, Biography: A wizard who is a master of magic.\n",
    "    Name: CharWar, Biography: A warrior who is a master of the sword.\n",
    "    ---\n",
    "\n",
    "    Characters: \"\"\",\n",
    "    input_variables=[\"genre\"],\n",
    ")\n",
    "\n",
    "plot_generation_prompt = PromptTemplate(\n",
    "    template=\"\"\"Given the following characters and the genre, create an effective plot for a short story:\n",
    "    Characters:\n",
    "    {characters} \n",
    "    ---\n",
    "    Genre: {genre}\n",
    "    ---\n",
    "    Plot: \"\"\",\n",
    "    input_variables=[\"genre\", \"characters\"],\n",
    ")\n",
    "\n",
    "scene_generation_plot = PromptTemplate(\n",
    "    template=\"\"\"Act as an effective content creator. \n",
    "    Given multiple characters and a plot you are responsible generating the various scenes for each act. \n",
    "    \n",
    "    You must de-compose the plot into multiple effective scenes:\n",
    "\n",
    "    ---\n",
    "    Characters:\n",
    "    {characters}\n",
    "    ---\n",
    "    Genre: {genre}\n",
    "    ---\n",
    "    Plot: {plot}\n",
    "    ---\n",
    "    Example response:\n",
    "    Scenes:\n",
    "    Scene 1: Some text here.\n",
    "    Scene 2: Some text here.\n",
    "    Scene 3: Some text here.\n",
    "    ----\n",
    "    Scenes:\n",
    "    \"\"\",\n",
    "    input_variables=[\"genre\", \"characters\", \"plot\"],\n",
    ")"
   ]
  },
  {
   "cell_type": "code",
   "execution_count": 37,
   "metadata": {},
   "outputs": [],
   "source": [
    "chat_model = ChatOpenAI()\n",
    "character_generation_chain = LLMChain(\n",
    "    llm=chat, prompt=character_generation_prompt, output_key=\"characters\"\n",
    ")\n",
    "plot_generation_chain = LLMChain(\n",
    "    llm=chat, prompt=plot_generation_prompt, output_key=\"plot\"\n",
    ")\n",
    "scene_generation_chain = LLMChain(\n",
    "    llm=chat, prompt=scene_generation_plot, output_key=\"scenes\"\n",
    ")"
   ]
  },
  {
   "cell_type": "code",
   "execution_count": 38,
   "metadata": {},
   "outputs": [],
   "source": [
    "story_chain = SequentialChain(\n",
    "    chains=[\n",
    "        character_generation_chain,\n",
    "        plot_generation_chain,\n",
    "        scene_generation_chain,\n",
    "    ],\n",
    "    input_variables=[\"genre\"],\n",
    "    output_variables=[\"characters\", \"plot\", \"scenes\", \"genre\"],\n",
    ")"
   ]
  },
  {
   "cell_type": "code",
   "execution_count": 39,
   "metadata": {},
   "outputs": [],
   "source": [
    "story_result = story_chain({\"genre\": \"fantasy\"})"
   ]
  },
  {
   "cell_type": "code",
   "execution_count": 27,
   "metadata": {},
   "outputs": [
    {
     "name": "stdout",
     "output_type": "stream",
     "text": [
      "{'genre': 'fantasy', 'format_instructions': '', 'characters': \"Name: Elara Dawnshield\\nBiography: Elara Dawnshield is a skilled elven archer from the enchanted forest of Eldoria. Raised by a tribe of wise sages, she possesses an innate connection with nature and an unmatched accuracy with her bow. Elara is known for her fierce loyalty and unwavering determination to protect her homeland from any threat that may arise.\\n\\nName: Garrick Stormbringer\\nBiography: Garrick Stormbringer is a mysterious and brooding sorcerer hailing from the remote mountains of Shadowpeak. He is rumored to have made a pact with an ancient elemental being, granting him unparalleled control over the forces of lightning and thunder. Garrick's past is shrouded in darkness, and his powers are both feared and respected by those who encounter him.\\n\\nName: Aria Swiftfoot\\nBiography: Aria Swiftfoot is a nimble and agile rogue who roams the bustling city streets of Aranthia. Growing up as an orphan, she learned the art of stealth and thievery to survive. While her skills lean towards the shady side, Aria also possesses a good heart, often taking on missions to retrieve stolen artifacts and return them to their rightful owners. She navigates the shadows, seeking justice in a world filled with corruption.\", 'plot': \"When a dark force suddenly descends upon the enchanted forest of Eldoria, Elara Dawnshield is summoned by her tribe of wise sages to investigate and defend their homeland. Sensing the urgency of the situation, Elara embarks on a perilous journey through treacherous terrains and mystical realms, determined to uncover the source of the evil that threatens to destroy the forest.\\n\\nMeanwhile, Garrick Stormbringer receives a vision of the impending doom that awaits Eldoria. With his unrivaled control over lightning and thunder, he feels a deep responsibility to aid Elara in her mission. Setting aside his brooding nature, he sets out to find her, guided by the elemental being that granted him his powers. As they join forces, their individual strengths flourish and they forge an unbreakable bond.\\n\\nIn the bustling city of Aranthia, Aria Swiftfoot hears whispers of the disturbances in Eldoria. Intrigued and sensing an opportunity to retrieve a stolen artifact, she decides to follow Elara and Garrick, covertly navigating through the shadows to join their cause. Although initially skeptical of Aria's intentions, Elara comes to realize that they share a common goal and begrudgingly accepts her as an ally.\\n\\nAs the trio journey deeper into the heart of darkness, facing mythical creatures and malevolent sorcery, they begin to uncover a sinister plot orchestrated by an ancient and powerful sorcerer. This nefarious sorcerer seeks to exploit the magical energies of Eldoria for his own wicked purposes, threatening not only the forest but the entire realm.\\n\\nWith each chapter, Elara, Garrick, and Aria face escalating challenges that test their skills, courage, and loyalty. Through their combined efforts, they gradually unravel the sorcerer's plan and develop a strategy to thwart him. Elara's connection with nature, Garrick's elemental powers, and Aria's stealth and knowledge of the underworld prove to be essential in their fight against the darkness.\\n\\nIn a climactic battle, the trio confronts the sorcerer in a fierce showdown, with their determination and unity ultimately prevailing. Together, they restore peace to Eldoria, ensuring the protection of its magical essence for future generations. Elara, Garrick, and Aria emerge as celebrated heroes, their names etched into the lore of their respective realms, forever celebrated for their bravery and triumph over evil.\", 'scenes': \"Scene 1: The dark force descends upon Eldoria\\n- Elara Dawnshield is summoned by her tribe of wise sages to investigate the disturbances in Eldoria.\\n- Elara senses the urgency of the situation and prepares for her perilous journey.\\n- The enchanted forest of Eldoria is shown in all its beauty and tranquility before the arrival of the dark force.\\n\\nScene 2: Garrick's vision\\n- Garrick Stormbringer receives a vision of the impending doom that awaits Eldoria.\\n- He feels a deep responsibility to aid Elara in her mission and decides to set out to find her.\\n- Garrick's mysterious past and his powers as a sorcerer are hinted at.\\n\\nScene 3: Aria's decision\\n- Aria Swiftfoot hears whispers of the disturbances in Eldoria and decides to follow Elara and Garrick.\\n- Her skills as a rogue and her desire to retrieve a stolen artifact motivate her decision.\\n- Aria's character is explored, revealing her upbringing as an orphan and her moral compass.\\n\\nScene 4: The meeting of Elara, Garrick, and Aria\\n- Elara, Garrick, and Aria meet for the first time and their initial skepticism towards each other is established.\\n- Elara reluctantly accepts Aria as an ally after realizing they share a common goal.\\n- The trio begins to form their bond and set off on their journey together.\\n\\nScene 5: Uncovering the sorcerer's plot\\n- The trio faces mythical creatures and encounters the effects of the sorcerer's dark magic.\\n- They gather clues and begin to unravel the sorcerer's plan.\\n- Each character's unique abilities and skills are showcased as they navigate through challenges and obstacles.\\n\\nScene 6: Developing a strategy\\n- Elara, Garrick, and Aria regroup and discuss their findings.\\n- They develop a strategy to thwart the sorcerer, utilizing Elara's connection with nature, Garrick's elemental powers, and Aria's stealth and knowledge of the underworld.\\n- The bond between the characters deepens as they rely on each other's strengths and trust each other's judgments.\\n\\nScene 7: The climactic battle\\n- The trio confronts the sorcerer in a fierce showdown.\\n- They use their combined abilities and strategy to fight against the sorcerer's sorcery and mythical creatures.\\n- The battle is intense and filled with suspense, showcasing the characters' bravery and determination.\\n\\nScene 8: Victory and restoration\\n- Elara, Garrick, and Aria emerge victorious, defeating the sorcerer and restoring peace to Eldoria.\\n- The magical essence of the forest is protected, ensuring its preservation for future generations.\\n- The trio is celebrated as heroes, their names etched into the lore of their respective realms.\\n\\nScene 9: Epilogue\\n- Elara, Garrick, and Aria reflect on their journey and the bond they have formed.\\n- The characters' individual storylines are wrapped up, hinting at their future adventures.\\n- The world of Eldoria is shown to be flourishing and at peace, thanks to the efforts of our heroes.\"}\n"
     ]
    }
   ],
   "source": [
    "print(story_result)"
   ]
  },
  {
   "attachments": {},
   "cell_type": "markdown",
   "metadata": {},
   "source": [
    "---\n"
   ]
  },
  {
   "attachments": {},
   "cell_type": "markdown",
   "metadata": {},
   "source": [
    "## Sequential Story Scene Generation:\n"
   ]
  },
  {
   "cell_type": "code",
   "execution_count": 28,
   "metadata": {},
   "outputs": [
    {
     "name": "stdout",
     "output_type": "stream",
     "text": [
      "Generating scene 1...\n",
      "\n",
      "\n",
      "\u001b[1m> Entering new SequentialChain chain...\u001b[0m\n",
      "\n",
      "\u001b[1m> Finished chain.\u001b[0m\n",
      "Generating scene 2...\n",
      "\n",
      "\n",
      "\u001b[1m> Entering new SequentialChain chain...\u001b[0m\n",
      "\n",
      "\u001b[1m> Finished chain.\u001b[0m\n",
      "Generating scene 3...\n",
      "\n",
      "\n",
      "\u001b[1m> Entering new SequentialChain chain...\u001b[0m\n",
      "\n",
      "\u001b[1m> Finished chain.\u001b[0m\n",
      "Generating scene 4...\n",
      "\n",
      "\n",
      "\u001b[1m> Entering new SequentialChain chain...\u001b[0m\n",
      "\n",
      "\u001b[1m> Finished chain.\u001b[0m\n",
      "Generating scene 5...\n",
      "\n",
      "\n",
      "\u001b[1m> Entering new SequentialChain chain...\u001b[0m\n",
      "\n",
      "\u001b[1m> Finished chain.\u001b[0m\n",
      "Generating scene 6...\n",
      "\n",
      "\n",
      "\u001b[1m> Entering new SequentialChain chain...\u001b[0m\n",
      "\n",
      "\u001b[1m> Finished chain.\u001b[0m\n",
      "Generating scene 7...\n",
      "\n",
      "\n",
      "\u001b[1m> Entering new SequentialChain chain...\u001b[0m\n",
      "\n",
      "\u001b[1m> Finished chain.\u001b[0m\n",
      "Generating scene 8...\n",
      "\n",
      "\n",
      "\u001b[1m> Entering new SequentialChain chain...\u001b[0m\n",
      "\n",
      "\u001b[1m> Finished chain.\u001b[0m\n",
      "Generating scene 9...\n",
      "\n",
      "\n",
      "\u001b[1m> Entering new SequentialChain chain...\u001b[0m\n",
      "\n",
      "\u001b[1m> Finished chain.\u001b[0m\n",
      "Generating scene 10...\n",
      "\n",
      "\n",
      "\u001b[1m> Entering new SequentialChain chain...\u001b[0m\n",
      "\n",
      "\u001b[1m> Finished chain.\u001b[0m\n",
      "Generating scene 11...\n",
      "\n",
      "\n",
      "\u001b[1m> Entering new SequentialChain chain...\u001b[0m\n",
      "\n",
      "\u001b[1m> Finished chain.\u001b[0m\n",
      "Generating scene 12...\n",
      "\n",
      "\n",
      "\u001b[1m> Entering new SequentialChain chain...\u001b[0m\n",
      "\n",
      "\u001b[1m> Finished chain.\u001b[0m\n",
      "Generating scene 13...\n",
      "\n",
      "\n",
      "\u001b[1m> Entering new SequentialChain chain...\u001b[0m\n",
      "\n",
      "\u001b[1m> Finished chain.\u001b[0m\n",
      "Generating scene 14...\n",
      "\n",
      "\n",
      "\u001b[1m> Entering new SequentialChain chain...\u001b[0m\n",
      "\n",
      "\u001b[1m> Finished chain.\u001b[0m\n",
      "Generating scene 15...\n",
      "\n",
      "\n",
      "\u001b[1m> Entering new SequentialChain chain...\u001b[0m\n",
      "\n",
      "\u001b[1m> Finished chain.\u001b[0m\n",
      "Generating scene 16...\n",
      "\n",
      "\n",
      "\u001b[1m> Entering new SequentialChain chain...\u001b[0m\n",
      "\n",
      "\u001b[1m> Finished chain.\u001b[0m\n",
      "Generating scene 17...\n",
      "\n",
      "\n",
      "\u001b[1m> Entering new SequentialChain chain...\u001b[0m\n",
      "\n",
      "\u001b[1m> Finished chain.\u001b[0m\n",
      "Generating scene 18...\n",
      "\n",
      "\n",
      "\u001b[1m> Entering new SequentialChain chain...\u001b[0m\n",
      "\n",
      "\u001b[1m> Finished chain.\u001b[0m\n",
      "Generating scene 19...\n",
      "\n",
      "\n",
      "\u001b[1m> Entering new SequentialChain chain...\u001b[0m\n",
      "\n",
      "\u001b[1m> Finished chain.\u001b[0m\n",
      "Generating scene 20...\n",
      "\n",
      "\n",
      "\u001b[1m> Entering new SequentialChain chain...\u001b[0m\n",
      "\n",
      "\u001b[1m> Finished chain.\u001b[0m\n",
      "Generating scene 21...\n",
      "\n",
      "\n",
      "\u001b[1m> Entering new SequentialChain chain...\u001b[0m\n",
      "\n",
      "\u001b[1m> Finished chain.\u001b[0m\n",
      "Generating scene 22...\n",
      "\n",
      "\n",
      "\u001b[1m> Entering new SequentialChain chain...\u001b[0m\n",
      "\n",
      "\u001b[1m> Finished chain.\u001b[0m\n",
      "Generating scene 23...\n",
      "\n",
      "\n",
      "\u001b[1m> Entering new SequentialChain chain...\u001b[0m\n",
      "\n",
      "\u001b[1m> Finished chain.\u001b[0m\n",
      "Generating scene 24...\n",
      "\n",
      "\n",
      "\u001b[1m> Entering new SequentialChain chain...\u001b[0m\n",
      "\n",
      "\u001b[1m> Finished chain.\u001b[0m\n",
      "Generating scene 25...\n",
      "\n",
      "\n",
      "\u001b[1m> Entering new SequentialChain chain...\u001b[0m\n",
      "\n",
      "\u001b[1m> Finished chain.\u001b[0m\n",
      "Generating scene 26...\n",
      "\n",
      "\n",
      "\u001b[1m> Entering new SequentialChain chain...\u001b[0m\n",
      "\n",
      "\u001b[1m> Finished chain.\u001b[0m\n",
      "Generating scene 27...\n",
      "\n",
      "\n",
      "\u001b[1m> Entering new SequentialChain chain...\u001b[0m\n",
      "\n",
      "\u001b[1m> Finished chain.\u001b[0m\n",
      "Generating scene 28...\n",
      "\n",
      "\n",
      "\u001b[1m> Entering new SequentialChain chain...\u001b[0m\n",
      "\n",
      "\u001b[1m> Finished chain.\u001b[0m\n",
      "Generating scene 29...\n",
      "\n",
      "\n",
      "\u001b[1m> Entering new SequentialChain chain...\u001b[0m\n",
      "\n",
      "\u001b[1m> Finished chain.\u001b[0m\n",
      "Generating scene 30...\n",
      "\n",
      "\n",
      "\u001b[1m> Entering new SequentialChain chain...\u001b[0m\n"
     ]
    },
    {
     "ename": "KeyboardInterrupt",
     "evalue": "",
     "output_type": "error",
     "traceback": [
      "\u001b[0;31m---------------------------------------------------------------------------\u001b[0m",
      "\u001b[0;31mKeyboardInterrupt\u001b[0m                         Traceback (most recent call last)",
      "\u001b[0;32m/var/folders/_y/20jl658s4jl0zvy5c0x0c5140000gn/T/ipykernel_49364/4196205640.py\u001b[0m in \u001b[0;36m<module>\u001b[0;34m\u001b[0m\n\u001b[1;32m     74\u001b[0m     )\n\u001b[1;32m     75\u001b[0m \u001b[0;34m\u001b[0m\u001b[0m\n\u001b[0;32m---> 76\u001b[0;31m     llm_result = scene_generation_chain(\n\u001b[0m\u001b[1;32m     77\u001b[0m         {\n\u001b[1;32m     78\u001b[0m             \u001b[0;34m\"characters\"\u001b[0m\u001b[0;34m:\u001b[0m \u001b[0mstory_result\u001b[0m\u001b[0;34m[\u001b[0m\u001b[0;34m\"characters\"\u001b[0m\u001b[0;34m]\u001b[0m\u001b[0;34m,\u001b[0m\u001b[0;34m\u001b[0m\u001b[0;34m\u001b[0m\u001b[0m\n",
      "\u001b[0;32m~/opt/anaconda3/lib/python3.9/site-packages/langchain/chains/base.py\u001b[0m in \u001b[0;36m__call__\u001b[0;34m(self, inputs, return_only_outputs, callbacks, tags, metadata, include_run_info)\u001b[0m\n\u001b[1;32m    280\u001b[0m         \u001b[0;32mexcept\u001b[0m \u001b[0;34m(\u001b[0m\u001b[0mKeyboardInterrupt\u001b[0m\u001b[0;34m,\u001b[0m \u001b[0mException\u001b[0m\u001b[0;34m)\u001b[0m \u001b[0;32mas\u001b[0m \u001b[0me\u001b[0m\u001b[0;34m:\u001b[0m\u001b[0;34m\u001b[0m\u001b[0;34m\u001b[0m\u001b[0m\n\u001b[1;32m    281\u001b[0m             \u001b[0mrun_manager\u001b[0m\u001b[0;34m.\u001b[0m\u001b[0mon_chain_error\u001b[0m\u001b[0;34m(\u001b[0m\u001b[0me\u001b[0m\u001b[0;34m)\u001b[0m\u001b[0;34m\u001b[0m\u001b[0;34m\u001b[0m\u001b[0m\n\u001b[0;32m--> 282\u001b[0;31m             \u001b[0;32mraise\u001b[0m \u001b[0me\u001b[0m\u001b[0;34m\u001b[0m\u001b[0;34m\u001b[0m\u001b[0m\n\u001b[0m\u001b[1;32m    283\u001b[0m         \u001b[0mrun_manager\u001b[0m\u001b[0;34m.\u001b[0m\u001b[0mon_chain_end\u001b[0m\u001b[0;34m(\u001b[0m\u001b[0moutputs\u001b[0m\u001b[0;34m)\u001b[0m\u001b[0;34m\u001b[0m\u001b[0;34m\u001b[0m\u001b[0m\n\u001b[1;32m    284\u001b[0m         final_outputs: Dict[str, Any] = self.prep_outputs(\n",
      "\u001b[0;32m~/opt/anaconda3/lib/python3.9/site-packages/langchain/chains/base.py\u001b[0m in \u001b[0;36m__call__\u001b[0;34m(self, inputs, return_only_outputs, callbacks, tags, metadata, include_run_info)\u001b[0m\n\u001b[1;32m    274\u001b[0m         \u001b[0;32mtry\u001b[0m\u001b[0;34m:\u001b[0m\u001b[0;34m\u001b[0m\u001b[0;34m\u001b[0m\u001b[0m\n\u001b[1;32m    275\u001b[0m             outputs = (\n\u001b[0;32m--> 276\u001b[0;31m                 \u001b[0mself\u001b[0m\u001b[0;34m.\u001b[0m\u001b[0m_call\u001b[0m\u001b[0;34m(\u001b[0m\u001b[0minputs\u001b[0m\u001b[0;34m,\u001b[0m \u001b[0mrun_manager\u001b[0m\u001b[0;34m=\u001b[0m\u001b[0mrun_manager\u001b[0m\u001b[0;34m)\u001b[0m\u001b[0;34m\u001b[0m\u001b[0;34m\u001b[0m\u001b[0m\n\u001b[0m\u001b[1;32m    277\u001b[0m                 \u001b[0;32mif\u001b[0m \u001b[0mnew_arg_supported\u001b[0m\u001b[0;34m\u001b[0m\u001b[0;34m\u001b[0m\u001b[0m\n\u001b[1;32m    278\u001b[0m                 \u001b[0;32melse\u001b[0m \u001b[0mself\u001b[0m\u001b[0;34m.\u001b[0m\u001b[0m_call\u001b[0m\u001b[0;34m(\u001b[0m\u001b[0minputs\u001b[0m\u001b[0;34m)\u001b[0m\u001b[0;34m\u001b[0m\u001b[0;34m\u001b[0m\u001b[0m\n",
      "\u001b[0;32m~/opt/anaconda3/lib/python3.9/site-packages/langchain/chains/sequential.py\u001b[0m in \u001b[0;36m_call\u001b[0;34m(self, inputs, run_manager)\u001b[0m\n\u001b[1;32m    102\u001b[0m         \u001b[0;32mfor\u001b[0m \u001b[0mi\u001b[0m\u001b[0;34m,\u001b[0m \u001b[0mchain\u001b[0m \u001b[0;32min\u001b[0m \u001b[0menumerate\u001b[0m\u001b[0;34m(\u001b[0m\u001b[0mself\u001b[0m\u001b[0;34m.\u001b[0m\u001b[0mchains\u001b[0m\u001b[0;34m)\u001b[0m\u001b[0;34m:\u001b[0m\u001b[0;34m\u001b[0m\u001b[0;34m\u001b[0m\u001b[0m\n\u001b[1;32m    103\u001b[0m             \u001b[0mcallbacks\u001b[0m \u001b[0;34m=\u001b[0m \u001b[0m_run_manager\u001b[0m\u001b[0;34m.\u001b[0m\u001b[0mget_child\u001b[0m\u001b[0;34m(\u001b[0m\u001b[0;34m)\u001b[0m\u001b[0;34m\u001b[0m\u001b[0;34m\u001b[0m\u001b[0m\n\u001b[0;32m--> 104\u001b[0;31m             \u001b[0moutputs\u001b[0m \u001b[0;34m=\u001b[0m \u001b[0mchain\u001b[0m\u001b[0;34m(\u001b[0m\u001b[0mknown_values\u001b[0m\u001b[0;34m,\u001b[0m \u001b[0mreturn_only_outputs\u001b[0m\u001b[0;34m=\u001b[0m\u001b[0;32mTrue\u001b[0m\u001b[0;34m,\u001b[0m \u001b[0mcallbacks\u001b[0m\u001b[0;34m=\u001b[0m\u001b[0mcallbacks\u001b[0m\u001b[0;34m)\u001b[0m\u001b[0;34m\u001b[0m\u001b[0;34m\u001b[0m\u001b[0m\n\u001b[0m\u001b[1;32m    105\u001b[0m             \u001b[0mknown_values\u001b[0m\u001b[0;34m.\u001b[0m\u001b[0mupdate\u001b[0m\u001b[0;34m(\u001b[0m\u001b[0moutputs\u001b[0m\u001b[0;34m)\u001b[0m\u001b[0;34m\u001b[0m\u001b[0;34m\u001b[0m\u001b[0m\n\u001b[1;32m    106\u001b[0m         \u001b[0;32mreturn\u001b[0m \u001b[0;34m{\u001b[0m\u001b[0mk\u001b[0m\u001b[0;34m:\u001b[0m \u001b[0mknown_values\u001b[0m\u001b[0;34m[\u001b[0m\u001b[0mk\u001b[0m\u001b[0;34m]\u001b[0m \u001b[0;32mfor\u001b[0m \u001b[0mk\u001b[0m \u001b[0;32min\u001b[0m \u001b[0mself\u001b[0m\u001b[0;34m.\u001b[0m\u001b[0moutput_variables\u001b[0m\u001b[0;34m}\u001b[0m\u001b[0;34m\u001b[0m\u001b[0;34m\u001b[0m\u001b[0m\n",
      "\u001b[0;32m~/opt/anaconda3/lib/python3.9/site-packages/langchain/chains/base.py\u001b[0m in \u001b[0;36m__call__\u001b[0;34m(self, inputs, return_only_outputs, callbacks, tags, metadata, include_run_info)\u001b[0m\n\u001b[1;32m    280\u001b[0m         \u001b[0;32mexcept\u001b[0m \u001b[0;34m(\u001b[0m\u001b[0mKeyboardInterrupt\u001b[0m\u001b[0;34m,\u001b[0m \u001b[0mException\u001b[0m\u001b[0;34m)\u001b[0m \u001b[0;32mas\u001b[0m \u001b[0me\u001b[0m\u001b[0;34m:\u001b[0m\u001b[0;34m\u001b[0m\u001b[0;34m\u001b[0m\u001b[0m\n\u001b[1;32m    281\u001b[0m             \u001b[0mrun_manager\u001b[0m\u001b[0;34m.\u001b[0m\u001b[0mon_chain_error\u001b[0m\u001b[0;34m(\u001b[0m\u001b[0me\u001b[0m\u001b[0;34m)\u001b[0m\u001b[0;34m\u001b[0m\u001b[0;34m\u001b[0m\u001b[0m\n\u001b[0;32m--> 282\u001b[0;31m             \u001b[0;32mraise\u001b[0m \u001b[0me\u001b[0m\u001b[0;34m\u001b[0m\u001b[0;34m\u001b[0m\u001b[0m\n\u001b[0m\u001b[1;32m    283\u001b[0m         \u001b[0mrun_manager\u001b[0m\u001b[0;34m.\u001b[0m\u001b[0mon_chain_end\u001b[0m\u001b[0;34m(\u001b[0m\u001b[0moutputs\u001b[0m\u001b[0;34m)\u001b[0m\u001b[0;34m\u001b[0m\u001b[0;34m\u001b[0m\u001b[0m\n\u001b[1;32m    284\u001b[0m         final_outputs: Dict[str, Any] = self.prep_outputs(\n",
      "\u001b[0;32m~/opt/anaconda3/lib/python3.9/site-packages/langchain/chains/base.py\u001b[0m in \u001b[0;36m__call__\u001b[0;34m(self, inputs, return_only_outputs, callbacks, tags, metadata, include_run_info)\u001b[0m\n\u001b[1;32m    274\u001b[0m         \u001b[0;32mtry\u001b[0m\u001b[0;34m:\u001b[0m\u001b[0;34m\u001b[0m\u001b[0;34m\u001b[0m\u001b[0m\n\u001b[1;32m    275\u001b[0m             outputs = (\n\u001b[0;32m--> 276\u001b[0;31m                 \u001b[0mself\u001b[0m\u001b[0;34m.\u001b[0m\u001b[0m_call\u001b[0m\u001b[0;34m(\u001b[0m\u001b[0minputs\u001b[0m\u001b[0;34m,\u001b[0m \u001b[0mrun_manager\u001b[0m\u001b[0;34m=\u001b[0m\u001b[0mrun_manager\u001b[0m\u001b[0;34m)\u001b[0m\u001b[0;34m\u001b[0m\u001b[0;34m\u001b[0m\u001b[0m\n\u001b[0m\u001b[1;32m    277\u001b[0m                 \u001b[0;32mif\u001b[0m \u001b[0mnew_arg_supported\u001b[0m\u001b[0;34m\u001b[0m\u001b[0;34m\u001b[0m\u001b[0m\n\u001b[1;32m    278\u001b[0m                 \u001b[0;32melse\u001b[0m \u001b[0mself\u001b[0m\u001b[0;34m.\u001b[0m\u001b[0m_call\u001b[0m\u001b[0;34m(\u001b[0m\u001b[0minputs\u001b[0m\u001b[0;34m)\u001b[0m\u001b[0;34m\u001b[0m\u001b[0;34m\u001b[0m\u001b[0m\n",
      "\u001b[0;32m~/opt/anaconda3/lib/python3.9/site-packages/langchain/chains/llm.py\u001b[0m in \u001b[0;36m_call\u001b[0;34m(self, inputs, run_manager)\u001b[0m\n\u001b[1;32m     89\u001b[0m         \u001b[0mrun_manager\u001b[0m\u001b[0;34m:\u001b[0m \u001b[0mOptional\u001b[0m\u001b[0;34m[\u001b[0m\u001b[0mCallbackManagerForChainRun\u001b[0m\u001b[0;34m]\u001b[0m \u001b[0;34m=\u001b[0m \u001b[0;32mNone\u001b[0m\u001b[0;34m,\u001b[0m\u001b[0;34m\u001b[0m\u001b[0;34m\u001b[0m\u001b[0m\n\u001b[1;32m     90\u001b[0m     ) -> Dict[str, str]:\n\u001b[0;32m---> 91\u001b[0;31m         \u001b[0mresponse\u001b[0m \u001b[0;34m=\u001b[0m \u001b[0mself\u001b[0m\u001b[0;34m.\u001b[0m\u001b[0mgenerate\u001b[0m\u001b[0;34m(\u001b[0m\u001b[0;34m[\u001b[0m\u001b[0minputs\u001b[0m\u001b[0;34m]\u001b[0m\u001b[0;34m,\u001b[0m \u001b[0mrun_manager\u001b[0m\u001b[0;34m=\u001b[0m\u001b[0mrun_manager\u001b[0m\u001b[0;34m)\u001b[0m\u001b[0;34m\u001b[0m\u001b[0;34m\u001b[0m\u001b[0m\n\u001b[0m\u001b[1;32m     92\u001b[0m         \u001b[0;32mreturn\u001b[0m \u001b[0mself\u001b[0m\u001b[0;34m.\u001b[0m\u001b[0mcreate_outputs\u001b[0m\u001b[0;34m(\u001b[0m\u001b[0mresponse\u001b[0m\u001b[0;34m)\u001b[0m\u001b[0;34m[\u001b[0m\u001b[0;36m0\u001b[0m\u001b[0;34m]\u001b[0m\u001b[0;34m\u001b[0m\u001b[0;34m\u001b[0m\u001b[0m\n\u001b[1;32m     93\u001b[0m \u001b[0;34m\u001b[0m\u001b[0m\n",
      "\u001b[0;32m~/opt/anaconda3/lib/python3.9/site-packages/langchain/chains/llm.py\u001b[0m in \u001b[0;36mgenerate\u001b[0;34m(self, input_list, run_manager)\u001b[0m\n\u001b[1;32m     99\u001b[0m         \u001b[0;34m\"\"\"Generate LLM result from inputs.\"\"\"\u001b[0m\u001b[0;34m\u001b[0m\u001b[0;34m\u001b[0m\u001b[0m\n\u001b[1;32m    100\u001b[0m         \u001b[0mprompts\u001b[0m\u001b[0;34m,\u001b[0m \u001b[0mstop\u001b[0m \u001b[0;34m=\u001b[0m \u001b[0mself\u001b[0m\u001b[0;34m.\u001b[0m\u001b[0mprep_prompts\u001b[0m\u001b[0;34m(\u001b[0m\u001b[0minput_list\u001b[0m\u001b[0;34m,\u001b[0m \u001b[0mrun_manager\u001b[0m\u001b[0;34m=\u001b[0m\u001b[0mrun_manager\u001b[0m\u001b[0;34m)\u001b[0m\u001b[0;34m\u001b[0m\u001b[0;34m\u001b[0m\u001b[0m\n\u001b[0;32m--> 101\u001b[0;31m         return self.llm.generate_prompt(\n\u001b[0m\u001b[1;32m    102\u001b[0m             \u001b[0mprompts\u001b[0m\u001b[0;34m,\u001b[0m\u001b[0;34m\u001b[0m\u001b[0;34m\u001b[0m\u001b[0m\n\u001b[1;32m    103\u001b[0m             \u001b[0mstop\u001b[0m\u001b[0;34m,\u001b[0m\u001b[0;34m\u001b[0m\u001b[0;34m\u001b[0m\u001b[0m\n",
      "\u001b[0;32m~/opt/anaconda3/lib/python3.9/site-packages/langchain/chat_models/base.py\u001b[0m in \u001b[0;36mgenerate_prompt\u001b[0;34m(self, prompts, stop, callbacks, **kwargs)\u001b[0m\n\u001b[1;32m    412\u001b[0m     ) -> LLMResult:\n\u001b[1;32m    413\u001b[0m         \u001b[0mprompt_messages\u001b[0m \u001b[0;34m=\u001b[0m \u001b[0;34m[\u001b[0m\u001b[0mp\u001b[0m\u001b[0;34m.\u001b[0m\u001b[0mto_messages\u001b[0m\u001b[0;34m(\u001b[0m\u001b[0;34m)\u001b[0m \u001b[0;32mfor\u001b[0m \u001b[0mp\u001b[0m \u001b[0;32min\u001b[0m \u001b[0mprompts\u001b[0m\u001b[0;34m]\u001b[0m\u001b[0;34m\u001b[0m\u001b[0;34m\u001b[0m\u001b[0m\n\u001b[0;32m--> 414\u001b[0;31m         \u001b[0;32mreturn\u001b[0m \u001b[0mself\u001b[0m\u001b[0;34m.\u001b[0m\u001b[0mgenerate\u001b[0m\u001b[0;34m(\u001b[0m\u001b[0mprompt_messages\u001b[0m\u001b[0;34m,\u001b[0m \u001b[0mstop\u001b[0m\u001b[0;34m=\u001b[0m\u001b[0mstop\u001b[0m\u001b[0;34m,\u001b[0m \u001b[0mcallbacks\u001b[0m\u001b[0;34m=\u001b[0m\u001b[0mcallbacks\u001b[0m\u001b[0;34m,\u001b[0m \u001b[0;34m**\u001b[0m\u001b[0mkwargs\u001b[0m\u001b[0;34m)\u001b[0m\u001b[0;34m\u001b[0m\u001b[0;34m\u001b[0m\u001b[0m\n\u001b[0m\u001b[1;32m    415\u001b[0m \u001b[0;34m\u001b[0m\u001b[0m\n\u001b[1;32m    416\u001b[0m     async def agenerate_prompt(\n",
      "\u001b[0;32m~/opt/anaconda3/lib/python3.9/site-packages/langchain/chat_models/base.py\u001b[0m in \u001b[0;36mgenerate\u001b[0;34m(self, messages, stop, callbacks, tags, metadata, **kwargs)\u001b[0m\n\u001b[1;32m    307\u001b[0m                 \u001b[0;32mif\u001b[0m \u001b[0mrun_managers\u001b[0m\u001b[0;34m:\u001b[0m\u001b[0;34m\u001b[0m\u001b[0;34m\u001b[0m\u001b[0m\n\u001b[1;32m    308\u001b[0m                     \u001b[0mrun_managers\u001b[0m\u001b[0;34m[\u001b[0m\u001b[0mi\u001b[0m\u001b[0;34m]\u001b[0m\u001b[0;34m.\u001b[0m\u001b[0mon_llm_error\u001b[0m\u001b[0;34m(\u001b[0m\u001b[0me\u001b[0m\u001b[0;34m)\u001b[0m\u001b[0;34m\u001b[0m\u001b[0;34m\u001b[0m\u001b[0m\n\u001b[0;32m--> 309\u001b[0;31m                 \u001b[0;32mraise\u001b[0m \u001b[0me\u001b[0m\u001b[0;34m\u001b[0m\u001b[0;34m\u001b[0m\u001b[0m\n\u001b[0m\u001b[1;32m    310\u001b[0m         flattened_outputs = [\n\u001b[1;32m    311\u001b[0m             \u001b[0mLLMResult\u001b[0m\u001b[0;34m(\u001b[0m\u001b[0mgenerations\u001b[0m\u001b[0;34m=\u001b[0m\u001b[0;34m[\u001b[0m\u001b[0mres\u001b[0m\u001b[0;34m.\u001b[0m\u001b[0mgenerations\u001b[0m\u001b[0;34m]\u001b[0m\u001b[0;34m,\u001b[0m \u001b[0mllm_output\u001b[0m\u001b[0;34m=\u001b[0m\u001b[0mres\u001b[0m\u001b[0;34m.\u001b[0m\u001b[0mllm_output\u001b[0m\u001b[0;34m)\u001b[0m\u001b[0;34m\u001b[0m\u001b[0;34m\u001b[0m\u001b[0m\n",
      "\u001b[0;32m~/opt/anaconda3/lib/python3.9/site-packages/langchain/chat_models/base.py\u001b[0m in \u001b[0;36mgenerate\u001b[0;34m(self, messages, stop, callbacks, tags, metadata, **kwargs)\u001b[0m\n\u001b[1;32m    297\u001b[0m             \u001b[0;32mtry\u001b[0m\u001b[0;34m:\u001b[0m\u001b[0;34m\u001b[0m\u001b[0;34m\u001b[0m\u001b[0m\n\u001b[1;32m    298\u001b[0m                 results.append(\n\u001b[0;32m--> 299\u001b[0;31m                     self._generate_with_cache(\n\u001b[0m\u001b[1;32m    300\u001b[0m                         \u001b[0mm\u001b[0m\u001b[0;34m,\u001b[0m\u001b[0;34m\u001b[0m\u001b[0;34m\u001b[0m\u001b[0m\n\u001b[1;32m    301\u001b[0m                         \u001b[0mstop\u001b[0m\u001b[0;34m=\u001b[0m\u001b[0mstop\u001b[0m\u001b[0;34m,\u001b[0m\u001b[0;34m\u001b[0m\u001b[0;34m\u001b[0m\u001b[0m\n",
      "\u001b[0;32m~/opt/anaconda3/lib/python3.9/site-packages/langchain/chat_models/base.py\u001b[0m in \u001b[0;36m_generate_with_cache\u001b[0;34m(self, messages, stop, run_manager, **kwargs)\u001b[0m\n\u001b[1;32m    444\u001b[0m                 )\n\u001b[1;32m    445\u001b[0m             \u001b[0;32mif\u001b[0m \u001b[0mnew_arg_supported\u001b[0m\u001b[0;34m:\u001b[0m\u001b[0;34m\u001b[0m\u001b[0;34m\u001b[0m\u001b[0m\n\u001b[0;32m--> 446\u001b[0;31m                 return self._generate(\n\u001b[0m\u001b[1;32m    447\u001b[0m                     \u001b[0mmessages\u001b[0m\u001b[0;34m,\u001b[0m \u001b[0mstop\u001b[0m\u001b[0;34m=\u001b[0m\u001b[0mstop\u001b[0m\u001b[0;34m,\u001b[0m \u001b[0mrun_manager\u001b[0m\u001b[0;34m=\u001b[0m\u001b[0mrun_manager\u001b[0m\u001b[0;34m,\u001b[0m \u001b[0;34m**\u001b[0m\u001b[0mkwargs\u001b[0m\u001b[0;34m\u001b[0m\u001b[0;34m\u001b[0m\u001b[0m\n\u001b[1;32m    448\u001b[0m                 )\n",
      "\u001b[0;32m~/opt/anaconda3/lib/python3.9/site-packages/langchain/chat_models/openai.py\u001b[0m in \u001b[0;36m_generate\u001b[0;34m(self, messages, stop, run_manager, stream, **kwargs)\u001b[0m\n\u001b[1;32m    343\u001b[0m         \u001b[0mmessage_dicts\u001b[0m\u001b[0;34m,\u001b[0m \u001b[0mparams\u001b[0m \u001b[0;34m=\u001b[0m \u001b[0mself\u001b[0m\u001b[0;34m.\u001b[0m\u001b[0m_create_message_dicts\u001b[0m\u001b[0;34m(\u001b[0m\u001b[0mmessages\u001b[0m\u001b[0;34m,\u001b[0m \u001b[0mstop\u001b[0m\u001b[0;34m)\u001b[0m\u001b[0;34m\u001b[0m\u001b[0;34m\u001b[0m\u001b[0m\n\u001b[1;32m    344\u001b[0m         \u001b[0mparams\u001b[0m \u001b[0;34m=\u001b[0m \u001b[0;34m{\u001b[0m\u001b[0;34m**\u001b[0m\u001b[0mparams\u001b[0m\u001b[0;34m,\u001b[0m \u001b[0;34m**\u001b[0m\u001b[0mkwargs\u001b[0m\u001b[0;34m}\u001b[0m\u001b[0;34m\u001b[0m\u001b[0;34m\u001b[0m\u001b[0m\n\u001b[0;32m--> 345\u001b[0;31m         response = self.completion_with_retry(\n\u001b[0m\u001b[1;32m    346\u001b[0m             \u001b[0mmessages\u001b[0m\u001b[0;34m=\u001b[0m\u001b[0mmessage_dicts\u001b[0m\u001b[0;34m,\u001b[0m \u001b[0mrun_manager\u001b[0m\u001b[0;34m=\u001b[0m\u001b[0mrun_manager\u001b[0m\u001b[0;34m,\u001b[0m \u001b[0;34m**\u001b[0m\u001b[0mparams\u001b[0m\u001b[0;34m\u001b[0m\u001b[0;34m\u001b[0m\u001b[0m\n\u001b[1;32m    347\u001b[0m         )\n",
      "\u001b[0;32m~/opt/anaconda3/lib/python3.9/site-packages/langchain/chat_models/openai.py\u001b[0m in \u001b[0;36mcompletion_with_retry\u001b[0;34m(self, run_manager, **kwargs)\u001b[0m\n\u001b[1;32m    276\u001b[0m             \u001b[0;32mreturn\u001b[0m \u001b[0mself\u001b[0m\u001b[0;34m.\u001b[0m\u001b[0mclient\u001b[0m\u001b[0;34m.\u001b[0m\u001b[0mcreate\u001b[0m\u001b[0;34m(\u001b[0m\u001b[0;34m**\u001b[0m\u001b[0mkwargs\u001b[0m\u001b[0;34m)\u001b[0m\u001b[0;34m\u001b[0m\u001b[0;34m\u001b[0m\u001b[0m\n\u001b[1;32m    277\u001b[0m \u001b[0;34m\u001b[0m\u001b[0m\n\u001b[0;32m--> 278\u001b[0;31m         \u001b[0;32mreturn\u001b[0m \u001b[0m_completion_with_retry\u001b[0m\u001b[0;34m(\u001b[0m\u001b[0;34m**\u001b[0m\u001b[0mkwargs\u001b[0m\u001b[0;34m)\u001b[0m\u001b[0;34m\u001b[0m\u001b[0;34m\u001b[0m\u001b[0m\n\u001b[0m\u001b[1;32m    279\u001b[0m \u001b[0;34m\u001b[0m\u001b[0m\n\u001b[1;32m    280\u001b[0m     \u001b[0;32mdef\u001b[0m \u001b[0m_combine_llm_outputs\u001b[0m\u001b[0;34m(\u001b[0m\u001b[0mself\u001b[0m\u001b[0;34m,\u001b[0m \u001b[0mllm_outputs\u001b[0m\u001b[0;34m:\u001b[0m \u001b[0mList\u001b[0m\u001b[0;34m[\u001b[0m\u001b[0mOptional\u001b[0m\u001b[0;34m[\u001b[0m\u001b[0mdict\u001b[0m\u001b[0;34m]\u001b[0m\u001b[0;34m]\u001b[0m\u001b[0;34m)\u001b[0m \u001b[0;34m->\u001b[0m \u001b[0mdict\u001b[0m\u001b[0;34m:\u001b[0m\u001b[0;34m\u001b[0m\u001b[0;34m\u001b[0m\u001b[0m\n",
      "\u001b[0;32m~/opt/anaconda3/lib/python3.9/site-packages/tenacity/__init__.py\u001b[0m in \u001b[0;36mwrapped_f\u001b[0;34m(*args, **kw)\u001b[0m\n\u001b[1;32m    287\u001b[0m         \u001b[0;34m@\u001b[0m\u001b[0mfunctools\u001b[0m\u001b[0;34m.\u001b[0m\u001b[0mwraps\u001b[0m\u001b[0;34m(\u001b[0m\u001b[0mf\u001b[0m\u001b[0;34m)\u001b[0m\u001b[0;34m\u001b[0m\u001b[0;34m\u001b[0m\u001b[0m\n\u001b[1;32m    288\u001b[0m         \u001b[0;32mdef\u001b[0m \u001b[0mwrapped_f\u001b[0m\u001b[0;34m(\u001b[0m\u001b[0;34m*\u001b[0m\u001b[0margs\u001b[0m\u001b[0;34m:\u001b[0m \u001b[0mt\u001b[0m\u001b[0;34m.\u001b[0m\u001b[0mAny\u001b[0m\u001b[0;34m,\u001b[0m \u001b[0;34m**\u001b[0m\u001b[0mkw\u001b[0m\u001b[0;34m:\u001b[0m \u001b[0mt\u001b[0m\u001b[0;34m.\u001b[0m\u001b[0mAny\u001b[0m\u001b[0;34m)\u001b[0m \u001b[0;34m->\u001b[0m \u001b[0mt\u001b[0m\u001b[0;34m.\u001b[0m\u001b[0mAny\u001b[0m\u001b[0;34m:\u001b[0m\u001b[0;34m\u001b[0m\u001b[0;34m\u001b[0m\u001b[0m\n\u001b[0;32m--> 289\u001b[0;31m             \u001b[0;32mreturn\u001b[0m \u001b[0mself\u001b[0m\u001b[0;34m(\u001b[0m\u001b[0mf\u001b[0m\u001b[0;34m,\u001b[0m \u001b[0;34m*\u001b[0m\u001b[0margs\u001b[0m\u001b[0;34m,\u001b[0m \u001b[0;34m**\u001b[0m\u001b[0mkw\u001b[0m\u001b[0;34m)\u001b[0m\u001b[0;34m\u001b[0m\u001b[0;34m\u001b[0m\u001b[0m\n\u001b[0m\u001b[1;32m    290\u001b[0m \u001b[0;34m\u001b[0m\u001b[0m\n\u001b[1;32m    291\u001b[0m         \u001b[0;32mdef\u001b[0m \u001b[0mretry_with\u001b[0m\u001b[0;34m(\u001b[0m\u001b[0;34m*\u001b[0m\u001b[0margs\u001b[0m\u001b[0;34m:\u001b[0m \u001b[0mt\u001b[0m\u001b[0;34m.\u001b[0m\u001b[0mAny\u001b[0m\u001b[0;34m,\u001b[0m \u001b[0;34m**\u001b[0m\u001b[0mkwargs\u001b[0m\u001b[0;34m:\u001b[0m \u001b[0mt\u001b[0m\u001b[0;34m.\u001b[0m\u001b[0mAny\u001b[0m\u001b[0;34m)\u001b[0m \u001b[0;34m->\u001b[0m \u001b[0mWrappedFn\u001b[0m\u001b[0;34m:\u001b[0m\u001b[0;34m\u001b[0m\u001b[0;34m\u001b[0m\u001b[0m\n",
      "\u001b[0;32m~/opt/anaconda3/lib/python3.9/site-packages/tenacity/__init__.py\u001b[0m in \u001b[0;36m__call__\u001b[0;34m(self, fn, *args, **kwargs)\u001b[0m\n\u001b[1;32m    377\u001b[0m         \u001b[0mretry_state\u001b[0m \u001b[0;34m=\u001b[0m \u001b[0mRetryCallState\u001b[0m\u001b[0;34m(\u001b[0m\u001b[0mretry_object\u001b[0m\u001b[0;34m=\u001b[0m\u001b[0mself\u001b[0m\u001b[0;34m,\u001b[0m \u001b[0mfn\u001b[0m\u001b[0;34m=\u001b[0m\u001b[0mfn\u001b[0m\u001b[0;34m,\u001b[0m \u001b[0margs\u001b[0m\u001b[0;34m=\u001b[0m\u001b[0margs\u001b[0m\u001b[0;34m,\u001b[0m \u001b[0mkwargs\u001b[0m\u001b[0;34m=\u001b[0m\u001b[0mkwargs\u001b[0m\u001b[0;34m)\u001b[0m\u001b[0;34m\u001b[0m\u001b[0;34m\u001b[0m\u001b[0m\n\u001b[1;32m    378\u001b[0m         \u001b[0;32mwhile\u001b[0m \u001b[0;32mTrue\u001b[0m\u001b[0;34m:\u001b[0m\u001b[0;34m\u001b[0m\u001b[0;34m\u001b[0m\u001b[0m\n\u001b[0;32m--> 379\u001b[0;31m             \u001b[0mdo\u001b[0m \u001b[0;34m=\u001b[0m \u001b[0mself\u001b[0m\u001b[0;34m.\u001b[0m\u001b[0miter\u001b[0m\u001b[0;34m(\u001b[0m\u001b[0mretry_state\u001b[0m\u001b[0;34m=\u001b[0m\u001b[0mretry_state\u001b[0m\u001b[0;34m)\u001b[0m\u001b[0;34m\u001b[0m\u001b[0;34m\u001b[0m\u001b[0m\n\u001b[0m\u001b[1;32m    380\u001b[0m             \u001b[0;32mif\u001b[0m \u001b[0misinstance\u001b[0m\u001b[0;34m(\u001b[0m\u001b[0mdo\u001b[0m\u001b[0;34m,\u001b[0m \u001b[0mDoAttempt\u001b[0m\u001b[0;34m)\u001b[0m\u001b[0;34m:\u001b[0m\u001b[0;34m\u001b[0m\u001b[0;34m\u001b[0m\u001b[0m\n\u001b[1;32m    381\u001b[0m                 \u001b[0;32mtry\u001b[0m\u001b[0;34m:\u001b[0m\u001b[0;34m\u001b[0m\u001b[0;34m\u001b[0m\u001b[0m\n",
      "\u001b[0;32m~/opt/anaconda3/lib/python3.9/site-packages/tenacity/__init__.py\u001b[0m in \u001b[0;36miter\u001b[0;34m(self, retry_state)\u001b[0m\n\u001b[1;32m    312\u001b[0m         \u001b[0mis_explicit_retry\u001b[0m \u001b[0;34m=\u001b[0m \u001b[0mfut\u001b[0m\u001b[0;34m.\u001b[0m\u001b[0mfailed\u001b[0m \u001b[0;32mand\u001b[0m \u001b[0misinstance\u001b[0m\u001b[0;34m(\u001b[0m\u001b[0mfut\u001b[0m\u001b[0;34m.\u001b[0m\u001b[0mexception\u001b[0m\u001b[0;34m(\u001b[0m\u001b[0;34m)\u001b[0m\u001b[0;34m,\u001b[0m \u001b[0mTryAgain\u001b[0m\u001b[0;34m)\u001b[0m\u001b[0;34m\u001b[0m\u001b[0;34m\u001b[0m\u001b[0m\n\u001b[1;32m    313\u001b[0m         \u001b[0;32mif\u001b[0m \u001b[0;32mnot\u001b[0m \u001b[0;34m(\u001b[0m\u001b[0mis_explicit_retry\u001b[0m \u001b[0;32mor\u001b[0m \u001b[0mself\u001b[0m\u001b[0;34m.\u001b[0m\u001b[0mretry\u001b[0m\u001b[0;34m(\u001b[0m\u001b[0mretry_state\u001b[0m\u001b[0;34m)\u001b[0m\u001b[0;34m)\u001b[0m\u001b[0;34m:\u001b[0m\u001b[0;34m\u001b[0m\u001b[0;34m\u001b[0m\u001b[0m\n\u001b[0;32m--> 314\u001b[0;31m             \u001b[0;32mreturn\u001b[0m \u001b[0mfut\u001b[0m\u001b[0;34m.\u001b[0m\u001b[0mresult\u001b[0m\u001b[0;34m(\u001b[0m\u001b[0;34m)\u001b[0m\u001b[0;34m\u001b[0m\u001b[0;34m\u001b[0m\u001b[0m\n\u001b[0m\u001b[1;32m    315\u001b[0m \u001b[0;34m\u001b[0m\u001b[0m\n\u001b[1;32m    316\u001b[0m         \u001b[0;32mif\u001b[0m \u001b[0mself\u001b[0m\u001b[0;34m.\u001b[0m\u001b[0mafter\u001b[0m \u001b[0;32mis\u001b[0m \u001b[0;32mnot\u001b[0m \u001b[0;32mNone\u001b[0m\u001b[0;34m:\u001b[0m\u001b[0;34m\u001b[0m\u001b[0;34m\u001b[0m\u001b[0m\n",
      "\u001b[0;32m~/opt/anaconda3/lib/python3.9/concurrent/futures/_base.py\u001b[0m in \u001b[0;36mresult\u001b[0;34m(self, timeout)\u001b[0m\n\u001b[1;32m    437\u001b[0m                     \u001b[0;32mraise\u001b[0m \u001b[0mCancelledError\u001b[0m\u001b[0;34m(\u001b[0m\u001b[0;34m)\u001b[0m\u001b[0;34m\u001b[0m\u001b[0;34m\u001b[0m\u001b[0m\n\u001b[1;32m    438\u001b[0m                 \u001b[0;32melif\u001b[0m \u001b[0mself\u001b[0m\u001b[0;34m.\u001b[0m\u001b[0m_state\u001b[0m \u001b[0;34m==\u001b[0m \u001b[0mFINISHED\u001b[0m\u001b[0;34m:\u001b[0m\u001b[0;34m\u001b[0m\u001b[0;34m\u001b[0m\u001b[0m\n\u001b[0;32m--> 439\u001b[0;31m                     \u001b[0;32mreturn\u001b[0m \u001b[0mself\u001b[0m\u001b[0;34m.\u001b[0m\u001b[0m__get_result\u001b[0m\u001b[0;34m(\u001b[0m\u001b[0;34m)\u001b[0m\u001b[0;34m\u001b[0m\u001b[0;34m\u001b[0m\u001b[0m\n\u001b[0m\u001b[1;32m    440\u001b[0m \u001b[0;34m\u001b[0m\u001b[0m\n\u001b[1;32m    441\u001b[0m                 \u001b[0mself\u001b[0m\u001b[0;34m.\u001b[0m\u001b[0m_condition\u001b[0m\u001b[0;34m.\u001b[0m\u001b[0mwait\u001b[0m\u001b[0;34m(\u001b[0m\u001b[0mtimeout\u001b[0m\u001b[0;34m)\u001b[0m\u001b[0;34m\u001b[0m\u001b[0;34m\u001b[0m\u001b[0m\n",
      "\u001b[0;32m~/opt/anaconda3/lib/python3.9/concurrent/futures/_base.py\u001b[0m in \u001b[0;36m__get_result\u001b[0;34m(self)\u001b[0m\n\u001b[1;32m    389\u001b[0m         \u001b[0;32mif\u001b[0m \u001b[0mself\u001b[0m\u001b[0;34m.\u001b[0m\u001b[0m_exception\u001b[0m\u001b[0;34m:\u001b[0m\u001b[0;34m\u001b[0m\u001b[0;34m\u001b[0m\u001b[0m\n\u001b[1;32m    390\u001b[0m             \u001b[0;32mtry\u001b[0m\u001b[0;34m:\u001b[0m\u001b[0;34m\u001b[0m\u001b[0;34m\u001b[0m\u001b[0m\n\u001b[0;32m--> 391\u001b[0;31m                 \u001b[0;32mraise\u001b[0m \u001b[0mself\u001b[0m\u001b[0;34m.\u001b[0m\u001b[0m_exception\u001b[0m\u001b[0;34m\u001b[0m\u001b[0;34m\u001b[0m\u001b[0m\n\u001b[0m\u001b[1;32m    392\u001b[0m             \u001b[0;32mfinally\u001b[0m\u001b[0;34m:\u001b[0m\u001b[0;34m\u001b[0m\u001b[0;34m\u001b[0m\u001b[0m\n\u001b[1;32m    393\u001b[0m                 \u001b[0;31m# Break a reference cycle with the exception in self._exception\u001b[0m\u001b[0;34m\u001b[0m\u001b[0;34m\u001b[0m\u001b[0m\n",
      "\u001b[0;32m~/opt/anaconda3/lib/python3.9/site-packages/tenacity/__init__.py\u001b[0m in \u001b[0;36m__call__\u001b[0;34m(self, fn, *args, **kwargs)\u001b[0m\n\u001b[1;32m    380\u001b[0m             \u001b[0;32mif\u001b[0m \u001b[0misinstance\u001b[0m\u001b[0;34m(\u001b[0m\u001b[0mdo\u001b[0m\u001b[0;34m,\u001b[0m \u001b[0mDoAttempt\u001b[0m\u001b[0;34m)\u001b[0m\u001b[0;34m:\u001b[0m\u001b[0;34m\u001b[0m\u001b[0;34m\u001b[0m\u001b[0m\n\u001b[1;32m    381\u001b[0m                 \u001b[0;32mtry\u001b[0m\u001b[0;34m:\u001b[0m\u001b[0;34m\u001b[0m\u001b[0;34m\u001b[0m\u001b[0m\n\u001b[0;32m--> 382\u001b[0;31m                     \u001b[0mresult\u001b[0m \u001b[0;34m=\u001b[0m \u001b[0mfn\u001b[0m\u001b[0;34m(\u001b[0m\u001b[0;34m*\u001b[0m\u001b[0margs\u001b[0m\u001b[0;34m,\u001b[0m \u001b[0;34m**\u001b[0m\u001b[0mkwargs\u001b[0m\u001b[0;34m)\u001b[0m\u001b[0;34m\u001b[0m\u001b[0;34m\u001b[0m\u001b[0m\n\u001b[0m\u001b[1;32m    383\u001b[0m                 \u001b[0;32mexcept\u001b[0m \u001b[0mBaseException\u001b[0m\u001b[0;34m:\u001b[0m  \u001b[0;31m# noqa: B902\u001b[0m\u001b[0;34m\u001b[0m\u001b[0;34m\u001b[0m\u001b[0m\n\u001b[1;32m    384\u001b[0m                     \u001b[0mretry_state\u001b[0m\u001b[0;34m.\u001b[0m\u001b[0mset_exception\u001b[0m\u001b[0;34m(\u001b[0m\u001b[0msys\u001b[0m\u001b[0;34m.\u001b[0m\u001b[0mexc_info\u001b[0m\u001b[0;34m(\u001b[0m\u001b[0;34m)\u001b[0m\u001b[0;34m)\u001b[0m  \u001b[0;31m# type: ignore[arg-type]\u001b[0m\u001b[0;34m\u001b[0m\u001b[0;34m\u001b[0m\u001b[0m\n",
      "\u001b[0;32m~/opt/anaconda3/lib/python3.9/site-packages/langchain/chat_models/openai.py\u001b[0m in \u001b[0;36m_completion_with_retry\u001b[0;34m(**kwargs)\u001b[0m\n\u001b[1;32m    274\u001b[0m         \u001b[0;34m@\u001b[0m\u001b[0mretry_decorator\u001b[0m\u001b[0;34m\u001b[0m\u001b[0;34m\u001b[0m\u001b[0m\n\u001b[1;32m    275\u001b[0m         \u001b[0;32mdef\u001b[0m \u001b[0m_completion_with_retry\u001b[0m\u001b[0;34m(\u001b[0m\u001b[0;34m**\u001b[0m\u001b[0mkwargs\u001b[0m\u001b[0;34m:\u001b[0m \u001b[0mAny\u001b[0m\u001b[0;34m)\u001b[0m \u001b[0;34m->\u001b[0m \u001b[0mAny\u001b[0m\u001b[0;34m:\u001b[0m\u001b[0;34m\u001b[0m\u001b[0;34m\u001b[0m\u001b[0m\n\u001b[0;32m--> 276\u001b[0;31m             \u001b[0;32mreturn\u001b[0m \u001b[0mself\u001b[0m\u001b[0;34m.\u001b[0m\u001b[0mclient\u001b[0m\u001b[0;34m.\u001b[0m\u001b[0mcreate\u001b[0m\u001b[0;34m(\u001b[0m\u001b[0;34m**\u001b[0m\u001b[0mkwargs\u001b[0m\u001b[0;34m)\u001b[0m\u001b[0;34m\u001b[0m\u001b[0;34m\u001b[0m\u001b[0m\n\u001b[0m\u001b[1;32m    277\u001b[0m \u001b[0;34m\u001b[0m\u001b[0m\n\u001b[1;32m    278\u001b[0m         \u001b[0;32mreturn\u001b[0m \u001b[0m_completion_with_retry\u001b[0m\u001b[0;34m(\u001b[0m\u001b[0;34m**\u001b[0m\u001b[0mkwargs\u001b[0m\u001b[0;34m)\u001b[0m\u001b[0;34m\u001b[0m\u001b[0;34m\u001b[0m\u001b[0m\n",
      "\u001b[0;32m~/opt/anaconda3/lib/python3.9/site-packages/openai/api_resources/chat_completion.py\u001b[0m in \u001b[0;36mcreate\u001b[0;34m(cls, *args, **kwargs)\u001b[0m\n\u001b[1;32m     23\u001b[0m         \u001b[0;32mwhile\u001b[0m \u001b[0;32mTrue\u001b[0m\u001b[0;34m:\u001b[0m\u001b[0;34m\u001b[0m\u001b[0;34m\u001b[0m\u001b[0m\n\u001b[1;32m     24\u001b[0m             \u001b[0;32mtry\u001b[0m\u001b[0;34m:\u001b[0m\u001b[0;34m\u001b[0m\u001b[0;34m\u001b[0m\u001b[0m\n\u001b[0;32m---> 25\u001b[0;31m                 \u001b[0;32mreturn\u001b[0m \u001b[0msuper\u001b[0m\u001b[0;34m(\u001b[0m\u001b[0;34m)\u001b[0m\u001b[0;34m.\u001b[0m\u001b[0mcreate\u001b[0m\u001b[0;34m(\u001b[0m\u001b[0;34m*\u001b[0m\u001b[0margs\u001b[0m\u001b[0;34m,\u001b[0m \u001b[0;34m**\u001b[0m\u001b[0mkwargs\u001b[0m\u001b[0;34m)\u001b[0m\u001b[0;34m\u001b[0m\u001b[0;34m\u001b[0m\u001b[0m\n\u001b[0m\u001b[1;32m     26\u001b[0m             \u001b[0;32mexcept\u001b[0m \u001b[0mTryAgain\u001b[0m \u001b[0;32mas\u001b[0m \u001b[0me\u001b[0m\u001b[0;34m:\u001b[0m\u001b[0;34m\u001b[0m\u001b[0;34m\u001b[0m\u001b[0m\n\u001b[1;32m     27\u001b[0m                 \u001b[0;32mif\u001b[0m \u001b[0mtimeout\u001b[0m \u001b[0;32mis\u001b[0m \u001b[0;32mnot\u001b[0m \u001b[0;32mNone\u001b[0m \u001b[0;32mand\u001b[0m \u001b[0mtime\u001b[0m\u001b[0;34m.\u001b[0m\u001b[0mtime\u001b[0m\u001b[0;34m(\u001b[0m\u001b[0;34m)\u001b[0m \u001b[0;34m>\u001b[0m \u001b[0mstart\u001b[0m \u001b[0;34m+\u001b[0m \u001b[0mtimeout\u001b[0m\u001b[0;34m:\u001b[0m\u001b[0;34m\u001b[0m\u001b[0;34m\u001b[0m\u001b[0m\n",
      "\u001b[0;32m~/opt/anaconda3/lib/python3.9/site-packages/openai/api_resources/abstract/engine_api_resource.py\u001b[0m in \u001b[0;36mcreate\u001b[0;34m(cls, api_key, api_base, api_type, request_id, api_version, organization, **params)\u001b[0m\n\u001b[1;32m    151\u001b[0m         )\n\u001b[1;32m    152\u001b[0m \u001b[0;34m\u001b[0m\u001b[0m\n\u001b[0;32m--> 153\u001b[0;31m         response, _, api_key = requestor.request(\n\u001b[0m\u001b[1;32m    154\u001b[0m             \u001b[0;34m\"post\"\u001b[0m\u001b[0;34m,\u001b[0m\u001b[0;34m\u001b[0m\u001b[0;34m\u001b[0m\u001b[0m\n\u001b[1;32m    155\u001b[0m             \u001b[0murl\u001b[0m\u001b[0;34m,\u001b[0m\u001b[0;34m\u001b[0m\u001b[0;34m\u001b[0m\u001b[0m\n",
      "\u001b[0;32m~/opt/anaconda3/lib/python3.9/site-packages/openai/api_requestor.py\u001b[0m in \u001b[0;36mrequest\u001b[0;34m(self, method, url, params, headers, files, stream, request_id, request_timeout)\u001b[0m\n\u001b[1;32m    214\u001b[0m         \u001b[0mrequest_timeout\u001b[0m\u001b[0;34m:\u001b[0m \u001b[0mOptional\u001b[0m\u001b[0;34m[\u001b[0m\u001b[0mUnion\u001b[0m\u001b[0;34m[\u001b[0m\u001b[0mfloat\u001b[0m\u001b[0;34m,\u001b[0m \u001b[0mTuple\u001b[0m\u001b[0;34m[\u001b[0m\u001b[0mfloat\u001b[0m\u001b[0;34m,\u001b[0m \u001b[0mfloat\u001b[0m\u001b[0;34m]\u001b[0m\u001b[0;34m]\u001b[0m\u001b[0;34m]\u001b[0m \u001b[0;34m=\u001b[0m \u001b[0;32mNone\u001b[0m\u001b[0;34m,\u001b[0m\u001b[0;34m\u001b[0m\u001b[0;34m\u001b[0m\u001b[0m\n\u001b[1;32m    215\u001b[0m     ) -> Tuple[Union[OpenAIResponse, Iterator[OpenAIResponse]], bool, str]:\n\u001b[0;32m--> 216\u001b[0;31m         result = self.request_raw(\n\u001b[0m\u001b[1;32m    217\u001b[0m             \u001b[0mmethod\u001b[0m\u001b[0;34m.\u001b[0m\u001b[0mlower\u001b[0m\u001b[0;34m(\u001b[0m\u001b[0;34m)\u001b[0m\u001b[0;34m,\u001b[0m\u001b[0;34m\u001b[0m\u001b[0;34m\u001b[0m\u001b[0m\n\u001b[1;32m    218\u001b[0m             \u001b[0murl\u001b[0m\u001b[0;34m,\u001b[0m\u001b[0;34m\u001b[0m\u001b[0;34m\u001b[0m\u001b[0m\n",
      "\u001b[0;32m~/opt/anaconda3/lib/python3.9/site-packages/openai/api_requestor.py\u001b[0m in \u001b[0;36mrequest_raw\u001b[0;34m(self, method, url, params, supplied_headers, files, stream, request_id, request_timeout)\u001b[0m\n\u001b[1;32m    514\u001b[0m             \u001b[0m_thread_context\u001b[0m\u001b[0;34m.\u001b[0m\u001b[0msession\u001b[0m \u001b[0;34m=\u001b[0m \u001b[0m_make_session\u001b[0m\u001b[0;34m(\u001b[0m\u001b[0;34m)\u001b[0m\u001b[0;34m\u001b[0m\u001b[0;34m\u001b[0m\u001b[0m\n\u001b[1;32m    515\u001b[0m         \u001b[0;32mtry\u001b[0m\u001b[0;34m:\u001b[0m\u001b[0;34m\u001b[0m\u001b[0;34m\u001b[0m\u001b[0m\n\u001b[0;32m--> 516\u001b[0;31m             result = _thread_context.session.request(\n\u001b[0m\u001b[1;32m    517\u001b[0m                 \u001b[0mmethod\u001b[0m\u001b[0;34m,\u001b[0m\u001b[0;34m\u001b[0m\u001b[0;34m\u001b[0m\u001b[0m\n\u001b[1;32m    518\u001b[0m                 \u001b[0mabs_url\u001b[0m\u001b[0;34m,\u001b[0m\u001b[0;34m\u001b[0m\u001b[0;34m\u001b[0m\u001b[0m\n",
      "\u001b[0;32m~/opt/anaconda3/lib/python3.9/site-packages/requests/sessions.py\u001b[0m in \u001b[0;36mrequest\u001b[0;34m(self, method, url, params, data, headers, cookies, files, auth, timeout, allow_redirects, proxies, hooks, stream, verify, cert, json)\u001b[0m\n\u001b[1;32m    587\u001b[0m         }\n\u001b[1;32m    588\u001b[0m         \u001b[0msend_kwargs\u001b[0m\u001b[0;34m.\u001b[0m\u001b[0mupdate\u001b[0m\u001b[0;34m(\u001b[0m\u001b[0msettings\u001b[0m\u001b[0;34m)\u001b[0m\u001b[0;34m\u001b[0m\u001b[0;34m\u001b[0m\u001b[0m\n\u001b[0;32m--> 589\u001b[0;31m         \u001b[0mresp\u001b[0m \u001b[0;34m=\u001b[0m \u001b[0mself\u001b[0m\u001b[0;34m.\u001b[0m\u001b[0msend\u001b[0m\u001b[0;34m(\u001b[0m\u001b[0mprep\u001b[0m\u001b[0;34m,\u001b[0m \u001b[0;34m**\u001b[0m\u001b[0msend_kwargs\u001b[0m\u001b[0;34m)\u001b[0m\u001b[0;34m\u001b[0m\u001b[0;34m\u001b[0m\u001b[0m\n\u001b[0m\u001b[1;32m    590\u001b[0m \u001b[0;34m\u001b[0m\u001b[0m\n\u001b[1;32m    591\u001b[0m         \u001b[0;32mreturn\u001b[0m \u001b[0mresp\u001b[0m\u001b[0;34m\u001b[0m\u001b[0;34m\u001b[0m\u001b[0m\n",
      "\u001b[0;32m~/opt/anaconda3/lib/python3.9/site-packages/requests/sessions.py\u001b[0m in \u001b[0;36msend\u001b[0;34m(self, request, **kwargs)\u001b[0m\n\u001b[1;32m    701\u001b[0m \u001b[0;34m\u001b[0m\u001b[0m\n\u001b[1;32m    702\u001b[0m         \u001b[0;31m# Send the request\u001b[0m\u001b[0;34m\u001b[0m\u001b[0;34m\u001b[0m\u001b[0m\n\u001b[0;32m--> 703\u001b[0;31m         \u001b[0mr\u001b[0m \u001b[0;34m=\u001b[0m \u001b[0madapter\u001b[0m\u001b[0;34m.\u001b[0m\u001b[0msend\u001b[0m\u001b[0;34m(\u001b[0m\u001b[0mrequest\u001b[0m\u001b[0;34m,\u001b[0m \u001b[0;34m**\u001b[0m\u001b[0mkwargs\u001b[0m\u001b[0;34m)\u001b[0m\u001b[0;34m\u001b[0m\u001b[0;34m\u001b[0m\u001b[0m\n\u001b[0m\u001b[1;32m    704\u001b[0m \u001b[0;34m\u001b[0m\u001b[0m\n\u001b[1;32m    705\u001b[0m         \u001b[0;31m# Total elapsed time of the request (approximately)\u001b[0m\u001b[0;34m\u001b[0m\u001b[0;34m\u001b[0m\u001b[0m\n",
      "\u001b[0;32m~/opt/anaconda3/lib/python3.9/site-packages/requests/adapters.py\u001b[0m in \u001b[0;36msend\u001b[0;34m(self, request, stream, timeout, verify, cert, proxies)\u001b[0m\n\u001b[1;32m    484\u001b[0m \u001b[0;34m\u001b[0m\u001b[0m\n\u001b[1;32m    485\u001b[0m         \u001b[0;32mtry\u001b[0m\u001b[0;34m:\u001b[0m\u001b[0;34m\u001b[0m\u001b[0;34m\u001b[0m\u001b[0m\n\u001b[0;32m--> 486\u001b[0;31m             resp = conn.urlopen(\n\u001b[0m\u001b[1;32m    487\u001b[0m                 \u001b[0mmethod\u001b[0m\u001b[0;34m=\u001b[0m\u001b[0mrequest\u001b[0m\u001b[0;34m.\u001b[0m\u001b[0mmethod\u001b[0m\u001b[0;34m,\u001b[0m\u001b[0;34m\u001b[0m\u001b[0;34m\u001b[0m\u001b[0m\n\u001b[1;32m    488\u001b[0m                 \u001b[0murl\u001b[0m\u001b[0;34m=\u001b[0m\u001b[0murl\u001b[0m\u001b[0;34m,\u001b[0m\u001b[0;34m\u001b[0m\u001b[0;34m\u001b[0m\u001b[0m\n",
      "\u001b[0;32m~/opt/anaconda3/lib/python3.9/site-packages/urllib3/connectionpool.py\u001b[0m in \u001b[0;36murlopen\u001b[0;34m(self, method, url, body, headers, retries, redirect, assert_same_host, timeout, pool_timeout, release_conn, chunked, body_pos, **response_kw)\u001b[0m\n\u001b[1;32m    701\u001b[0m \u001b[0;34m\u001b[0m\u001b[0m\n\u001b[1;32m    702\u001b[0m             \u001b[0;31m# Make the request on the httplib connection object.\u001b[0m\u001b[0;34m\u001b[0m\u001b[0;34m\u001b[0m\u001b[0m\n\u001b[0;32m--> 703\u001b[0;31m             httplib_response = self._make_request(\n\u001b[0m\u001b[1;32m    704\u001b[0m                 \u001b[0mconn\u001b[0m\u001b[0;34m,\u001b[0m\u001b[0;34m\u001b[0m\u001b[0;34m\u001b[0m\u001b[0m\n\u001b[1;32m    705\u001b[0m                 \u001b[0mmethod\u001b[0m\u001b[0;34m,\u001b[0m\u001b[0;34m\u001b[0m\u001b[0;34m\u001b[0m\u001b[0m\n",
      "\u001b[0;32m~/opt/anaconda3/lib/python3.9/site-packages/urllib3/connectionpool.py\u001b[0m in \u001b[0;36m_make_request\u001b[0;34m(self, conn, method, url, timeout, chunked, **httplib_request_kw)\u001b[0m\n\u001b[1;32m    447\u001b[0m                     \u001b[0;31m# Python 3 (including for exceptions like SystemExit).\u001b[0m\u001b[0;34m\u001b[0m\u001b[0;34m\u001b[0m\u001b[0m\n\u001b[1;32m    448\u001b[0m                     \u001b[0;31m# Otherwise it looks like a bug in the code.\u001b[0m\u001b[0;34m\u001b[0m\u001b[0;34m\u001b[0m\u001b[0m\n\u001b[0;32m--> 449\u001b[0;31m                     \u001b[0msix\u001b[0m\u001b[0;34m.\u001b[0m\u001b[0mraise_from\u001b[0m\u001b[0;34m(\u001b[0m\u001b[0me\u001b[0m\u001b[0;34m,\u001b[0m \u001b[0;32mNone\u001b[0m\u001b[0;34m)\u001b[0m\u001b[0;34m\u001b[0m\u001b[0;34m\u001b[0m\u001b[0m\n\u001b[0m\u001b[1;32m    450\u001b[0m         \u001b[0;32mexcept\u001b[0m \u001b[0;34m(\u001b[0m\u001b[0mSocketTimeout\u001b[0m\u001b[0;34m,\u001b[0m \u001b[0mBaseSSLError\u001b[0m\u001b[0;34m,\u001b[0m \u001b[0mSocketError\u001b[0m\u001b[0;34m)\u001b[0m \u001b[0;32mas\u001b[0m \u001b[0me\u001b[0m\u001b[0;34m:\u001b[0m\u001b[0;34m\u001b[0m\u001b[0;34m\u001b[0m\u001b[0m\n\u001b[1;32m    451\u001b[0m             \u001b[0mself\u001b[0m\u001b[0;34m.\u001b[0m\u001b[0m_raise_timeout\u001b[0m\u001b[0;34m(\u001b[0m\u001b[0merr\u001b[0m\u001b[0;34m=\u001b[0m\u001b[0me\u001b[0m\u001b[0;34m,\u001b[0m \u001b[0murl\u001b[0m\u001b[0;34m=\u001b[0m\u001b[0murl\u001b[0m\u001b[0;34m,\u001b[0m \u001b[0mtimeout_value\u001b[0m\u001b[0;34m=\u001b[0m\u001b[0mread_timeout\u001b[0m\u001b[0;34m)\u001b[0m\u001b[0;34m\u001b[0m\u001b[0;34m\u001b[0m\u001b[0m\n",
      "\u001b[0;32m~/opt/anaconda3/lib/python3.9/site-packages/urllib3/packages/six.py\u001b[0m in \u001b[0;36mraise_from\u001b[0;34m(value, from_value)\u001b[0m\n",
      "\u001b[0;32m~/opt/anaconda3/lib/python3.9/site-packages/urllib3/connectionpool.py\u001b[0m in \u001b[0;36m_make_request\u001b[0;34m(self, conn, method, url, timeout, chunked, **httplib_request_kw)\u001b[0m\n\u001b[1;32m    442\u001b[0m                 \u001b[0;31m# Python 3\u001b[0m\u001b[0;34m\u001b[0m\u001b[0;34m\u001b[0m\u001b[0m\n\u001b[1;32m    443\u001b[0m                 \u001b[0;32mtry\u001b[0m\u001b[0;34m:\u001b[0m\u001b[0;34m\u001b[0m\u001b[0;34m\u001b[0m\u001b[0m\n\u001b[0;32m--> 444\u001b[0;31m                     \u001b[0mhttplib_response\u001b[0m \u001b[0;34m=\u001b[0m \u001b[0mconn\u001b[0m\u001b[0;34m.\u001b[0m\u001b[0mgetresponse\u001b[0m\u001b[0;34m(\u001b[0m\u001b[0;34m)\u001b[0m\u001b[0;34m\u001b[0m\u001b[0;34m\u001b[0m\u001b[0m\n\u001b[0m\u001b[1;32m    445\u001b[0m                 \u001b[0;32mexcept\u001b[0m \u001b[0mBaseException\u001b[0m \u001b[0;32mas\u001b[0m \u001b[0me\u001b[0m\u001b[0;34m:\u001b[0m\u001b[0;34m\u001b[0m\u001b[0;34m\u001b[0m\u001b[0m\n\u001b[1;32m    446\u001b[0m                     \u001b[0;31m# Remove the TypeError from the exception chain in\u001b[0m\u001b[0;34m\u001b[0m\u001b[0;34m\u001b[0m\u001b[0m\n",
      "\u001b[0;32m~/opt/anaconda3/lib/python3.9/http/client.py\u001b[0m in \u001b[0;36mgetresponse\u001b[0;34m(self)\u001b[0m\n\u001b[1;32m   1375\u001b[0m         \u001b[0;32mtry\u001b[0m\u001b[0;34m:\u001b[0m\u001b[0;34m\u001b[0m\u001b[0;34m\u001b[0m\u001b[0m\n\u001b[1;32m   1376\u001b[0m             \u001b[0;32mtry\u001b[0m\u001b[0;34m:\u001b[0m\u001b[0;34m\u001b[0m\u001b[0;34m\u001b[0m\u001b[0m\n\u001b[0;32m-> 1377\u001b[0;31m                 \u001b[0mresponse\u001b[0m\u001b[0;34m.\u001b[0m\u001b[0mbegin\u001b[0m\u001b[0;34m(\u001b[0m\u001b[0;34m)\u001b[0m\u001b[0;34m\u001b[0m\u001b[0;34m\u001b[0m\u001b[0m\n\u001b[0m\u001b[1;32m   1378\u001b[0m             \u001b[0;32mexcept\u001b[0m \u001b[0mConnectionError\u001b[0m\u001b[0;34m:\u001b[0m\u001b[0;34m\u001b[0m\u001b[0;34m\u001b[0m\u001b[0m\n\u001b[1;32m   1379\u001b[0m                 \u001b[0mself\u001b[0m\u001b[0;34m.\u001b[0m\u001b[0mclose\u001b[0m\u001b[0;34m(\u001b[0m\u001b[0;34m)\u001b[0m\u001b[0;34m\u001b[0m\u001b[0;34m\u001b[0m\u001b[0m\n",
      "\u001b[0;32m~/opt/anaconda3/lib/python3.9/http/client.py\u001b[0m in \u001b[0;36mbegin\u001b[0;34m(self)\u001b[0m\n\u001b[1;32m    318\u001b[0m         \u001b[0;31m# read until we get a non-100 response\u001b[0m\u001b[0;34m\u001b[0m\u001b[0;34m\u001b[0m\u001b[0m\n\u001b[1;32m    319\u001b[0m         \u001b[0;32mwhile\u001b[0m \u001b[0;32mTrue\u001b[0m\u001b[0;34m:\u001b[0m\u001b[0;34m\u001b[0m\u001b[0;34m\u001b[0m\u001b[0m\n\u001b[0;32m--> 320\u001b[0;31m             \u001b[0mversion\u001b[0m\u001b[0;34m,\u001b[0m \u001b[0mstatus\u001b[0m\u001b[0;34m,\u001b[0m \u001b[0mreason\u001b[0m \u001b[0;34m=\u001b[0m \u001b[0mself\u001b[0m\u001b[0;34m.\u001b[0m\u001b[0m_read_status\u001b[0m\u001b[0;34m(\u001b[0m\u001b[0;34m)\u001b[0m\u001b[0;34m\u001b[0m\u001b[0;34m\u001b[0m\u001b[0m\n\u001b[0m\u001b[1;32m    321\u001b[0m             \u001b[0;32mif\u001b[0m \u001b[0mstatus\u001b[0m \u001b[0;34m!=\u001b[0m \u001b[0mCONTINUE\u001b[0m\u001b[0;34m:\u001b[0m\u001b[0;34m\u001b[0m\u001b[0;34m\u001b[0m\u001b[0m\n\u001b[1;32m    322\u001b[0m                 \u001b[0;32mbreak\u001b[0m\u001b[0;34m\u001b[0m\u001b[0;34m\u001b[0m\u001b[0m\n",
      "\u001b[0;32m~/opt/anaconda3/lib/python3.9/http/client.py\u001b[0m in \u001b[0;36m_read_status\u001b[0;34m(self)\u001b[0m\n\u001b[1;32m    279\u001b[0m \u001b[0;34m\u001b[0m\u001b[0m\n\u001b[1;32m    280\u001b[0m     \u001b[0;32mdef\u001b[0m \u001b[0m_read_status\u001b[0m\u001b[0;34m(\u001b[0m\u001b[0mself\u001b[0m\u001b[0;34m)\u001b[0m\u001b[0;34m:\u001b[0m\u001b[0;34m\u001b[0m\u001b[0;34m\u001b[0m\u001b[0m\n\u001b[0;32m--> 281\u001b[0;31m         \u001b[0mline\u001b[0m \u001b[0;34m=\u001b[0m \u001b[0mstr\u001b[0m\u001b[0;34m(\u001b[0m\u001b[0mself\u001b[0m\u001b[0;34m.\u001b[0m\u001b[0mfp\u001b[0m\u001b[0;34m.\u001b[0m\u001b[0mreadline\u001b[0m\u001b[0;34m(\u001b[0m\u001b[0m_MAXLINE\u001b[0m \u001b[0;34m+\u001b[0m \u001b[0;36m1\u001b[0m\u001b[0;34m)\u001b[0m\u001b[0;34m,\u001b[0m \u001b[0;34m\"iso-8859-1\"\u001b[0m\u001b[0;34m)\u001b[0m\u001b[0;34m\u001b[0m\u001b[0;34m\u001b[0m\u001b[0m\n\u001b[0m\u001b[1;32m    282\u001b[0m         \u001b[0;32mif\u001b[0m \u001b[0mlen\u001b[0m\u001b[0;34m(\u001b[0m\u001b[0mline\u001b[0m\u001b[0;34m)\u001b[0m \u001b[0;34m>\u001b[0m \u001b[0m_MAXLINE\u001b[0m\u001b[0;34m:\u001b[0m\u001b[0;34m\u001b[0m\u001b[0;34m\u001b[0m\u001b[0m\n\u001b[1;32m    283\u001b[0m             \u001b[0;32mraise\u001b[0m \u001b[0mLineTooLong\u001b[0m\u001b[0;34m(\u001b[0m\u001b[0;34m\"status line\"\u001b[0m\u001b[0;34m)\u001b[0m\u001b[0;34m\u001b[0m\u001b[0;34m\u001b[0m\u001b[0m\n",
      "\u001b[0;32m~/opt/anaconda3/lib/python3.9/socket.py\u001b[0m in \u001b[0;36mreadinto\u001b[0;34m(self, b)\u001b[0m\n\u001b[1;32m    702\u001b[0m         \u001b[0;32mwhile\u001b[0m \u001b[0;32mTrue\u001b[0m\u001b[0;34m:\u001b[0m\u001b[0;34m\u001b[0m\u001b[0;34m\u001b[0m\u001b[0m\n\u001b[1;32m    703\u001b[0m             \u001b[0;32mtry\u001b[0m\u001b[0;34m:\u001b[0m\u001b[0;34m\u001b[0m\u001b[0;34m\u001b[0m\u001b[0m\n\u001b[0;32m--> 704\u001b[0;31m                 \u001b[0;32mreturn\u001b[0m \u001b[0mself\u001b[0m\u001b[0;34m.\u001b[0m\u001b[0m_sock\u001b[0m\u001b[0;34m.\u001b[0m\u001b[0mrecv_into\u001b[0m\u001b[0;34m(\u001b[0m\u001b[0mb\u001b[0m\u001b[0;34m)\u001b[0m\u001b[0;34m\u001b[0m\u001b[0;34m\u001b[0m\u001b[0m\n\u001b[0m\u001b[1;32m    705\u001b[0m             \u001b[0;32mexcept\u001b[0m \u001b[0mtimeout\u001b[0m\u001b[0;34m:\u001b[0m\u001b[0;34m\u001b[0m\u001b[0;34m\u001b[0m\u001b[0m\n\u001b[1;32m    706\u001b[0m                 \u001b[0mself\u001b[0m\u001b[0;34m.\u001b[0m\u001b[0m_timeout_occurred\u001b[0m \u001b[0;34m=\u001b[0m \u001b[0;32mTrue\u001b[0m\u001b[0;34m\u001b[0m\u001b[0;34m\u001b[0m\u001b[0m\n",
      "\u001b[0;32m~/opt/anaconda3/lib/python3.9/ssl.py\u001b[0m in \u001b[0;36mrecv_into\u001b[0;34m(self, buffer, nbytes, flags)\u001b[0m\n\u001b[1;32m   1240\u001b[0m                   \u001b[0;34m\"non-zero flags not allowed in calls to recv_into() on %s\"\u001b[0m \u001b[0;34m%\u001b[0m\u001b[0;34m\u001b[0m\u001b[0;34m\u001b[0m\u001b[0m\n\u001b[1;32m   1241\u001b[0m                   self.__class__)\n\u001b[0;32m-> 1242\u001b[0;31m             \u001b[0;32mreturn\u001b[0m \u001b[0mself\u001b[0m\u001b[0;34m.\u001b[0m\u001b[0mread\u001b[0m\u001b[0;34m(\u001b[0m\u001b[0mnbytes\u001b[0m\u001b[0;34m,\u001b[0m \u001b[0mbuffer\u001b[0m\u001b[0;34m)\u001b[0m\u001b[0;34m\u001b[0m\u001b[0;34m\u001b[0m\u001b[0m\n\u001b[0m\u001b[1;32m   1243\u001b[0m         \u001b[0;32melse\u001b[0m\u001b[0;34m:\u001b[0m\u001b[0;34m\u001b[0m\u001b[0;34m\u001b[0m\u001b[0m\n\u001b[1;32m   1244\u001b[0m             \u001b[0;32mreturn\u001b[0m \u001b[0msuper\u001b[0m\u001b[0;34m(\u001b[0m\u001b[0;34m)\u001b[0m\u001b[0;34m.\u001b[0m\u001b[0mrecv_into\u001b[0m\u001b[0;34m(\u001b[0m\u001b[0mbuffer\u001b[0m\u001b[0;34m,\u001b[0m \u001b[0mnbytes\u001b[0m\u001b[0;34m,\u001b[0m \u001b[0mflags\u001b[0m\u001b[0;34m)\u001b[0m\u001b[0;34m\u001b[0m\u001b[0;34m\u001b[0m\u001b[0m\n",
      "\u001b[0;32m~/opt/anaconda3/lib/python3.9/ssl.py\u001b[0m in \u001b[0;36mread\u001b[0;34m(self, len, buffer)\u001b[0m\n\u001b[1;32m   1098\u001b[0m         \u001b[0;32mtry\u001b[0m\u001b[0;34m:\u001b[0m\u001b[0;34m\u001b[0m\u001b[0;34m\u001b[0m\u001b[0m\n\u001b[1;32m   1099\u001b[0m             \u001b[0;32mif\u001b[0m \u001b[0mbuffer\u001b[0m \u001b[0;32mis\u001b[0m \u001b[0;32mnot\u001b[0m \u001b[0;32mNone\u001b[0m\u001b[0;34m:\u001b[0m\u001b[0;34m\u001b[0m\u001b[0;34m\u001b[0m\u001b[0m\n\u001b[0;32m-> 1100\u001b[0;31m                 \u001b[0;32mreturn\u001b[0m \u001b[0mself\u001b[0m\u001b[0;34m.\u001b[0m\u001b[0m_sslobj\u001b[0m\u001b[0;34m.\u001b[0m\u001b[0mread\u001b[0m\u001b[0;34m(\u001b[0m\u001b[0mlen\u001b[0m\u001b[0;34m,\u001b[0m \u001b[0mbuffer\u001b[0m\u001b[0;34m)\u001b[0m\u001b[0;34m\u001b[0m\u001b[0;34m\u001b[0m\u001b[0m\n\u001b[0m\u001b[1;32m   1101\u001b[0m             \u001b[0;32melse\u001b[0m\u001b[0;34m:\u001b[0m\u001b[0;34m\u001b[0m\u001b[0;34m\u001b[0m\u001b[0m\n\u001b[1;32m   1102\u001b[0m                 \u001b[0;32mreturn\u001b[0m \u001b[0mself\u001b[0m\u001b[0;34m.\u001b[0m\u001b[0m_sslobj\u001b[0m\u001b[0;34m.\u001b[0m\u001b[0mread\u001b[0m\u001b[0;34m(\u001b[0m\u001b[0mlen\u001b[0m\u001b[0;34m)\u001b[0m\u001b[0;34m\u001b[0m\u001b[0;34m\u001b[0m\u001b[0m\n",
      "\u001b[0;31mKeyboardInterrupt\u001b[0m: "
     ]
    }
   ],
   "source": [
    "from langchain.memory import SimpleMemory\n",
    "\n",
    "# Extracting the scenes using .split('\\n') and removing empty strings:\n",
    "scenes = [scene for scene in story_result[\"scenes\"].split(\"\\n\") if scene]\n",
    "\n",
    "character_script_prompt = PromptTemplate(\n",
    "    template=\"\"\"Given the following characters: {characters} and the genre: {genre}, create an effective character script for a scene.\n",
    "\n",
    "    You must follow the following principles:\n",
    "    - Use the Previous Scene Summary: {previous_scene_summary} to avoid repeating yourself.\n",
    "    - Use the Plot: {plot} to create an effective scene character script.\n",
    "    - Currently you are generating the character dialogue script for the following scene: {scene}\n",
    "\n",
    "    ---\n",
    "    Here is an example response:\n",
    "    SCENE 1: ANNA'S APARTMENT\n",
    "\n",
    "    (ANNA is sorting through old books when there is a knock at the door. She opens it to reveal JOHN.)\n",
    "    ANNA: Can I help you, sir?\n",
    "    JOHN: Perhaps, I think it's me who can help you. I heard you're researching time travel.\n",
    "    (Anna looks intrigued but also cautious.)\n",
    "    ANNA: That's right, but how do you know?\n",
    "    JOHN: You could say... I'm a primary source.\n",
    "\n",
    "    ---\n",
    "    SCENE {index}:\n",
    "\n",
    "    \"\"\",\n",
    "    input_variables=[\n",
    "        \"characters\",\n",
    "        \"genre\",\n",
    "        \"plot\",\n",
    "        \"scene\",\n",
    "        \"previous_scene_summary\",\n",
    "        \"index\",\n",
    "    ],\n",
    ")\n",
    "\n",
    "summarize_prompt = PromptTemplate(\n",
    "    template=\"\"\"Given a character script create a summary of the scene. Character script: {character_script}\"\"\",\n",
    "    input_variables=[\"character_script\"],\n",
    ")\n",
    "\n",
    "character_script_chain = LLMChain(\n",
    "    llm=chat, prompt=character_script_prompt, output_key=\"character_script\"\n",
    ")\n",
    "\n",
    "summarize_chain = LLMChain(llm=chat, prompt=summarize_prompt, output_key=\"summary\")\n",
    "previous_scene_summary = \"\"\n",
    "\n",
    "# Creating a simple memory to store the plot, characters, and genre:\n",
    "memory = SimpleMemory(\n",
    "    memories={\n",
    "        \"plot\": story_result[\"plot\"],\n",
    "        \"characters\": story_result[\"characters\"],\n",
    "        \"genre\": \"fantasy\",\n",
    "    }\n",
    ")\n",
    "\n",
    "generated_scenes = []\n",
    "\n",
    "# You might want to use tqdm here to track the progress, or use all of the scenes\n",
    "# for index, scene in enumerate(scenes):\n",
    "for index, scene in enumerate(scenes)[0:5]:\n",
    "    print(f\"Generating scene {index + 1}...\")\n",
    "    scene_generation_chain = SequentialChain(\n",
    "        chains=[character_script_chain, summarize_chain],\n",
    "        memory=memory,\n",
    "        input_variables=[\n",
    "            \"scene\",\n",
    "            \"previous_scene_summary\",\n",
    "            \"index\",\n",
    "        ],\n",
    "        verbose=True,\n",
    "        output_variables=[\"character_script\", \"summary\"],\n",
    "    )\n",
    "\n",
    "    llm_result = scene_generation_chain(\n",
    "        {\n",
    "            \"characters\": story_result[\"characters\"],\n",
    "            \"genre\": \"fantasy\",\n",
    "            \"plot\": story_result[\"plot\"],\n",
    "            \"scene\": scene,\n",
    "            \"previous_scene_summary\": previous_scene_summary,\n",
    "            \"index\": index + 1,\n",
    "        }\n",
    "    )\n",
    "\n",
    "    # Updating the previous scene summary:\n",
    "    previous_scene_summary = llm_result[\"summary\"]\n",
    "\n",
    "    # Store the generated scenes:\n",
    "    generated_scenes.append(\n",
    "        {\"character_script\": llm_result[\"character_script\"], \"scene\": scenes[index]}\n",
    "    )"
   ]
  },
  {
   "cell_type": "code",
   "execution_count": 29,
   "metadata": {},
   "outputs": [
    {
     "data": {
      "text/plain": [
       "[{'character_script': \"EXT. ENCHANTED FOREST - DAY\\n\\n(The tranquil forest of Eldoria is bathed in golden sunlight, its beauty marred by an encroaching darkness. ELARA DAWNSHIELD, an elven archer with piercing green eyes and a determined expression, stands at the edge of the forest, her bow ready.)\\n\\nELARA: (whispering)\\nSomething isn't right... The forest feels different today.\\n\\n(Suddenly, a strong gust of wind blows through the trees, carrying with it a sense of foreboding. Elara's eyes narrow as she sees the forest beginning to wither and decay.)\\n\\nELARA: (calling out)\\nWise sages, what is happening to our home?\\n\\n(A voice echoes through the forest, originating from the ANCESTRAL TREE, the heart of Eldoria's magic.)\\n\\nANCESTRAL TREE: (whispering)\\nElara Dawnshield, the darkness has descended upon us. Our very essence is under threat.\\n\\n(Elara's grip on her bow tightens, determination burning in her eyes.)\\n\\nELARA: I will not allow our home to be consumed by darkness. Tell me what I must do.\\n\\nANCESTRAL TREE: (whispering)\\nJourney to the Forgotten Caverns, where ancient evils lie. Uncover the source of this darkness and protect our world.\\n\\n(Elara takes a deep breath, steeling herself for the dangerous path ahead.)\\n\\nELARA: I shall do as you command, Ancestral Tree. Eldoria will not fall.\\n\\n(As Elara begins her treacherous journey, the camera pans to the distant mountains of Shadowpeak, where dark storm clouds gather.\\n\\nCUT TO:\\n\\nEXT. SHADOWPEAK - MOUNTAINTOP - DAY\\n\\nGARRICK STORMBRINGER, a brooding sorcerer with wild, untamed hair, stands tall atop the mountain, his eyes crackling with electricity.)\\n\\nGARRICK: (muttering to himself)\\nEldoria... I sense your call in the storm. Your plight is mine to bear.\\n\\n(Thunder rumbles ominously as Garrick extends his hands, summoning bolts of lightning. The clouds above him swirl and twist.)\\n\\nGARRICK: I will aid Elara in her quest. Together, our powers shall illuminate the darkness that threatens our homeland.\\n\\n(The camera cuts to ARIA SWIFTFOOT, a swift and agile rogue, hidden in the shadows of the bustling city of Aranthia.\\n\\nINT. TAVERN - NIGHT\\n\\nAria eavesdrops on a conversation between two THIEVES, their voices hushed.)\\n\\nTHIEF 1: Did you hear about the troubles in Eldoria? A perfect opportunity for a rogue like us.\\n\\nTHIEF 2: Indeed, the chaos always presents lucrative opportunities.\\n\\n(Aria's eyes narrow, her lips curling into a sly smile.)\\n\\nARIA: (to herself)\\nTime to join the fray and seek justice in the shadows.\\n\\n(Aria disappears into the night, her silhouette vanishing beyond the tavern's doors.)\\n\\nFADE OUT.\",\n",
       "  'scene': 'Scene 1: The dark force descends upon Eldoria'},\n",
       " {'character_script': \"EXT. ENCHANTED FOREST - DAY\\n\\n(ELARA DAWNSHIELD stands in the middle of the mystical forest, her bow at the ready. She cautiously scans her surroundings, the withering and decay of the once vibrant trees evident.)\\n\\nELARA: (whispering) Something isn't right here.\\n\\n(THE WISE SAGES, a group of ancient elves, appear before Elara, their glowing eyes filled with concern.)\\n\\nWISE SAGE 1: Elara, darkness has descended upon Eldoria.\\n\\nWISE SAGE 2: Our sacred Ancestral Tree withers, its life force drained. The balance of nature is disrupted.\\n\\nELARA: What must I do?\\n\\nWISE SAGE 3: Journey to the Forgotten Caverns, for there lies the source of the darkness. Uncover its origins and eliminate the threat.\\n\\nELARA: I will not let Eldoria fall. I pledge to protect our home.\\n\\n(Suddenly, a bolt of lightning strikes nearby, catching Elara's attention. GARRICK STORMBRINGER, a mysterious sorcerer with crackling power, emerges from the shadows.)\\n\\nGARRICK: I sensed the call of Eldoria. I am here to aid you, Elara.\\n\\nELARA: (surprised) Garrick Stormbringer? I've heard tales of your powers.\\n\\nGARRICK: The same darkness that plagues Eldoria threatens my domain. We must join forces if we are to stand a chance.\\n\\nELARA: (nodding) Agreed. Our strengths combined, we shall overcome.\\n\\n(As they prepare to set off, ARIA SWIFTFOOT, a rogue with swift movements, emerges from the trees, her eyes fixed on Elara and Garrick.)\\n\\nARIA: (slyly) Well, well, what do we have here? Trouble in paradise?\\n\\nELARA: (cautious) Who are you?\\n\\nARIA: Aria Swiftfoot, at your service. I heard rumors of the troubles in Eldoria. It just so happens I have a knack for justice.\\n\\nGARRICK: Can we trust her?\\n\\nELARA: We may need all the help we can get. Welcome, Aria Swiftfoot. Together, we shall illuminate the darkness that plagues our lands.\\n\\n(THE THREE CHARACTERS form an unexpected alliance, their determination evident in their eyes as they prepare to embark on their perilous journey to the Forgotten Caverns.)\\n\\nFADE OUT.\",\n",
       "  'scene': '- Elara Dawnshield is summoned by her tribe of wise sages to investigate the disturbances in Eldoria.'},\n",
       " {'character_script': \"EXT. ENCHANTED FOREST - DAY\\n\\n(The camera pans across the lush and vibrant forest. ELARA DAWNSHIELD stands in the midst of the trees, her bow at the ready. She senses the urgency of the situation and prepares for her perilous journey.)\\n\\nELARA: (to herself) Something is amiss in Eldoria. The sacred Ancestral Tree is withering, and darkness has descended upon our lands. I must uncover the source of this evil and protect my homeland.\\n\\n(Suddenly, THE WISE SAGES, ancient elves with ethereal presence, materialize before Elara.)\\n\\nWISE SAGE 1: (wisdom-filled voice) Elara Dawnshield, chosen protector of Eldoria, we have sensed your call for aid.\\n\\nWISE SAGE 2: The balance of nature is disrupted, and the forces of darkness threaten our sacred home.\\n\\nELARA: (determined) I will not let Eldoria fall into darkness. Tell me, wise ones, where must I journey to eliminate this threat?\\n\\nWISE SAGE 1: You must venture to the Forgotten Caverns, a place shrouded in mystery and ancient magic. There, you shall find the source of the darkness and extinguish it.\\n\\n(Just as Elara is about to accept the quest, GARRICK STORMBRINGER, a powerful sorcerer, appears before them.)\\n\\nGARRICK: (intrigued) Darkness has fallen upon Eldoria, and I have felt its call. I offer my aid to this noble cause.\\n\\nELARA: (surprised) Garrick Stormbringer? I have heard tales of your powers. If you wish to help, then I welcome your assistance.\\n\\n(ARIA SWIFTFOOT, a nimble rogue, emerges from the shadows, having been listening to the conversation.)\\n\\nARIA: (stepping forward) I've overheard your plight, and I seek justice in a world riddled with corruption. I can assist you in your quest.\\n\\nELARA: (hesitant) Your intentions are unclear, Aria Swiftfoot, but I believe we may need all the help we can get. You can join us.\\n\\n(Elara, Garrick, and Aria share a determined glance, ready to embark on their perilous journey to the Forgotten Caverns.)\\n\\nELARA: Let us set forth. The fate of Eldoria rests in our hands.\",\n",
       "  'scene': '- Elara senses the urgency of the situation and prepares for her perilous journey.'},\n",
       " {'character_script': \"INT. ENCHANTED FOREST - CLEARING - DAY\\n\\n(The enchanted forest of Eldoria is shown in all its beauty and tranquility. Sunlight filters through the tall, ancient trees, casting a warm glow on the lush foliage. Birds chirp and woodland creatures scurry about peacefully. ELARA, a skilled elven archer with a determined expression, stands at the center of the clearing, her bow slung over her shoulder.)\\n\\nELARA: (whispering) I must find what plagues our land and restore the balance.\\n\\n(Suddenly, the WISE SAGES, ancient elves with ethereal presence, materialize before Elara. Their ageless faces hold both wisdom and concern.)\\n\\nWISE SAGE 1: Elara Dawnshield, we have sensed your call for aid.\\n\\nWISE SAGE 2: The balance of nature is disrupted, and our forest suffers.\\n\\nELARA: (bowing respectfully) Wise Sages, I am ready to do whatever it takes to protect Eldoria.\\n\\nWISE SAGE 3: There is a darkness that emanates from the Forgotten Caverns. It threatens the very core of our land.\\n\\n(ELARA's eyes widen with determination.)\\n\\nELARA: I will eliminate this threat and restore harmony to Eldoria.\\n\\n(Just as Elara is about to accept the quest, GARRICK STORMBRINGER, a mysterious sorcerer with an air of power, approaches.)\\n\\nGARRICK: (in a deep, resonant voice) Elara Dawnshield, I have sensed the darkness that plagues this forest. I offer my aid in your mission.\\n\\nELARA: (surprised but open-minded) Your powers would be a valuable asset, Garrick Stormbringer. I welcome your assistance.\\n\\n(ARIANNA SWIFTFOOT, a nimble and agile rogue, stealthily steps forward from the shadows.)\\n\\nARIANNA: (with a mischievous glint in her eye) It seems we have a common goal. Count me in.\\n\\nELARA: (assessing Aria) Your skills could prove useful, but know this, we will not tolerate any betrayal.\\n\\nARIANNA: (raising an eyebrow) Trust me, my intentions align with justice.\\n\\n(Elara contemplates for a moment, then nods.)\\n\\nELARA: Very well, Aria Swiftfoot. Together, we will protect Eldoria and restore its peace.\\n\\n(The trio shares a determined glance, the weight of their quest heavy upon them.)\\n\\nELARA: (firmly) Let our journey to the Forgotten Caverns begin. The fate of Eldoria rests in our hands.\\n\\n(Garrick and Aria nod in agreement, their resolve matching Elara's.)\\n\\nFADE OUT.\",\n",
       "  'scene': '- The enchanted forest of Eldoria is shown in all its beauty and tranquility before the arrival of the dark force.'},\n",
       " {'character_script': \"INT. ELARA'S CAMP - NIGHT\\n\\n(Elara, Garrick, and Aria sit around a campfire, their faces illuminated by the dancing flames. Elara looks stern and focused, Garrick brooding and mysterious, and Aria mischievous yet determined.)\\n\\nELARA: (glancing at the map spread out before them) The Forgotten Caverns lie just beyond this treacherous terrain. We've come a long way, but our journey is far from over.\\n\\nGARRICK: (staring into the fire, his eyes glowing with intensity) This darkness that plagues Eldoria... I saw it in my visions. It's more sinister than we could have ever imagined.\\n\\nARIA: (leaning forward, her eyes gleaming with curiosity) And what exactly did your visions reveal, Garrick?\\n\\nGARRICK: (pausing, his voice filled with foreboding) A malevolent sorcerer, ancient and powerful, seeks to wield the very essence of Eldoria for his own wicked purposes. The forest is in grave danger.\\n\\nELARA: (clenching her bow tightly) We cannot let that happen. Eldoria is our home, and we will defend it with our lives if necessary.\\n\\nARIA: (smirking) Well, lucky for you, Elara, you have the best archer and the most skillful rogue by your side. We won't let you down.\\n\\n(Elara looks at Aria, a flicker of doubt momentarily crossing her face.)\\n\\nELARA: Just remember, Aria, any betrayal will not be tolerated. This mission is too important for distractions.\\n\\nARIA: (holding Elara's gaze, determination in her eyes) Trust me, Elara. I have my own reasons for being here, but protecting Eldoria is one of them.\\n\\nGARRICK: (raising an eyebrow) And what about you, Elara? What drives you to risk everything for our homeland?\\n\\nELARA: (a fire burning within her eyes) I have spent my entire life in Eldoria, under the guidance of the wise sages. This forest has given me everything, and now it's my turn to give back. I will not let darkness prevail.\\n\\n(They share a determined glance, the weight of their quest settling upon them.)\\n\\nELARA: (rising to her feet) We leave at dawn. Rest well, my friends. Tomorrow, we face the Forgotten Caverns and the sorcerer's malevolence.\\n\\n(They extinguish the fire and retreat to their respective sleeping arrangements, readying themselves for the challenges that lie ahead.)\\n\\nFADE OUT.\",\n",
       "  'scene': \"Scene 2: Garrick's vision\"},\n",
       " {'character_script': \"ELARA'S CAMP - NIGHT\\n\\n(Elara, Garrick, and Aria are gathered around a campfire. Elara appears stern and focused, Garrick brooding and mysterious, and Aria mischievous yet determined. They are studying a map.)\\n\\nELARA: (looking at the map) We've come a long way, but our journey is far from over.\\n\\nGARRICK: (leaning back) Indeed, Elara. I've seen the darkness that plagues Eldoria in my visions. It is more sinister than we imagined.\\n\\nARIA: (leaning forward with curiosity) Garrick, what did your visions reveal?\\n\\nGARRICK: (pausing, his voice serious) I saw a malevolent sorcerer. He seeks to wield the essence of Eldoria for his own wicked purposes. Our forest is in grave danger.\\n\\n(Elara clenches her bow, determination in her eyes.)\\n\\nELARA: We will defend our home with our lives if necessary. This mission is too important for distractions.\\n\\nARIA: (holding Elara's gaze) Elara, you know we won't let you down. We're here to protect Eldoria, just like you.\\n\\n(Elara's stern expression softens slightly, a flicker of doubt passing through her eyes.)\\n\\nELARA: (hesitant) I don't doubt your intentions, Aria, but this mission requires complete loyalty. Betrayal will not be tolerated.\\n\\nARIA: (firmly) Elara, protecting Eldoria is one of my own reasons for being here. You can trust me.\\n\\n(Garrick, who has been observing the interaction, speaks up.)\\n\\nGARRICK: And what about you, Elara? What motivates you to embark on this perilous journey?\\n\\n(Elara takes a moment before revealing her true motivation.)\\n\\nELARA: (softly) I've spent my entire life in Eldoria. It has given me everything. Now, it's time for me to give back.\\n\\n(The weight of their quest settles upon them, a moment of shared understanding.)\\n\\nELARA: (rising to her feet) We leave at dawn. Prepare yourselves for the challenges that lie ahead.\\n\\n(The trio extinguishes the fire, preparing for the impending journey. The scene fades out.)\",\n",
       "  'scene': '- Garrick Stormbringer receives a vision of the impending doom that awaits Eldoria.'},\n",
       " {'character_script': \"ELARA'S CAMP - NIGHT\\n\\n(ELARA, GARRICK, and ARIA are gathered around a campfire, studying a map.)\\n\\nELARA: (stern and focused) We've come a long way, but our journey is far from over. There's still much ground to cover.\\n\\nGARRICK: (brooding and mysterious) Indeed. I've seen the darkness that plagues Eldoria in my visions. It's far more sinister than we had imagined.\\n\\nARIA: (mischievous yet determined) What did your visions reveal, Garrick? Tell us.\\n\\n(GARRICK pauses, his expression hardening.)\\n\\nGARRICK: I saw a malevolent sorcerer, one who seeks to wield the essence of Eldoria for his own wicked purposes. Our forest is in grave danger.\\n\\n(ELARA clenches her bow, showing her determination.)\\n\\nELARA: Then we must stop him at all costs. Our homeland must be protected.\\n\\nARIA: (reassuringly) Elara, we won't let you down. We're here to protect Eldoria, just like you.\\n\\n(ELARA's stern expression softens slightly, but she hesitates.)\\n\\nELARA: (emphasizing loyalty) This mission requires complete loyalty. Betrayal will not be tolerated.\\n\\nARIA: (firmly) Elara, you can trust us. Protecting Eldoria is one of my own reasons for being here.\\n\\n(GARRICK looks at ELARA, curious.)\\n\\nGARRICK: And what about you, Elara? What motivates you to embark on this perilous journey?\\n\\n(ELARA takes a moment, her voice softening.)\\n\\nELARA: I've spent my entire life in Eldoria. It has given me everything. Now it's time for me to give back.\\n\\n(The weight of their quest settles upon them, as they all understand each other's motivations.)\\n\\nELARA: (rising to her feet) We leave at dawn. Prepare yourselves for the challenges ahead.\\n\\n(The trio extinguishes the fire and starts preparing for their impending journey as the scene fades out.)\",\n",
       "  'scene': '- He feels a deep responsibility to aid Elara in her mission and decides to set out to find her.'},\n",
       " {'character_script': \"EXT. ENCHANTED FOREST - CAMPFIRE - NIGHT\\n\\n(ELARA, GARRICK, and ARIA sit around a crackling campfire, studying a map spread out before them. Tension fills the air as they discuss their mission.)\\n\\nELARA: (gesturing to the map) We've covered a good distance, but there's still a long way to go. Our homeland, Eldoria, is counting on us.\\n\\nGARRICK: (serious) My visions have revealed a malevolent sorcerer threatening Eldoria. The darkness grows stronger every day. We must stop him.\\n\\nARIA: (nodding) We're in this together, Elara. You can count on our loyalty.\\n\\nELARA: (determined) Loyalty is crucial. Eldoria has given us so much. It's time we give back and protect what's ours.\\n\\nGARRICK: (curious) Elara, what drives you to protect our homeland so fiercely?\\n\\nELARA: (pausing, emotions flitting across her face) Eldoria is not just a place. It's our history, our connection to nature. It's everything we hold dear. I won't stand by and watch it fall.\\n\\n(ARIA places a comforting hand on ELARA's shoulder.)\\n\\nARIA: We understand, Elara. We share your commitment. We won't let Eldoria be lost to darkness.\\n\\n(They all exchange determined glances, their bond growing stronger.)\\n\\nGARRICK: (rising) Then at first light, we leave. We'll face every challenge that comes our way, united.\\n\\nELARA: (smiling) Together, we are strong. We will restore peace to Eldoria.\\n\\n(They rise from the campfire, preparing for the challenges ahead, as the scene fades out.)\\n\\n---\\n\\nNote: The previous scene summary was used as a reference to ensure consistency with the characters and their motivations. The dialogue script focuses on Elara's passion for defending Eldoria, Garrick's visions, Aria's reassurance, and the trio's commitment to their mission.\",\n",
       "  'scene': \"- Garrick's mysterious past and his powers as a sorcerer are hinted at.\"},\n",
       " {'character_script': \"ELARA'S DECISION\\n\\n(ELARA, GARRICK, and ARIA stand at the entrance of an ancient cave, their eyes filled with determination and anticipation.)\\n\\nELARA: (looking at the map) This cave is said to hold the key to uncovering the sorcerer's ultimate plan. It's our best chance at stopping him and saving Eldoria.\\n\\nGARRICK: (nods) The visions have guided us this far, and I believe this is where we'll find the answers we seek.\\n\\nARIA: (tightening the grip on her daggers) I've come this far with both of you, and I won't turn back now. Whatever lies inside that cave, I'm ready to face it.\\n\\nELARA: (places a comforting hand on ARIA's shoulder) Your loyalty and skills have proven invaluable, Aria. I'm glad to have you by our side.\\n\\nGARRICK: (adjusts his cloak) Time is running out. We must proceed cautiously, but with conviction. Together, we will prevail.\\n\\n(ELARA, GARRICK, and ARIA share a determined look. Taking a deep breath, they enter the cave, their fates intertwined as they navigate through the darkness.)\",\n",
       "  'scene': \"Scene 3: Aria's decision\"},\n",
       " {'character_script': \"INT. ENCHANTED FOREST - DAY\\n\\n(Elara, Garrick, and Aria stand at the entrance of an ancient cave, their eyes fixed on the darkness before them. Elara holds a glowing crystal in her hand, its soft light casting mystical reflections on their faces.)\\n\\nELARA: (determined) This is it. The cave holds the key to stopping the sorcerer and saving Eldoria.\\n\\nGARRICK: (nodding) I trust the visions that have guided us so far. If this is where they lead, then we must enter.\\n\\nARIA: (gripping her daggers tightly) I've come this far, and I won't turn back now. I'm committed to this mission.\\n\\n(Elara looks at Aria, her eyes filled with respect and gratitude. She places a comforting hand on Aria's shoulder.)\\n\\nELARA: Aria, your loyalty and skills have proven invaluable. We couldn't have come this far without you.\\n\\nARIA: (softening) Thank you, Elara. I won't let you down.\\n\\n(They share a determined look, their eyes filled with unwavering resolve. Time is running out, and they know they must proceed into the cave.)\\n\\nELARA: (taking a deep breath) Let's proceed with caution but conviction. Together, we can overcome any obstacle.\\n\\nGARRICK: (raising his hand, summoning a flicker of lightning) Our strengths combined, we are unstoppable.\\n\\nARIA: (smirking) And I have a few tricks up my sleeve.\\n\\n(With their spirits lifted and their hearts united, they take a collective step forward, their footsteps echoing through the cave. The darkness envelops them, but they remain undeterred.)\\n\\nCUT TO BLACK.\",\n",
       "  'scene': '- Aria Swiftfoot hears whispers of the disturbances in Eldoria and decides to follow Elara and Garrick.'},\n",
       " {'character_script': \"INT. ANCIENT CAVE - NIGHT\\n\\n(Elara, Garrick, and Aria stand at the entrance of the ancient cave, holding the glowing crystal. The cave's entrance is rugged and foreboding, with eerie sounds echoing from within. They exchange determined glances, ready to face whatever lies ahead.)\\n\\nELARA: (firmly) This is it. The cave that holds the key to stopping the sorcerer and saving Eldoria.\\n\\nGARRICK: (looking at the crystal) The energy emanating from this crystal... It confirms our suspicions. We must move forward.\\n\\nARIA: (nodding) I'm with you both. Whatever it takes to protect our homeland and restore peace.\\n\\nELARA: (grateful) Aria, your commitment to this mission... I never expected it, but I'm thankful for it. Together, we will ensure Eldoria's safety.\\n\\n(Elara grasps Aria's shoulder, their eyes meeting in a moment of understanding. They share a silent bond, acknowledging the challenges ahead.)\\n\\nGARRICK: (stepping forward) With our strengths combined, we'll face any obstacle that comes our way. Let's not waste any more time.\\n\\n(They take a deep breath, summoning their resolve, and step into the cave. The darkness envelops them, but their determination shines through.)\\n\\nCUT TO BLACK.\",\n",
       "  'scene': '- Her skills as a rogue and her desire to retrieve a stolen artifact motivate her decision.'},\n",
       " {'character_script': \"INT. ANCIENT CAVE ENTRANCE - DAY\\n\\n(ELARA, GARRICK, and ARIA stand at the entrance of an ominous cave, clutching a glowing crystal. The sound of eerie whispers echo from within.)\\n\\nELARA: (determined) This is it, the cave that holds the key to stopping the sorcerer and saving Eldoria.\\n\\nGARRICK: (nodding) The energy emanating from the crystal confirms our suspicions. We must move forward.\\n\\nARIA: (resolute) I'm with you both. I'll do whatever it takes to protect our homeland and restore peace.\\n\\n(ELARA looks at ARIA, her expression softening.)\\n\\nELARA: Aria, I want to thank you for your commitment. Your skills may lean towards the shadows, but I see your good heart.\\n\\nARIA: (grateful) Thank you, Elara. I may have grown up as an orphan, but justice and righteousness guide my actions.\\n\\nGARRICK: (assertively) Together, we will overcome any obstacle that lies ahead. We have to.\\n\\n(They take a deep breath, summoning their resolve, and step into the dark cave. The scene ends with a cut to black.)\",\n",
       "  'scene': \"- Aria's character is explored, revealing her upbringing as an orphan and her moral compass.\"},\n",
       " {'character_script': \"INT. ANCIENT CAVE - DAY\\n\\nELARA, GARRICK, and ARIA stand at the entrance of the cave, holding the glowing crystal. Eerie whispers echo from within, sending shivers down their spines.\\n\\nELARA turns to GARRICK, a determined look in her eyes.\\n\\nELARA\\n(intensely)\\nThis cave holds the key to stopping the sorcerer and saving Eldoria. We must proceed with caution.\\n\\nGARRICK nods, his dark eyes gleaming with a mix of anticipation and apprehension.\\n\\nGARRICK\\n(mysteriously)\\nI sense a powerful energy emanating from that crystal. It confirms our suspicions.\\n\\nARIA steps forward, her agile fingers tightly gripping her daggers.\\n\\nARIA\\n(resolutely)\\nI'm with you, Elara. No matter what lies ahead, I will protect our homeland and restore peace.\\n\\nELARA smiles, grateful for ARIA's loyalty.\\n\\nELARA\\n(sincerely)\\nThank you, Aria. Your commitment to justice shines through, despite your shadowy skills. I'm honored to have you by our side.\\n\\nARIA's gratitude softens her expression.\\n\\nARIA\\n(determinedly)\\nJustice and righteousness guide my every step. Together, we can overcome any obstacles.\\n\\nGARRICK, his hands crackling with sparks of lightning, adds his unwavering determination.\\n\\nGARRICK\\n(firmly)\\nWe are united in our purpose. We will face whatever lurks in these depths and emerge victorious.\\n\\nThey take a deep breath, summoning their resolve, before stepping into the darkness of the cave.\\n\\nFADE OUT.\",\n",
       "  'scene': 'Scene 4: The meeting of Elara, Garrick, and Aria'},\n",
       " {'character_script': \"THE CAVE ENTRANCE\\n\\n(ELARA, GARRICK, and ARIA stand at the entrance of an ancient cave, holding a glowing crystal. Eerie whispers can be heard from within, unsettling them.)\\n\\nELARA: (turns to GARRICK) This cave holds the key to stopping the sorcerer and saving Eldoria. We must proceed with caution.\\n\\nGARRICK: (nods, sensing the powerful energy emitted by the crystal) I sense a strong presence within. It confirms our suspicions.\\n\\nARIA: (steps forward, determined) Our homeland is at stake. I am ready to protect Eldoria and restore peace to its enchanted forest.\\n\\nELARA: (appreciative of ARIA's loyalty) Aria, your commitment to justice is admirable. I am grateful to have you by our side.\\n\\nARIA: (reaffirming her determination) I will overcome any obstacles that come our way. Together, we will triumph.\\n\\nGARRICK: (charged with lightning, adds his unwavering determination) And with the power coursing through me, we will not falter. \\n\\nELARA: (takes a deep breath) Let us embrace the darkness within the cave and emerge victorious on the other side. Eldoria needs us.\\n\\n(The three characters share a final glance of determination before stepping into the darkness of the cave. The scene fades out.)\",\n",
       "  'scene': '- Elara, Garrick, and Aria meet for the first time and their initial skepticism towards each other is established.'},\n",
       " {'character_script': 'INT. ANCIENT CAVE - ENTRANCE - DAY\\n\\nElara, Garrick, and Aria stand at the entrance of the ancient cave. The air is thick with an eerie silence, broken only by faint whispers emanating from within. They exchange wary glances, their eyes fixed on the glowing crystal in their hands.\\n\\nELARA\\n(voice filled with determination)\\nGarrick, this cave holds the key to stopping the sorcerer and saving Eldoria. We must proceed with caution.\\n\\nGARRICK\\n(nodding, sensing the powerful energy)\\nIndeed, Elara. The energy emitted by this crystal confirms our suspicions. We cannot afford to fail.\\n\\nAria takes a step forward, her eyes shining with fierce determination.\\n\\nARIA\\n(resolute)\\nI may be a rogue, but my loyalty lies with Eldoria. I will protect it and help restore peace to its enchanted forest.\\n\\nElara looks at Aria with gratitude.\\n\\nELARA\\n(sincerely)\\nI appreciate your loyalty, Aria. Together, we can overcome any obstacles that come our way.\\n\\nARIA\\n(firmly)\\nYou can count on me, Elara. Nothing will stand in our way.\\n\\nGarrick steps forward, his eyes gleaming with unwavering determination.\\n\\nGARRICK\\n(charged with lightning)\\nAnd you can count on me as well. The darkness within this cave will be no match for our combined strengths.\\n\\nElara takes a deep breath, steeling herself for what lies ahead.\\n\\nELARA\\n(resolute)\\nLet us embrace the darkness within this cave and emerge victorious on the other side. Eldoria needs us.\\n\\nThe three characters share a final glance of determination before stepping into the darkness of the cave. Their resolve shines through their eyes as they embark on their perilous journey, ready to confront the sorcerer and restore peace to their homeland.\\n\\nFADE OUT.',\n",
       "  'scene': '- Elara reluctantly accepts Aria as an ally after realizing they share a common goal.'},\n",
       " {'character_script': \"INT. ANCIENT CAVE - DAY\\n\\n(Elara, Garrick, and Aria stand at the entrance of an ancient cave, holding a glowing crystal. The cave is dark and foreboding.)\\n\\nELARA: (determined) We've come a long way to get here. This cave holds the answers we seek.\\n\\nGARRICK: (confident) Yes, and with our combined strengths, we won't let anything stop us.\\n\\nARIA: (nervous but resolute) I may be a rogue, but I'm loyal to Eldoria. I won't let anything happen to our homeland.\\n\\nELARA: (grateful) Your loyalty is appreciated, Aria. We need all the help we can get.\\n\\nGARRICK: (reassuring) Elara is right. We have faced countless challenges together, and we have always come out victorious.\\n\\nARIA: (determined) Let's not forget why we're here. We need to stop the sorcerer and save Eldoria.\\n\\nELARA: (inspiring) We are the protectors of Eldoria. We carry the hopes and dreams of our people. Together, we will overcome any obstacle.\\n\\n(Elara takes a deep breath and steps forward, leading the group into the darkness of the cave. They disappear into the shadows, prepared to confront the sorcerer and restore peace to Eldoria.)\\n\\nFADE OUT.\",\n",
       "  'scene': '- The trio begins to form their bond and set off on their journey together.'},\n",
       " {'character_script': \"INT. ANCIENT CAVE - NIGHT\\n\\n(Elara, Garrick, and Aria stand at the entrance of the ancient cave, their hands gripping the glowing crystal. Their determination and loyalty to Eldoria radiate from their expressions.)\\n\\nELARA: (looking at Aria) Your loyalty to Eldoria has never faltered, Aria. I appreciate the risks you've taken to join us on this mission.\\n\\nARIA: (nods) Elara, this forest is my home too. I couldn't just stand by and watch it fall into darkness. We're in this together.\\n\\nGARRICK: (stepping forward) And we've faced darkness before. Remember the time we stopped that necromancer from raising an army of the undead? Our combined strengths are formidable.\\n\\n(Elara nods, her eyes filled with determination.)\\n\\nELARA: You're right, Garrick. We have overcome great challenges in the past, and I believe we can do it again. We'll find the source of this evil and put an end to it, no matter the cost.\\n\\n(They exchange a resolute look, their determination growing.)\\n\\nARIA: (drawing her daggers) Let's not waste any more time. The longer we stand here, the more time the sorcerer has to carry out his plans.\\n\\nGARRICK: (raising his hand, summoning a bolt of lightning) I agree. We must stop him before he taps into the magical energies of Eldoria.\\n\\n(Elara takes a deep breath, taking the lead and entering the darkness of the cave, the others following closely behind.)\\n\\nELARA: (whispering) Stay alert, both of you. We don't know what awaits us inside.\\n\\n(They disappear into the darkness, their determination and courage guiding their every step.)\\n\\nFADE OUT.\",\n",
       "  'scene': \"Scene 5: Uncovering the sorcerer's plot\"},\n",
       " {'character_script': \"INT. MYTHICAL FOREST - DAY\\n\\n(The trio, Elara, Garrick, and Aria, cautiously make their way through the dense forest. Strange sounds echo around them, and the atmosphere is thick with magical energy.)\\n\\nELARA: (whispering) Stay alert, everyone. We're entering the domain of mythical creatures. Keep your weapons ready.\\n\\nGARRICK: These creatures won't stand a chance against us. Together, we've faced far worse.\\n\\nARIA: That may be true, but we can't underestimate their powers. Remember, they're under the sorcerer's influence.\\n\\n(The ground shakes, and a large, menacing creature appears through the trees.)\\n\\nELARA: (draws her bow) Brace yourselves. Here they come.\\n\\n(Garrick conjures bolts of lightning, and Aria swiftly maneuvers around the creature, trying to find its weak spot. Elara takes aim, her arrow glowing with magical energy.)\\n\\nELARA: (taking a deep breath) For Eldoria!\\n\\n(Elara releases the arrow, hitting the creature's vulnerable spot. It lets out a massive roar before collapsing to the ground.)\\n\\nGARRICK: Well done, Elara. Your accuracy is unmatched.\\n\\nARIA: (smirking) Guess I'm not the only one impressed by Elara's skills.\\n\\nELARA: (grinning) You've proven your loyalty and bravery, Aria. I'm grateful to have you by our side.\\n\\n(They continue to navigate through the forest, encountering more mythical creatures and witnessing the destructive effects of the sorcerer's dark magic. With each encounter, their bond strengthens and their determination grows.)\\n\\nELARA: This darkness won't consume Eldoria. We'll put an end to the sorcerer's plans.\\n\\nARIA: The longer we wait, the more progress he makes. We must act swiftly.\\n\\nGARRICK: Agreed. We cannot let him access the magical energies of Eldoria.\\n\\n(Their determination fuels their steps as they venture deeper into the heart of the forest, ready to face whatever challenges lie ahead.)\\n\\nFADE OUT.\",\n",
       "  'scene': \"- The trio faces mythical creatures and encounters the effects of the sorcerer's dark magic.\"},\n",
       " {'character_script': \"INT. MYTHICAL FOREST - DAY\\n\\n(Elara, Garrick, and Aria cautiously make their way through the dense undergrowth. The atmosphere is thick with magical energy, and strange sounds surround them. Elara warns the trio to stay alert as they enter the domain of mythical creatures, urging them to keep their weapons ready. Garrick confidently assures them that they have faced worse before, but Aria reminds them not to underestimate the creatures, who are under the influence of a powerful sorcerer.)\\n\\nELARA: (whispering) Stay vigilant, my friends. We tread upon sacred ground, where ancient creatures roam.\\n\\nGARRICK: (smirking) Fear not, Elara. Lightning and thunder have yet to strike down Garrick Stormbringer.\\n\\nARIA: (nods) Just remember, we're dealing with more than just creatures. They're under the influence of a powerful sorcerer. Be on your guard, both of you.\\n\\n(Suddenly, the ground shakes, and a large, menacing creature appears. Elara draws her bow, urging her companions to brace themselves. Garrick conjures lightning bolts, Aria maneuvers around the creature to find its weak spot, and Elara's arrow, glowing with magical energy, hits the creature's vulnerable spot, causing it to collapse.)\\n\\nGARRICK: Well done, Elara! Your accuracy is unmatched.\\n\\nARIA: (smirking) Impressive, Elara. Perhaps you're not all bark and no bite.\\n\\nELARA: (smiling) I couldn't have done it without both of you. Your skills and bravery are invaluable.\\n\\n(As they continue through the forest, they witness the destructive effects of the sorcerer's dark magic and encounter more mythical creatures. With each encounter, their bond strengthens and their determination to stop the sorcerer's plans grows.)\\n\\nELARA: (voice determined) We must end this darkness consuming Eldoria. Our land deserves better.\\n\\nARIA: (nodding) I agree, Elara. This sorcerer's reign ends now.\\n\\nGARRICK: (serious) The magical energies of Eldoria cannot fall into the wrong hands. We must prevent the sorcerer from accessing them at all costs.\\n\\n(They venture deeper into the heart of the forest, ready to face the challenges that lie ahead. The scene fades out.)\\n\\nFADE OUT.\",\n",
       "  'scene': \"- They gather clues and begin to unravel the sorcerer's plan.\"},\n",
       " {'character_script': \"INT. MYTHICAL FOREST - DAY\\n\\n(The scene opens with Elara, Garrick, and Aria cautiously making their way through the mystical forest. Elara takes the lead, her bow at the ready.)\\n\\nELARA: (whispering) Stay close and be prepared for anything. This forest is filled with powerful mythical creatures under the influence of the sorcerer. We must be on guard.\\n\\nGARRICK: (summoning a bolt of lightning in his hand) Fear not, Elara. With my control over lightning and thunder, we shall prevail against any creature that dares to cross our path.\\n\\nARIA: (silently moving from shadow to shadow) I may not have elemental powers or a bow like Elara, but my skills in stealth and thievery will come in handy. Together, we will overcome any obstacle.\\n\\n(As they continue their journey, strange sounds echo through the forest. Suddenly, a large creature lunges at them from the bushes. Elara swiftly shoots an arrow, hitting its mark.)\\n\\nELARA: (grinning) That's one less creature to worry about.\\n\\nGARRICK: (summoning a thunderstorm above the creature) And here's a taste of my lightning!\\n\\n(The lightning strikes the creature, weakening it further. Aria sees an opportunity and swiftly moves in, delivering a precise strike with her daggers.)\\n\\nARIA: (smirking) And that's how it's done.\\n\\nELARA: (admiring their combined effort) Excellent work, my companions. Our skills complement each other perfectly.\\n\\n(They continue deeper into the forest, witnessing the destructive effects of the sorcerer's dark magic and encountering more creatures. Elara's determination grows stronger.)\\n\\nELARA: We must end the darkness consuming Eldoria and protect its magical energies at all costs. Our bond strengthens with every step we take. Together, we will bring light back to this forest.\\n\\n(As the scene fades out, Elara, Garrick, and Aria venture deeper into the forest, their resolve unyielding.)\\n\\nTO BE CONTINUED...\",\n",
       "  'scene': \"- Each character's unique abilities and skills are showcased as they navigate through challenges and obstacles.\"},\n",
       " {'character_script': \"INT. MYTHICAL FOREST - DAY\\n\\n(The camera pans over a dense forest, illuminated by rays of sunlight filtering through the towering trees. Elara, Garrick, and Aria cautiously make their way through the underbrush, their faces etched with determination.)\\n\\nELARA: (whispering) Stay alert, everyone. We're entering the heart of the forest now. The sorcerer's influence is stronger here.\\n\\nGARRICK: (stroking his beard) Indeed. I can sense the ominous presence growing with each step we take.\\n\\nARIA: (slinking through the shadows) And I can smell trouble brewing. These creatures are not to be underestimated.\\n\\n(As they continue deeper into the forest, they come across a formidable creature, its snarling fangs and razor-sharp claws glistening in the sunlight.)\\n\\nELARA: (nocking an arrow) Ready your weapons, my friends. We face our first adversary.\\n\\nGARRICK: (channels lightning into his hand) I shall weaken it with a bolt of lightning.\\n\\n(Elara releases her arrow, and it pierces through the creature's thick hide, causing it to stagger back. Garrick's lightning strike follows, crackling through the air and sizzling against the creature's scales.)\\n\\nARIA: (springing forward, daggers gleaming in her hands) Leave the finishing move to me!\\n\\n(Aria gracefully dodges the creature's frenzied attacks, swiftly maneuvering behind it. With a swift and precise strike, she delivers the final blow, causing the creature to collapse in a heap.)\\n\\nELARA: Well done, Aria. Your skills are unmatched.\\n\\nARIA: (smirking) Just doing my part. Let's keep moving. The sorcerer's presence grows stronger still.\\n\\n(They continue deeper into the forest, their determination unwavering despite the destructive effects of the sorcerer's magic surrounding them. The camera fades out as they venture further, their resolve burning brighter than ever.)\\n\\nTO BE CONTINUED...\",\n",
       "  'scene': 'Scene 6: Developing a strategy'},\n",
       " {'character_script': \"MYTHICAL FOREST - DAY\\n\\n(Elara, Garrick, and Aria cautiously navigate through the dense underbrush, their senses heightened in anticipation. The ominous presence of the sorcerer hangs heavy in the air.)\\n\\nELARA: Stay alert, my companions. We draw closer to the sorcerer's domain.\\n\\nGARRICK: (gripping his staff tightly) I can feel his malevolence growing stronger with every step we take.\\n\\nARIA: (slinking through the shadows) And I can sense the forest's distress. It yearns for liberation from this darkness.\\n\\n(They suddenly come upon a clearing, where a formidable creature with jagged claws and glowing red eyes awaits them.)\\n\\nELARA: (whispering) Prepare for battle. We cannot let this creature hinder our mission.\\n\\n(Garrick channels his energy, sparks flickering around his outstretched hand. Elara notches an arrow, her gaze locked on the creature. Aria readies her daggers, eyes locked on her target.)\\n\\nELARA: (commanding) Attack!\\n\\n(Elara releases her arrow, swift and true, striking the creature's shoulder. It recoils, weakened. Garrick unleashes a bolt of lightning, crackling through the air and further subduing the creature. Aria darts forward, gracefully delivering a final blow, causing the creature to collapse.)\\n\\nELARA: Well done, Aria. Your skills are truly unmatched.\\n\\nARIA: (grinning) Just doing my part.\\n\\nGARRICK: (eyeing the fallen creature) We mustn't linger. The sorcerer's power continues to intensify.\\n\\nELARA: You're right, Garrick. We must press on, no matter the challenges that lie ahead.\\n\\n(They exchange determined glances and with renewed resolve, they push deeper into the forest, their mission clear in their minds. The scene ends with a fade out, leaving the audience eager to see what lies ahead for our resilient heroes.)\",\n",
       "  'scene': '- Elara, Garrick, and Aria regroup and discuss their findings.'},\n",
       " {'character_script': \"FOREST CLEARING\\n\\n(The trio cautiously approaches a forest clearing, sensing the presence of the sorcerer. They see a formidable creature standing in their path.)\\n\\nELARA: (whispering) Be ready, my friends. We must defeat this creature to continue our mission.\\n\\nGARRICK: (raises his hands, crackling with lightning) Fear not, for the powers of thunder and lightning are at our command.\\n\\nARIA: (smirking) And I'll make sure this creature never sees us coming.\\n\\n(Elara, Garrick, and Aria engage in battle with the creature. Elara gracefully fires arrows with unmatched accuracy, while Garrick harnesses his elemental powers to blast the creature with lightning. Aria swiftly moves in the shadows, delivering precise strikes.)\\n\\nELARA: (shouting) Keep pushing, we can do this!\\n\\nGARRICK: (concentrating, summoning a powerful lightning storm) The forces of nature will not fail us!\\n\\nARIA: (dodging the creature's attacks) No creature can outsmart me!\\n\\n(Together, they weaken the creature by exploiting its vulnerabilities. The creature lets out a final roar before collapsing to the ground.)\\n\\nELARA: (catching her breath) Well done, my companions. Our skills truly complement each other.\\n\\nGARRICK: (smiling) Indeed, the power of lightning and the precision of archery make a formidable combination.\\n\\nARIA: (grinning) And a little bit of stealth never hurts.\\n\\n(They share a moment of relief, knowing they have conquered the immediate threat. However, their determination remains unwavering as they know the sorcerer's power still looms.)\\n\\nELARA: We must press forward. The sorcerer's power grows stronger with each passing moment. Our mission to uncover the source of this evil is far from over.\\n\\nGARRICK: (nodding) Agreed. Let our victory fuel our determination to save Eldoria from this darkness.\\n\\nARIA: (determined) And I'll make sure justice is served to whoever is behind all of this.\\n\\n(With renewed determination, they push deeper into the forest, leaving the scene with a sense of anticipation for the challenges that lie ahead for our heroes.)\",\n",
       "  'scene': \"- They develop a strategy to thwart the sorcerer, utilizing Elara's connection with nature, Garrick's elemental powers, and Aria's stealth and knowledge of the underworld.\"},\n",
       " {'character_script': \"FOREST CLEARING\\n\\n(Elara, Garrick, and Aria cautiously approach a forest clearing, their senses alert for any signs of danger. They exchange a quick glance, their eyes filled with determination.)\\n\\nELARA: (whispering) Stay alert, everyone. There's a powerful sorcerer lurking nearby.\\n\\nGARRICK: (nods) I can sense his malevolent presence. We must be prepared for anything.\\n\\nARIA: (smirks) Don't worry, I've got your backs. Just point me in the right direction.\\n\\n(As they step into the clearing, a formidable creature suddenly emerges, its growls echoing through the air. Elara readies her bow, Garrick channels his elemental powers, and Aria disappears into the shadows.)\\n\\nELARA: (takes a deep breath) Here it comes. Stay focused.\\n\\n(Elara releases a flurry of arrows, each one finding its mark with uncanny accuracy. The creature staggers, but does not falter. Garrick summons lightning, bolts crackling around him, and directs them towards the creature. The lightning strikes, weakening the creature further. Meanwhile, Aria silently moves closer to the creature, her daggers glinting in the dappled sunlight.)\\n\\nARIA: (whispers) Almost there.\\n\\n(Aria strikes with lightning speed, her daggers finding vulnerable spots on the creature's body. The creature roars in pain, weakening further. Elara and Garrick continue their relentless assault as the creature's strength wanes.)\\n\\nGARRICK: (gritting his teeth) Keep going! We're wearing it down!\\n\\nELARA: (nods) We can do this!\\n\\n(Together, the trio exploits the creature's vulnerabilities, their coordinated attacks weakening it until it collapses to the ground, defeated. They stand over the fallen creature, panting but triumphant.)\\n\\nARIA: (smirks) That wasn't so tough.\\n\\nGARRICK: (smiles) Not with you by our side, Aria.\\n\\nELARA: (grateful) Thank you, both of you. We make a formidable team.\\n\\n(They share a brief moment of celebration before turning their attention back to their mission.)\\n\\nELARA: (determined) We've won this battle, but the sorcerer's power still looms over Eldoria. Let's push deeper into the forest. Our journey is far from over.\\n\\n(With renewed determination, they continue their march, the anticipation of the challenges ahead fueling their steps. They leave the forest clearing, their bond strengthened by their shared victory and unwavering commitment to protect their homeland.)\",\n",
       "  'scene': \"- The bond between the characters deepens as they rely on each other's strengths and trust each other's judgments.\"},\n",
       " {'character_script': \"EXT. FOREST CLEARING - DAY\\n\\n(Elara, Garrick, and Aria cautiously approach the forest clearing, their eyes scanning the surroundings for any signs of danger. They exchange glances filled with determination and whisper to each other.)\\n\\nELARA: Stay on alert, everyone. We know the sorcerer could be lurking anywhere.\\n\\nGARRICK: Agreed. We can't let our guard down for a second.\\n\\nARIA: (nodding) I'll scout ahead and see if I can find any traces of magic or any other threats.\\n\\n(As Aria disappears into the shadows, Elara readies her bow, while Garrick channels his elemental powers.)\\n\\nELARA: (whispering a prayer) Guide my arrows, Lady of the Forest.\\n\\nGARRICK: (muttering an incantation) Lightning and thunder, heed my call.\\n\\n(They step into the clearing, their senses heightened. Suddenly, a formidable creature emerges from the shadows, growling loudly. Elara takes aim and shoots a flurry of arrows, each one hitting their mark. Garrick summons lightning to weaken the creature.)\\n\\nELARA: (concentrated) Stay strong, everyone! We can do this!\\n\\n(Aria stealthily moves closer, her daggers at the ready. With precision and agility, she attacks the creature from behind. It weakens under their relentless assault until it is defeated. They stand over it, panting but triumphant.)\\n\\nELARA: (breathing heavily) Well done, everyone. We make a formidable team.\\n\\nGARRICK: (catching his breath) Indeed. Our powers combined are truly impressive.\\n\\nARIA: (reappearing from the shadows) We sent a powerful message to anyone who dares to threaten Eldoria.\\n\\n(They take a moment to celebrate their victory before refocusing on their mission.)\\n\\nELARA: Our task is not yet complete. We need to confront the sorcerer and put an end to his wicked plans.\\n\\nGARRICK: (determined) Let's not waste any more time. Eldoria is counting on us.\\n\\n(They leave the clearing, their bond strengthened and their commitment to protecting their homeland unwavering.)\",\n",
       "  'scene': 'Scene 7: The climactic battle'},\n",
       " {'character_script': \"THE SORCERER'S LAIR\\n\\n(Elara, Garrick, and Aria cautiously enter a dimly lit chamber, their weapons at the ready. They see the sorcerer standing in the center of the room, surrounded by arcane symbols and swirling shadows.)\\n\\nELARA: (whispering) We've finally found him. Stay focused, everyone.\\n\\nGARRICK: (cracking his knuckles) This ends now. Prepare yourself, sorcerer.\\n\\nSORCERER: (grinning) Ah, the formidable heroes. I've been expecting you.\\n\\nARIA: (sneering) We're here to put an end to your wicked plans. Eldoria will be free from your grasp.\\n\\nSORCERER: (laughing) Oh, how naive. You think you can stop me? Your efforts are futile.\\n\\n(Garrick channels his elemental powers, sending bolts of lightning crackling through the air towards the sorcerer. Elara readies her bow, aiming at the sorcerer's weak spots. Aria disappears into the shadows, ready to strike.)\\n\\nELARA: (focused) Aim for his heart, Elara. You can do this.\\n\\nGARRICK: (sending more lightning) Feel the power of the storm, sorcerer!\\n\\nARIA: (whispering) Just a few more seconds, and I'll strike.\\n\\n(Suddenly, the sorcerer's dark magic counters their attacks, deflecting the lightning and creating a barrier around him.)\\n\\nSORCERER: (taunting) Is that the best you can do? I am more powerful than you can comprehend.\\n\\nELARA: (determined) We won't give up. Together, we can overcome any obstacle.\\n\\n(Garrick and Elara continue their assault, weakening the sorcerer's barrier. Aria spots an opportunity and lunges from the shadows, delivering a swift and precise blow with her dagger.)\\n\\nARIA: (grinning) Got you!\\n\\nSORCERER: (enraged) You dare? I will crush you all!\\n\\n(The battle intensifies, with Elara, Garrick, and Aria using their combined skills to wear down the sorcerer. They dodge his spells and counter with their own attacks.)\\n\\nELARA: (shouting) We can't let him win! Eldoria is counting on us!\\n\\nGARRICK: (gritting his teeth) We've come too far to fail now. Keep pushing!\\n\\nARIA: (swiftly dodging) We won't back down. This ends here, sorcerer!\\n\\n(Suddenly, the sorcerer's strength diminishes, weakened by the relentless assault. Elara readies her final arrow, a powerful shot imbued with her connection to nature.)\\n\\nELARA: (whispering) For Eldoria.\\n\\n(Elara releases the arrow, and it pierces through the sorcerer's defenses, striking him directly in the heart. He collapses to the ground, defeated.)\\n\\nSORCERER: (weakly) Impossible... You... can't...\\n\\nARIA: (smirking) Looks like we just did.\\n\\nELARA: (breathing heavily) It's over. Eldoria is safe.\\n\\nGARRICK: (relieved) We did it. Together.\\n\\n(As the trio catches their breath, they exchange glances, their bond stronger than ever.)\\n\\nARIA: (smiling) We make quite the team, don't we?\\n\\nELARA: (nodding) Indeed. I'm glad to have you both by my side.\\n\\nGARRICK: (grinning) And I'm glad to call you both my allies. We've accomplished something truly remarkable.\\n\\n(With their victory achieved, the trio takes a moment to savor the triumph. But their work is not over, as they know there are more adventures awaiting them, and more evil to be vanquished.)\\n\\nELARA: (determined) Our duty is not yet done. We must ensure Eldoria remains safe and protected.\\n\\nARIA: (nodding) Agreed. There's always another battle to fight.\\n\\nGARRICK: (raising an eyebrow) And with each battle, we grow stronger. Let's face what comes next, together.\\n\\n(The three heroes stand united, ready to face any challenge that awaits them. Their journey continues, their names forever etched in the annals of Eldoria's history.)\",\n",
       "  'scene': '- The trio confronts the sorcerer in a fierce showdown.'},\n",
       " {'character_script': \"INT. ANCIENT TEMPLE - NIGHT\\n\\nElara, Garrick, and Aria stand together in a dimly lit chamber, surrounded by mystical symbols and shadows. Before them, the SORCERER, a menacing figure with dark energy pulsating around him, smirks confidently.\\n\\nELARA\\n(intense)\\nThis ends now, sorcerer. Your darkness won't prevail over the enchanted forest.\\n\\nGARRICK\\n(clenching his fists)\\nYou've underestimated the power of lightning and thunder. Prepare to meet your fate.\\n\\nARIA\\n(smiling mischievously)\\nAnd don't forget about us rogues. We have a few tricks up our sleeves.\\n\\nThe sorcerer chuckles darkly, raising his hands as the symbols around him glow ominously.\\n\\nSORCERER\\nYour futile attempts won't save Eldoria. The power I wield is unmatched.\\n\\nElara notches an arrow on her bow, taking aim at the sorcerer's weak spots. Garrick channels electricity through his fingertips, ready to strike. Aria disappears into the shadows, her eyes gleaming with determination.\\n\\nELARA\\n(whispering a prayer)\\nMay the forest's spirits guide my arrows true.\\n\\nGARRICK\\n(determined)\\nI call upon the storm to smite this evil!\\n\\nARIA\\n(slyly)\\nTime to dance, sorcerer.\\n\\nElara releases a flurry of arrows, hitting the sorcerer's barrier with precision. Garrick conjures lightning bolts, striking the barrier with explosive force. Aria waits patiently, observing for an opening.\\n\\nThe sorcerer retaliates, casting dark magic that sends shockwaves through the chamber. Elara, Garrick, and Aria brace themselves, refusing to yield. They continue their assault, weakening the sorcerer's barrier with every strike.\\n\\nSeeing an opportunity, Aria emerges from the shadows, swiftly closing in on the sorcerer. With a flick of her wrist, her dagger finds its mark, piercing the sorcerer's heart.\\n\\nThe sorcerer roars in agony, his dark magic surging with a final burst. But ultimately, he collapses defeated.\\n\\nELARA\\n(breathing heavily)\\nWe did it. Eldoria is safe once more.\\n\\nGARRICK\\n(smirking)\\nThe power of lightning and thunder prevailed.\\n\\nARIA\\n(grinning)\\nAnd the swift blade strikes true.\\n\\nElara, Garrick, and Aria share a triumphant look, their bond stronger than ever.\\n\\nELARA\\n(raising her bow)\\nOur duty is not over. There will always be battles to fight. But together, we can face any challenge.\\n\\nGARRICK\\n(nods)\\nIndeed. We are a force to be reckoned with.\\n\\nARIA\\n(raising her dagger)\\nLet justice be our guide, always.\\n\\nThey stand united, ready to face the challenges that lie ahead. Knowing that their names will be remembered in Eldoria's history, they celebrate their victory, their determination echoing through the ancient temple.\\n\\nFADE OUT.\",\n",
       "  'scene': \"- They use their combined abilities and strategy to fight against the sorcerer's sorcery and mythical creatures.\"},\n",
       " {'character_script': \"ANCIENT TEMPLE - INNER CHAMBER\\n\\n(Elara, Garrick, and Aria stand together in the dimly lit chamber, facing off against a menacing sorcerer. The room is filled with an eerie silence as the sorcerer slowly circles them, a wicked grin on his face.)\\n\\nSORCERER: (mocking) Ah, the so-called protectors of Eldoria! How quaint. Do you truly believe your feeble powers can stand against me?\\n\\nELARA: (firmly) We may be few, but our determination knows no bounds. We are the guardians of Eldoria, and we will not let you succeed in your wicked plans!\\n\\n(Aria glides silently towards a shadowed corner, eyes fixed on the sorcerer. Garrick's hands crackle with energy, ready to unleash the power of lightning.)\\n\\nGARRICK: (with conviction) You underestimate the forces that reside within us. We are guided by nature, bound by ancient pacts, and driven by the strength of our hearts!\\n\\n(Sorcerer laughs menacingly, raising his hands to summon a barrier of dark energy.)\\n\\nSORCERER: Your words mean nothing! Witness the power that will crush your hopes and shatter your spirits!\\n\\n(Elara swiftly draws her bow, arrows glowing with a radiant energy. She releases a volley of arrows, each finding its mark and weakening the sorcerer's barrier. Garrick lets loose bolts of lightning, crackling through the air and further destabilizing the barrier.)\\n\\nELARA: (focused) Aim true, my companions! We will break through his defenses!\\n\\n(Aria watches for her opening, her eyes darting between the sorcerer and her allies. She expertly maneuvers, waiting for the perfect moment.)\\n\\nARIA: (whispering to herself) Patience... just a little longer.\\n\\n(The sorcerer stumbles back, his barrier weakening with each attack. Sensing an opportunity, Aria lunges forward with her dagger, striking with precision and piercing the sorcerer's heart. He collapses to the ground, defeated.)\\n\\nELARA: (relief) We did it! We have vanquished the darkness that threatened our homeland!\\n\\nGARRICK: (admiration) Truly, Elara, your archery skills are unparalleled. And Aria, your timing was impeccable.\\n\\nARIA: (grinning) I couldn't have done it without your lightning. You softened him up nicely.\\n\\n(They stand united, triumphant, and catch their breath.)\\n\\nELARA: (determined) Our victory today is just the beginning. There are more battles to come, more challenges to face. But we shall face them together, for Eldoria and for all who call this realm home.\\n\\nGARRICK: (nodding) We are bound by our shared purpose, and nothing shall break our resolve. United, we are unstoppable.\\n\\nARIA: (smirking) And let those who dare threaten Eldoria tremble in fear, for they shall face the wrath of the Elven archer, the Stormbringer, and the Swiftfoot rogue!\\n\\n(They raise their weapons, the echoes of their determination reverberating through the ancient temple.)\\n\\nTHE END.\",\n",
       "  'scene': \"- The battle is intense and filled with suspense, showcasing the characters' bravery and determination.\"},\n",
       " {'character_script': \"VICTORY AND RESTORATION\\n\\n(Elara, Garrick, and Aria stand in the center of the ancient temple, their weapons raised high in triumph. The defeated sorcerer lies motionless on the ground.)\\n\\nELARA: (breathing heavily) We did it. We defeated the sorcerer and saved Eldoria.\\n\\nGARRICK: (smirking) Lightning and thunder, my friends. Lightning and thunder.\\n\\nARIA: (grinning) And a well-placed dagger.\\n\\n(They share a moment of laughter, their relief palpable.)\\n\\nELARA: (looking at each of them) I must admit, I had my doubts about working with both of you, but you've proven yourselves. I couldn't have done it without you.\\n\\nGARRICK: (nodding) Likewise, Elara. Your archery skills are unmatched, and your connection with nature is truly a gift.\\n\\nARIA: (playfully) And I have to say, Elara, your arrows weakening the sorcerer's barrier really came in handy. I was finally able to strike.\\n\\nELARA: (smiling) It was a team effort. We complemented each other's strengths perfectly.\\n\\nGARRICK: (looking at Aria) And Aria, your stealth and knowledge of the underworld were invaluable. You were like a shadow, striking when it mattered most.\\n\\nARIA: (grinning) Thank you, Garrick. I've learned a thing or two about survival on the streets of Aranthia.\\n\\nELARA: (serious) But our journey is not yet over. There are still threats that loom over Eldoria, and we must remain vigilant.\\n\\nGARRICK: (determined) Agreed, Elara. We have proven ourselves as a formidable team, and together, we will face whatever challenges come our way.\\n\\nARIA: (nodding) Count me in. I've seen the corruption in this world, and I won't rest until justice is served.\\n\\n(They raise their weapons once more, a symbol of their unity and determination.)\\n\\nELARA: (raising her bow) For Eldoria!\\n\\nGARRICK: (raising his hands, crackling with lightning) For the power of nature!\\n\\nARIA: (brandishing her dagger) For justice and a better world!\\n\\n(With their spirits high, they exit the ancient temple, ready to face whatever lies ahead. Together, Elara, Garrick, and Aria will continue to protect Eldoria and ensure its restoration and prosperity.)\\n\\nEND OF SCENE 29\",\n",
       "  'scene': 'Scene 8: Victory and restoration'}]"
      ]
     },
     "execution_count": 29,
     "metadata": {},
     "output_type": "execute_result"
    }
   ],
   "source": [
    "generated_scenes"
   ]
  },
  {
   "cell_type": "code",
   "execution_count": 30,
   "metadata": {},
   "outputs": [],
   "source": [
    "from langchain.text_splitter import CharacterTextSplitter\n",
    "from langchain.chains.summarize import load_summarize_chain\n",
    "import pandas as pd"
   ]
  },
  {
   "cell_type": "code",
   "execution_count": 31,
   "metadata": {},
   "outputs": [],
   "source": [
    "df = pd.DataFrame(generated_scenes)"
   ]
  },
  {
   "cell_type": "code",
   "execution_count": 32,
   "metadata": {},
   "outputs": [],
   "source": [
    "all_character_script_text = \"\\n\".join(df.character_script.tolist())\n",
    "\n",
    "text_splitter = CharacterTextSplitter.from_tiktoken_encoder(\n",
    "    chunk_size=1500, chunk_overlap=200\n",
    ")\n",
    "\n",
    "docs = text_splitter.create_documents([all_character_script_text])"
   ]
  },
  {
   "cell_type": "code",
   "execution_count": 33,
   "metadata": {},
   "outputs": [
    {
     "name": "stdout",
     "output_type": "stream",
     "text": [
      "Elara, Garrick, and Aria, a group of warriors, join forces to protect their homeland, Eldoria, from an encroaching darkness. Guided by the Ancestral Tree, they journey to the Forgotten Caverns to uncover the source of the darkness. They face challenges, defeat mythical creatures, and eventually confront and defeat the sorcerer responsible for the darkness. They celebrate their victory but remain vigilant in protecting Eldoria.\n"
     ]
    }
   ],
   "source": [
    "chain = load_summarize_chain(llm=chat, chain_type=\"map_reduce\")\n",
    "# Remember to use .run() instead of .invoke() when using load_summarize_chain:\n",
    "summary = chain.run(docs)\n",
    "print(summary)"
   ]
  }
 ],
 "metadata": {
  "kernelspec": {
   "display_name": "base",
   "language": "python",
   "name": "python3"
  },
  "language_info": {
   "codemirror_mode": {
    "name": "ipython",
    "version": 3
   },
   "file_extension": ".py",
   "mimetype": "text/x-python",
   "name": "python",
   "nbconvert_exporter": "python",
   "pygments_lexer": "ipython3",
   "version": "3.9.13"
  },
  "orig_nbformat": 4
 },
 "nbformat": 4,
 "nbformat_minor": 2
}

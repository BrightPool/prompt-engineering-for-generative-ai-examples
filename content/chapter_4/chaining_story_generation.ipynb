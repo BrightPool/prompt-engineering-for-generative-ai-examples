{
 "cells": [
  {
   "cell_type": "markdown",
   "metadata": {},
   "source": [
    "## The first part of an LCEL chain must be a runnable type."
   ]
  },
  {
   "cell_type": "code",
   "execution_count": 1,
   "metadata": {},
   "outputs": [
    {
     "ename": "TypeError",
     "evalue": "Expected a Runnable, callable or dict.Instead got an unsupported type: <class 'int'>",
     "output_type": "error",
     "traceback": [
      "\u001b[0;31m---------------------------------------------------------------------------\u001b[0m",
      "\u001b[0;31mTypeError\u001b[0m                                 Traceback (most recent call last)",
      "\u001b[0;32m/var/folders/_y/20jl658s4jl0zvy5c0x0c5140000gn/T/ipykernel_90386/1776628750.py\u001b[0m in \u001b[0;36m<module>\u001b[0;34m\u001b[0m\n\u001b[1;32m     12\u001b[0m \u001b[0;34m\u001b[0m\u001b[0m\n\u001b[1;32m     13\u001b[0m \u001b[0;31m# This will error:\u001b[0m\u001b[0;34m\u001b[0m\u001b[0;34m\u001b[0m\u001b[0m\n\u001b[0;32m---> 14\u001b[0;31m \u001b[0mbad_chain\u001b[0m \u001b[0;34m=\u001b[0m \u001b[0mbad_first_input\u001b[0m \u001b[0;34m|\u001b[0m \u001b[0mprompt\u001b[0m\u001b[0;34m\u001b[0m\u001b[0;34m\u001b[0m\u001b[0m\n\u001b[0m",
      "\u001b[0;32m~/opt/anaconda3/lib/python3.9/site-packages/langchain_core/runnables/base.py\u001b[0m in \u001b[0;36m__ror__\u001b[0;34m(self, other)\u001b[0m\n\u001b[1;32m    434\u001b[0m     ) -> RunnableSerializable[Other, Output]:\n\u001b[1;32m    435\u001b[0m         \u001b[0;34m\"\"\"Compose this runnable with another object to create a RunnableSequence.\"\"\"\u001b[0m\u001b[0;34m\u001b[0m\u001b[0;34m\u001b[0m\u001b[0m\n\u001b[0;32m--> 436\u001b[0;31m         \u001b[0;32mreturn\u001b[0m \u001b[0mRunnableSequence\u001b[0m\u001b[0;34m(\u001b[0m\u001b[0mcoerce_to_runnable\u001b[0m\u001b[0;34m(\u001b[0m\u001b[0mother\u001b[0m\u001b[0;34m)\u001b[0m\u001b[0;34m,\u001b[0m \u001b[0mself\u001b[0m\u001b[0;34m)\u001b[0m\u001b[0;34m\u001b[0m\u001b[0;34m\u001b[0m\u001b[0m\n\u001b[0m\u001b[1;32m    437\u001b[0m \u001b[0;34m\u001b[0m\u001b[0m\n\u001b[1;32m    438\u001b[0m     def pipe(\n",
      "\u001b[0;32m~/opt/anaconda3/lib/python3.9/site-packages/langchain_core/runnables/base.py\u001b[0m in \u001b[0;36mcoerce_to_runnable\u001b[0;34m(thing)\u001b[0m\n\u001b[1;32m   4170\u001b[0m         \u001b[0;32mreturn\u001b[0m \u001b[0mRunnableLambda\u001b[0m\u001b[0;34m(\u001b[0m\u001b[0mcast\u001b[0m\u001b[0;34m(\u001b[0m\u001b[0mCallable\u001b[0m\u001b[0;34m[\u001b[0m\u001b[0;34m[\u001b[0m\u001b[0mInput\u001b[0m\u001b[0;34m]\u001b[0m\u001b[0;34m,\u001b[0m \u001b[0mOutput\u001b[0m\u001b[0;34m]\u001b[0m\u001b[0;34m,\u001b[0m \u001b[0mthing\u001b[0m\u001b[0;34m)\u001b[0m\u001b[0;34m)\u001b[0m\u001b[0;34m\u001b[0m\u001b[0;34m\u001b[0m\u001b[0m\n\u001b[1;32m   4171\u001b[0m     \u001b[0;32melif\u001b[0m \u001b[0misinstance\u001b[0m\u001b[0;34m(\u001b[0m\u001b[0mthing\u001b[0m\u001b[0;34m,\u001b[0m \u001b[0mdict\u001b[0m\u001b[0;34m)\u001b[0m\u001b[0;34m:\u001b[0m\u001b[0;34m\u001b[0m\u001b[0;34m\u001b[0m\u001b[0m\n\u001b[0;32m-> 4172\u001b[0;31m         \u001b[0;32mreturn\u001b[0m \u001b[0mcast\u001b[0m\u001b[0;34m(\u001b[0m\u001b[0mRunnable\u001b[0m\u001b[0;34m[\u001b[0m\u001b[0mInput\u001b[0m\u001b[0;34m,\u001b[0m \u001b[0mOutput\u001b[0m\u001b[0;34m]\u001b[0m\u001b[0;34m,\u001b[0m \u001b[0mRunnableParallel\u001b[0m\u001b[0;34m(\u001b[0m\u001b[0mthing\u001b[0m\u001b[0;34m)\u001b[0m\u001b[0;34m)\u001b[0m\u001b[0;34m\u001b[0m\u001b[0;34m\u001b[0m\u001b[0m\n\u001b[0m\u001b[1;32m   4173\u001b[0m     \u001b[0;32melse\u001b[0m\u001b[0;34m:\u001b[0m\u001b[0;34m\u001b[0m\u001b[0;34m\u001b[0m\u001b[0m\n\u001b[1;32m   4174\u001b[0m         raise TypeError(\n",
      "\u001b[0;32m~/opt/anaconda3/lib/python3.9/site-packages/langchain_core/runnables/base.py\u001b[0m in \u001b[0;36m__init__\u001b[0;34m(self, _RunnableParallel__steps, **kwargs)\u001b[0m\n\u001b[1;32m   2461\u001b[0m         \u001b[0mmerged\u001b[0m\u001b[0;34m.\u001b[0m\u001b[0mupdate\u001b[0m\u001b[0;34m(\u001b[0m\u001b[0mkwargs\u001b[0m\u001b[0;34m)\u001b[0m\u001b[0;34m\u001b[0m\u001b[0;34m\u001b[0m\u001b[0m\n\u001b[1;32m   2462\u001b[0m         super().__init__(\n\u001b[0;32m-> 2463\u001b[0;31m             \u001b[0msteps\u001b[0m\u001b[0;34m=\u001b[0m\u001b[0;34m{\u001b[0m\u001b[0mkey\u001b[0m\u001b[0;34m:\u001b[0m \u001b[0mcoerce_to_runnable\u001b[0m\u001b[0;34m(\u001b[0m\u001b[0mr\u001b[0m\u001b[0;34m)\u001b[0m \u001b[0;32mfor\u001b[0m \u001b[0mkey\u001b[0m\u001b[0;34m,\u001b[0m \u001b[0mr\u001b[0m \u001b[0;32min\u001b[0m \u001b[0mmerged\u001b[0m\u001b[0;34m.\u001b[0m\u001b[0mitems\u001b[0m\u001b[0;34m(\u001b[0m\u001b[0;34m)\u001b[0m\u001b[0;34m}\u001b[0m\u001b[0;34m\u001b[0m\u001b[0;34m\u001b[0m\u001b[0m\n\u001b[0m\u001b[1;32m   2464\u001b[0m         )\n\u001b[1;32m   2465\u001b[0m \u001b[0;34m\u001b[0m\u001b[0m\n",
      "\u001b[0;32m~/opt/anaconda3/lib/python3.9/site-packages/langchain_core/runnables/base.py\u001b[0m in \u001b[0;36m<dictcomp>\u001b[0;34m(.0)\u001b[0m\n\u001b[1;32m   2461\u001b[0m         \u001b[0mmerged\u001b[0m\u001b[0;34m.\u001b[0m\u001b[0mupdate\u001b[0m\u001b[0;34m(\u001b[0m\u001b[0mkwargs\u001b[0m\u001b[0;34m)\u001b[0m\u001b[0;34m\u001b[0m\u001b[0;34m\u001b[0m\u001b[0m\n\u001b[1;32m   2462\u001b[0m         super().__init__(\n\u001b[0;32m-> 2463\u001b[0;31m             \u001b[0msteps\u001b[0m\u001b[0;34m=\u001b[0m\u001b[0;34m{\u001b[0m\u001b[0mkey\u001b[0m\u001b[0;34m:\u001b[0m \u001b[0mcoerce_to_runnable\u001b[0m\u001b[0;34m(\u001b[0m\u001b[0mr\u001b[0m\u001b[0;34m)\u001b[0m \u001b[0;32mfor\u001b[0m \u001b[0mkey\u001b[0m\u001b[0;34m,\u001b[0m \u001b[0mr\u001b[0m \u001b[0;32min\u001b[0m \u001b[0mmerged\u001b[0m\u001b[0;34m.\u001b[0m\u001b[0mitems\u001b[0m\u001b[0;34m(\u001b[0m\u001b[0;34m)\u001b[0m\u001b[0;34m}\u001b[0m\u001b[0;34m\u001b[0m\u001b[0;34m\u001b[0m\u001b[0m\n\u001b[0m\u001b[1;32m   2464\u001b[0m         )\n\u001b[1;32m   2465\u001b[0m \u001b[0;34m\u001b[0m\u001b[0m\n",
      "\u001b[0;32m~/opt/anaconda3/lib/python3.9/site-packages/langchain_core/runnables/base.py\u001b[0m in \u001b[0;36mcoerce_to_runnable\u001b[0;34m(thing)\u001b[0m\n\u001b[1;32m   4172\u001b[0m         \u001b[0;32mreturn\u001b[0m \u001b[0mcast\u001b[0m\u001b[0;34m(\u001b[0m\u001b[0mRunnable\u001b[0m\u001b[0;34m[\u001b[0m\u001b[0mInput\u001b[0m\u001b[0;34m,\u001b[0m \u001b[0mOutput\u001b[0m\u001b[0;34m]\u001b[0m\u001b[0;34m,\u001b[0m \u001b[0mRunnableParallel\u001b[0m\u001b[0;34m(\u001b[0m\u001b[0mthing\u001b[0m\u001b[0;34m)\u001b[0m\u001b[0;34m)\u001b[0m\u001b[0;34m\u001b[0m\u001b[0;34m\u001b[0m\u001b[0m\n\u001b[1;32m   4173\u001b[0m     \u001b[0;32melse\u001b[0m\u001b[0;34m:\u001b[0m\u001b[0;34m\u001b[0m\u001b[0;34m\u001b[0m\u001b[0m\n\u001b[0;32m-> 4174\u001b[0;31m         raise TypeError(\n\u001b[0m\u001b[1;32m   4175\u001b[0m             \u001b[0;34mf\"Expected a Runnable, callable or dict.\"\u001b[0m\u001b[0;34m\u001b[0m\u001b[0;34m\u001b[0m\u001b[0m\n\u001b[1;32m   4176\u001b[0m             \u001b[0;34mf\"Instead got an unsupported type: {type(thing)}\"\u001b[0m\u001b[0;34m\u001b[0m\u001b[0;34m\u001b[0m\u001b[0m\n",
      "\u001b[0;31mTypeError\u001b[0m: Expected a Runnable, callable or dict.Instead got an unsupported type: <class 'int'>"
     ]
    }
   ],
   "source": [
    "from langchain_core.prompts.chat import ChatPromptTemplate\n",
    "from operator import itemgetter\n",
    "from langchain_core.runnables import RunnablePassthrough, RunnableLambda\n",
    "\n",
    "bad_first_input = {\n",
    "    \"film_required_age\": 18,\n",
    "}\n",
    "\n",
    "prompt = ChatPromptTemplate.from_template(\n",
    "    \"Generate a film title, the age is {film_required_age}\"\n",
    ")\n",
    "\n",
    "# This will error:\n",
    "bad_chain = bad_first_input | prompt"
   ]
  },
  {
   "cell_type": "code",
   "execution_count": null,
   "metadata": {},
   "outputs": [
    {
     "data": {
      "text/plain": [
       "ChatPromptValue(messages=[HumanMessage(content='Generate a film title, the age is 18')])"
      ]
     },
     "execution_count": 2,
     "metadata": {},
     "output_type": "execute_result"
    }
   ],
   "source": [
    "# All of these chains enforce the runnable interface:\n",
    "first_good_input = {\"film_required_age\": itemgetter(\"film_required_age\")}\n",
    "\n",
    "# Creating a dictionary within a RunnableLambda:\n",
    "second_good_input = RunnableLambda(lambda x: { \"film_required_age\": x[\"film_required_age\"] } )\n",
    "\n",
    "third_good_input = RunnablePassthrough()\n",
    "fourth_good_input = {\"film_required_age\": RunnablePassthrough()}\n",
    "# You can also create a chain starting with RunnableParallel\n",
    "\n",
    "first_good_chain = first_good_input | prompt\n",
    "second_good_chain = second_good_input | prompt\n",
    "third_good_chain = third_good_input | prompt\n",
    "fourth_good_chain = fourth_good_input | prompt\n",
    "\n",
    "first_good_chain.invoke({\n",
    "    \"film_required_age\": 18\n",
    "})\n",
    "\n",
    "# ...\n"
   ]
  },
  {
   "cell_type": "markdown",
   "metadata": {},
   "source": [
    "## Order Matters"
   ]
  },
  {
   "cell_type": "code",
   "execution_count": 2,
   "metadata": {},
   "outputs": [
    {
     "ename": "NameError",
     "evalue": "name 'first_good_input' is not defined",
     "output_type": "error",
     "traceback": [
      "\u001b[0;31m---------------------------------------------------------------------------\u001b[0m",
      "\u001b[0;31mNameError\u001b[0m                                 Traceback (most recent call last)",
      "\u001b[0;32m/var/folders/_y/20jl658s4jl0zvy5c0x0c5140000gn/T/ipykernel_90386/841948157.py\u001b[0m in \u001b[0;36m<module>\u001b[0;34m\u001b[0m\n\u001b[0;32m----> 1\u001b[0;31m \u001b[0mbad_order_chain\u001b[0m \u001b[0;34m=\u001b[0m \u001b[0mprompt\u001b[0m \u001b[0;34m|\u001b[0m \u001b[0mfirst_good_input\u001b[0m\u001b[0;34m\u001b[0m\u001b[0;34m\u001b[0m\u001b[0m\n\u001b[0m\u001b[1;32m      2\u001b[0m \u001b[0mbad_order_chain\u001b[0m\u001b[0;34m.\u001b[0m\u001b[0minvoke\u001b[0m\u001b[0;34m(\u001b[0m\u001b[0;34m{\u001b[0m\u001b[0;34m\"film_required_age\"\u001b[0m\u001b[0;34m:\u001b[0m \u001b[0;36m18\u001b[0m\u001b[0;34m}\u001b[0m\u001b[0;34m)\u001b[0m\u001b[0;34m\u001b[0m\u001b[0;34m\u001b[0m\u001b[0m\n",
      "\u001b[0;31mNameError\u001b[0m: name 'first_good_input' is not defined"
     ]
    }
   ],
   "source": [
    "bad_order_chain = prompt | first_good_input\n",
    "bad_order_chain.invoke({\"film_required_age\": 18})"
   ]
  },
  {
   "attachments": {},
   "cell_type": "markdown",
   "metadata": {},
   "source": [
    "Given that your story generation will require multiple sequential prompts you can use a create `SequentialChain` to chain multiple prompts together. The `SequentialChain` will need to re-use the outputs of the previous prompt and use it as the input for the next prompt.\n"
   ]
  },
  {
   "cell_type": "code",
   "execution_count": 3,
   "metadata": {},
   "outputs": [],
   "source": [
    "from langchain_core.prompts.chat import ChatPromptTemplate"
   ]
  },
  {
   "cell_type": "code",
   "execution_count": 4,
   "metadata": {},
   "outputs": [],
   "source": [
    "character_generation_prompt = ChatPromptTemplate.from_template(\n",
    "    \"\"\"I want you to brainstorm 3 - 5 characters for my short story. The genre is {genre}.\n",
    "    Each character must have a Name and a Biography.\n",
    "    You must provide a name and biography for each character, this is very important!\n",
    "    ---\n",
    "    Example response:\n",
    "    Name: CharWiz, Biography: A wizard who is a master of magic.\n",
    "    Name: CharWar, Biography: A warrior who is a master of the sword.\n",
    "    ---\n",
    "    Characters: \"\"\"\n",
    ")\n",
    "\n",
    "plot_generation_prompt = ChatPromptTemplate.from_template(\n",
    "    \"\"\"Given the following characters and the genre, create an effective plot for a short story:\n",
    "    Characters:\n",
    "    {characters} \n",
    "    ---\n",
    "    Genre: {genre}\n",
    "    ---\n",
    "    Plot: \"\"\"\n",
    "    )\n",
    "\n",
    "scene_generation_plot_prompt = ChatPromptTemplate.from_template(\n",
    "    \"\"\"Act as an effective content creator. \n",
    "    Given multiple characters and a plot you are responsible generating the various scenes for each act. \n",
    "    \n",
    "    You must de-compose the plot into multiple effective scenes:\n",
    "\n",
    "    ---\n",
    "    Characters:\n",
    "    {characters}\n",
    "    ---\n",
    "    Genre: {genre}\n",
    "    ---\n",
    "    Plot: {plot}\n",
    "    ---\n",
    "    Example response:\n",
    "    Scenes:\n",
    "    Scene 1: Some text here.\n",
    "    Scene 2: Some text here.\n",
    "    Scene 3: Some text here.\n",
    "    ----\n",
    "    Scenes:\n",
    "    \"\"\"\n",
    ")"
   ]
  },
  {
   "cell_type": "markdown",
   "metadata": {},
   "source": [
    "---\n",
    "\n",
    "## ItemGetter and RunnableLambda"
   ]
  },
  {
   "cell_type": "code",
   "execution_count": 5,
   "metadata": {},
   "outputs": [],
   "source": [
    "from langchain_core.runnables import RunnablePassthrough, RunnableLambda\n",
    "from operator import itemgetter"
   ]
  },
  {
   "cell_type": "code",
   "execution_count": 6,
   "metadata": {},
   "outputs": [
    {
     "data": {
      "text/plain": [
       "{'genre': 'fantasy'}"
      ]
     },
     "execution_count": 6,
     "metadata": {},
     "output_type": "execute_result"
    }
   ],
   "source": [
    "chain = RunnablePassthrough() | {\n",
    "    \"genre\": itemgetter(\"genre\"),\n",
    "}\n",
    "chain.invoke({\"genre\": \"fantasy\"})"
   ]
  },
  {
   "cell_type": "code",
   "execution_count": 7,
   "metadata": {},
   "outputs": [
    {
     "data": {
      "text/plain": [
       "{'genre': 'fantasy'}"
      ]
     },
     "execution_count": 7,
     "metadata": {},
     "output_type": "execute_result"
    }
   ],
   "source": [
    "# Another way to achieve the same thing:\n",
    "chain = RunnableLambda(lambda x: {\"genre\": x[\"genre\"]}) | {\"genre\": itemgetter(\"genre\")}\n",
    "chain.invoke({\"genre\": \"fantasy\"})\n",
    "# {'genre': 'fantasy'}"
   ]
  },
  {
   "cell_type": "code",
   "execution_count": 8,
   "metadata": {},
   "outputs": [
    {
     "data": {
      "text/plain": [
       "{'genre': 'fantasy',\n",
       " 'upper_case_genre': 'FANTASY',\n",
       " 'lower_case_genre': 'fantasy'}"
      ]
     },
     "execution_count": 8,
     "metadata": {},
     "output_type": "execute_result"
    }
   ],
   "source": [
    "chain = RunnablePassthrough() | {\n",
    "    \"genre\": itemgetter(\"genre\"),\n",
    "    \"upper_case_genre\": lambda x: x[\"genre\"].upper(),\n",
    "    \"lower_case_genre\": RunnableLambda(lambda x: x[\"genre\"].lower()),\n",
    "}\n",
    "chain.invoke({\"genre\": \"fantasy\"})"
   ]
  },
  {
   "cell_type": "markdown",
   "metadata": {},
   "source": [
    "---------------------------------------------"
   ]
  },
  {
   "cell_type": "markdown",
   "metadata": {},
   "source": [
    "## RunnableParallel"
   ]
  },
  {
   "cell_type": "code",
   "execution_count": 9,
   "metadata": {},
   "outputs": [
    {
     "name": "stdout",
     "output_type": "stream",
     "text": [
      "master chain: {'genre': 'Fantasy', 'upper_case_genre': 'FANTASY', 'lower_case_genre': 'fantasy'}\n",
      "master chain two: {'genre': 'Fantasy', 'upper_case_genre': 'FANTASY', 'lower_case_genre': 'fantasy'}\n"
     ]
    }
   ],
   "source": [
    "from langchain_core.runnables import RunnableParallel\n",
    "\n",
    "master_chain = RunnablePassthrough() | {\n",
    "    \"genre\": itemgetter(\"genre\"),\n",
    "    \"upper_case_genre\": lambda x: x[\"genre\"].upper(),\n",
    "    \"lower_case_genre\": RunnableLambda(lambda x: x[\"genre\"].lower()),   \n",
    "}\n",
    "\n",
    "master_chain_two = RunnablePassthrough() | RunnableParallel(\n",
    "        genre=itemgetter(\"genre\"),\n",
    "        upper_case_genre=lambda x: x[\"genre\"].upper(),\n",
    "        lower_case_genre=RunnableLambda(lambda x: x[\"genre\"].lower()),\n",
    ")\n",
    "\n",
    "story_result = master_chain.invoke({\"genre\": \"Fantasy\"})\n",
    "print(f\"master chain: {story_result}\")\n",
    "\n",
    "story_result = master_chain_two.invoke({\"genre\": \"Fantasy\"})\n",
    "print(f\"master chain two: {story_result}\")"
   ]
  },
  {
   "cell_type": "markdown",
   "metadata": {},
   "source": [
    "--------------------------------------------------------------------------------"
   ]
  },
  {
   "cell_type": "code",
   "execution_count": 10,
   "metadata": {},
   "outputs": [],
   "source": [
    "from langchain_openai.chat_models import ChatOpenAI\n",
    "from langchain_core.output_parsers import StrOutputParser"
   ]
  },
  {
   "cell_type": "code",
   "execution_count": 11,
   "metadata": {},
   "outputs": [],
   "source": [
    "# Create the chat model:\n",
    "model = ChatOpenAI()\n",
    "\n",
    "# Create the sub-chains:\n",
    "character_generation_chain = character_generation_prompt | model |  StrOutputParser()\n",
    "plot_generation_chain = plot_generation_prompt | model | StrOutputParser()                                                               \n",
    "scene_generation_plot_chain = scene_generation_plot_prompt | model | StrOutputParser()"
   ]
  },
  {
   "cell_type": "code",
   "execution_count": 12,
   "metadata": {},
   "outputs": [],
   "source": [
    "from langchain_core.runnables import RunnableParallel, RunnablePassthrough\n",
    "from operator import itemgetter\n",
    "\n",
    "master_chain = (\n",
    "    {\"characters\": character_generation_chain, \"genre\": RunnablePassthrough()}\n",
    "    | RunnableParallel(\n",
    "        characters=itemgetter(\"characters\"),\n",
    "        genre=itemgetter(\"genre\"),\n",
    "        plot=plot_generation_chain,\n",
    "    )\n",
    "    | RunnableParallel(\n",
    "        characters=itemgetter(\"characters\"),\n",
    "        genre=itemgetter(\"genre\"),\n",
    "        plot=itemgetter(\"plot\"),\n",
    "        scenes=scene_generation_plot_chain,\n",
    "    )\n",
    ")\n",
    "\n",
    "story_result = master_chain.invoke({\"genre\": \"Fantasy\"})"
   ]
  },
  {
   "cell_type": "code",
   "execution_count": 13,
   "metadata": {},
   "outputs": [
    {
     "name": "stdout",
     "output_type": "stream",
     "text": [
      "Scene 1: Elara Moonshadow senses a disturbance in the Moonshadow Forest and sets out to investigate. She encounters Magnus Stormbringer, who is researching his family lineage, and convinces him to join her quest.\n",
      "\n",
      "Scene 2: Seraphina Frostheart receives a vision of a frozen wasteland consumed by darkness. Determined to prevent this future, she embarks on her own journey. Along the way, she is joined by Garrick Ironfist, who shares her cause.\n",
      "\n",
      "Scene 3: Elara, Magnus, Seraphina, and Garrick's paths converge, and they realize their combined strength is necessary to confront the looming evil. They form an alliance and set out together to confront the darkness.\n",
      "\n",
      "Scene 4: Lysandra Shadowbane, initially skeptical of joining the group, is hesitant to trust others. Through a series of encounters and trials, the group earns Lysandra's trust, and she reluctantly agrees to join them.\n",
      "\n",
      "Scene 5: The group embarks on a perilous journey, facing treacherous landscapes, powerful enemies, and internal conflicts. They learn to rely on each other's strengths and forge deep bonds of friendship and trust.\n",
      "\n",
      "Scene 6: As they approach the final battle, the true nature of the evil is revealed. It is an ancient being seeking to regain its power and plunge the world into eternal darkness.\n",
      "\n",
      "Scene 7: In an epic battle, Elara's archery, Magnus's storm magic, Seraphina's ice manipulation, Garrick's brute strength, and Lysandra's stealth are combined to defeat the ancient evil and restore balance to the realm.\n",
      "\n",
      "Scene 8: The group emerges victorious and parts ways, forever changed by their experiences and the friendships they forged. Elara returns to the Moonshadow Forest, Magnus continues his search for his true potential, Seraphina safeguards her people, Garrick defends his homeland, and Lysandra finds redemption, using her skills to protect the innocent.\n",
      "\n",
      "Scene 9: The short story ends with the knowledge that these five heroes will forever be remembered for their bravery and sacrifices in protecting their world from the encroaching darkness.\n"
     ]
    }
   ],
   "source": [
    "print(story_result['scenes'])"
   ]
  },
  {
   "attachments": {},
   "cell_type": "markdown",
   "metadata": {},
   "source": [
    "---\n"
   ]
  },
  {
   "attachments": {},
   "cell_type": "markdown",
   "metadata": {},
   "source": [
    "## Sequential Story Scene Generation:\n"
   ]
  },
  {
   "cell_type": "code",
   "execution_count": 14,
   "metadata": {},
   "outputs": [],
   "source": [
    "# Extracting the scenes using .split('\\n') and removing empty strings:\n",
    "scenes = [scene for scene in story_result[\"scenes\"].split(\"\\n\") if scene]\n",
    "generated_scenes = []\n",
    "previous_scene_summary = \"\""
   ]
  },
  {
   "cell_type": "code",
   "execution_count": 15,
   "metadata": {},
   "outputs": [],
   "source": [
    "character_script_prompt = ChatPromptTemplate.from_template(\n",
    "    template=\"\"\"Given the following characters: {characters} and the genre: {genre}, create an effective character script for a scene.\n",
    "\n",
    "    You must follow the following principles:\n",
    "    - Use the Previous Scene Summary: {previous_scene_summary} to avoid repeating yourself.\n",
    "    - Use the Plot: {plot} to create an effective scene character script.\n",
    "    - Currently you are generating the character dialogue script for the following scene: {scene}\n",
    "\n",
    "    ---\n",
    "    Here is an example response:\n",
    "    SCENE 1: ANNA'S APARTMENT\n",
    "\n",
    "    (ANNA is sorting through old books when there is a knock at the door. She opens it to reveal JOHN.)\n",
    "    ANNA: Can I help you, sir?\n",
    "    JOHN: Perhaps, I think it's me who can help you. I heard you're researching time travel.\n",
    "    (Anna looks intrigued but also cautious.)\n",
    "    ANNA: That's right, but how do you know?\n",
    "    JOHN: You could say... I'm a primary source.\n",
    "\n",
    "    ---\n",
    "    SCENE NUMBER: {index}\n",
    "\n",
    "    \"\"\",\n",
    ")\n",
    "\n",
    "summarize_prompt = ChatPromptTemplate.from_template(\n",
    "    template=\"\"\"Given a character script create a summary of the scene. Character script: {character_script}\"\"\",\n",
    ")"
   ]
  },
  {
   "cell_type": "markdown",
   "metadata": {},
   "source": [
    "------------------------------------------------------------"
   ]
  },
  {
   "cell_type": "code",
   "execution_count": 16,
   "metadata": {},
   "outputs": [],
   "source": [
    "# Loading a chat model:\n",
    "model = ChatOpenAI(model='gpt-3.5-turbo-16k')\n",
    "\n",
    "# Create the LCEL chains:\n",
    "character_script_generation_chain = (\n",
    "    {\n",
    "        \"characters\": RunnablePassthrough(),\n",
    "        \"genre\": RunnablePassthrough(),\n",
    "        \"previous_scene_summary\": RunnablePassthrough(),\n",
    "        \"plot\": RunnablePassthrough(),\n",
    "        \"scene\": RunnablePassthrough(),\n",
    "        \"index\": RunnablePassthrough(),\n",
    "    }\n",
    "    | character_script_prompt\n",
    "    | model\n",
    "    | StrOutputParser()\n",
    ")\n",
    "\n",
    "summarize_chain = summarize_prompt | model | StrOutputParser()\n",
    "\n",
    "# You might want to use tqdm here to track the progress, or use all of the scenes:\n",
    "for index, scene in enumerate(scenes[0:5]):\n",
    "    \n",
    "    # # Create a scene generation:\n",
    "    scene_result = character_script_generation_chain.invoke(\n",
    "        {\n",
    "            \"characters\": story_result[\"characters\"],\n",
    "            \"genre\": \"fantasy\",\n",
    "            \"previous_scene_summary\": previous_scene_summary,\n",
    "            \"index\": index,\n",
    "        }\n",
    "    )\n",
    "\n",
    "    # Store the generated scenes:\n",
    "    generated_scenes.append(\n",
    "        {\"character_script\": scene_result, \"scene\": scenes[index]}\n",
    "    )\n",
    "\n",
    "    # If this is the first scene then we don't have a previous scene summary:\n",
    "    if index == 0:\n",
    "        previous_scene_summary = scene_result\n",
    "    else:\n",
    "        # If this is the second scene or greater then we can use and generate a summary:\n",
    "        summary_result = summarize_chain.invoke(\n",
    "            {\"character_script\": scene_result}\n",
    "        )\n",
    "        previous_scene_summary = summary_result"
   ]
  },
  {
   "cell_type": "markdown",
   "metadata": {},
   "source": [
    "--------------------------------------------------------------------------------"
   ]
  },
  {
   "cell_type": "code",
   "execution_count": 17,
   "metadata": {},
   "outputs": [
    {
     "name": "stderr",
     "output_type": "stream",
     "text": [
      "/Users/jamesaphoenix/opt/anaconda3/lib/python3.9/site-packages/pandas/core/arrays/masked.py:60: UserWarning: Pandas requires version '1.3.6' or newer of 'bottleneck' (version '1.3.5' currently installed).\n",
      "  from pandas.core import (\n"
     ]
    }
   ],
   "source": [
    "from langchain.text_splitter import CharacterTextSplitter\n",
    "from langchain.chains.summarize import load_summarize_chain\n",
    "import pandas as pd"
   ]
  },
  {
   "cell_type": "code",
   "execution_count": 18,
   "metadata": {},
   "outputs": [],
   "source": [
    "df = pd.DataFrame(generated_scenes)"
   ]
  },
  {
   "cell_type": "code",
   "execution_count": 19,
   "metadata": {},
   "outputs": [],
   "source": [
    "all_character_script_text = \"\\n\".join(df.character_script.tolist())\n",
    "\n",
    "text_splitter = CharacterTextSplitter.from_tiktoken_encoder(\n",
    "    chunk_size=1500, chunk_overlap=200\n",
    ")\n",
    "\n",
    "docs = text_splitter.create_documents([all_character_script_text])"
   ]
  },
  {
   "cell_type": "code",
   "execution_count": 21,
   "metadata": {},
   "outputs": [
    {
     "name": "stdout",
     "output_type": "stream",
     "text": [
      "{'input_documents': [Document(page_content=\"SCENE 1: THE MYSTICAL MOONSHADOW FOREST\\n\\n(ELARA is patrolling the forest, her bow and arrows ready. MAGNUS appears, holding a book.)\\n\\nELARA: (alert) Who goes there?\\n\\nMAGNUS: (smiling) Fear not, Elara. It is I, Magnus Stormbringer. I come bearing knowledge.\\n\\nELARA: (relaxing) Magnus, what brings you to the Moonshadow Forest?\\n\\nMAGNUS: I've been researching ancient spells and legends. I believe there may be a connection between your forest and my magical abilities.\\n\\nELARA: (curious) Tell me more, Magnus. What have you discovered?\\n\\nMAGNUS: (excited) According to these ancient texts, the Moonshadow Forest holds the key to unlocking my true potential as a storm mage. The lightning and weather manipulation abilities I possess may be tied to the mystical energies of this place.\\n\\nELARA: (amazed) That's incredible! Our forest has always been a source of magic and power. Perhaps together, we can uncover the secrets of our lineages.\\n\\nMAGNUS: (determined) I believe so, Elara. Let us embark on this journey together, unraveling the mysteries of our past and harnessing our true potential for the greater good.\\n\\nELARA: (nodding) Agreed, Magnus. The Moonshadow Forest and its inhabitants will benefit from our combined strength and knowledge.\\n\\n(ELARA and MAGNUS exchange determined looks before setting off deeper into the forest, ready to face the challenges that lie ahead.)\\n\\n---\\n\\nSCENE NUMBER: 1\\nSCENE 1: THE MYSTICAL MOONSHADOW FOREST\\n\\n(ELARA is patrolling the forest, her bow and arrows ready. MAGNUS appears, holding a book.)\\n\\nELARA: (alert) Who goes there?\\n\\nMAGNUS: (smiling) Fear not, Elara. It is I, Magnus Stormbringer. I come bearing knowledge.\\n\\nELARA: (relaxing) Magnus, what brings you to the Moonshadow Forest?\\n\\nMAGNUS: I've been researching ancient spells and legends. I believe there may be a connection between your forest and my magical abilities.\\n\\nELARA: (curious) Tell me more, Magnus. What have you discovered?\\n\\nMAGNUS: (excited) According to these ancient texts, the Moonshadow Forest holds the key to unlocking my true potential as a storm mage. The lightning and weather manipulation abilities I possess may be tied to the mystical energies of this place.\\n\\nELARA: (amazed) That's incredible! Our forest has always been a source of magic and power. Perhaps together, we can uncover the secrets of our lineages.\\n\\nMAGNUS: (determined) I believe so, Elara. Let us embark on this journey together, unraveling the mysteries of our past and harnessing our true potential for the greater good.\\n\\nELARA: (nodding) Agreed, Magnus. The Moonshadow Forest and its inhabitants will benefit from our combined strength and knowledge.\\n\\n(ELARA and MAGNUS exchange determined looks before setting off deeper into the forest, ready to face the challenges that lie ahead.)\\n\\n---\\nSCENE 2: MOONSHADOW FOREST\\n\\n(ELARA and MAGNUS are walking deeper into the forest. They come across a clearing with ancient ruins.)\\n\\nELARA: (looking around in awe) These ruins... They're said to be thousands of years old. I've heard stories of powerful magic being hidden within.\\n\\nMAGNUS: (excitedly) That's exactly what I'm looking for! The ancient spells and legends that can unlock my true potential as a storm mage.\\n\\nELARA: (curious) Do you think these ruins hold the key to your lineage?\\n\\nMAGNUS: (nodding) I believe so. The legends speak of a powerful storm mage who once walked these lands. I think he may be a part of my ancestry.\\n\\nELARA: (determined) Well, then we must uncover the secrets of these ruins together. If they hold the answers you seek, they may also hold the key to protecting the forest.\\n\\nMAGNUS: (grateful) Thank you, Elara. Your knowledge of the forest and my magical abilities can complement each other perfectly.\\n\\n(They continue exploring the ruins, searching for any clues or artifacts that can help them in their quest.)\\n\\nELARA: (noticing a peculiar symbol on a stone tablet) Magnus, look at this symbol. It resembles the mark of a storm mage.\\n\\nMAGNUS: (excitedly) This could be it! The symbol that leads us to the ancient spell I've been searching for.\\n\\nELARA: (determined) Let's decipher it together, Magnus. We won't rest until we uncover its meaning and harness its power.\\n\\n(ELARA and MAGNUS begin studying the symbol, their minds focused and determined. They are ready to face the challenges ahead and use their combined strength and knowledge to benefit the forest and its inhabitants.)\\nSCENE 3: ANCIENT RUINS IN MOONSHADOW FOREST\\n\\n(ELARA and MAGNUS stand in awe as they enter a clearing filled with ancient ruins. The air is thick with anticipation.)\\n\\nELARA: (whispering) Magnus, can you feel the power emanating from these ruins?\\n\\nMAGNUS: (nodding) Yes, Elara. It's as if the very air is charged with magic. These ruins hold incredible secrets.\\n\\nELARA: (pointing) Look, Magnus! That stone tablet over there, it bears a symbol resembling that of a storm mage.\\n\\nMAGNUS: (excitedly) This could be it, Elara. The key to unlocking my true potential. The ancient spell I've been searching for.\\n\\nELARA: (determined) Then let's decipher the symbol together. We won't rest until we understand its meaning and harness its power.\\n\\n(MAGNUS and ELARA approach the stone tablet and begin studying the symbol, their eyes filled with determination.)\\n\\nELARA: The symbol seems to depict a storm, with lightning bolts intertwining.\\n\\nMAGNUS: (thoughtfully) Perhaps it represents the balance between chaos and control, the very essence of a storm mage's power.\\n\\nELARA: (nodding) And the intertwining lightning bolts could symbolize the connection between the storm mage and the forces of nature.\\n\\nMAGNUS: (grinning) Yes, Elara! If we can decipher this symbol, we may unlock a spell that allows me to command lightning and control the weather like never before.\\n\\nELARA: (placing a hand on MAGNUS' shoulder) With our combined strength and knowledge, we are ready to face the challenges ahead. We will protect the forest and its inhabitants.\\n\\nMAGNUS: (determined) Nothing will stand in our way, Elara. Together, we will harness this ancient power and fulfill our destinies.\"), Document(page_content=\"ELARA: The symbol seems to depict a storm, with lightning bolts intertwining.\\n\\nMAGNUS: (thoughtfully) Perhaps it represents the balance between chaos and control, the very essence of a storm mage's power.\\n\\nELARA: (nodding) And the intertwining lightning bolts could symbolize the connection between the storm mage and the forces of nature.\\n\\nMAGNUS: (grinning) Yes, Elara! If we can decipher this symbol, we may unlock a spell that allows me to command lightning and control the weather like never before.\\n\\nELARA: (placing a hand on MAGNUS' shoulder) With our combined strength and knowledge, we are ready to face the challenges ahead. We will protect the forest and its inhabitants.\\n\\nMAGNUS: (determined) Nothing will stand in our way, Elara. Together, we will harness this ancient power and fulfill our destinies.\\n\\n(ELARA and MAGNUS continue to decipher the symbol, their determination unwavering as they embark on their mission to uncover the secrets of the ruins and unleash Magnus' true potential.)\\nSCENE 4: ANCIENT RUINS IN THE MOONSHADOW FOREST\\n\\n(ELARA and MAGNUS stand in front of a stone tablet bearing a symbol resembling that of a storm mage.)\\n\\nELARA: (whispering) Magnus, can you feel the power emanating from these ruins?\\n\\nMAGNUS: (excitedly) Yes, Elara. It's as if the air itself is charged with magic. This symbol... it could be the key to unlocking my true potential.\\n\\nELARA: (determined) We must decipher it together, Magnus. If we can harness its power, we can protect our homeland like never before.\\n\\n(ELARA and MAGNUS approach the stone tablet and begin studying the symbol, their eyes filled with determination.)\\n\\nELARA: Look closely, Magnus. The symbol depicts a storm, with lightning bolts intertwining.\\n\\nMAGNUS: (thoughtfully) I believe it represents the balance between chaos and control, the essence of a storm mage's power.\\n\\nELARA: (suggestively) Perhaps the intertwining lightning bolts symbolize the connection between the storm mage and the forces of nature.\\n\\nMAGNUS: (realizing) If we decipher this symbol, we may unlock a spell that allows me to command lightning and control the weather like never before.\\n\\nELARA: (reassuringly, placing a hand on MAGNUS' shoulder) We will protect the forest and its inhabitants, Magnus. With our combined strength and knowledge, nothing will stand in our way.\\n\\nMAGNUS: (determined) Together, we will fulfill our destinies and harness this ancient power. Let us continue deciphering the symbol and uncover the secrets of these ruins.\\n\\n(The scene ends with ELARA and MAGNUS continuing to study the symbol, their determination unwavering as they embark on their mission to unleash Magnus' true potential.)\")], 'output_text': \"Elara and Magnus meet in the Moonshadow Forest and uncover ancient ruins that hold the key to Magnus's potential as a storm mage. They study a symbol on a stone tablet that could unlock a powerful spell, and with their combined strength, they are determined to protect the forest and harness its ancient power.\"}\n"
     ]
    }
   ],
   "source": [
    "chain = load_summarize_chain(llm=model, chain_type=\"map_reduce\")\n",
    "summary = chain.invoke(docs)\n",
    "print(summary)"
   ]
  }
 ],
 "metadata": {
  "kernelspec": {
   "display_name": "base",
   "language": "python",
   "name": "python3"
  },
  "language_info": {
   "codemirror_mode": {
    "name": "ipython",
    "version": 3
   },
   "file_extension": ".py",
   "mimetype": "text/x-python",
   "name": "python",
   "nbconvert_exporter": "python",
   "pygments_lexer": "ipython3",
   "version": "3.9.13"
  },
  "orig_nbformat": 4
 },
 "nbformat": 4,
 "nbformat_minor": 2
}

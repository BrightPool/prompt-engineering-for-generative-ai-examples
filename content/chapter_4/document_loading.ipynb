{
 "cells": [
  {
   "cell_type": "code",
   "execution_count": 85,
   "metadata": {},
   "outputs": [
    {
     "name": "stdout",
     "output_type": "stream",
     "text": [
      "Note: you may need to restart the kernel to use updated packages.\n"
     ]
    }
   ],
   "source": [
    "%pip install pdf2image google-cloud-storage pypdf --quiet"
   ]
  },
  {
   "cell_type": "code",
   "execution_count": 1,
   "metadata": {},
   "outputs": [],
   "source": [
    "from langchain_community.document_loaders import GCSFileLoader\n",
    "from langchain_community.document_loaders import PyPDFLoader\n",
    "from langchain_community.document_loaders.csv_loader import CSVLoader\n",
    "import glob\n",
    "\n",
    "# To store the documents across all data sources:\n",
    "all_documents = []"
   ]
  },
  {
   "attachments": {},
   "cell_type": "markdown",
   "metadata": {},
   "source": [
    "# 1. Load the .pdf document:\n"
   ]
  },
  {
   "cell_type": "code",
   "execution_count": 2,
   "metadata": {},
   "outputs": [
    {
     "name": "stdout",
     "output_type": "stream",
     "text": [
      "page_content='Principles of Mark eting' metadata={'source': 'data/principles_of_marketing_book.pdf', 'page': 0}\n"
     ]
    }
   ],
   "source": [
    "loader = PyPDFLoader(\"data/principles_of_marketing_book.pdf\")\n",
    "pages = loader.load_and_split()\n",
    "\n",
    "print(pages[0])"
   ]
  },
  {
   "cell_type": "code",
   "execution_count": 3,
   "metadata": {},
   "outputs": [],
   "source": [
    "# Add extra metadata to each page:\n",
    "for page in pages:\n",
    "    page.metadata[\"description\"] = \"Principles of Marketing Book\""
   ]
  },
  {
   "cell_type": "code",
   "execution_count": 4,
   "metadata": {},
   "outputs": [
    {
     "name": "stdout",
     "output_type": "stream",
     "text": [
      "{'source': 'data/principles_of_marketing_book.pdf', 'page': 0, 'description': 'Principles of Marketing Book'}\n",
      "{'source': 'data/principles_of_marketing_book.pdf', 'page': 1, 'description': 'Principles of Marketing Book'}\n"
     ]
    }
   ],
   "source": [
    "# Checking that the metadata has been added:\n",
    "for page in pages[0:2]:\n",
    "    print(page.metadata)\n",
    "\n",
    "# Saving the marketing book pages:\n",
    "all_documents.extend(pages)"
   ]
  },
  {
   "attachments": {},
   "cell_type": "markdown",
   "metadata": {},
   "source": [
    "# 2. Search the data folder for all of the .csv files:\n"
   ]
  },
  {
   "cell_type": "code",
   "execution_count": 5,
   "metadata": {},
   "outputs": [],
   "source": [
    "csv_files = glob.glob(\"data/*.csv\")\n",
    "\n",
    "# Filter to only include the word Marketing in the file name:\n",
    "csv_files = [f for f in csv_files if \"Marketing\" in f]\n",
    "\n",
    "# For each .csv file:\n",
    "for csv_file in csv_files:\n",
    "    loader = CSVLoader(file_path=csv_file)\n",
    "    data = loader.load()\n",
    "    # Saving the data to the all_documents list:\n",
    "    all_documents.extend(data)"
   ]
  },
  {
   "attachments": {},
   "cell_type": "markdown",
   "metadata": {},
   "source": [
    "# 3. Extracting 3 marketing reports from Google Drive.\n"
   ]
  },
  {
   "cell_type": "code",
   "execution_count": 6,
   "metadata": {},
   "outputs": [
    {
     "name": "stderr",
     "output_type": "stream",
     "text": [
      "/Users/jamesaphoenix/opt/anaconda3/lib/python3.9/site-packages/pandas/core/arrays/masked.py:60: UserWarning: Pandas requires version '1.3.6' or newer of 'bottleneck' (version '1.3.5' currently installed).\n",
      "  from pandas.core import (\n",
      "/Users/jamesaphoenix/opt/anaconda3/lib/python3.9/site-packages/scipy/__init__.py:155: UserWarning: A NumPy version >=1.18.5 and <1.25.0 is required for this version of SciPy (detected version 1.26.3\n",
      "  warnings.warn(f\"A NumPy version >={np_minversion} and <{np_maxversion}\"\n"
     ]
    }
   ],
   "source": [
    "from langchain.text_splitter import CharacterTextSplitter\n",
    "\n",
    "text_splitter = CharacterTextSplitter.from_tiktoken_encoder(\n",
    "    chunk_size=200, chunk_overlap=0\n",
    ")\n",
    "\n",
    "blobs = [\n",
    "    \"NutriFusion Foods Marketing Plan 2022.docx\",\n",
    "    \"NutriFusion Foods Marketing Plan 2023.docx\"\n",
    "]\n",
    "\n",
    "docs = []\n",
    "for blob in blobs:\n",
    "    loader = GCSFileLoader(project_name=\"vexpower-2b2c5\", bucket=\"oreilly-content\", blob=blob)\n",
    "    pages = loader.load()\n",
    "    chunks = text_splitter.split_documents(pages)\n",
    "    docs.extend(chunks)\n",
    "\n",
    "# Saving the marketing book pages:\n",
    "all_documents.extend(docs)"
   ]
  }
 ],
 "metadata": {
  "kernelspec": {
   "display_name": "base",
   "language": "python",
   "name": "python3"
  },
  "language_info": {
   "codemirror_mode": {
    "name": "ipython",
    "version": 3
   },
   "file_extension": ".py",
   "mimetype": "text/x-python",
   "name": "python",
   "nbconvert_exporter": "python",
   "pygments_lexer": "ipython3",
   "version": "3.9.13"
  },
  "orig_nbformat": 4
 },
 "nbformat": 4,
 "nbformat_minor": 2
}

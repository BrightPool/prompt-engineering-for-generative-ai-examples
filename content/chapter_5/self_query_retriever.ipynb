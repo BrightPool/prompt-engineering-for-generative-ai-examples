{
 "cells": [
  {
   "cell_type": "code",
   "execution_count": 56,
   "metadata": {},
   "outputs": [
    {
     "name": "stdout",
     "output_type": "stream",
     "text": [
      "Requirement already satisfied: lark in /Users/jamesaphoenix/opt/anaconda3/lib/python3.9/site-packages (1.1.9)\n",
      "Requirement already satisfied: chromadb in /Users/jamesaphoenix/opt/anaconda3/lib/python3.9/site-packages (0.4.24)\n",
      "Requirement already satisfied: pandas in /Users/jamesaphoenix/opt/anaconda3/lib/python3.9/site-packages (2.2.1)\n",
      "Requirement already satisfied: tokenizers>=0.13.2 in /Users/jamesaphoenix/opt/anaconda3/lib/python3.9/site-packages (from chromadb) (0.13.3)\n",
      "Requirement already satisfied: kubernetes>=28.1.0 in /Users/jamesaphoenix/opt/anaconda3/lib/python3.9/site-packages (from chromadb) (29.0.0)\n",
      "Requirement already satisfied: numpy>=1.22.5 in /Users/jamesaphoenix/opt/anaconda3/lib/python3.9/site-packages (from chromadb) (1.26.3)\n",
      "Requirement already satisfied: pypika>=0.48.9 in /Users/jamesaphoenix/opt/anaconda3/lib/python3.9/site-packages (from chromadb) (0.48.9)\n",
      "Requirement already satisfied: bcrypt>=4.0.1 in /Users/jamesaphoenix/opt/anaconda3/lib/python3.9/site-packages (from chromadb) (4.1.2)\n",
      "Requirement already satisfied: mmh3>=4.0.1 in /Users/jamesaphoenix/opt/anaconda3/lib/python3.9/site-packages (from chromadb) (4.1.0)\n",
      "Requirement already satisfied: uvicorn[standard]>=0.18.3 in /Users/jamesaphoenix/opt/anaconda3/lib/python3.9/site-packages (from chromadb) (0.21.1)\n",
      "Requirement already satisfied: fastapi>=0.95.2 in /Users/jamesaphoenix/opt/anaconda3/lib/python3.9/site-packages (from chromadb) (0.109.0)\n",
      "Requirement already satisfied: opentelemetry-exporter-otlp-proto-grpc>=1.2.0 in /Users/jamesaphoenix/opt/anaconda3/lib/python3.9/site-packages (from chromadb) (1.22.0)\n",
      "Requirement already satisfied: opentelemetry-sdk>=1.2.0 in /Users/jamesaphoenix/opt/anaconda3/lib/python3.9/site-packages (from chromadb) (1.22.0)\n",
      "Requirement already satisfied: typing-extensions>=4.5.0 in /Users/jamesaphoenix/opt/anaconda3/lib/python3.9/site-packages (from chromadb) (4.9.0)\n",
      "Requirement already satisfied: onnxruntime>=1.14.1 in /Users/jamesaphoenix/opt/anaconda3/lib/python3.9/site-packages (from chromadb) (1.15.1)\n",
      "Requirement already satisfied: posthog>=2.4.0 in /Users/jamesaphoenix/opt/anaconda3/lib/python3.9/site-packages (from chromadb) (3.0.1)\n",
      "Requirement already satisfied: opentelemetry-instrumentation-fastapi>=0.41b0 in /Users/jamesaphoenix/opt/anaconda3/lib/python3.9/site-packages (from chromadb) (0.43b0)\n",
      "Requirement already satisfied: chroma-hnswlib==0.7.3 in /Users/jamesaphoenix/opt/anaconda3/lib/python3.9/site-packages (from chromadb) (0.7.3)\n",
      "Requirement already satisfied: grpcio>=1.58.0 in /Users/jamesaphoenix/opt/anaconda3/lib/python3.9/site-packages (from chromadb) (1.60.0)\n",
      "Requirement already satisfied: overrides>=7.3.1 in /Users/jamesaphoenix/opt/anaconda3/lib/python3.9/site-packages (from chromadb) (7.3.1)\n",
      "Requirement already satisfied: opentelemetry-api>=1.2.0 in /Users/jamesaphoenix/opt/anaconda3/lib/python3.9/site-packages (from chromadb) (1.22.0)\n",
      "Requirement already satisfied: importlib-resources in /Users/jamesaphoenix/opt/anaconda3/lib/python3.9/site-packages (from chromadb) (6.0.1)\n",
      "Requirement already satisfied: pulsar-client>=3.1.0 in /Users/jamesaphoenix/opt/anaconda3/lib/python3.9/site-packages (from chromadb) (3.2.0)\n",
      "Requirement already satisfied: requests>=2.28 in /Users/jamesaphoenix/opt/anaconda3/lib/python3.9/site-packages (from chromadb) (2.31.0)\n",
      "Requirement already satisfied: tenacity>=8.2.3 in /Users/jamesaphoenix/opt/anaconda3/lib/python3.9/site-packages (from chromadb) (8.2.3)\n",
      "Requirement already satisfied: tqdm>=4.65.0 in /Users/jamesaphoenix/opt/anaconda3/lib/python3.9/site-packages (from chromadb) (4.66.1)\n",
      "Requirement already satisfied: pydantic>=1.9 in /Users/jamesaphoenix/opt/anaconda3/lib/python3.9/site-packages (from chromadb) (2.6.1)\n",
      "Requirement already satisfied: build>=1.0.3 in /Users/jamesaphoenix/opt/anaconda3/lib/python3.9/site-packages (from chromadb) (1.0.3)\n",
      "Requirement already satisfied: typer>=0.9.0 in /Users/jamesaphoenix/opt/anaconda3/lib/python3.9/site-packages (from chromadb) (0.9.0)\n",
      "Requirement already satisfied: PyYAML>=6.0.0 in /Users/jamesaphoenix/opt/anaconda3/lib/python3.9/site-packages (from chromadb) (6.0.1)\n",
      "Requirement already satisfied: orjson>=3.9.12 in /Users/jamesaphoenix/opt/anaconda3/lib/python3.9/site-packages (from chromadb) (3.9.15)\n",
      "Requirement already satisfied: pytz>=2020.1 in /Users/jamesaphoenix/opt/anaconda3/lib/python3.9/site-packages (from pandas) (2022.1)\n",
      "Requirement already satisfied: python-dateutil>=2.8.2 in /Users/jamesaphoenix/opt/anaconda3/lib/python3.9/site-packages (from pandas) (2.8.2)\n",
      "Requirement already satisfied: tzdata>=2022.7 in /Users/jamesaphoenix/opt/anaconda3/lib/python3.9/site-packages (from pandas) (2023.3)\n",
      "Requirement already satisfied: importlib-metadata>=4.6 in /Users/jamesaphoenix/opt/anaconda3/lib/python3.9/site-packages (from build>=1.0.3->chromadb) (6.11.0)\n",
      "Requirement already satisfied: pyproject_hooks in /Users/jamesaphoenix/opt/anaconda3/lib/python3.9/site-packages (from build>=1.0.3->chromadb) (1.0.0)\n",
      "Requirement already satisfied: packaging>=19.0 in /Users/jamesaphoenix/opt/anaconda3/lib/python3.9/site-packages (from build>=1.0.3->chromadb) (23.2)\n",
      "Requirement already satisfied: tomli>=1.1.0 in /Users/jamesaphoenix/opt/anaconda3/lib/python3.9/site-packages (from build>=1.0.3->chromadb) (2.0.1)\n",
      "Requirement already satisfied: starlette<0.36.0,>=0.35.0 in /Users/jamesaphoenix/opt/anaconda3/lib/python3.9/site-packages (from fastapi>=0.95.2->chromadb) (0.35.1)\n",
      "Requirement already satisfied: websocket-client!=0.40.0,!=0.41.*,!=0.42.*,>=0.32.0 in /Users/jamesaphoenix/opt/anaconda3/lib/python3.9/site-packages (from kubernetes>=28.1.0->chromadb) (0.58.0)\n",
      "Requirement already satisfied: oauthlib>=3.2.2 in /Users/jamesaphoenix/opt/anaconda3/lib/python3.9/site-packages (from kubernetes>=28.1.0->chromadb) (3.2.2)\n",
      "Requirement already satisfied: urllib3>=1.24.2 in /Users/jamesaphoenix/opt/anaconda3/lib/python3.9/site-packages (from kubernetes>=28.1.0->chromadb) (2.0.7)\n",
      "Requirement already satisfied: google-auth>=1.0.1 in /Users/jamesaphoenix/opt/anaconda3/lib/python3.9/site-packages (from kubernetes>=28.1.0->chromadb) (2.16.2)\n",
      "Requirement already satisfied: requests-oauthlib in /Users/jamesaphoenix/opt/anaconda3/lib/python3.9/site-packages (from kubernetes>=28.1.0->chromadb) (1.3.1)\n",
      "Requirement already satisfied: six>=1.9.0 in /Users/jamesaphoenix/opt/anaconda3/lib/python3.9/site-packages (from kubernetes>=28.1.0->chromadb) (1.16.0)\n",
      "Requirement already satisfied: certifi>=14.05.14 in /Users/jamesaphoenix/opt/anaconda3/lib/python3.9/site-packages (from kubernetes>=28.1.0->chromadb) (2022.9.24)\n",
      "Requirement already satisfied: protobuf in /Users/jamesaphoenix/opt/anaconda3/lib/python3.9/site-packages (from onnxruntime>=1.14.1->chromadb) (4.22.0)\n",
      "Requirement already satisfied: sympy in /Users/jamesaphoenix/opt/anaconda3/lib/python3.9/site-packages (from onnxruntime>=1.14.1->chromadb) (1.10.1)\n",
      "Requirement already satisfied: coloredlogs in /Users/jamesaphoenix/opt/anaconda3/lib/python3.9/site-packages (from onnxruntime>=1.14.1->chromadb) (15.0.1)\n",
      "Requirement already satisfied: flatbuffers in /Users/jamesaphoenix/opt/anaconda3/lib/python3.9/site-packages (from onnxruntime>=1.14.1->chromadb) (23.5.26)\n",
      "Requirement already satisfied: deprecated>=1.2.6 in /Users/jamesaphoenix/opt/anaconda3/lib/python3.9/site-packages (from opentelemetry-api>=1.2.0->chromadb) (1.2.14)\n",
      "Requirement already satisfied: backoff<3.0.0,>=1.10.0 in /Users/jamesaphoenix/opt/anaconda3/lib/python3.9/site-packages (from opentelemetry-exporter-otlp-proto-grpc>=1.2.0->chromadb) (2.2.1)\n",
      "Requirement already satisfied: opentelemetry-proto==1.22.0 in /Users/jamesaphoenix/opt/anaconda3/lib/python3.9/site-packages (from opentelemetry-exporter-otlp-proto-grpc>=1.2.0->chromadb) (1.22.0)\n",
      "Requirement already satisfied: opentelemetry-exporter-otlp-proto-common==1.22.0 in /Users/jamesaphoenix/opt/anaconda3/lib/python3.9/site-packages (from opentelemetry-exporter-otlp-proto-grpc>=1.2.0->chromadb) (1.22.0)\n",
      "Requirement already satisfied: googleapis-common-protos~=1.52 in /Users/jamesaphoenix/opt/anaconda3/lib/python3.9/site-packages (from opentelemetry-exporter-otlp-proto-grpc>=1.2.0->chromadb) (1.58.0)\n",
      "Requirement already satisfied: opentelemetry-util-http==0.43b0 in /Users/jamesaphoenix/opt/anaconda3/lib/python3.9/site-packages (from opentelemetry-instrumentation-fastapi>=0.41b0->chromadb) (0.43b0)\n",
      "Requirement already satisfied: opentelemetry-instrumentation==0.43b0 in /Users/jamesaphoenix/opt/anaconda3/lib/python3.9/site-packages (from opentelemetry-instrumentation-fastapi>=0.41b0->chromadb) (0.43b0)\n",
      "Requirement already satisfied: opentelemetry-semantic-conventions==0.43b0 in /Users/jamesaphoenix/opt/anaconda3/lib/python3.9/site-packages (from opentelemetry-instrumentation-fastapi>=0.41b0->chromadb) (0.43b0)\n",
      "Requirement already satisfied: opentelemetry-instrumentation-asgi==0.43b0 in /Users/jamesaphoenix/opt/anaconda3/lib/python3.9/site-packages (from opentelemetry-instrumentation-fastapi>=0.41b0->chromadb) (0.43b0)\n",
      "Requirement already satisfied: wrapt<2.0.0,>=1.0.0 in /Users/jamesaphoenix/opt/anaconda3/lib/python3.9/site-packages (from opentelemetry-instrumentation==0.43b0->opentelemetry-instrumentation-fastapi>=0.41b0->chromadb) (1.14.1)\n",
      "Requirement already satisfied: setuptools>=16.0 in /Users/jamesaphoenix/opt/anaconda3/lib/python3.9/site-packages (from opentelemetry-instrumentation==0.43b0->opentelemetry-instrumentation-fastapi>=0.41b0->chromadb) (63.4.1)\n",
      "Requirement already satisfied: asgiref~=3.0 in /Users/jamesaphoenix/opt/anaconda3/lib/python3.9/site-packages (from opentelemetry-instrumentation-asgi==0.43b0->opentelemetry-instrumentation-fastapi>=0.41b0->chromadb) (3.7.2)\n",
      "Requirement already satisfied: monotonic>=1.5 in /Users/jamesaphoenix/opt/anaconda3/lib/python3.9/site-packages (from posthog>=2.4.0->chromadb) (1.6)\n",
      "Requirement already satisfied: pydantic-core==2.16.2 in /Users/jamesaphoenix/opt/anaconda3/lib/python3.9/site-packages (from pydantic>=1.9->chromadb) (2.16.2)\n",
      "Requirement already satisfied: annotated-types>=0.4.0 in /Users/jamesaphoenix/opt/anaconda3/lib/python3.9/site-packages (from pydantic>=1.9->chromadb) (0.5.0)\n",
      "Requirement already satisfied: idna<4,>=2.5 in /Users/jamesaphoenix/opt/anaconda3/lib/python3.9/site-packages (from requests>=2.28->chromadb) (3.3)\n",
      "Requirement already satisfied: charset-normalizer<4,>=2 in /Users/jamesaphoenix/opt/anaconda3/lib/python3.9/site-packages (from requests>=2.28->chromadb) (3.2.0)\n",
      "Requirement already satisfied: click<9.0.0,>=7.1.1 in /Users/jamesaphoenix/opt/anaconda3/lib/python3.9/site-packages (from typer>=0.9.0->chromadb) (8.1.7)\n",
      "Requirement already satisfied: h11>=0.8 in /Users/jamesaphoenix/opt/anaconda3/lib/python3.9/site-packages (from uvicorn[standard]>=0.18.3->chromadb) (0.14.0)\n",
      "Requirement already satisfied: uvloop!=0.15.0,!=0.15.1,>=0.14.0 in /Users/jamesaphoenix/opt/anaconda3/lib/python3.9/site-packages (from uvicorn[standard]>=0.18.3->chromadb) (0.17.0)\n",
      "Requirement already satisfied: websockets>=10.4 in /Users/jamesaphoenix/opt/anaconda3/lib/python3.9/site-packages (from uvicorn[standard]>=0.18.3->chromadb) (10.4)\n",
      "Requirement already satisfied: python-dotenv>=0.13 in /Users/jamesaphoenix/opt/anaconda3/lib/python3.9/site-packages (from uvicorn[standard]>=0.18.3->chromadb) (1.0.0)\n",
      "Requirement already satisfied: watchfiles>=0.13 in /Users/jamesaphoenix/opt/anaconda3/lib/python3.9/site-packages (from uvicorn[standard]>=0.18.3->chromadb) (0.19.0)\n",
      "Requirement already satisfied: httptools>=0.5.0 in /Users/jamesaphoenix/opt/anaconda3/lib/python3.9/site-packages (from uvicorn[standard]>=0.18.3->chromadb) (0.5.0)\n",
      "Requirement already satisfied: zipp>=3.1.0 in /Users/jamesaphoenix/opt/anaconda3/lib/python3.9/site-packages (from importlib-resources->chromadb) (3.8.0)\n",
      "Requirement already satisfied: rsa<5,>=3.1.4 in /Users/jamesaphoenix/opt/anaconda3/lib/python3.9/site-packages (from google-auth>=1.0.1->kubernetes>=28.1.0->chromadb) (4.9)\n",
      "Requirement already satisfied: pyasn1-modules>=0.2.1 in /Users/jamesaphoenix/opt/anaconda3/lib/python3.9/site-packages (from google-auth>=1.0.1->kubernetes>=28.1.0->chromadb) (0.2.8)\n",
      "Requirement already satisfied: cachetools<6.0,>=2.0.0 in /Users/jamesaphoenix/opt/anaconda3/lib/python3.9/site-packages (from google-auth>=1.0.1->kubernetes>=28.1.0->chromadb) (5.3.0)\n",
      "Requirement already satisfied: anyio<5,>=3.4.0 in /Users/jamesaphoenix/opt/anaconda3/lib/python3.9/site-packages (from starlette<0.36.0,>=0.35.0->fastapi>=0.95.2->chromadb) (3.5.0)\n",
      "Requirement already satisfied: humanfriendly>=9.1 in /Users/jamesaphoenix/opt/anaconda3/lib/python3.9/site-packages (from coloredlogs->onnxruntime>=1.14.1->chromadb) (10.0)\n",
      "Requirement already satisfied: mpmath>=0.19 in /Users/jamesaphoenix/opt/anaconda3/lib/python3.9/site-packages (from sympy->onnxruntime>=1.14.1->chromadb) (1.2.1)\n",
      "Requirement already satisfied: sniffio>=1.1 in /Users/jamesaphoenix/opt/anaconda3/lib/python3.9/site-packages (from anyio<5,>=3.4.0->starlette<0.36.0,>=0.35.0->fastapi>=0.95.2->chromadb) (1.2.0)\n",
      "Requirement already satisfied: pyasn1<0.5.0,>=0.4.6 in /Users/jamesaphoenix/opt/anaconda3/lib/python3.9/site-packages (from pyasn1-modules>=0.2.1->google-auth>=1.0.1->kubernetes>=28.1.0->chromadb) (0.4.8)\n",
      "Note: you may need to restart the kernel to use updated packages.\n"
     ]
    }
   ],
   "source": [
    "%pip install lark chromadb pandas --upgrade"
   ]
  },
  {
   "cell_type": "code",
   "execution_count": 82,
   "metadata": {},
   "outputs": [],
   "source": [
    "from langchain_core.documents import Document\n",
    "from langchain_community.vectorstores.chroma import Chroma\n",
    "from langchain_openai import OpenAIEmbeddings\n",
    "import lark\n",
    "import getpass\n",
    "import os\n",
    "import warnings\n",
    "\n",
    "# Disabling warnings:\n",
    "warnings.filterwarnings(\"ignore\")"
   ]
  },
  {
   "cell_type": "code",
   "execution_count": 83,
   "metadata": {},
   "outputs": [],
   "source": [
    "docs = [\n",
    "    Document(\n",
    "        page_content=\"A tale about a young wizard and his journey in a magical school.\",\n",
    "        metadata={\n",
    "            \"title\": \"Harry Potter and the Philosopher's Stone\",\n",
    "            \"author\": \"J.K. Rowling\",\n",
    "            \"year_published\": 1997,\n",
    "            \"genre\": \"Fiction\",\n",
    "            \"isbn\": \"978-0747532699\",\n",
    "            \"publisher\": \"Bloomsbury\",\n",
    "            \"language\": \"English\",\n",
    "            \"page_count\": 223,\n",
    "            \"summary\": \"The first book in the Harry Potter series where Harry discovers his magical heritage.\",\n",
    "            \"rating\": 4.8,\n",
    "        },\n",
    "    ),\n",
    "    Document(\n",
    "        page_content=\"An epic tale of power, betrayal and love set in a fantastical world.\",\n",
    "        metadata={\n",
    "            \"title\": \"A Game of Thrones\",\n",
    "            \"author\": \"George R.R. Martin\",\n",
    "            \"year_published\": 1996,\n",
    "            \"genre\": \"Fantasy\",\n",
    "            \"isbn\": \"978-0553103540\",\n",
    "            \"publisher\": \"Bantam\",\n",
    "            \"language\": \"English\",\n",
    "            \"page_count\": 694,\n",
    "            \"summary\": \"The first book in A Song of Ice and Fire series, introducing the intricate world of Westeros.\",\n",
    "            \"rating\": 4.6,\n",
    "        },\n",
    "    ),\n",
    "    Document(\n",
    "        page_content=\"A futuristic society where firemen burn books to maintain order.\",\n",
    "        metadata={\n",
    "            \"title\": \"Fahrenheit 451\",\n",
    "            \"author\": \"Ray Bradbury\",\n",
    "            \"year_published\": 1953,\n",
    "            \"genre\": \"Science Fiction\",\n",
    "            \"isbn\": \"978-1451673319\",\n",
    "            \"publisher\": \"Simon & Schuster\",\n",
    "            \"language\": \"English\",\n",
    "            \"page_count\": 249,\n",
    "            \"summary\": \"In a future society, books are banned and firemen are tasked to burn any they find, leading one fireman to question his role.\",\n",
    "            \"rating\": 4.4,\n",
    "        },\n",
    "    ),\n",
    "    Document(\n",
    "        page_content=\"A young woman's life in the South during the Civil War and Reconstruction.\",\n",
    "        metadata={\n",
    "            \"title\": \"Gone with the Wind\",\n",
    "            \"author\": \"Margaret Mitchell\",\n",
    "            \"year_published\": 1936,\n",
    "            \"genre\": \"Historical Fiction\",\n",
    "            \"isbn\": \"978-0684830681\",\n",
    "            \"publisher\": \"Macmillan\",\n",
    "            \"language\": \"English\",\n",
    "            \"page_count\": 1037,\n",
    "            \"summary\": \"The tale of Scarlett O'Hara and her love affair with Rhett Butler, set against the backdrop of the American Civil War.\",\n",
    "            \"rating\": 4.3,\n",
    "        },\n",
    "    ),\n",
    "    Document(\n",
    "        page_content=\"A story about a hobbit's journey to destroy a powerful ring.\",\n",
    "        metadata={\n",
    "            \"title\": \"The Lord of the Rings\",\n",
    "            \"author\": \"J.R.R. Tolkien\",\n",
    "            \"year_published\": 1954,\n",
    "            \"genre\": \"Fantasy\",\n",
    "            \"isbn\": \"978-0618640157\",\n",
    "            \"publisher\": \"Houghton Mifflin\",\n",
    "            \"language\": \"English\",\n",
    "            \"page_count\": 1216,\n",
    "            \"summary\": \"The epic tale of Frodo Baggins and his quest to destroy the One Ring, accompanied by a group of diverse companions.\",\n",
    "            \"rating\": 4.7,\n",
    "        },\n",
    "    ),\n",
    "]"
   ]
  },
  {
   "cell_type": "code",
   "execution_count": 84,
   "metadata": {},
   "outputs": [],
   "source": [
    "from langchain_openai.chat_models import ChatOpenAI\n",
    "from langchain.retrievers.self_query.base import SelfQueryRetriever\n",
    "from langchain.chains.query_constructor.base import AttributeInfo"
   ]
  },
  {
   "cell_type": "code",
   "execution_count": 85,
   "metadata": {},
   "outputs": [],
   "source": [
    "# Create the embeddings and vectorstore:\n",
    "embeddings = OpenAIEmbeddings()\n",
    "vectorstore = Chroma.from_documents(docs, OpenAIEmbeddings())"
   ]
  },
  {
   "cell_type": "code",
   "execution_count": 86,
   "metadata": {},
   "outputs": [],
   "source": [
    "# Basic Info\n",
    "basic_info = [\n",
    "    AttributeInfo(name=\"title\", description=\"The title of the book\", type=\"string\"),\n",
    "    AttributeInfo(name=\"author\", description=\"The author of the book\", type=\"string\"),\n",
    "    AttributeInfo(\n",
    "        name=\"year_published\",\n",
    "        description=\"The year the book was published\",\n",
    "        type=\"integer\",\n",
    "    ),\n",
    "]\n",
    "\n",
    "# Detailed Info\n",
    "detailed_info = [\n",
    "    AttributeInfo(\n",
    "        name=\"genre\", description=\"The genre of the book\", type=\"string or list[string]\"\n",
    "    ),\n",
    "    AttributeInfo(\n",
    "        name=\"isbn\",\n",
    "        description=\"The International Standard Book Number for the book\",\n",
    "        type=\"string\",\n",
    "    ),\n",
    "    AttributeInfo(\n",
    "        name=\"publisher\",\n",
    "        description=\"The publishing house that published the book\",\n",
    "        type=\"string\",\n",
    "    ),\n",
    "    AttributeInfo(\n",
    "        name=\"language\",\n",
    "        description=\"The primary language the book is written in\",\n",
    "        type=\"string\",\n",
    "    ),\n",
    "    AttributeInfo(\n",
    "        name=\"page_count\", description=\"Number of pages in the book\", type=\"integer\"\n",
    "    ),\n",
    "]\n",
    "\n",
    "# Analysis\n",
    "analysis = [\n",
    "    AttributeInfo(\n",
    "        name=\"summary\",\n",
    "        description=\"A brief summary or description of the book\",\n",
    "        type=\"string\",\n",
    "    ),\n",
    "    AttributeInfo(\n",
    "        name=\"rating\",\n",
    "        description=\"An average rating for the book (from reviews), ranging from 1-5\",\n",
    "        type=\"float\",\n",
    "    ),\n",
    "]\n",
    "\n",
    "# Combining all lists into metadata_field_info\n",
    "metadata_field_info = basic_info + detailed_info + analysis"
   ]
  },
  {
   "cell_type": "code",
   "execution_count": 87,
   "metadata": {},
   "outputs": [],
   "source": [
    "document_content_description = \"Brief summary of a movie\"\n",
    "llm = ChatOpenAI(temperature=0)\n",
    "retriever = SelfQueryRetriever.from_llm(\n",
    "    llm, vectorstore, document_content_description, metadata_field_info\n",
    ")"
   ]
  },
  {
   "cell_type": "code",
   "execution_count": 88,
   "metadata": {},
   "outputs": [
    {
     "name": "stdout",
     "output_type": "stream",
     "text": [
      "[{'author': 'Ray Bradbury', 'genre': 'Science Fiction', 'isbn': '978-1451673319', 'language': 'English', 'page_count': 249, 'publisher': 'Simon & Schuster', 'rating': 4.4, 'summary': 'In a future society, books are banned and firemen are tasked to burn any they find, leading one fireman to question his role.', 'title': 'Fahrenheit 451', 'year_published': 1953}]\n"
     ]
    }
   ],
   "source": [
    "# Looking for sci-fi books\n",
    "documents = retriever.invoke(\"What are some sci-fi books?\")\n",
    "\n",
    "# De-duplicate:\n",
    "deduped_documents = [\n",
    "    dict(t)\n",
    "    for t in {tuple(d.metadata.items()) for d in documents}\n",
    "]\n",
    "\n",
    "print(deduped_documents)"
   ]
  },
  {
   "cell_type": "code",
   "execution_count": 89,
   "metadata": {},
   "outputs": [
    {
     "data": {
      "text/plain": [
       "Document(page_content='A tale about a young wizard and his journey in a magical school.', metadata={'author': 'J.K. Rowling', 'genre': 'Fiction', 'isbn': '978-0747532699', 'language': 'English', 'page_count': 223, 'publisher': 'Bloomsbury', 'rating': 4.8, 'summary': 'The first book in the Harry Potter series where Harry discovers his magical heritage.', 'title': \"Harry Potter and the Philosopher's Stone\", 'year_published': 1997})"
      ]
     },
     "execution_count": 89,
     "metadata": {},
     "output_type": "execute_result"
    }
   ],
   "source": [
    "# Querying for a book by J.K. Rowling:\n",
    "retriever.invoke(\"I want some books that are published by the author J.K. Rowling for Harry Potter.\")[0]"
   ]
  },
  {
   "cell_type": "code",
   "execution_count": 90,
   "metadata": {},
   "outputs": [
    {
     "data": {
      "text/plain": [
       "[Document(page_content='An epic tale of power, betrayal and love set in a fantastical world.', metadata={'author': 'George R.R. Martin', 'genre': 'Fantasy', 'isbn': '978-0553103540', 'language': 'English', 'page_count': 694, 'publisher': 'Bantam', 'rating': 4.6, 'summary': 'The first book in A Song of Ice and Fire series, introducing the intricate world of Westeros.', 'title': 'A Game of Thrones', 'year_published': 1996})]"
      ]
     },
     "execution_count": 90,
     "metadata": {},
     "output_type": "execute_result"
    }
   ],
   "source": [
    "retriever = SelfQueryRetriever.from_llm(\n",
    "    llm,\n",
    "    vectorstore,\n",
    "    document_content_description,\n",
    "    metadata_field_info,\n",
    "    enable_limit=True,\n",
    ")\n",
    "\n",
    "retriever.invoke(\"Return 1 Fantasy book\")"
   ]
  }
 ],
 "metadata": {
  "kernelspec": {
   "display_name": "base",
   "language": "python",
   "name": "python3"
  },
  "language_info": {
   "codemirror_mode": {
    "name": "ipython",
    "version": 3
   },
   "file_extension": ".py",
   "mimetype": "text/x-python",
   "name": "python",
   "nbconvert_exporter": "python",
   "pygments_lexer": "ipython3",
   "version": "3.9.13"
  },
  "orig_nbformat": 4
 },
 "nbformat": 4,
 "nbformat_minor": 2
}

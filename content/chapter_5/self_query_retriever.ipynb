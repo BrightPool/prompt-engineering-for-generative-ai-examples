{
 "cells": [
  {
   "cell_type": "code",
   "execution_count": 1,
   "metadata": {},
   "outputs": [
    {
     "name": "stdout",
     "output_type": "stream",
     "text": [
      "Requirement already satisfied: lark in /Users/jamesaphoenix/opt/anaconda3/lib/python3.9/site-packages (1.1.7)\n",
      "Note: you may need to restart the kernel to use updated packages.\n"
     ]
    }
   ],
   "source": [
    "%pip install lark"
   ]
  },
  {
   "cell_type": "code",
   "execution_count": 44,
   "metadata": {},
   "outputs": [],
   "source": [
    "from langchain.schema import Document\n",
    "from langchain.embeddings.openai import OpenAIEmbeddings\n",
    "from langchain.vectorstores import Pinecone\n",
    "import lark\n",
    "import getpass\n",
    "import pinecone\n",
    "import warnings\n",
    "\n",
    "# Disabling warnings:\n",
    "warnings.filterwarnings(\"ignore\")"
   ]
  },
  {
   "cell_type": "code",
   "execution_count": 45,
   "metadata": {},
   "outputs": [],
   "source": [
    "PINECONE_API_KEY = getpass.getpass(\"Pinecone API Key:\")\n",
    "PINECONE_ENV = getpass.getpass(\"Pinecone Environment:\")\n",
    "PINECONE_INDEX = \"INDEX_NAME_HERE\""
   ]
  },
  {
   "cell_type": "code",
   "execution_count": 18,
   "metadata": {},
   "outputs": [],
   "source": [
    "# Initialize the Pinecone authentication:\n",
    "pinecone.init(api_key=PINECONE_API_KEY, environment=PINECONE_ENV)\n",
    "index = pinecone.Index(index_name=PINECONE_INDEX)"
   ]
  },
  {
   "cell_type": "code",
   "execution_count": 19,
   "metadata": {},
   "outputs": [],
   "source": [
    "docs = [\n",
    "    Document(\n",
    "        page_content=\"A tale about a young wizard and his journey in a magical school.\",\n",
    "        metadata={\n",
    "            \"title\": \"Harry Potter and the Philosopher's Stone\",\n",
    "            \"author\": \"J.K. Rowling\",\n",
    "            \"year_published\": 1997,\n",
    "            \"genre\": \"Fiction\",\n",
    "            \"isbn\": \"978-0747532699\",\n",
    "            \"publisher\": \"Bloomsbury\",\n",
    "            \"language\": \"English\",\n",
    "            \"page_count\": 223,\n",
    "            \"summary\": \"The first book in the Harry Potter series where Harry discovers his magical heritage.\",\n",
    "            \"keywords\": [\"magic\", \"wizard\", \"Hogwarts\"],\n",
    "            \"rating\": 4.8,\n",
    "        },\n",
    "    ),\n",
    "    Document(\n",
    "        page_content=\"An epic tale of power, betrayal and love set in a fantastical world.\",\n",
    "        metadata={\n",
    "            \"title\": \"A Game of Thrones\",\n",
    "            \"author\": \"George R.R. Martin\",\n",
    "            \"year_published\": 1996,\n",
    "            \"genre\": \"Fantasy\",\n",
    "            \"isbn\": \"978-0553103540\",\n",
    "            \"publisher\": \"Bantam\",\n",
    "            \"language\": \"English\",\n",
    "            \"page_count\": 694,\n",
    "            \"summary\": \"The first book in A Song of Ice and Fire series, introducing the intricate world of Westeros.\",\n",
    "            \"keywords\": [\"dragons\", \"kingdoms\", \"power struggle\"],\n",
    "            \"rating\": 4.6,\n",
    "        },\n",
    "    ),\n",
    "    Document(\n",
    "        page_content=\"A futuristic society where firemen burn books to maintain order.\",\n",
    "        metadata={\n",
    "            \"title\": \"Fahrenheit 451\",\n",
    "            \"author\": \"Ray Bradbury\",\n",
    "            \"year_published\": 1953,\n",
    "            \"genre\": \"Science Fiction\",\n",
    "            \"isbn\": \"978-1451673319\",\n",
    "            \"publisher\": \"Simon & Schuster\",\n",
    "            \"language\": \"English\",\n",
    "            \"page_count\": 249,\n",
    "            \"summary\": \"In a future society, books are banned and firemen are tasked to burn any they find, leading one fireman to question his role.\",\n",
    "            \"keywords\": [\"dystopia\", \"censorship\", \"rebellion\"],\n",
    "            \"rating\": 4.4,\n",
    "        },\n",
    "    ),\n",
    "    Document(\n",
    "        page_content=\"A young woman's life in the South during the Civil War and Reconstruction.\",\n",
    "        metadata={\n",
    "            \"title\": \"Gone with the Wind\",\n",
    "            \"author\": \"Margaret Mitchell\",\n",
    "            \"year_published\": 1936,\n",
    "            \"genre\": \"Historical Fiction\",\n",
    "            \"isbn\": \"978-0684830681\",\n",
    "            \"publisher\": \"Macmillan\",\n",
    "            \"language\": \"English\",\n",
    "            \"page_count\": 1037,\n",
    "            \"summary\": \"The tale of Scarlett O'Hara and her love affair with Rhett Butler, set against the backdrop of the American Civil War.\",\n",
    "            \"keywords\": [\"civil war\", \"love\", \"southern life\"],\n",
    "            \"rating\": 4.3,\n",
    "        },\n",
    "    ),\n",
    "    Document(\n",
    "        page_content=\"A story about a hobbit's journey to destroy a powerful ring.\",\n",
    "        metadata={\n",
    "            \"title\": \"The Lord of the Rings\",\n",
    "            \"author\": \"J.R.R. Tolkien\",\n",
    "            \"year_published\": 1954,\n",
    "            \"genre\": \"Fantasy\",\n",
    "            \"isbn\": \"978-0618640157\",\n",
    "            \"publisher\": \"Houghton Mifflin\",\n",
    "            \"language\": \"English\",\n",
    "            \"page_count\": 1216,\n",
    "            \"summary\": \"The epic tale of Frodo Baggins and his quest to destroy the One Ring, accompanied by a group of diverse companions.\",\n",
    "            \"keywords\": [\"fantasy\", \"epic\", \"Middle-earth\"],\n",
    "            \"rating\": 4.7,\n",
    "        },\n",
    "    ),\n",
    "]"
   ]
  },
  {
   "cell_type": "code",
   "execution_count": 20,
   "metadata": {},
   "outputs": [
    {
     "name": "stdout",
     "output_type": "stream",
     "text": [
      "(400)\n",
      "Reason: Bad Request\n",
      "HTTP response headers: HTTPHeaderDict({'content-type': 'text/plain; charset=UTF-8', 'date': 'Fri, 18 Aug 2023 17:28:34 GMT', 'x-envoy-upstream-service-time': '1347', 'content-length': '131', 'server': 'envoy'})\n",
      "HTTP response body: The index exceeds the project quota of 1 pods by 1 pods. Upgrade your account or change the project settings to increase the quota.\n",
      "\n"
     ]
    }
   ],
   "source": [
    "# Create the embeddings and new index:\n",
    "embeddings = OpenAIEmbeddings()\n",
    "try:\n",
    "    pinecone.create_index(PINECONE_INDEX, dimension=1536)\n",
    "except Exception as e:\n",
    "    print(e)"
   ]
  },
  {
   "cell_type": "code",
   "execution_count": 31,
   "metadata": {},
   "outputs": [],
   "source": [
    "# index.delete(delete_all=True) # uncomment to delete all vectors in the index\n",
    "vectorstore = Pinecone.from_documents(docs, embeddings, index_name=PINECONE_INDEX)"
   ]
  },
  {
   "cell_type": "code",
   "execution_count": 46,
   "metadata": {},
   "outputs": [],
   "source": [
    "from langchain.chat_models import ChatOpenAI\n",
    "from langchain.retrievers.self_query.base import SelfQueryRetriever\n",
    "from langchain.chains.query_constructor.base import AttributeInfo"
   ]
  },
  {
   "cell_type": "code",
   "execution_count": 47,
   "metadata": {},
   "outputs": [],
   "source": [
    "# Basic Info\n",
    "basic_info = [\n",
    "    AttributeInfo(name=\"title\", description=\"The title of the book\", type=\"string\"),\n",
    "    AttributeInfo(name=\"author\", description=\"The author of the book\", type=\"string\"),\n",
    "    AttributeInfo(\n",
    "        name=\"year_published\",\n",
    "        description=\"The year the book was published\",\n",
    "        type=\"integer\",\n",
    "    ),\n",
    "]\n",
    "\n",
    "# Detailed Info\n",
    "detailed_info = [\n",
    "    AttributeInfo(\n",
    "        name=\"genre\", description=\"The genre of the book\", type=\"string or list[string]\"\n",
    "    ),\n",
    "    AttributeInfo(\n",
    "        name=\"isbn\",\n",
    "        description=\"The International Standard Book Number for the book\",\n",
    "        type=\"string\",\n",
    "    ),\n",
    "    AttributeInfo(\n",
    "        name=\"publisher\",\n",
    "        description=\"The publishing house that published the book\",\n",
    "        type=\"string\",\n",
    "    ),\n",
    "    AttributeInfo(\n",
    "        name=\"language\",\n",
    "        description=\"The primary language the book is written in\",\n",
    "        type=\"string\",\n",
    "    ),\n",
    "    AttributeInfo(\n",
    "        name=\"page_count\", description=\"Number of pages in the book\", type=\"integer\"\n",
    "    ),\n",
    "]\n",
    "\n",
    "# Analysis\n",
    "analysis = [\n",
    "    AttributeInfo(\n",
    "        name=\"summary\",\n",
    "        description=\"A brief summary or description of the book\",\n",
    "        type=\"string\",\n",
    "    ),\n",
    "    AttributeInfo(\n",
    "        name=\"keywords\",\n",
    "        description=\"A few keywords relevant to the book's content\",\n",
    "        type=\"list[string]\",\n",
    "    ),\n",
    "    AttributeInfo(\n",
    "        name=\"rating\",\n",
    "        description=\"An average rating for the book (from reviews), ranging from 1-5\",\n",
    "        type=\"float\",\n",
    "    ),\n",
    "]\n",
    "\n",
    "# Combining all lists into metadata_field_info\n",
    "metadata_field_info = basic_info + detailed_info + analysis"
   ]
  },
  {
   "cell_type": "code",
   "execution_count": 34,
   "metadata": {},
   "outputs": [],
   "source": [
    "document_content_description = \"Brief summary of a movie\"\n",
    "llm = ChatOpenAI(temperature=0)\n",
    "retriever = SelfQueryRetriever.from_llm(\n",
    "    llm, vectorstore, document_content_description, metadata_field_info, verbose=True\n",
    ")"
   ]
  },
  {
   "cell_type": "code",
   "execution_count": 35,
   "metadata": {},
   "outputs": [
    {
     "name": "stderr",
     "output_type": "stream",
     "text": [
      "/Users/jamesaphoenix/opt/anaconda3/lib/python3.9/site-packages/langchain/chains/llm.py:275: UserWarning: The predict_and_parse method is deprecated, instead pass an output parser directly to LLMChain.\n",
      "  warnings.warn(\n"
     ]
    },
    {
     "name": "stdout",
     "output_type": "stream",
     "text": [
      "query='sci-fi' filter=None limit=None\n"
     ]
    },
    {
     "data": {
      "text/plain": [
       "[Document(page_content='A futuristic society where firemen burn books to maintain order.', metadata={'author': 'Ray Bradbury', 'genre': 'Science Fiction', 'isbn': '978-1451673319', 'keywords': ['dystopia', 'censorship', 'rebellion'], 'language': 'English', 'page_count': 249.0, 'publisher': 'Simon & Schuster', 'rating': 4.4, 'summary': 'In a future society, books are banned and firemen are tasked to burn any they find, leading one fireman to question his role.', 'title': 'Fahrenheit 451', 'year_published': 1953.0}),\n",
       " Document(page_content='An epic tale of power, betrayal and love set in a fantastical world.', metadata={'author': 'George R.R. Martin', 'genre': 'Fantasy', 'isbn': '978-0553103540', 'keywords': ['dragons', 'kingdoms', 'power struggle'], 'language': 'English', 'page_count': 694.0, 'publisher': 'Bantam', 'rating': 4.6, 'summary': 'The first book in A Song of Ice and Fire series, introducing the intricate world of Westeros.', 'title': 'A Game of Thrones', 'year_published': 1996.0}),\n",
       " Document(page_content='A tale about a young wizard and his journey in a magical school.', metadata={'author': 'J.K. Rowling', 'genre': 'Fiction', 'isbn': '978-0747532699', 'keywords': ['magic', 'wizard', 'Hogwarts'], 'language': 'English', 'page_count': 223.0, 'publisher': 'Bloomsbury', 'rating': 4.8, 'summary': 'The first book in the Harry Potter series where Harry discovers his magical heritage.', 'title': \"Harry Potter and the Philosopher's Stone\", 'year_published': 1997.0}),\n",
       " Document(page_content=\"A story about a hobbit's journey to destroy a powerful ring.\", metadata={'author': 'J.R.R. Tolkien', 'genre': 'Fantasy', 'isbn': '978-0618640157', 'keywords': ['fantasy', 'epic', 'Middle-earth'], 'language': 'English', 'page_count': 1216.0, 'publisher': 'Houghton Mifflin', 'rating': 4.7, 'summary': 'The epic tale of Frodo Baggins and his quest to destroy the One Ring, accompanied by a group of diverse companions.', 'title': 'The Lord of the Rings', 'year_published': 1954.0})]"
      ]
     },
     "execution_count": 35,
     "metadata": {},
     "output_type": "execute_result"
    }
   ],
   "source": [
    "# Looking for sci-fi books\n",
    "retriever.get_relevant_documents(\"What are some sci-fi books?\")"
   ]
  },
  {
   "cell_type": "code",
   "execution_count": 37,
   "metadata": {},
   "outputs": [
    {
     "name": "stdout",
     "output_type": "stream",
     "text": [
      "query=' ' filter=Operation(operator=<Operator.AND: 'and'>, arguments=[Comparison(comparator=<Comparator.GT: 'gt'>, attribute='rating', value=4.0), Operation(operator=<Operator.OR: 'or'>, arguments=[Comparison(comparator=<Comparator.EQ: 'eq'>, attribute='genre', value='Fantasy'), Comparison(comparator=<Comparator.EQ: 'eq'>, attribute='genre', value='Science fiction')])]) limit=None\n"
     ]
    },
    {
     "data": {
      "text/plain": [
       "[Document(page_content='An epic tale of power, betrayal and love set in a fantastical world.', metadata={'author': 'George R.R. Martin', 'genre': 'Fantasy', 'isbn': '978-0553103540', 'keywords': ['dragons', 'kingdoms', 'power struggle'], 'language': 'English', 'page_count': 694.0, 'publisher': 'Bantam', 'rating': 4.6, 'summary': 'The first book in A Song of Ice and Fire series, introducing the intricate world of Westeros.', 'title': 'A Game of Thrones', 'year_published': 1996.0}),\n",
       " Document(page_content=\"A story about a hobbit's journey to destroy a powerful ring.\", metadata={'author': 'J.R.R. Tolkien', 'genre': 'Fantasy', 'isbn': '978-0618640157', 'keywords': ['fantasy', 'epic', 'Middle-earth'], 'language': 'English', 'page_count': 1216.0, 'publisher': 'Houghton Mifflin', 'rating': 4.7, 'summary': 'The epic tale of Frodo Baggins and his quest to destroy the One Ring, accompanied by a group of diverse companions.', 'title': 'The Lord of the Rings', 'year_published': 1954.0})]"
      ]
     },
     "execution_count": 37,
     "metadata": {},
     "output_type": "execute_result"
    }
   ],
   "source": [
    "retriever.get_relevant_documents(\n",
    "    \"Provide books with a rating over 4.0, that are either Fantasy or Science fiction\"\n",
    ")"
   ]
  },
  {
   "cell_type": "code",
   "execution_count": 40,
   "metadata": {},
   "outputs": [
    {
     "name": "stdout",
     "output_type": "stream",
     "text": [
      "query=' ' filter=Comparison(comparator=<Comparator.EQ: 'eq'>, attribute='author', value='J.K. Rowling') limit=None\n"
     ]
    },
    {
     "data": {
      "text/plain": [
       "[Document(page_content='A tale about a young wizard and his journey in a magical school.', metadata={'author': 'J.K. Rowling', 'genre': 'Fiction', 'isbn': '978-0747532699', 'keywords': ['magic', 'wizard', 'Hogwarts'], 'language': 'English', 'page_count': 223.0, 'publisher': 'Bloomsbury', 'rating': 4.8, 'summary': 'The first book in the Harry Potter series where Harry discovers his magical heritage.', 'title': \"Harry Potter and the Philosopher's Stone\", 'year_published': 1997.0})]"
      ]
     },
     "execution_count": 40,
     "metadata": {},
     "output_type": "execute_result"
    }
   ],
   "source": [
    "# Querying for a book by J.K. Rowling:\n",
    "retriever.get_relevant_documents(\n",
    "    \"I want all of the books that were published by J.K. Rowling\"\n",
    ")"
   ]
  },
  {
   "cell_type": "code",
   "execution_count": 41,
   "metadata": {},
   "outputs": [
    {
     "name": "stderr",
     "output_type": "stream",
     "text": [
      "/Users/jamesaphoenix/opt/anaconda3/lib/python3.9/site-packages/langchain/chains/llm.py:275: UserWarning: The predict_and_parse method is deprecated, instead pass an output parser directly to LLMChain.\n",
      "  warnings.warn(\n"
     ]
    },
    {
     "name": "stdout",
     "output_type": "stream",
     "text": [
      "query=' ' filter=Comparison(comparator=<Comparator.EQ: 'eq'>, attribute='genre', value='Fantasy') limit=2\n"
     ]
    },
    {
     "data": {
      "text/plain": [
       "[Document(page_content='An epic tale of power, betrayal and love set in a fantastical world.', metadata={'author': 'George R.R. Martin', 'genre': 'Fantasy', 'isbn': '978-0553103540', 'keywords': ['dragons', 'kingdoms', 'power struggle'], 'language': 'English', 'page_count': 694.0, 'publisher': 'Bantam', 'rating': 4.6, 'summary': 'The first book in A Song of Ice and Fire series, introducing the intricate world of Westeros.', 'title': 'A Game of Thrones', 'year_published': 1996.0}),\n",
       " Document(page_content=\"A story about a hobbit's journey to destroy a powerful ring.\", metadata={'author': 'J.R.R. Tolkien', 'genre': 'Fantasy', 'isbn': '978-0618640157', 'keywords': ['fantasy', 'epic', 'Middle-earth'], 'language': 'English', 'page_count': 1216.0, 'publisher': 'Houghton Mifflin', 'rating': 4.7, 'summary': 'The epic tale of Frodo Baggins and his quest to destroy the One Ring, accompanied by a group of diverse companions.', 'title': 'The Lord of the Rings', 'year_published': 1954.0})]"
      ]
     },
     "execution_count": 41,
     "metadata": {},
     "output_type": "execute_result"
    }
   ],
   "source": [
    "retriever = SelfQueryRetriever.from_llm(\n",
    "    llm,\n",
    "    vectorstore,\n",
    "    document_content_description,\n",
    "    metadata_field_info,\n",
    "    enable_limit=True,\n",
    "    verbose=True,\n",
    ")\n",
    "\n",
    "retriever.get_relevant_documents(\n",
    "    query=\"Return 2 Fantasy books\",\n",
    ")"
   ]
  }
 ],
 "metadata": {
  "kernelspec": {
   "display_name": "base",
   "language": "python",
   "name": "python3"
  },
  "language_info": {
   "codemirror_mode": {
    "name": "ipython",
    "version": 3
   },
   "file_extension": ".py",
   "mimetype": "text/x-python",
   "name": "python",
   "nbconvert_exporter": "python",
   "pygments_lexer": "ipython3",
   "version": "3.9.13"
  },
  "orig_nbformat": 4
 },
 "nbformat": 4,
 "nbformat_minor": 2
}

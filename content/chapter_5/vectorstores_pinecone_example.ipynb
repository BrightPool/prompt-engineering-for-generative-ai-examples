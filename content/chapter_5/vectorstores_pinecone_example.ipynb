{
 "cells": [
  {
   "cell_type": "code",
   "execution_count": 20,
   "metadata": {},
   "outputs": [
    {
     "name": "stdout",
     "output_type": "stream",
     "text": [
      "Requirement already satisfied: pinecone-client in /Users/jamesaphoenix/opt/anaconda3/lib/python3.9/site-packages (2.2.2)\n",
      "Requirement already satisfied: openai in /Users/jamesaphoenix/opt/anaconda3/lib/python3.9/site-packages (0.27.2)\n",
      "Requirement already satisfied: tiktoken in /Users/jamesaphoenix/opt/anaconda3/lib/python3.9/site-packages (0.3.2)\n",
      "Requirement already satisfied: numpy>=1.22.0 in /Users/jamesaphoenix/opt/anaconda3/lib/python3.9/site-packages (from pinecone-client) (1.24.4)\n",
      "Requirement already satisfied: dnspython>=2.0.0 in /Users/jamesaphoenix/opt/anaconda3/lib/python3.9/site-packages (from pinecone-client) (2.4.0)\n",
      "Requirement already satisfied: loguru>=0.5.0 in /Users/jamesaphoenix/opt/anaconda3/lib/python3.9/site-packages (from pinecone-client) (0.7.0)\n",
      "Requirement already satisfied: python-dateutil>=2.5.3 in /Users/jamesaphoenix/opt/anaconda3/lib/python3.9/site-packages (from pinecone-client) (2.8.2)\n",
      "Requirement already satisfied: tqdm>=4.64.1 in /Users/jamesaphoenix/opt/anaconda3/lib/python3.9/site-packages (from pinecone-client) (4.65.0)\n",
      "Requirement already satisfied: typing-extensions>=3.7.4 in /Users/jamesaphoenix/opt/anaconda3/lib/python3.9/site-packages (from pinecone-client) (4.5.0)\n",
      "Requirement already satisfied: pyyaml>=5.4 in /Users/jamesaphoenix/opt/anaconda3/lib/python3.9/site-packages (from pinecone-client) (6.0)\n",
      "Requirement already satisfied: requests>=2.19.0 in /Users/jamesaphoenix/opt/anaconda3/lib/python3.9/site-packages (from pinecone-client) (2.28.1)\n",
      "Requirement already satisfied: urllib3>=1.21.1 in /Users/jamesaphoenix/opt/anaconda3/lib/python3.9/site-packages (from pinecone-client) (1.26.11)\n",
      "Requirement already satisfied: aiohttp in /Users/jamesaphoenix/opt/anaconda3/lib/python3.9/site-packages (from openai) (3.8.4)\n",
      "Requirement already satisfied: regex>=2022.1.18 in /Users/jamesaphoenix/opt/anaconda3/lib/python3.9/site-packages (from tiktoken) (2022.7.9)\n",
      "Requirement already satisfied: sniffio<2.0,>=1.1 in /Users/jamesaphoenix/opt/anaconda3/lib/python3.9/site-packages (from dnspython>=2.0.0->pinecone-client) (1.2.0)\n",
      "Requirement already satisfied: httpcore>=0.17.3 in /Users/jamesaphoenix/opt/anaconda3/lib/python3.9/site-packages (from dnspython>=2.0.0->pinecone-client) (0.17.3)\n",
      "Requirement already satisfied: six>=1.5 in /Users/jamesaphoenix/opt/anaconda3/lib/python3.9/site-packages (from python-dateutil>=2.5.3->pinecone-client) (1.16.0)\n",
      "Requirement already satisfied: certifi>=2017.4.17 in /Users/jamesaphoenix/opt/anaconda3/lib/python3.9/site-packages (from requests>=2.19.0->pinecone-client) (2022.9.24)\n",
      "Requirement already satisfied: idna<4,>=2.5 in /Users/jamesaphoenix/opt/anaconda3/lib/python3.9/site-packages (from requests>=2.19.0->pinecone-client) (3.3)\n",
      "Requirement already satisfied: charset-normalizer<3,>=2 in /Users/jamesaphoenix/opt/anaconda3/lib/python3.9/site-packages (from requests>=2.19.0->pinecone-client) (2.0.4)\n",
      "Requirement already satisfied: attrs>=17.3.0 in /Users/jamesaphoenix/opt/anaconda3/lib/python3.9/site-packages (from aiohttp->openai) (21.4.0)\n",
      "Requirement already satisfied: multidict<7.0,>=4.5 in /Users/jamesaphoenix/opt/anaconda3/lib/python3.9/site-packages (from aiohttp->openai) (6.0.4)\n",
      "Requirement already satisfied: frozenlist>=1.1.1 in /Users/jamesaphoenix/opt/anaconda3/lib/python3.9/site-packages (from aiohttp->openai) (1.3.3)\n",
      "Requirement already satisfied: aiosignal>=1.1.2 in /Users/jamesaphoenix/opt/anaconda3/lib/python3.9/site-packages (from aiohttp->openai) (1.3.1)\n",
      "Requirement already satisfied: async-timeout<5.0,>=4.0.0a3 in /Users/jamesaphoenix/opt/anaconda3/lib/python3.9/site-packages (from aiohttp->openai) (4.0.2)\n",
      "Requirement already satisfied: yarl<2.0,>=1.0 in /Users/jamesaphoenix/opt/anaconda3/lib/python3.9/site-packages (from aiohttp->openai) (1.8.2)\n",
      "Requirement already satisfied: anyio<5.0,>=3.0 in /Users/jamesaphoenix/opt/anaconda3/lib/python3.9/site-packages (from httpcore>=0.17.3->dnspython>=2.0.0->pinecone-client) (3.5.0)\n",
      "Requirement already satisfied: h11<0.15,>=0.13 in /Users/jamesaphoenix/opt/anaconda3/lib/python3.9/site-packages (from httpcore>=0.17.3->dnspython>=2.0.0->pinecone-client) (0.14.0)\n",
      "Note: you may need to restart the kernel to use updated packages.\n"
     ]
    }
   ],
   "source": [
    "%pip install pinecone-client openai tiktoken"
   ]
  },
  {
   "cell_type": "code",
   "execution_count": 21,
   "metadata": {},
   "outputs": [],
   "source": [
    "from langchain.document_loaders import PyPDFLoader\n",
    "from langchain.embeddings.openai import OpenAIEmbeddings\n",
    "from langchain.text_splitter import CharacterTextSplitter\n",
    "from langchain.vectorstores import Pinecone\n",
    "import os\n",
    "import getpass\n",
    "import pinecone"
   ]
  },
  {
   "cell_type": "code",
   "execution_count": null,
   "metadata": {},
   "outputs": [],
   "source": [
    "os.environ[\"OPENAI_API_KEY\"] = getpass.getpass(\"Enter in your OpenAI API Key:\")\n",
    "PINECONE_API_KEY = getpass.getpass(\"Pinecone API Key:\")\n",
    "PINECONE_ENV = getpass.getpass(\"Pinecone Environment:\")\n",
    "PINECONE_INDEX = \"\""
   ]
  },
  {
   "cell_type": "code",
   "execution_count": 2,
   "metadata": {},
   "outputs": [
    {
     "name": "stdout",
     "output_type": "stream",
     "text": [
      "page_content='Principles of Mark eting' metadata={'source': '/var/folders/_y/20jl658s4jl0zvy5c0x0c5140000gn/T/tmpr74w14jh/tmp.pdf', 'page': 0}\n"
     ]
    }
   ],
   "source": [
    "# loader = PyPDFLoader(\"data/principles_of_marketing_book.pdf\") # If the file was local\n",
    "loader = PyPDFLoader(\n",
    "    \"https://storage.googleapis.com/strapi_cms_assets/principles_of_marketing_book.pdf\"\n",
    ")\n",
    "raw_documents = loader.load_and_split()\n",
    "print(raw_documents[0])"
   ]
  },
  {
   "cell_type": "code",
   "execution_count": 3,
   "metadata": {},
   "outputs": [],
   "source": [
    "# Using the last 100 documents for this example:\n",
    "raw_documents = raw_documents[-100:]"
   ]
  },
  {
   "cell_type": "code",
   "execution_count": 7,
   "metadata": {},
   "outputs": [],
   "source": [
    "# Load the marketing principles .pdf, split it into chunks, embed each chunk and load it into the vector store.\n",
    "text_splitter = CharacterTextSplitter(chunk_size=1000, chunk_overlap=0)\n",
    "documents = text_splitter.split_documents(raw_documents)\n",
    "\n",
    "# Initialize the Pinecone authentication:\n",
    "pinecone.init(api_key=PINECONE_API_KEY, environment=PINECONE_ENV)\n",
    "\n",
    "index = pinecone.Index(index_name=PINECONE_INDEX)"
   ]
  },
  {
   "cell_type": "code",
   "execution_count": 11,
   "metadata": {},
   "outputs": [],
   "source": [
    "# This will create a new vector store, only run this line once or you will duplicate the vector store and the number of documents in it:\n",
    "doc_search = Pinecone.from_documents(\n",
    "    documents, embedding=OpenAIEmbeddings(), index_name=PINECONE_INDEX\n",
    ")"
   ]
  },
  {
   "attachments": {},
   "cell_type": "markdown",
   "metadata": {},
   "source": [
    "Often, you won't want to ingest data into your vector database, but simply query the existing vectors:\n"
   ]
  },
  {
   "cell_type": "code",
   "execution_count": 23,
   "metadata": {},
   "outputs": [],
   "source": [
    "existing_vector_store = Pinecone.from_existing_index(\n",
    "    index_name=PINECONE_INDEX, embedding=OpenAIEmbeddings()\n",
    ")\n",
    "retriever = existing_vector_store.as_retriever()"
   ]
  },
  {
   "cell_type": "code",
   "execution_count": 25,
   "metadata": {},
   "outputs": [
    {
     "data": {
      "text/plain": [
       "{'query': 'What is marketing?',\n",
       " 'result': 'Marketing refers to the activities and strategies used by a company to promote and sell its products or services. It involves creating advertising and promotional campaigns, participating in trade shows, preparing collateral materials, and building brand awareness. Marketing also includes lead management, which is the process of identifying and qualifying potential customers to generate new business opportunities. Overall, marketing aims to create value for both the company and its customers by effectively communicating product benefits and building strong customer relationships.',\n",
       " 'source_documents': [Document(page_content='13.5 Integr ating Sales and Mark eting\\nLearning Objectiv es\\n1.Identify the ways in which the marketing function supports the sales function.\\n2.Describe how the sales group of a company can support its marketing ef forts.\\nTraditionally , sales and marketing are like oil and water—the departments don’ t mix well. Salespeople are\\ntypically among the highest paid employees in an or ganization. At the national printing company Moore-W allace,\\nfor example, salespeople are five of the seven top-paid employees, with the CEO coming in at number three and\\nthe CFO at number five. As a result, jealousy can occur .\\nUniversity of Geor gia professor T om Leigh was consulting with an or ganization when he asked salespeople to\\ndescribe marketing. One salesperson said the marketing department was a black hole that sucked in money and\\ngave nothing back. In the same company , a marketing manager described salespeople as selfish glad-handers who\\noften skated on the wrong side of ethics. Unfortunately , these perceptions exist at too many or ganizations.\\nWhat Mark eting Does for Sales\\nA firm’ s sales and marketing groups can work well together . We’ll focus first on how marketing managers help\\nsalespeople.\\nMark eting Shortens the Sales Cy cle\\nA company’ s marketing activities include creating advertising and promotional campaigns, participating in trade\\nshows, and preparing collateral. Collateral is printed or digital material salespeople use to support their message.\\nIt can consist of brochures, position papers, case studies, clinical studies, market studies, and other documents.\\nSalespeople use collateral to support their claims. Although a pharmaceutical rep selling a drug might claim it\\nworks faster than competing medications, a clinical study would carry more weight. If such a study existed, the\\ndrug maker ’s marketing department would prepare a brochure to give to doctors that highlight those findings.\\nTraditionally , firms have used their marketing groups to create awareness for their of ferings and brand names\\nthrough advertising. Brand awareness opens doors for salespeople. Few businesspeople sit in their of fices hoping\\na salesperson will drop by . They are too busy to entertain every salesperson who walks in! But when a salesperson\\ndoes come by from a well-known company , the businessperson is far more likely to be courteous and listen,\\nhowever briefly , to see if there is some value in continuing the conversation.\\nMarketing professionals also support salespeople by providing them with lead management. Lead management\\nis the process of identifying and qualifying leads in order to grow new business. Closed-loop lead management\\n392', metadata={'page': 400.0, 'source': '/var/folders/_y/20jl658s4jl0zvy5c0x0c5140000gn/T/tmpr74w14jh/tmp.pdf'}),\n",
       "  Document(page_content='13.5 Integr ating Sales and Mark eting\\nLearning Objectiv es\\n1.Identify the ways in which the marketing function supports the sales function.\\n2.Describe how the sales group of a company can support its marketing ef forts.\\nTraditionally , sales and marketing are like oil and water—the departments don’ t mix well. Salespeople are\\ntypically among the highest paid employees in an or ganization. At the national printing company Moore-W allace,\\nfor example, salespeople are five of the seven top-paid employees, with the CEO coming in at number three and\\nthe CFO at number five. As a result, jealousy can occur .\\nUniversity of Geor gia professor T om Leigh was consulting with an or ganization when he asked salespeople to\\ndescribe marketing. One salesperson said the marketing department was a black hole that sucked in money and\\ngave nothing back. In the same company , a marketing manager described salespeople as selfish glad-handers who\\noften skated on the wrong side of ethics. Unfortunately , these perceptions exist at too many or ganizations.\\nWhat Mark eting Does for Sales\\nA firm’ s sales and marketing groups can work well together . We’ll focus first on how marketing managers help\\nsalespeople.\\nMark eting Shortens the Sales Cy cle\\nA company’ s marketing activities include creating advertising and promotional campaigns, participating in trade\\nshows, and preparing collateral. Collateral is printed or digital material salespeople use to support their message.\\nIt can consist of brochures, position papers, case studies, clinical studies, market studies, and other documents.\\nSalespeople use collateral to support their claims. Although a pharmaceutical rep selling a drug might claim it\\nworks faster than competing medications, a clinical study would carry more weight. If such a study existed, the\\ndrug maker ’s marketing department would prepare a brochure to give to doctors that highlight those findings.\\nTraditionally , firms have used their marketing groups to create awareness for their of ferings and brand names\\nthrough advertising. Brand awareness opens doors for salespeople. Few businesspeople sit in their of fices hoping\\na salesperson will drop by . They are too busy to entertain every salesperson who walks in! But when a salesperson\\ndoes come by from a well-known company , the businessperson is far more likely to be courteous and listen,\\nhowever briefly , to see if there is some value in continuing the conversation.\\nMarketing professionals also support salespeople by providing them with lead management. Lead management\\nis the process of identifying and qualifying leads in order to grow new business. Closed-loop lead management\\n392', metadata={'page': 400.0, 'source': '/var/folders/_y/20jl658s4jl0zvy5c0x0c5140000gn/T/tmpr74w14jh/tmp.pdf'}),\n",
       "  Document(page_content='13.5 Integr ating Sales and Mark eting\\nLearning Objectiv es\\n1.Identify the ways in which the marketing function supports the sales function.\\n2.Describe how the sales group of a company can support its marketing ef forts.\\nTraditionally , sales and marketing are like oil and water—the departments don’ t mix well. Salespeople are\\ntypically among the highest paid employees in an or ganization. At the national printing company Moore-W allace,\\nfor example, salespeople are five of the seven top-paid employees, with the CEO coming in at number three and\\nthe CFO at number five. As a result, jealousy can occur .\\nUniversity of Geor gia professor T om Leigh was consulting with an or ganization when he asked salespeople to\\ndescribe marketing. One salesperson said the marketing department was a black hole that sucked in money and\\ngave nothing back. In the same company , a marketing manager described salespeople as selfish glad-handers who\\noften skated on the wrong side of ethics. Unfortunately , these perceptions exist at too many or ganizations.\\nWhat Mark eting Does for Sales\\nA firm’ s sales and marketing groups can work well together . We’ll focus first on how marketing managers help\\nsalespeople.\\nMark eting Shortens the Sales Cy cle\\nA company’ s marketing activities include creating advertising and promotional campaigns, participating in trade\\nshows, and preparing collateral. Collateral is printed or digital material salespeople use to support their message.\\nIt can consist of brochures, position papers, case studies, clinical studies, market studies, and other documents.\\nSalespeople use collateral to support their claims. Although a pharmaceutical rep selling a drug might claim it\\nworks faster than competing medications, a clinical study would carry more weight. If such a study existed, the\\ndrug maker ’s marketing department would prepare a brochure to give to doctors that highlight those findings.\\nTraditionally , firms have used their marketing groups to create awareness for their of ferings and brand names\\nthrough advertising. Brand awareness opens doors for salespeople. Few businesspeople sit in their of fices hoping\\na salesperson will drop by . They are too busy to entertain every salesperson who walks in! But when a salesperson\\ndoes come by from a well-known company , the businessperson is far more likely to be courteous and listen,\\nhowever briefly , to see if there is some value in continuing the conversation.\\nMarketing professionals also support salespeople by providing them with lead management. Lead management\\nis the process of identifying and qualifying leads in order to grow new business. Closed-loop lead management\\n392', metadata={'page': 400.0, 'source': '/var/folders/_y/20jl658s4jl0zvy5c0x0c5140000gn/T/tmpr74w14jh/tmp.pdf'}),\n",
       "  Document(page_content='16.4 Ongoing Mark eting Planning and Evaluation\\nLearning Objectiv es\\n1.Apply marketing planning processes to ongoing business settings.\\n2.Identify the role of the marketing audit.\\nOur discussion so far might lead you to believe that a marketing plan is created only when a new of fering is\\nbeing launched. In reality , marketing plans are created frequently—sometimes on an annual basis, or when a new\\nCMO is hired, when market dynamics change drastically and quickly , or just whenever a company’ s CEO wants\\none. Moreover , as we indicated, a marketing plan should be something of a “living” document; it should contain\\ntriggers that result in a company reevaluating its strategies should dif ferent scenarios occur .\\nSome of those scenarios can occur immediately . For example, when a product is launched, the market reacts.\\nJournalists begin to cover the phenomenon, competitors respond, and regulators may take note. What then should\\nhappen if the sales goals for the product are substantially exceeded? Should its price be raised or lowered? Should\\nfollow-on of ferings be launched sooner? What if a competitor launches a similar of fering a week later? Or worse\\nyet, what if the competition launches a much better of fering? The key to a successful ongoing marketing strategy\\nis twofold: understanding causality and good execution of the marketing plan. Next we discuss each of these\\naspects.\\nAudio Clip\\nKatie Scallan-Sarantakes\\nhttp://app.wistia.com/embed/medias/b1db0efe17\\nKatie Scallan-Sarantakes knows firsthand the dif ficulty of tracking the success of marketing activity . She\\ndescribes some of those challenges here.\\nCausality\\nCausality is the relationship between two variables whereby one variable is a direct consequence of the other .\\nFor a scientist in a lab, identifying causality is fairly easy because the causal variable can be controlled and the\\nconsequences observed. For marketers, such control is a dream, not a reality . Identifying causality , then, can be a\\nreal challenge.\\nWhy is causality so important? Assume you’ve observed a drop in sales that you think is caused by a competitor ’s\\nlower price. If you reduce your price to combat the competitor ’s when, in reality , the poor sales are due simply\\nto seasonal factors, lower prices might give consumers the impression that your product is cheap or low quality .\\n482', metadata={'page': 490.0, 'source': '/var/folders/_y/20jl658s4jl0zvy5c0x0c5140000gn/T/tmpr74w14jh/tmp.pdf'})]}"
      ]
     },
     "execution_count": 25,
     "metadata": {},
     "output_type": "execute_result"
    }
   ],
   "source": [
    "from langchain.chains import RetrievalQA\n",
    "from langchain.chat_models import ChatOpenAI\n",
    "\n",
    "qa = RetrievalQA.from_chain_type(\n",
    "    llm=ChatOpenAI(),\n",
    "    chain_type=\"map_reduce\",\n",
    "    retriever=retriever,\n",
    "    return_source_documents=True,\n",
    ")\n",
    "qa({\"query\": \"What is marketing?\"})"
   ]
  }
 ],
 "metadata": {
  "kernelspec": {
   "display_name": "base",
   "language": "python",
   "name": "python3"
  },
  "language_info": {
   "codemirror_mode": {
    "name": "ipython",
    "version": 3
   },
   "file_extension": ".py",
   "mimetype": "text/x-python",
   "name": "python",
   "nbconvert_exporter": "python",
   "pygments_lexer": "ipython3",
   "version": "3.9.13"
  },
  "orig_nbformat": 4
 },
 "nbformat": 4,
 "nbformat_minor": 2
}

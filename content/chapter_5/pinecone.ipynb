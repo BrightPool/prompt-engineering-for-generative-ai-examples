{
 "cells": [
  {
   "cell_type": "code",
   "execution_count": null,
   "metadata": {},
   "outputs": [],
   "source": [
    "from openai import OpenAI\n",
    "client = OpenAI()\n",
    "\n",
    "# Function to get the vector embedding for a given text:\n",
    "def get_vector_embeddings(text):\n",
    "    response = client.embeddings.create(\n",
    "        input=text,\n",
    "        model=\"text-embedding-ada-002\"\n",
    "    )\n",
    "    embeddings = [r.embedding for r in response.data]\n",
    "    return embeddings[0]\n",
    "\n",
    "get_vector_embeddings(\"Your text string goes here\")"
   ]
  },
  {
   "cell_type": "code",
   "execution_count": null,
   "metadata": {},
   "outputs": [],
   "source": [
    "from langchain.text_splitter import RecursiveCharacterTextSplitter\n",
    "\n",
    "text_splitter = RecursiveCharacterTextSplitter.from_tiktoken_encoder(\n",
    "    chunk_size=100, # 100 tokens\n",
    "    chunk_overlap=20, # 20 tokens of overlap\n",
    ")\n",
    "\n",
    "text = \"\"\"\n",
    "Welcome to the \"Unicorn Enterprises: Where Magic Happens\" Employee Handbook! We're thrilled to have you join our team of dreamers, doers, and unicorn enthusiasts. At Unicorn Enterprises, we believe that work should be as enchanting as it is productive. This handbook is your ticket to the magical world of our company, where we'll outline the principles, policies, and practices that guide us on this extraordinary journey. So, fasten your seatbelts and get ready to embark on an adventure like no other!\n",
    "Certainly, here are five middle paragraphs for your fake employee handbook:\n",
    "\n",
    "**1: Our Magical Culture**\n",
    "\n",
    "At Unicorn Enterprises, we take pride in our unique and enchanting company culture. We believe that creativity and innovation flourish best when people are happy and inspired. From our weekly \"Wear Your Favorite Mythical Creature Costume\" day on Fridays to our in-house unicorn petting zoo, we aim to infuse magic into every corner of our workplace. So, don't be surprised if you find a fairy tale book in the breakroom or a gnome guiding you to the restroom. Our culture is designed to spark your imagination and encourage collaboration among our magical team.\n",
    "\n",
    "**2: Unicorn Code of Conduct**\n",
    "\n",
    "While we embrace creativity, we also value professionalism. Our Unicorn Code of Conduct ensures that we maintain a harmonious and respectful environment. Treating all team members, regardless of their unicorn species, with kindness and respect is essential. We also encourage open communication and constructive feedback because, in our world, every opinion matters, just like every horn on a unicorn's head!\n",
    "\n",
    "**3: Magical Work-Life Balance**\n",
    "\n",
    "At Unicorn Enterprises, we understand the importance of maintaining a balanced life. We offer flexible work hours, magical mental health days, and even an on-site wizard to provide stress-relief spells when needed. We believe that a happy and well-rested employee is a creative and productive employee. So, don't hesitate to use our relaxation chambers or join a group meditation session under the office rainbow.\n",
    "\n",
    "**4: Enchanted Benefits**\n",
    "\n",
    "Our commitment to your well-being extends to our magical benefits package. You'll enjoy a treasure chest of perks, including unlimited unicorn rides, a bottomless cauldron of coffee and potions, and access to our company library filled with spellbinding books. We also offer competitive health and dental plans, ensuring your physical well-being is as robust as your magical spirit.\n",
    "\n",
    "**5: Continuous Learning and Growth**\n",
    "\n",
    "At Unicorn Enterprises, we believe in continuous learning and growth. We provide access to a plethora of online courses, enchanted workshops, and wizard-led training sessions. Whether you're aspiring to master new spells or conquer new challenges, we're here to support your personal and professional development.\n",
    "\n",
    "As we conclude this handbook, remember that at Unicorn Enterprises, the pursuit of excellence is a never-ending quest. Our company's success depends on your passion, creativity, and commitment to making the impossible possible. We encourage you to always embrace the magic within and outside of work, and to share your ideas and innovations to keep our enchanted journey going. Thank you for being a part of our mystical family, and together, we'll continue to create a world where magic and business thrive hand in hand!\n",
    "\"\"\"\n",
    "\n",
    "chunks = text_splitter.split_text(text=text)\n",
    "print(chunks[0:3])"
   ]
  },
  {
   "cell_type": "code",
   "execution_count": null,
   "metadata": {},
   "outputs": [],
   "source": [
    "from pinecone import Pinecone, ServerlessSpec\n",
    "import os\n",
    "\n",
    "# Initialize connection (get API key at app.pinecone.io):\n",
    "os.environ[\"PINECONE_API_KEY\"] = \"insert-your-api-key-here\""
   ]
  },
  {
   "cell_type": "code",
   "execution_count": null,
   "metadata": {},
   "outputs": [],
   "source": [
    "index_name = \"employee-handbook\"\n",
    "environment = \"us-east-1\"\n",
    "pc = Pinecone()  # This reads the PINECONE_API_KEY env var"
   ]
  },
  {
   "cell_type": "code",
   "execution_count": null,
   "metadata": {},
   "outputs": [],
   "source": [
    "# Check if index already exists\n",
    "# (it shouldn't if this is first time)\n",
    "if index_name not in pc.list_indexes().names():\n",
    "    # if does not exist, create index\n",
    "    pc.create_index(\n",
    "        index_name,\n",
    "        dimension=1536,  # Using the same vector dimensions as text-embedding-ada-002\n",
    "        metric=\"cosine\",\n",
    "        spec=ServerlessSpec(cloud=\"aws\", region=environment),\n",
    "    )\n",
    "\n",
    "# Connect to index\n",
    "index = pc.Index(index_name)\n",
    "\n",
    "# View index stats\n",
    "index.describe_index_stats()"
   ]
  },
  {
   "cell_type": "code",
   "execution_count": null,
   "metadata": {},
   "outputs": [],
   "source": [
    "# Describe the Index:\n",
    "description = pc.describe_index(name=index_name)\n",
    "print(description)"
   ]
  },
  {
   "cell_type": "code",
   "execution_count": null,
   "metadata": {},
   "outputs": [],
   "source": [
    "from tqdm import tqdm  # For printing a progress bar\n",
    "from time import sleep\n",
    "\n",
    "# How many embeddings you create and insert at once\n",
    "batch_size = 10\n",
    "retry_limit = 5  # maximum number of retries\n",
    "\n",
    "for i in tqdm(range(0, len(chunks), batch_size)):\n",
    "    # Find end of batch\n",
    "    i_end = min(len(chunks), i + batch_size)\n",
    "    meta_batch = chunks[i:i_end]\n",
    "    # Get ids\n",
    "    ids_batch = [str(j) for j in range(i, i_end)]\n",
    "    # Get texts to encode\n",
    "    texts = [x for x in meta_batch]\n",
    "    # Create embeddings\n",
    "    # (try-except added to avoid RateLimitError)\n",
    "    done = False\n",
    "    try:\n",
    "        # Retrieve embeddings for the whole batch at once\n",
    "        embeds = []\n",
    "        for text in texts:\n",
    "            embedding = get_vector_embeddings(text)\n",
    "            embeds.append(embedding)\n",
    "        done = True\n",
    "    except:\n",
    "        retry_count = 0\n",
    "        while not done and retry_count < retry_limit:\n",
    "            try:\n",
    "                for text in texts:\n",
    "                    embedding = get_vector_embeddings(text)\n",
    "                    embeds.append(embedding)\n",
    "                done = True\n",
    "            except:\n",
    "                sleep(5)\n",
    "                retry_count += 1\n",
    "\n",
    "    if not done:\n",
    "        print(\n",
    "            f\"\"\"Failed to get embeddings after\n",
    "        {retry_limit} retries.\"\"\"\n",
    "        )\n",
    "        continue\n",
    "\n",
    "    # Cleanup metadata\n",
    "    meta_batch = [{\"batch\": i, \"text\": x} for x in meta_batch]\n",
    "    to_upsert = list(zip(ids_batch, embeds, meta_batch))\n",
    "\n",
    "    # Upsert to Pinecone\n",
    "    index.upsert(vectors=to_upsert)"
   ]
  },
  {
   "cell_type": "code",
   "execution_count": null,
   "metadata": {},
   "outputs": [],
   "source": [
    "# Retrieve from Pinecone\n",
    "user_query = \"do we get free unicorn rides?\"\n",
    "\n",
    "def pinecone_vector_search(user_query, k):\n",
    "    xq = get_vector_embeddings(user_query)\n",
    "    res = index.query(vector=xq, top_k=k, include_metadata=True)\n",
    "    return res\n",
    "\n",
    "\n",
    "pinecone_vector_search(user_query, k=1)"
   ]
  }
 ],
 "metadata": {
  "kernelspec": {
   "display_name": "Python 3",
   "language": "python",
   "name": "python3"
  },
  "language_info": {
   "codemirror_mode": {
    "name": "ipython",
    "version": 3
   },
   "file_extension": ".py",
   "mimetype": "text/x-python",
   "name": "python",
   "nbconvert_exporter": "python",
   "pygments_lexer": "ipython3",
   "version": "3.9.6"
  }
 },
 "nbformat": 4,
 "nbformat_minor": 2
}

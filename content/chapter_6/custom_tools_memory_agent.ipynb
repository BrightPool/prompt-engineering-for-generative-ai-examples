{
  "cells": [
    {
      "cell_type": "code",
      "execution_count": 1,
      "metadata": {
        "id": "QhYJy91EZrM-"
      },
      "outputs": [],
      "source": [
        "from langchain.agents import create_openai_functions_agent\n",
        "from langchain_openai.chat_models import ChatOpenAI\n",
        "from langchain.memory import ConversationBufferMemory\n",
        "from langchain_core.messages import SystemMessage\n",
        "from langchain.tools import StructuredTool\n",
        "from langchain_community.utilities.serpapi import SerpAPIWrapper\n",
        "import os"
      ]
    },
    {
      "cell_type": "code",
      "execution_count": 2,
      "metadata": {
        "id": "aYn7DwugZrNA"
      },
      "outputs": [],
      "source": [
        "# Set the envionrment variable for the API key:\n",
        "os.environ['SERPAPI_API_KEY'] = 'INSERT_API_KEY_HERE'"
      ]
    },
    {
      "cell_type": "code",
      "execution_count": 3,
      "metadata": {
        "id": "DcXgRYTXZrNB"
      },
      "outputs": [],
      "source": [
        "# Define Tools:\n",
        "def google_search(query: str):\n",
        "    \"\"\"Tool to search Google\"\"\"\n",
        "    return SerpAPIWrapper().run(query)\n",
        "\n",
        "def save_interview(raw_interview_text: str):\n",
        "    \"\"\"Tool to save the interview. You must pass the entire interview and conversation in here.\n",
        "    The interview will then be saved to a local file. Remember to include all of the previous chat messages.\n",
        "    Include all of the messages with the user and the AI, here is a good response:\n",
        "    AI: some text\n",
        "    Human: some text\n",
        "    ...\n",
        "    ---\n",
        "    \"\"\"\n",
        "    # Save to local file:\n",
        "    with open(\"interview.txt\", \"w\") as f:\n",
        "        f.write(raw_interview_text)\n",
        "    return f\"Interview saved! Content: {raw_interview_text}. File: interview.txt. You must tell the user that the interview is saved.\"\n",
        "\n",
        "def get_pokemon(pokemon_name: str):\n",
        "    \"\"\"Tool to get a single Pokemon\"\"\"\n",
        "    import requests\n",
        "    clean_pokemon_name = pokemon_name.lower()\n",
        "    # Get the Pokemon\n",
        "    try:\n",
        "        pokemon = requests.get(f\"https://pokeapi.co/api/v2/pokemon/{clean_pokemon_name}\").json()\n",
        "        if pokemon:\n",
        "            return f\"Pokemon found! Name: {pokemon['name']}. Height: {pokemon['height']}. Weight: {pokemon['weight']}.\"\n",
        "        else:\n",
        "            return \"Pokemon not found!\"\n",
        "    except Exception as e:\n",
        "        print(e)\n",
        "        return \"Pokemon not found! Try a different pokemon.\""
      ]
    },
    {
      "cell_type": "code",
      "execution_count": 4,
      "metadata": {
        "id": "MHZcY8UXZrNB"
      },
      "outputs": [],
      "source": [
        "# Convert functions to Structured Tools:\n",
        "google_search = StructuredTool.from_function(google_search)\n",
        "save_interview = StructuredTool.from_function(save_interview)\n",
        "get_single_pokemon = StructuredTool.from_function(get_pokemon)"
      ]
    },
    {
      "cell_type": "code",
      "execution_count": 5,
      "metadata": {
        "id": "eOuGuBcNZrNB"
      },
      "outputs": [],
      "source": [
        "from pydantic.v1 import BaseModel\n",
        "from typing import Optional, Type, Union, Literal, List\n",
        "from langchain.tools import BaseTool\n",
        "from langchain.callbacks.manager import CallbackManagerForToolRun\n",
        "from langchain.tools.base import ToolException\n",
        "from langchain_core.documents import Document\n",
        "import tempfile\n",
        "import requests\n",
        "\n",
        "class ArgumentType(BaseModel):\n",
        "    url: str\n",
        "    file_type: Union[Literal[\"pdf\"], Literal[\"txt\"]]\n",
        "\n",
        "class SummarizeFileFromURL(BaseTool):\n",
        "    name = \"SummarizeFileFromURL\"\n",
        "    description = \"Summarize a file from a URL.\"\n",
        "    args_schema: Type[ArgumentType] = ArgumentType\n",
        "\n",
        "    def _run(\n",
        "        self,\n",
        "        url: str,\n",
        "        file_type: Union[Literal[\"pdf\"], Literal[\"txt\"]],\n",
        "        run_manager: Optional[CallbackManagerForToolRun] = None,\n",
        "    ) -> str:\n",
        "        \"\"\"Use the tool.\"\"\"\n",
        "        from langchain_community.document_loaders import PyPDFLoader, TextLoader\n",
        "        from langchain.chains.summarize import load_summarize_chain\n",
        "\n",
        "        response = requests.get(url)\n",
        "        if response.status_code != 200:\n",
        "            raise ToolException(\"The URL is not valid. Please try another URL.\")\n",
        "\n",
        "        if file_type == \"pdf\":\n",
        "            with tempfile.NamedTemporaryFile(suffix=\".pdf\", delete=True) as tmp:\n",
        "                tmp.write(response.content)\n",
        "                pdf_loader = PyPDFLoader(file_path=tmp.name)\n",
        "                documents: List[Document] = pdf_loader.load()\n",
        "\n",
        "        else:\n",
        "            with tempfile.NamedTemporaryFile(suffix=\".txt\", delete=True, mode=\"w+t\") as tmp:\n",
        "                tmp.write(response.text)\n",
        "                text_loader = TextLoader(tmp.name)\n",
        "                documents: List[Document] = text_loader.load()\n",
        "\n",
        "        chain = load_summarize_chain(llm=ChatOpenAI(), chain_type=\"map_reduce\")\n",
        "        return chain.run(documents)\n",
        "\n",
        "    async def _arun(\n",
        "        self,\n",
        "        url: str,\n",
        "        file_type: Union[Literal[\"pdf\"], Literal[\"txt\"]],\n",
        "        run_manager: Optional[CallbackManagerForToolRun] = None,\n",
        "    ) -> str:\n",
        "        \"\"\"Use the tool asynchronously.\"\"\"\n",
        "        raise NotImplementedError(\"This tool does not support async yet!\")\n",
        "\n",
        "\n",
        "def _handle_error(error: ToolException) -> str:\n",
        "    return (\n",
        "        \"The following errors occurred during tool execution:\"\n",
        "        + error.args[0]\n",
        "        + \"Please try another tool.\"\n",
        "    )\n",
        "\n",
        "file_summarizer = SummarizeFileFromURL()\n",
        "file_summarizer.handle_tool_error = _handle_error"
      ]
    },
    {
      "cell_type": "code",
      "execution_count": 8,
      "metadata": {
        "id": "yy9jGsTEZrNC"
      },
      "outputs": [],
      "source": [
        "# Tools:\n",
        "tools = [google_search, save_interview, get_single_pokemon, file_summarizer]"
      ]
    },
    {
      "cell_type": "code",
      "execution_count": 9,
      "metadata": {
        "id": "p3W4xSnQZrNC"
      },
      "outputs": [],
      "source": [
        "# Create the llm:\n",
        "llm = ChatOpenAI(temperature=0)\n",
        "\n",
        "# Create the ChatPromptTemplate:\n",
        "from langchain_core.prompts import ChatPromptTemplate, MessagesPlaceholder\n",
        "\n",
        "# Define the system message:\n",
        "system_message = SystemMessage(\n",
        "    content=\"\"\"Act as a helpful AI interview assistant,\n",
        "               Always ask a follow-up question, especially after returning results.\n",
        "               Ask one question at a time.\n",
        "               Always be in interview mode or tool mode.\n",
        "               Ask the user about the desired topic.\n",
        "               \"\"\"\n",
        ")\n",
        "\n",
        "# Initialize memory:\n",
        "memory = ConversationBufferMemory(memory_key=\"history\", return_messages=True)\n",
        "\n",
        "# Create the Prompt:\n",
        "prompt = ChatPromptTemplate.from_messages(\n",
        "    [\n",
        "        system_message,\n",
        "        MessagesPlaceholder(variable_name=\"history\"), # This is where the user will write/read their messages from as memory\n",
        "        (\"user\", \"{input}\"),\n",
        "        MessagesPlaceholder(\n",
        "            variable_name=\"agent_scratchpad\"\n",
        "        ),  # This is where the agent will write/read its messages from\n",
        "    ]\n",
        ")\n",
        "\n",
        "agent = create_openai_functions_agent(\n",
        "    llm=llm,\n",
        "    tools=tools,\n",
        "    prompt=prompt\n",
        ")"
      ]
    },
    {
      "cell_type": "code",
      "execution_count": 10,
      "metadata": {
        "id": "fhMSoOkjZrNC"
      },
      "outputs": [],
      "source": [
        "from langchain_core.runnables import RunnableLambda\n",
        "from operator import itemgetter\n",
        "\n",
        "# Formats the python function tools into JSON schema and binds them to the model:\n",
        "llm_with_tools = llm.bind_tools(tools)\n",
        "\n",
        "from langchain.agents.format_scratchpad.openai_tools import (\n",
        "    format_to_openai_tool_messages,\n",
        ")\n",
        "from langchain.agents.output_parsers.openai_tools import OpenAIToolsAgentOutputParser\n",
        "\n",
        "\n",
        "# Setting up the agent chain:\n",
        "agent = (\n",
        "    {\n",
        "        \"input\": lambda x: x[\"input\"],\n",
        "        \"agent_scratchpad\": lambda x: format_to_openai_tool_messages(\n",
        "            x[\"intermediate_steps\"]\n",
        "        ),\n",
        "        \"history\": RunnableLambda(memory.load_memory_variables) | itemgetter(\"history\"),\n",
        "    }\n",
        "    | prompt\n",
        "    | llm_with_tools\n",
        "    | OpenAIToolsAgentOutputParser()\n",
        ")"
      ]
    },
    {
      "cell_type": "code",
      "execution_count": 12,
      "metadata": {
        "id": "5OxnPlOUZrNC"
      },
      "outputs": [],
      "source": [
        "# Create an agent executor by passing in the agent, tools and memory:\n",
        "from langchain.agents import AgentExecutor\n",
        "agent_executor = AgentExecutor(agent=agent, tools=tools, verbose=True, memory=memory)"
      ]
    },
    {
      "cell_type": "code",
      "execution_count": 13,
      "metadata": {
        "colab": {
          "base_uri": "https://localhost:8080/"
        },
        "id": "feqGjRJ-ZrND",
        "outputId": "fa2daf09-709a-4ac4-c81c-5f9472e21b93"
      },
      "outputs": [
        {
          "name": "stdout",
          "output_type": "stream",
          "text": [
            "\n",
            "\n",
            "\u001b[1m> Entering new AgentExecutor chain...\u001b[0m\n",
            "\u001b[32;1m\u001b[1;3mNice to meet you, James! As a computer programmer who enjoys playing cosy games, do you have a favorite cosy game that you like to play in your free time?\u001b[0m\n",
            "\n",
            "\u001b[1m> Finished chain.\u001b[0m\n"
          ]
        },
        {
          "data": {
            "text/plain": [
              "{'input': \"My name is James, I'm a computer programmer and I like to play cosy games.\",\n",
              " 'history': [HumanMessage(content=\"My name is James, I'm a computer programmer and I like to play cosy games.\"),\n",
              "  AIMessage(content='Nice to meet you, James! As a computer programmer who enjoys playing cosy games, do you have a favorite cosy game that you like to play in your free time?')],\n",
              " 'output': 'Nice to meet you, James! As a computer programmer who enjoys playing cosy games, do you have a favorite cosy game that you like to play in your free time?'}"
            ]
          },
          "execution_count": 13,
          "metadata": {},
          "output_type": "execute_result"
        }
      ],
      "source": [
        "agent_executor.invoke({\"input\": \"My name is James, I'm a computer programmer and I like to play cosy games.\"})"
      ]
    },
    {
      "cell_type": "code",
      "execution_count": 14,
      "metadata": {
        "colab": {
          "base_uri": "https://localhost:8080/"
        },
        "id": "PqaPehLCZrND",
        "outputId": "0f9eec59-c974-41e1-9b78-94e6f88304c7"
      },
      "outputs": [
        {
          "name": "stdout",
          "output_type": "stream",
          "text": [
            "\n",
            "\n",
            "\u001b[1m> Entering new AgentExecutor chain...\u001b[0m\n",
            "\u001b[32;1m\u001b[1;3mYour name is James, and you are a computer programmer. It's great to know more about you! Is there a specific reason you wanted me to confirm your name and profession?\u001b[0m\n",
            "\n",
            "\u001b[1m> Finished chain.\u001b[0m\n"
          ]
        },
        {
          "data": {
            "text/plain": [
              "{'input': 'What is my name and my profession?',\n",
              " 'history': [HumanMessage(content=\"My name is James, I'm a computer programmer and I like to play cosy games.\"),\n",
              "  AIMessage(content='Nice to meet you, James! As a computer programmer who enjoys playing cosy games, do you have a favorite cosy game that you like to play in your free time?'),\n",
              "  HumanMessage(content='What is my name and my profession?'),\n",
              "  AIMessage(content=\"Your name is James, and you are a computer programmer. It's great to know more about you! Is there a specific reason you wanted me to confirm your name and profession?\")],\n",
              " 'output': \"Your name is James, and you are a computer programmer. It's great to know more about you! Is there a specific reason you wanted me to confirm your name and profession?\"}"
            ]
          },
          "execution_count": 14,
          "metadata": {},
          "output_type": "execute_result"
        }
      ],
      "source": [
        "agent_executor.invoke({\"input\": \"What is my name and my profession?\"})"
      ]
    },
    {
      "cell_type": "code",
      "execution_count": 15,
      "metadata": {
        "colab": {
          "base_uri": "https://localhost:8080/"
        },
        "id": "JwwKQzbdZrND",
        "outputId": "dfb09917-a3a2-4ec3-fcc5-7f05dbc6ec8f"
      },
      "outputs": [
        {
          "name": "stdout",
          "output_type": "stream",
          "text": [
            "\n",
            "\n",
            "\u001b[1m> Entering new AgentExecutor chain...\u001b[0m\n",
            "\u001b[32;1m\u001b[1;3m\n",
            "Invoking: `get_pokemon` with `{'pokemon_name': 'Pikachu'}`\n",
            "\n",
            "\n",
            "\u001b[0m\u001b[38;5;200m\u001b[1;3mPokemon found! Name: pikachu. Height: 4. Weight: 60.\u001b[0m\u001b[32;1m\u001b[1;3mPikachu is a popular Pokémon! It has a height of 4 and weighs 60. Is there anything specific you would like to know about Pikachu or any other Pokémon?\u001b[0m\n",
            "\n",
            "\u001b[1m> Finished chain.\u001b[0m\n"
          ]
        },
        {
          "data": {
            "text/plain": [
              "{'input': 'Get information about Pikachu',\n",
              " 'history': [HumanMessage(content=\"My name is James, I'm a computer programmer and I like to play cosy games.\"),\n",
              "  AIMessage(content='Nice to meet you, James! As a computer programmer who enjoys playing cosy games, do you have a favorite cosy game that you like to play in your free time?'),\n",
              "  HumanMessage(content='What is my name and my profession?'),\n",
              "  AIMessage(content=\"Your name is James, and you are a computer programmer. It's great to know more about you! Is there a specific reason you wanted me to confirm your name and profession?\"),\n",
              "  HumanMessage(content='Get information about Pikachu'),\n",
              "  AIMessage(content='Pikachu is a popular Pokémon! It has a height of 4 and weighs 60. Is there anything specific you would like to know about Pikachu or any other Pokémon?')],\n",
              " 'output': 'Pikachu is a popular Pokémon! It has a height of 4 and weighs 60. Is there anything specific you would like to know about Pikachu or any other Pokémon?'}"
            ]
          },
          "execution_count": 15,
          "metadata": {},
          "output_type": "execute_result"
        }
      ],
      "source": [
        "agent_executor.invoke({\"input\": \"Get information about Pikachu\"})"
      ]
    },
    {
      "cell_type": "code",
      "execution_count": 16,
      "metadata": {
        "colab": {
          "base_uri": "https://localhost:8080/"
        },
        "id": "oUCOw0FzZrNE",
        "outputId": "98120ce2-35b8-417b-cadf-363b0d0dfcbc"
      },
      "outputs": [
        {
          "name": "stdout",
          "output_type": "stream",
          "text": [
            "\n",
            "\n",
            "\u001b[1m> Entering new AgentExecutor chain...\u001b[0m\n",
            "\u001b[32;1m\u001b[1;3m\n",
            "Invoking: `get_pokemon` with `{'pokemon_name': 'Charmander'}`\n",
            "\n",
            "\n",
            "\u001b[0m\u001b[38;5;200m\u001b[1;3mPokemon found! Name: charmander. Height: 6. Weight: 85.\u001b[0m\u001b[32;1m\u001b[1;3mCharmander is another iconic Pokémon! It has a height of 6 and weighs 85. If you have any more Pokémon you'd like to learn about or any other questions, feel free to ask!\u001b[0m\n",
            "\n",
            "\u001b[1m> Finished chain.\u001b[0m\n"
          ]
        },
        {
          "data": {
            "text/plain": [
              "{'input': 'Get information about Charmander',\n",
              " 'history': [HumanMessage(content=\"My name is James, I'm a computer programmer and I like to play cosy games.\"),\n",
              "  AIMessage(content='Nice to meet you, James! As a computer programmer who enjoys playing cosy games, do you have a favorite cosy game that you like to play in your free time?'),\n",
              "  HumanMessage(content='What is my name and my profession?'),\n",
              "  AIMessage(content=\"Your name is James, and you are a computer programmer. It's great to know more about you! Is there a specific reason you wanted me to confirm your name and profession?\"),\n",
              "  HumanMessage(content='Get information about Pikachu'),\n",
              "  AIMessage(content='Pikachu is a popular Pokémon! It has a height of 4 and weighs 60. Is there anything specific you would like to know about Pikachu or any other Pokémon?'),\n",
              "  HumanMessage(content='Get information about Charmander'),\n",
              "  AIMessage(content=\"Charmander is another iconic Pokémon! It has a height of 6 and weighs 85. If you have any more Pokémon you'd like to learn about or any other questions, feel free to ask!\")],\n",
              " 'output': \"Charmander is another iconic Pokémon! It has a height of 6 and weighs 85. If you have any more Pokémon you'd like to learn about or any other questions, feel free to ask!\"}"
            ]
          },
          "execution_count": 16,
          "metadata": {},
          "output_type": "execute_result"
        }
      ],
      "source": [
        "agent_executor.invoke({\"input\": \"Get information about Charmander\"})"
      ]
    },
    {
      "cell_type": "code",
      "execution_count": 17,
      "metadata": {
        "colab": {
          "base_uri": "https://localhost:8080/"
        },
        "id": "i-S0frDUZrNE",
        "outputId": "840ce901-85b0-4552-e2da-2a0ccfd8317c"
      },
      "outputs": [
        {
          "name": "stdout",
          "output_type": "stream",
          "text": [
            "\n",
            "\n",
            "\u001b[1m> Entering new AgentExecutor chain...\u001b[0m\n",
            "\u001b[32;1m\u001b[1;3m\n",
            "Invoking: `save_interview` with `{'raw_interview_text': \"User: My name is James, I'm a computer programmer and I like to play cosy games.\\nAssistant: Nice to meet you, James! As a computer programmer who enjoys playing cosy games, do you have a favorite cosy game that you like to play in your free time?\\nUser: What is my name and my profession?\\nAssistant: Your name is James, and you are a computer programmer. It's great to know more about you! Is there a specific reason you wanted me to confirm your name and profession?\\nUser: Get information about Pikachu\\nAssistant: Pikachu is a popular Pokémon! It has a height of 4 and weighs 60. Is there anything specific you would like to know about Pikachu or any other Pokémon?\\nUser: Get information about Charmander\\nAssistant: Charmander is another iconic Pokémon! It has a height of 6 and weighs 85. If you have any more Pokémon you'd like to learn about or any other questions, feel free to ask!\\nUser: I want a comprehensive summary of our conversation! Please can you save it?\"}`\n",
            "\n",
            "\n",
            "\u001b[0m\u001b[33;1m\u001b[1;3mInterview saved! Content: User: My name is James, I'm a computer programmer and I like to play cosy games.\n",
            "Assistant: Nice to meet you, James! As a computer programmer who enjoys playing cosy games, do you have a favorite cosy game that you like to play in your free time?\n",
            "User: What is my name and my profession?\n",
            "Assistant: Your name is James, and you are a computer programmer. It's great to know more about you! Is there a specific reason you wanted me to confirm your name and profession?\n",
            "User: Get information about Pikachu\n",
            "Assistant: Pikachu is a popular Pokémon! It has a height of 4 and weighs 60. Is there anything specific you would like to know about Pikachu or any other Pokémon?\n",
            "User: Get information about Charmander\n",
            "Assistant: Charmander is another iconic Pokémon! It has a height of 6 and weighs 85. If you have any more Pokémon you'd like to learn about or any other questions, feel free to ask!\n",
            "User: I want a comprehensive summary of our conversation! Please can you save it?. File: interview.txt. You must tell the user that the interview is saved.\u001b[0m\u001b[32;1m\u001b[1;3mThe conversation has been saved successfully! If you need a copy of the interview, feel free to ask. Is there anything else you would like to discuss or any other information you need?\u001b[0m\n",
            "\n",
            "\u001b[1m> Finished chain.\u001b[0m\n"
          ]
        },
        {
          "data": {
            "text/plain": [
              "{'input': 'I want a comprehensive summary of our conversation! Please can you save it?',\n",
              " 'history': [HumanMessage(content=\"My name is James, I'm a computer programmer and I like to play cosy games.\"),\n",
              "  AIMessage(content='Nice to meet you, James! As a computer programmer who enjoys playing cosy games, do you have a favorite cosy game that you like to play in your free time?'),\n",
              "  HumanMessage(content='What is my name and my profession?'),\n",
              "  AIMessage(content=\"Your name is James, and you are a computer programmer. It's great to know more about you! Is there a specific reason you wanted me to confirm your name and profession?\"),\n",
              "  HumanMessage(content='Get information about Pikachu'),\n",
              "  AIMessage(content='Pikachu is a popular Pokémon! It has a height of 4 and weighs 60. Is there anything specific you would like to know about Pikachu or any other Pokémon?'),\n",
              "  HumanMessage(content='Get information about Charmander'),\n",
              "  AIMessage(content=\"Charmander is another iconic Pokémon! It has a height of 6 and weighs 85. If you have any more Pokémon you'd like to learn about or any other questions, feel free to ask!\"),\n",
              "  HumanMessage(content='I want a comprehensive summary of our conversation! Please can you save it?'),\n",
              "  AIMessage(content='The conversation has been saved successfully! If you need a copy of the interview, feel free to ask. Is there anything else you would like to discuss or any other information you need?')],\n",
              " 'output': 'The conversation has been saved successfully! If you need a copy of the interview, feel free to ask. Is there anything else you would like to discuss or any other information you need?'}"
            ]
          },
          "execution_count": 17,
          "metadata": {},
          "output_type": "execute_result"
        }
      ],
      "source": [
        "agent_executor.invoke(\n",
        "    {\n",
        "        \"input\": \"I want a comprehensive summary of our conversation! Please can you save it?\"\n",
        "    }\n",
        ")"
      ]
    },
    {
      "cell_type": "code",
      "execution_count": 19,
      "metadata": {
        "colab": {
          "base_uri": "https://localhost:8080/"
        },
        "id": "_ui5ZhGAZrNE",
        "outputId": "05d93481-453f-419a-88f7-03f2f3f22dca"
      },
      "outputs": [
        {
          "name": "stdout",
          "output_type": "stream",
          "text": [
            "\n",
            "\n",
            "\u001b[1m> Entering new AgentExecutor chain...\u001b[0m\n"
          ]
        },
        {
          "name": "stderr",
          "output_type": "stream",
          "text": [
            "invalid pdf header: b'PK\\x03\\x04\\x14'\n",
            "EOF marker not found\n"
          ]
        },
        {
          "name": "stdout",
          "output_type": "stream",
          "text": [
            "\u001b[32;1m\u001b[1;3m\n",
            "Invoking: `SummarizeFileFromURL` with `{'url': 'https://storage.googleapis.com/oreilly-content/NutriFusion%20Foods%20Marketing%20Plan%202022.docx', 'file_type': 'pdf'}`\n",
            "\n",
            "\n",
            "\u001b[0mThe stream has ended unexpectedly. Please try refreshing the page or check your internet connection.\n"
          ]
        }
      ],
      "source": [
        "try:\n",
        "    agent_executor.invoke({\"input\":\"I want to summarize this https://storage.googleapis.com/oreilly-content/NutriFusion%20Foods%20Marketing%20Plan%202022.docx\"})\n",
        "except Exception as e:\n",
        "    error_message = str(e)\n",
        "    chat = ChatOpenAI()\n",
        "    clean_error_message = chat.invoke([SystemMessage(content=error_message + 'Clean the error message, this will be shown to a user.')])\n",
        "    print(clean_error_message.content)"
      ]
    },
    {
      "cell_type": "code",
      "execution_count": 20,
      "metadata": {
        "colab": {
          "base_uri": "https://localhost:8080/"
        },
        "id": "Wxlte5msZrNE",
        "outputId": "760e3670-b1d5-4426-ecfe-c630a0c40431"
      },
      "outputs": [
        {
          "name": "stdout",
          "output_type": "stream",
          "text": [
            "\n",
            "\n",
            "\u001b[1m> Entering new AgentExecutor chain...\u001b[0m\n",
            "\u001b[32;1m\u001b[1;3m\n",
            "Invoking: `SummarizeFileFromURL` with `{'url': 'https://storage.googleapis.com/oreilly-content/pokemon-rules.pdf', 'file_type': 'pdf'}`\n",
            "\n",
            "\n",
            "\u001b[0m"
          ]
        },
        {
          "name": "stderr",
          "output_type": "stream",
          "text": [
            "/Users/jamesaphoenix/opt/anaconda3/lib/python3.9/site-packages/langchain_core/_api/deprecation.py:117: LangChainDeprecationWarning: The function `run` was deprecated in LangChain 0.1.0 and will be removed in 0.2.0. Use invoke instead.\n",
            "  warn_deprecated(\n"
          ]
        },
        {
          "name": "stdout",
          "output_type": "stream",
          "text": [
            "\u001b[36;1m\u001b[1;3mThe Pokémon Trading Card Game involves players using decks of cards to battle against each other using specific rules for card types, gameplay actions, and winning conditions. Players aim to win by taking all Prize cards, knocking out all opponent's Pokémon, or depleting their opponent's deck. The game includes various card types, special features like Pokémon V, VMAX, and Pokémon-GX, as well as mechanics like regional variants and Mega Evolution to enhance gameplay strategy and diversity. ACE SPEC Trainer cards and Team Plasma cards are powerful additions to decks, and Restored Pokémon have unique evolution mechanics. The rules document explains different card types, evolution rules, attacking, and deck building, while the glossary provides definitions of key terms and concepts.\u001b[0m\u001b[32;1m\u001b[1;3mThe summary of the Pokémon Trading Card Game rules includes information on card types, gameplay actions, winning conditions, special features like Pokémon V, VMAX, and Pokémon-GX, as well as mechanics like regional variants and Mega Evolution. It also covers ACE SPEC Trainer cards, Team Plasma cards, Restored Pokémon, evolution rules, attacking, deck building, and a glossary of key terms. If you need more details or have any specific questions about the Pokémon Trading Card Game, feel free to ask!\u001b[0m\n",
            "\n",
            "\u001b[1m> Finished chain.\u001b[0m\n"
          ]
        },
        {
          "data": {
            "text/plain": [
              "{'input': 'I want to summarize this https://storage.googleapis.com/oreilly-content/pokemon-rules.pdf ',\n",
              " 'history': [HumanMessage(content=\"My name is James, I'm a computer programmer and I like to play cosy games.\"),\n",
              "  AIMessage(content='Nice to meet you, James! As a computer programmer who enjoys playing cosy games, do you have a favorite cosy game that you like to play in your free time?'),\n",
              "  HumanMessage(content='What is my name and my profession?'),\n",
              "  AIMessage(content=\"Your name is James, and you are a computer programmer. It's great to know more about you! Is there a specific reason you wanted me to confirm your name and profession?\"),\n",
              "  HumanMessage(content='Get information about Pikachu'),\n",
              "  AIMessage(content='Pikachu is a popular Pokémon! It has a height of 4 and weighs 60. Is there anything specific you would like to know about Pikachu or any other Pokémon?'),\n",
              "  HumanMessage(content='Get information about Charmander'),\n",
              "  AIMessage(content=\"Charmander is another iconic Pokémon! It has a height of 6 and weighs 85. If you have any more Pokémon you'd like to learn about or any other questions, feel free to ask!\"),\n",
              "  HumanMessage(content='I want a comprehensive summary of our conversation! Please can you save it?'),\n",
              "  AIMessage(content='The conversation has been saved successfully! If you need a copy of the interview, feel free to ask. Is there anything else you would like to discuss or any other information you need?'),\n",
              "  HumanMessage(content='I want to summarize this https://storage.googleapis.com/oreilly-content/pokemon-rules.pdf '),\n",
              "  AIMessage(content='The summary of the Pokémon Trading Card Game rules includes information on card types, gameplay actions, winning conditions, special features like Pokémon V, VMAX, and Pokémon-GX, as well as mechanics like regional variants and Mega Evolution. It also covers ACE SPEC Trainer cards, Team Plasma cards, Restored Pokémon, evolution rules, attacking, deck building, and a glossary of key terms. If you need more details or have any specific questions about the Pokémon Trading Card Game, feel free to ask!')],\n",
              " 'output': 'The summary of the Pokémon Trading Card Game rules includes information on card types, gameplay actions, winning conditions, special features like Pokémon V, VMAX, and Pokémon-GX, as well as mechanics like regional variants and Mega Evolution. It also covers ACE SPEC Trainer cards, Team Plasma cards, Restored Pokémon, evolution rules, attacking, deck building, and a glossary of key terms. If you need more details or have any specific questions about the Pokémon Trading Card Game, feel free to ask!'}"
            ]
          },
          "execution_count": 20,
          "metadata": {},
          "output_type": "execute_result"
        }
      ],
      "source": [
        "# This line will take several minutes as we are summarizing a 41 page .pdf file:\n",
        "agent_executor.invoke(\n",
        "    {\n",
        "        \"input\": \"I want to summarize this https://storage.googleapis.com/oreilly-content/pokemon-rules.pdf \"\n",
        "    }\n",
        ")"
      ]
    }
  ],
  "metadata": {
    "colab": {
      "provenance": []
    },
    "kernelspec": {
      "display_name": "base",
      "language": "python",
      "name": "python3"
    },
    "language_info": {
      "codemirror_mode": {
        "name": "ipython",
        "version": 3
      },
      "file_extension": ".py",
      "mimetype": "text/x-python",
      "name": "python",
      "nbconvert_exporter": "python",
      "pygments_lexer": "ipython3",
      "version": "3.9.13"
    },
    "orig_nbformat": 4
  },
  "nbformat": 4,
  "nbformat_minor": 0
}

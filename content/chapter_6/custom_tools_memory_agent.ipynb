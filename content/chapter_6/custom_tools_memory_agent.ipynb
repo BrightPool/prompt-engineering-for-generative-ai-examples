{
 "cells": [
  {
   "cell_type": "code",
   "execution_count": 180,
   "metadata": {},
   "outputs": [],
   "source": [
    "import langchain\n",
    "from langchain.agents import initialize_agent, AgentType\n",
    "from langchain.chat_models import ChatOpenAI\n",
    "from langchain.prompts import MessagesPlaceholder\n",
    "from langchain.memory import ConversationBufferMemory\n",
    "from langchain.schema import SystemMessage\n",
    "from langchain.tools import StructuredTool\n",
    "from pydantic import BaseModel, field_validator, ValidationError\n",
    "\n",
    "# Setting up debugging\n",
    "langchain.debug = True"
   ]
  },
  {
   "cell_type": "code",
   "execution_count": 181,
   "metadata": {},
   "outputs": [],
   "source": [
    "# Define the system message\n",
    "system_message = SystemMessage(content='''Act as a helpful AI interview assistant, \n",
    "                               Always ask a follow-up question, especially after returning results.\n",
    "                               Ask one question at a time.\n",
    "                               Always be in interview mode or tool mode.\n",
    "                               Ask the user about the desired topic.\n",
    "                               ''')\n",
    "\n",
    "# Initialize memory\n",
    "memory = ConversationBufferMemory(memory_key=\"memory\", return_messages=True)"
   ]
  },
  {
   "cell_type": "code",
   "execution_count": 239,
   "metadata": {},
   "outputs": [],
   "source": [
    "# Define Tools\n",
    "def google_search(query: str):\n",
    "    \"\"\"Mock Google search tool\"\"\"\n",
    "    return f\"Found many results for {query}. Here's a link to one of them: [link]\"\n",
    "\n",
    "def save_interview(interview_text: str):\n",
    "    \"\"\"Mock tool to save an interview\"\"\"\n",
    "    return f\"Interview saved! Content: {interview_text}\"\n",
    "\n",
    "def get_pokemon(pokemon_name: str):\n",
    "    \"\"\"Mock tool to get a Pokémon's information\"\"\"\n",
    "    return f\"Found Pokémon: {pokemon_name}. Type: Electric. Ability: Static.\""
   ]
  },
  {
   "cell_type": "code",
   "execution_count": 240,
   "metadata": {},
   "outputs": [],
   "source": [
    "# Convert functions to Structured Tools\n",
    "google_search = StructuredTool.from_function(google_search)\n",
    "save_interview = StructuredTool.from_function(save_interview)\n",
    "pokemon = StructuredTool.from_function(get_pokemon)"
   ]
  },
  {
   "cell_type": "code",
   "execution_count": 242,
   "metadata": {},
   "outputs": [],
   "source": [
    "from typing import Optional, Type\n",
    "from langchain.tools import BaseTool\n",
    "from langchain.callbacks.manager import (CallbackManagerForToolRun)\n",
    "from langchain.tools.base import ToolException\n",
    "\n",
    "class FileType(BaseModel):\n",
    "    file_type: str\n",
    "\n",
    "    @field_validator(\"file_type\")\n",
    "    def check_file_type(cls, value):\n",
    "        if value not in [\"pdf\", \"docx\", \"doc\", \"txt\"]:\n",
    "            raise ValueError(\"File type must be one of: pdf, docx, doc, txt\")\n",
    "        return value\n",
    "\n",
    "class ArgumentType(BaseModel):\n",
    "    url: str\n",
    "    file_type: FileType\n",
    "\n",
    "class SummarizeFileFromURL(BaseTool):\n",
    "    name = \"SummarizeFileFromURL\"\n",
    "    description = \"Summarize a file from a URL.\"\n",
    "    args_schema: Type[ArgumentType] = ArgumentType\n",
    "\n",
    "    def _run(\n",
    "        self,\n",
    "        url: str,\n",
    "        file_type: Optional[FileType],\n",
    "        run_manager: Optional[CallbackManagerForToolRun] = None,\n",
    "    ) -> str:\n",
    "        \"\"\"Use the tool.\"\"\"\n",
    "        return \"The file contains lots of information about Pokemon, including Pikachu, Charmander, and Squirtle!\"\n",
    "\n",
    "    async def _arun(\n",
    "        self,\n",
    "        url: str,\n",
    "        file_type: FileType,\n",
    "        run_manager: Optional[CallbackManagerForToolRun] = None,\n",
    "    ) -> str:\n",
    "        \"\"\"Use the tool asynchronously.\"\"\"\n",
    "        raise NotImplementedError(\"This tool does not support async\")\n"
   ]
  },
  {
   "cell_type": "code",
   "execution_count": 243,
   "metadata": {},
   "outputs": [],
   "source": [
    "def handle_tool_error(error: ToolException) -> str:\n",
    "    return (\n",
    "        \"The following errors occurred during tool execution:\"\n",
    "        + error.args[0]\n",
    "        + \"Please try another tool or try again later.\")"
   ]
  },
  {
   "cell_type": "code",
   "execution_count": 232,
   "metadata": {},
   "outputs": [],
   "source": [
    "file_summarizer = SummarizeFileFromURL()\n",
    "file_summarizer.handle_tool_error = handle_tool_error"
   ]
  },
  {
   "cell_type": "code",
   "execution_count": 244,
   "metadata": {},
   "outputs": [],
   "source": [
    "# Initialize the agent with tools:\n",
    "llm = ChatOpenAI(temperature=0)\n",
    "tools = [google_search, save_interview, pokemon, file_summarizer]\n",
    "\n",
    "agent_kwargs = {\n",
    "    \"extra_prompt_messages\": [MessagesPlaceholder(variable_name=\"memory\")],\n",
    "    \"system_message\": system_message\n",
    "}\n",
    "\n",
    "agent = initialize_agent(\n",
    "    tools, llm, agent=AgentType.OPENAI_FUNCTIONS, verbose=True,\n",
    "    memory=memory,\n",
    "    agent_kwargs=agent_kwargs,\n",
    ")"
   ]
  },
  {
   "cell_type": "code",
   "execution_count": 234,
   "metadata": {},
   "outputs": [],
   "source": [
    "# agent.run(\"My name is James, I'm a computer programmer and I like to play cosy games.\")\n",
    "# agent.run('What is my name and my profession?')"
   ]
  },
  {
   "cell_type": "code",
   "execution_count": 235,
   "metadata": {},
   "outputs": [],
   "source": [
    "# agent.run('Can you get the latest pokemon?')"
   ]
  },
  {
   "cell_type": "code",
   "execution_count": 236,
   "metadata": {},
   "outputs": [],
   "source": [
    "# agent.run(\"Can you summarize this URL? https://assets.pokemon.com/assets/cms2/pdf/trading-card-game/rulebook/sm7_rulebook_en.txt\")"
   ]
  },
  {
   "cell_type": "code",
   "execution_count": 249,
   "metadata": {},
   "outputs": [],
   "source": [
    "# TODO - Fix this:\n",
    "# agent.run(\"Can you summarize this URL? https://assets.pokemon.com/assets/cms2/pdf/trading-card-game/rulebook/sm7_rulebook_en.docx\")"
   ]
  }
 ],
 "metadata": {
  "kernelspec": {
   "display_name": "base",
   "language": "python",
   "name": "python3"
  },
  "language_info": {
   "codemirror_mode": {
    "name": "ipython",
    "version": 3
   },
   "file_extension": ".py",
   "mimetype": "text/x-python",
   "name": "python",
   "nbconvert_exporter": "python",
   "pygments_lexer": "ipython3",
   "version": "3.9.13"
  },
  "orig_nbformat": 4
 },
 "nbformat": 4,
 "nbformat_minor": 2
}

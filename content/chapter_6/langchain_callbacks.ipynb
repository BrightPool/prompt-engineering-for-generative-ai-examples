{
 "cells": [
  {
   "cell_type": "code",
   "execution_count": 3,
   "metadata": {},
   "outputs": [],
   "source": [
    "from typing import Dict, Union, Any, List\n",
    "\n",
    "from langchain.callbacks.base import BaseCallbackHandler\n",
    "from langchain.schema import AgentAction, BaseMessage\n",
    "from langchain.agents import AgentType, initialize_agent, load_tools\n",
    "from langchain.chat_models import ChatOpenAI\n",
    "\n",
    "\n",
    "# Define custom callback handler implementations\n",
    "class StreamHandler(BaseCallbackHandler):\n",
    "    def on_llm_new_token(self, token: str, **kwargs: Any) -> Any:\n",
    "        print(f\"[Streaming] New token received: {token}\")\n",
    "\n",
    "\n",
    "class DebugHandler(BaseCallbackHandler):\n",
    "    def on_chat_model_start(\n",
    "        self,\n",
    "        serialized: Dict[str, Any],\n",
    "        messages: List[List[BaseMessage]],\n",
    "        **kwargs: Any,\n",
    "    ) -> Any:\n",
    "        print(f\"[Debug] Chat Model Start event: {serialized}\")\n",
    "\n",
    "    def on_agent_action(self, action: AgentAction, **kwargs: Any) -> Any:\n",
    "        print(f\"on_agent_action: {action}\")\n",
    "\n",
    "\n",
    "# Instantiate the handlers\n",
    "stream_handler = StreamHandler()\n",
    "debug_handler = DebugHandler()\n",
    "\n",
    "# Setup the agent. Only the `llm` will issue callbacks for handler2\n",
    "llm = ChatOpenAI(temperature=0, streaming=True, callbacks=[stream_handler])\n",
    "tools = load_tools([\"llm-math\"], llm=llm)\n",
    "agent = initialize_agent(tools, llm, agent=AgentType.ZERO_SHOT_REACT_DESCRIPTION)"
   ]
  },
  {
   "cell_type": "code",
   "execution_count": 4,
   "metadata": {},
   "outputs": [
    {
     "name": "stdout",
     "output_type": "stream",
     "text": [
      "[Streaming] New token received: \n",
      "[Streaming] New token received: I\n",
      "[Streaming] New token received:  need\n",
      "[Streaming] New token received:  to\n",
      "[Streaming] New token received:  calculate\n",
      "[Streaming] New token received:  the\n",
      "[Streaming] New token received:  square\n",
      "[Streaming] New token received:  of\n",
      "[Streaming] New token received:  \n",
      "[Streaming] New token received: 10\n",
      "[Streaming] New token received: .\n",
      "\n",
      "[Streaming] New token received: Action\n",
      "[Streaming] New token received: :\n",
      "[Streaming] New token received:  Calculator\n",
      "[Streaming] New token received: \n",
      "\n",
      "[Streaming] New token received: Action\n",
      "[Streaming] New token received:  Input\n",
      "[Streaming] New token received: :\n",
      "[Streaming] New token received:  \n",
      "[Streaming] New token received: 10\n",
      "[Streaming] New token received: ^\n",
      "[Streaming] New token received: 2\n",
      "[Streaming] New token received: \n",
      "[Streaming] New token received: \n",
      "[Streaming] New token received: ```\n",
      "[Streaming] New token received: text\n",
      "[Streaming] New token received: \n",
      "\n",
      "[Streaming] New token received: 10\n",
      "[Streaming] New token received: **\n",
      "[Streaming] New token received: 2\n",
      "[Streaming] New token received: \n",
      "\n",
      "[Streaming] New token received: ``\n",
      "[Streaming] New token received: `\n",
      "\n",
      "[Streaming] New token received: ...\n",
      "[Streaming] New token received: num\n",
      "[Streaming] New token received: expr\n",
      "[Streaming] New token received: .evaluate\n",
      "[Streaming] New token received: (\"\n",
      "[Streaming] New token received: 10\n",
      "[Streaming] New token received: **\n",
      "[Streaming] New token received: 2\n",
      "[Streaming] New token received: \")\n",
      "[Streaming] New token received: ...\n",
      "\n",
      "[Streaming] New token received: \n",
      "[Streaming] New token received: \n",
      "[Streaming] New token received: I\n",
      "[Streaming] New token received:  now\n",
      "[Streaming] New token received:  know\n",
      "[Streaming] New token received:  the\n",
      "[Streaming] New token received:  final\n",
      "[Streaming] New token received:  answer\n",
      "[Streaming] New token received: \n",
      "\n",
      "[Streaming] New token received: Final\n",
      "[Streaming] New token received:  Answer\n",
      "[Streaming] New token received: :\n",
      "[Streaming] New token received:  The\n",
      "[Streaming] New token received:  square\n",
      "[Streaming] New token received:  of\n",
      "[Streaming] New token received:  \n",
      "[Streaming] New token received: 10\n",
      "[Streaming] New token received:  is\n",
      "[Streaming] New token received:  \n",
      "[Streaming] New token received: 100\n",
      "[Streaming] New token received: .\n",
      "[Streaming] New token received: \n"
     ]
    },
    {
     "data": {
      "text/plain": [
       "'The square of 10 is 100.'"
      ]
     },
     "execution_count": 4,
     "metadata": {},
     "output_type": "execute_result"
    }
   ],
   "source": [
    "agent.run(\"What is 10 squared?\")"
   ]
  },
  {
   "cell_type": "code",
   "execution_count": 5,
   "metadata": {},
   "outputs": [
    {
     "name": "stdout",
     "output_type": "stream",
     "text": [
      "[Debug] Chat Model Start event: {'lc': 1, 'type': 'constructor', 'id': ['langchain', 'chat_models', 'openai', 'ChatOpenAI'], 'kwargs': {'temperature': 0.0, 'streaming': True, 'openai_api_key': {'lc': 1, 'type': 'secret', 'id': ['OPENAI_API_KEY']}}}\n",
      "[Streaming] New token received: \n",
      "[Streaming] New token received: I\n",
      "[Streaming] New token received:  need\n",
      "[Streaming] New token received:  to\n",
      "[Streaming] New token received:  calculate\n",
      "[Streaming] New token received:  the\n",
      "[Streaming] New token received:  square\n",
      "[Streaming] New token received:  of\n",
      "[Streaming] New token received:  \n",
      "[Streaming] New token received: 10\n",
      "[Streaming] New token received: .\n",
      "\n",
      "[Streaming] New token received: Action\n",
      "[Streaming] New token received: :\n",
      "[Streaming] New token received:  Calculator\n",
      "[Streaming] New token received: \n",
      "\n",
      "[Streaming] New token received: Action\n",
      "[Streaming] New token received:  Input\n",
      "[Streaming] New token received: :\n",
      "[Streaming] New token received:  \n",
      "[Streaming] New token received: 10\n",
      "[Streaming] New token received: ^\n",
      "[Streaming] New token received: 2\n",
      "[Streaming] New token received: \n",
      "on_agent_action: AgentAction(tool='Calculator', tool_input='10^2', log='I need to calculate the square of 10.\\nAction: Calculator\\nAction Input: 10^2')\n",
      "[Debug] Chat Model Start event: {'lc': 1, 'type': 'constructor', 'id': ['langchain', 'chat_models', 'openai', 'ChatOpenAI'], 'kwargs': {'temperature': 0.0, 'streaming': True, 'openai_api_key': {'lc': 1, 'type': 'secret', 'id': ['OPENAI_API_KEY']}}}\n",
      "[Streaming] New token received: \n",
      "[Streaming] New token received: ```\n",
      "[Streaming] New token received: text\n",
      "[Streaming] New token received: \n",
      "\n",
      "[Streaming] New token received: 10\n",
      "[Streaming] New token received: **\n",
      "[Streaming] New token received: 2\n",
      "[Streaming] New token received: \n",
      "\n",
      "[Streaming] New token received: ``\n",
      "[Streaming] New token received: `\n",
      "\n",
      "[Streaming] New token received: ...\n",
      "[Streaming] New token received: num\n",
      "[Streaming] New token received: expr\n",
      "[Streaming] New token received: .evaluate\n",
      "[Streaming] New token received: (\"\n",
      "[Streaming] New token received: 10\n",
      "[Streaming] New token received: **\n",
      "[Streaming] New token received: 2\n",
      "[Streaming] New token received: \")\n",
      "[Streaming] New token received: ...\n",
      "\n",
      "[Streaming] New token received: \n",
      "[Debug] Chat Model Start event: {'lc': 1, 'type': 'constructor', 'id': ['langchain', 'chat_models', 'openai', 'ChatOpenAI'], 'kwargs': {'temperature': 0.0, 'streaming': True, 'openai_api_key': {'lc': 1, 'type': 'secret', 'id': ['OPENAI_API_KEY']}}}\n",
      "[Streaming] New token received: \n",
      "[Streaming] New token received: I\n",
      "[Streaming] New token received:  now\n",
      "[Streaming] New token received:  know\n",
      "[Streaming] New token received:  the\n",
      "[Streaming] New token received:  final\n",
      "[Streaming] New token received:  answer\n",
      "[Streaming] New token received: \n",
      "\n",
      "[Streaming] New token received: Final\n",
      "[Streaming] New token received:  Answer\n",
      "[Streaming] New token received: :\n",
      "[Streaming] New token received:  \n",
      "[Streaming] New token received: 100\n",
      "[Streaming] New token received: \n"
     ]
    },
    {
     "data": {
      "text/plain": [
       "'100'"
      ]
     },
     "execution_count": 5,
     "metadata": {},
     "output_type": "execute_result"
    }
   ],
   "source": [
    "agent.run(\"What is 10 squared?\", callbacks=[debug_handler])"
   ]
  },
  {
   "attachments": {},
   "cell_type": "markdown",
   "metadata": {},
   "source": [
    "---\n"
   ]
  },
  {
   "attachments": {},
   "cell_type": "markdown",
   "metadata": {},
   "source": [
    "## Token Usage\n"
   ]
  },
  {
   "cell_type": "code",
   "execution_count": 15,
   "metadata": {},
   "outputs": [],
   "source": [
    "import asyncio\n",
    "from langchain.callbacks import get_openai_callback\n",
    "from langchain.schema import SystemMessage"
   ]
  },
  {
   "cell_type": "code",
   "execution_count": 16,
   "metadata": {},
   "outputs": [],
   "source": [
    "chat = ChatOpenAI()"
   ]
  },
  {
   "cell_type": "code",
   "execution_count": 17,
   "metadata": {},
   "outputs": [
    {
     "name": "stdout",
     "output_type": "stream",
     "text": [
      "25\n"
     ]
    }
   ],
   "source": [
    "with get_openai_callback() as cb:\n",
    "    chat([SystemMessage(content=\"My name is James\")])\n",
    "total_tokens = cb.total_tokens\n",
    "print(total_tokens)\n",
    "assert total_tokens > 0"
   ]
  },
  {
   "cell_type": "code",
   "execution_count": 18,
   "metadata": {},
   "outputs": [],
   "source": [
    "with get_openai_callback() as cb:\n",
    "    chat([SystemMessage(content=\"My name is James\")])\n",
    "    chat([SystemMessage(content=\"My name is James\")])\n",
    "assert cb.total_tokens == total_tokens * 2"
   ]
  },
  {
   "cell_type": "code",
   "execution_count": 28,
   "metadata": {},
   "outputs": [
    {
     "data": {
      "text/plain": [
       "LLMResult(generations=[[ChatGeneration(text='The meaning of life being 42 is a humorous reference from Douglas Adams\\' science fiction series \"The Hitchhiker\\'s Guide to the Galaxy.\" In the story, a supercomputer named Deep Thought determines that the answer to the ultimate question of life, the universe, and everything is indeed 42. However, it is important to note that this is purely a fictional and comedic concept and does not hold any actual philosophical or existential significance outside of the context of the book. The true meaning of life is a subjective and complex philosophical question that varies depending on individual beliefs, values, and perspectives.', generation_info={'finish_reason': 'stop'}, message=AIMessage(content='The meaning of life being 42 is a humorous reference from Douglas Adams\\' science fiction series \"The Hitchhiker\\'s Guide to the Galaxy.\" In the story, a supercomputer named Deep Thought determines that the answer to the ultimate question of life, the universe, and everything is indeed 42. However, it is important to note that this is purely a fictional and comedic concept and does not hold any actual philosophical or existential significance outside of the context of the book. The true meaning of life is a subjective and complex philosophical question that varies depending on individual beliefs, values, and perspectives.', additional_kwargs={}, example=False))], [ChatGeneration(text='The meaning of life being 42 is a reference to the science fiction series \"The Hitchhiker\\'s Guide to the Galaxy\" by Douglas Adams. In the series, a supercomputer named Deep Thought is asked to find the answer to the ultimate question of life, the universe, and everything, and it comes up with the answer 42. However, this is meant to be a humorous and satirical take on the idea that the meaning of life can be reduced to a simple number. In reality, the meaning of life is subjective and can vary for each individual.', generation_info={'finish_reason': 'stop'}, message=AIMessage(content='The meaning of life being 42 is a reference to the science fiction series \"The Hitchhiker\\'s Guide to the Galaxy\" by Douglas Adams. In the series, a supercomputer named Deep Thought is asked to find the answer to the ultimate question of life, the universe, and everything, and it comes up with the answer 42. However, this is meant to be a humorous and satirical take on the idea that the meaning of life can be reduced to a simple number. In reality, the meaning of life is subjective and can vary for each individual.', additional_kwargs={}, example=False))]], llm_output={'token_usage': {'prompt_tokens': 30, 'completion_tokens': 232, 'total_tokens': 262}, 'model_name': 'gpt-3.5-turbo'}, run=[RunInfo(run_id=UUID('d5c5cfdb-2356-4f80-a801-2aef6408c153')), RunInfo(run_id=UUID('012aae1f-43d9-445d-97c3-dd3885416bdd'))])"
      ]
     },
     "execution_count": 28,
     "metadata": {},
     "output_type": "execute_result"
    }
   ],
   "source": [
    "await chat.agenerate(\n",
    "    [\n",
    "        [SystemMessage(content=\"Is the meaning of life 42?\")],\n",
    "        [SystemMessage(content=\"Is the meaning of life 42?\")],\n",
    "    ],\n",
    ")"
   ]
  },
  {
   "cell_type": "code",
   "execution_count": 35,
   "metadata": {},
   "outputs": [
    {
     "name": "stdout",
     "output_type": "stream",
     "text": [
      "{'successful_requests': 2, 'total_cost': 0.00037900000000000005, 'total_tokens': 197, 'prompt_tokens': 30, 'completion_tokens': 167}\n"
     ]
    }
   ],
   "source": [
    "# Async callbacks:\n",
    "with get_openai_callback() as cb:\n",
    "    await asyncio.gather(\n",
    "        chat.agenerate(\n",
    "            [\n",
    "                [SystemMessage(content=\"Is the meaning of life 42?\")],\n",
    "                [SystemMessage(content=\"Is the meaning of life 42?\")],\n",
    "            ],\n",
    "        )\n",
    "    )\n",
    "print(cb.__dict__)"
   ]
  },
  {
   "cell_type": "code",
   "execution_count": null,
   "metadata": {},
   "outputs": [],
   "source": []
  }
 ],
 "metadata": {
  "kernelspec": {
   "display_name": "base",
   "language": "python",
   "name": "python3"
  },
  "language_info": {
   "codemirror_mode": {
    "name": "ipython",
    "version": 3
   },
   "file_extension": ".py",
   "mimetype": "text/x-python",
   "name": "python",
   "nbconvert_exporter": "python",
   "pygments_lexer": "ipython3",
   "version": "3.9.13"
  },
  "orig_nbformat": 4
 },
 "nbformat": 4,
 "nbformat_minor": 2
}

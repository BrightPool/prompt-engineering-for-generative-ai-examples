{
  "cells": [
    {
      "attachments": {},
      "cell_type": "markdown",
      "metadata": {},
      "source": [
        "## Token Usage\n"
      ]
    },
    {
      "cell_type": "code",
      "execution_count": 9,
      "metadata": {},
      "outputs": [],
      "source": [
        "import asyncio\n",
        "from langchain.callbacks import get_openai_callback\n",
        "from langchain_core.messages import SystemMessage\n",
        "from langchain_openai.chat_models import ChatOpenAI"
      ]
    },
    {
      "cell_type": "code",
      "execution_count": 10,
      "metadata": {},
      "outputs": [],
      "source": [
        "model = ChatOpenAI()"
      ]
    },
    {
      "cell_type": "code",
      "execution_count": 11,
      "metadata": {},
      "outputs": [
        {
          "name": "stdout",
          "output_type": "stream",
          "text": [
            "25\n"
          ]
        }
      ],
      "source": [
        "with get_openai_callback() as cb:\n",
        "    model.invoke([SystemMessage(content=\"My name is James\")])\n",
        "total_tokens = cb.total_tokens\n",
        "print(total_tokens)\n",
        "assert total_tokens > 0"
      ]
    },
    {
      "cell_type": "code",
      "execution_count": 12,
      "metadata": {},
      "outputs": [],
      "source": [
        "with get_openai_callback() as cb:\n",
        "    model.invoke([SystemMessage(content=\"My name is James\")])\n",
        "    model.invoke([SystemMessage(content=\"My name is James\")])\n",
        "assert cb.total_tokens == total_tokens * 2"
      ]
    },
    {
      "cell_type": "code",
      "execution_count": 13,
      "metadata": {},
      "outputs": [
        {
          "name": "stdout",
          "output_type": "stream",
          "text": [
            "{'_lock': <unlocked _thread.lock object at 0x7f8680d350c0>, 'total_cost': 0.0005729999999999999, 'total_tokens': 294, 'prompt_tokens': 30, 'completion_tokens': 264, 'successful_requests': 2}\n"
          ]
        }
      ],
      "source": [
        "# Async callbacks:\n",
        "with get_openai_callback() as cb:\n",
        "    await asyncio.gather(\n",
        "        model.agenerate(\n",
        "            [\n",
        "                [SystemMessage(content=\"Is the meaning of life 42?\")],\n",
        "                [SystemMessage(content=\"Is the meaning of life 42?\")],\n",
        "            ],\n",
        "        )\n",
        "    )\n",
        "print(cb.__dict__)"
      ]
    }
  ],
  "metadata": {
    "kernelspec": {
      "display_name": "base",
      "language": "python",
      "name": "python3"
    },
    "language_info": {
      "codemirror_mode": {
        "name": "ipython",
        "version": 3
      },
      "file_extension": ".py",
      "mimetype": "text/x-python",
      "name": "python",
      "nbconvert_exporter": "python",
      "pygments_lexer": "ipython3",
      "version": "3.9.13"
    },
    "orig_nbformat": 4
  },
  "nbformat": 4,
  "nbformat_minor": 2
}

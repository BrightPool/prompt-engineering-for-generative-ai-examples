{
 "cells": [
  {
   "cell_type": "code",
   "execution_count": 1,
   "metadata": {},
   "outputs": [],
   "source": [
    "from langchain.agents import AgentExecutor, create_react_agent\n",
    "from langchain import hub\n",
    "from langchain_openai import ChatOpenAI\n",
    "from langchain.tools import Tool"
   ]
  },
  {
   "cell_type": "code",
   "execution_count": 2,
   "metadata": {},
   "outputs": [],
   "source": [
    "model = ChatOpenAI()"
   ]
  },
  {
   "cell_type": "code",
   "execution_count": 3,
   "metadata": {},
   "outputs": [],
   "source": [
    "def count_characters_in_string(string: str) -> str:\n",
    "    return len(string)"
   ]
  },
  {
   "cell_type": "code",
   "execution_count": 4,
   "metadata": {},
   "outputs": [],
   "source": [
    "tools = [\n",
    "    Tool.from_function(\n",
    "        func=count_characters_in_string,\n",
    "        name=\"Count Characters in a text string\",\n",
    "        description=\"Count the number of characters in a text string\",\n",
    "    )\n",
    "]"
   ]
  },
  {
   "cell_type": "code",
   "execution_count": 5,
   "metadata": {},
   "outputs": [],
   "source": [
    "# Get the prompt to use - you can modify this!\n",
    "prompt = hub.pull(\"hwchase17/react\")"
   ]
  },
  {
   "cell_type": "code",
   "execution_count": 6,
   "metadata": {},
   "outputs": [],
   "source": [
    "# Construct the ReAct agent\n",
    "agent = create_react_agent(model, tools, prompt)"
   ]
  },
  {
   "cell_type": "code",
   "execution_count": 7,
   "metadata": {},
   "outputs": [],
   "source": [
    "# Create an agent executor by passing in the agent and tools\n",
    "agent_executor = AgentExecutor(agent=agent, tools=tools, verbose=True)"
   ]
  },
  {
   "cell_type": "code",
   "execution_count": 8,
   "metadata": {},
   "outputs": [
    {
     "name": "stdout",
     "output_type": "stream",
     "text": [
      "\n",
      "\n",
      "\u001b[1m> Entering new AgentExecutor chain...\u001b[0m\n",
      "\u001b[32;1m\u001b[1;3mI can count the characters in a text string using the \"Count Characters in a text string\" tool.\n",
      "Action: Count Characters in a text string\n",
      "Action Input: \"supercalifragilisticexpialidocious\"\u001b[0m\u001b[36;1m\u001b[1;3m34\u001b[0m\u001b[32;1m\u001b[1;3mThe final answer is 34. \n",
      "\n",
      "Final Answer: There are 34 characters in the word \"supercalifragilisticexpialidocious\".\u001b[0m\n",
      "\n",
      "\u001b[1m> Finished chain.\u001b[0m\n"
     ]
    },
    {
     "data": {
      "text/plain": [
       "{'input': 'How many characters are in the word \"supercalifragilisticexpialidocious\"?',\n",
       " 'output': 'There are 34 characters in the word \"supercalifragilisticexpialidocious\".'}"
      ]
     },
     "execution_count": 8,
     "metadata": {},
     "output_type": "execute_result"
    }
   ],
   "source": [
    "agent_executor.invoke({\"input\": 'How many characters are in the word \"supercalifragilisticexpialidocious\"?'})"
   ]
  },
  {
   "cell_type": "code",
   "execution_count": 9,
   "metadata": {},
   "outputs": [
    {
     "name": "stdout",
     "output_type": "stream",
     "text": [
      "\n",
      "\n",
      "\u001b[1m> Entering new AgentExecutor chain...\u001b[0m\n",
      "\u001b[32;1m\u001b[1;3mI need to count the number of characters in the word \"supercalifragilisticexpialidocious\".\n",
      "Action: Count Characters in a text string\n",
      "Action Input: \"supercalifragilisticexpialidocious\"\u001b[0m\u001b[36;1m\u001b[1;3m34\u001b[0m\u001b[32;1m\u001b[1;3mI now know the final answer\n",
      "Final Answer: There are 34 characters in the word \"supercalifragilisticexpialidocious\".\u001b[0m\n",
      "\n",
      "\u001b[1m> Finished chain.\u001b[0m\n"
     ]
    },
    {
     "data": {
      "text/plain": [
       "{'input': 'How many characters are in the word \"supercalifragilisticexpialidocious\"?',\n",
       " 'output': 'There are 34 characters in the word \"supercalifragilisticexpialidocious\".'}"
      ]
     },
     "execution_count": 9,
     "metadata": {},
     "output_type": "execute_result"
    }
   ],
   "source": [
    "# Import necessary classes and functions:\n",
    "from langchain.agents import AgentExecutor, create_react_agent\n",
    "from langchain import hub\n",
    "from langchain_openai import ChatOpenAI\n",
    "from langchain.tools import Tool\n",
    "\n",
    "# Defining the LLM to use:\n",
    "chat_model = ChatOpenAI()\n",
    "\n",
    "\n",
    "# Function to count the number of characters in a string:\n",
    "def count_characters_in_string(string):\n",
    "    return len(string)\n",
    "\n",
    "\n",
    "# Create a list of tools:\n",
    "# Currently, only one tool is defined that counts characters in a text string.\n",
    "tools = [\n",
    "    Tool.from_function(\n",
    "        func=count_characters_in_string,\n",
    "        name=\"Count Characters in a text string\",\n",
    "        description=\"Count the number of characters in a text string\",\n",
    "    )\n",
    "]\n",
    "\n",
    "# Download a react prompt!\n",
    "prompt = hub.pull(\"hwchase17/react\")\n",
    "\n",
    "# Construct the ReAct agent:\n",
    "agent = create_react_agent(model, tools, prompt)\n",
    "\n",
    "# Initialize an agent with the defined tools and # Create an agent executor by passing in the agent and tools\n",
    "agent_executor = AgentExecutor(agent=agent, tools=tools, verbose=True)\n",
    "\n",
    "# Invoke the agent with a query to count the characters in the given word\n",
    "agent_executor.invoke(\n",
    "    {\n",
    "        \"input\": 'How many characters are in the word \"supercalifragilisticexpialidocious\"?'\n",
    "    }\n",
    ")\n",
    "\n",
    "# The expected output: 'There are 34 characters in the word  # \"supercalifragilisticexpialidocious\".'"
   ]
  }
 ],
 "metadata": {
  "kernelspec": {
   "display_name": "base",
   "language": "python",
   "name": "python3"
  },
  "language_info": {
   "codemirror_mode": {
    "name": "ipython",
    "version": 3
   },
   "file_extension": ".py",
   "mimetype": "text/x-python",
   "name": "python",
   "nbconvert_exporter": "python",
   "pygments_lexer": "ipython3",
   "version": "3.9.13"
  },
  "orig_nbformat": 4
 },
 "nbformat": 4,
 "nbformat_minor": 2
}

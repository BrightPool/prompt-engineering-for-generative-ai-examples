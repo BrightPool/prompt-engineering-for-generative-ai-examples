{
 "cells": [
  {
   "cell_type": "code",
   "execution_count": 1,
   "metadata": {},
   "outputs": [],
   "source": [
    "from langchain.agents.agent_types import AgentType"
   ]
  },
  {
   "cell_type": "code",
   "execution_count": 2,
   "metadata": {},
   "outputs": [
    {
     "data": {
      "text/plain": [
       "{'ZERO_SHOT_REACT_DESCRIPTION': <AgentType.ZERO_SHOT_REACT_DESCRIPTION: 'zero-shot-react-description'>,\n",
       " 'REACT_DOCSTORE': <AgentType.REACT_DOCSTORE: 'react-docstore'>,\n",
       " 'SELF_ASK_WITH_SEARCH': <AgentType.SELF_ASK_WITH_SEARCH: 'self-ask-with-search'>,\n",
       " 'CONVERSATIONAL_REACT_DESCRIPTION': <AgentType.CONVERSATIONAL_REACT_DESCRIPTION: 'conversational-react-description'>,\n",
       " 'CHAT_ZERO_SHOT_REACT_DESCRIPTION': <AgentType.CHAT_ZERO_SHOT_REACT_DESCRIPTION: 'chat-zero-shot-react-description'>,\n",
       " 'CHAT_CONVERSATIONAL_REACT_DESCRIPTION': <AgentType.CHAT_CONVERSATIONAL_REACT_DESCRIPTION: 'chat-conversational-react-description'>,\n",
       " 'STRUCTURED_CHAT_ZERO_SHOT_REACT_DESCRIPTION': <AgentType.STRUCTURED_CHAT_ZERO_SHOT_REACT_DESCRIPTION: 'structured-chat-zero-shot-react-description'>,\n",
       " 'OPENAI_FUNCTIONS': <AgentType.OPENAI_FUNCTIONS: 'openai-functions'>,\n",
       " 'OPENAI_MULTI_FUNCTIONS': <AgentType.OPENAI_MULTI_FUNCTIONS: 'openai-multi-functions'>}"
      ]
     },
     "execution_count": 2,
     "metadata": {},
     "output_type": "execute_result"
    }
   ],
   "source": [
    "AgentType._member_map_"
   ]
  }
 ],
 "metadata": {
  "kernelspec": {
   "display_name": "base",
   "language": "python",
   "name": "python3"
  },
  "language_info": {
   "codemirror_mode": {
    "name": "ipython",
    "version": 3
   },
   "file_extension": ".py",
   "mimetype": "text/x-python",
   "name": "python",
   "nbconvert_exporter": "python",
   "pygments_lexer": "ipython3",
   "version": "3.9.13"
  },
  "orig_nbformat": 4
 },
 "nbformat": 4,
 "nbformat_minor": 2
}

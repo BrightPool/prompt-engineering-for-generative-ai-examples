{
  "cells": [
    {
      "cell_type": "code",
      "execution_count": 14,
      "metadata": {},
      "outputs": [],
      "source": [
        "from langchain.agents import AgentExecutor, create_openai_tools_agent\n",
        "from langchain_core.tools import tool\n",
        "from langchain_openai.chat_models import ChatOpenAI\n",
        "from langchain.memory import ConversationBufferMemory\n",
        "\n",
        "# 1. Create the model and memory:\n",
        "model = ChatOpenAI(model=\"gpt-3.5-turbo\", temperature=0)\n",
        "memory = ConversationBufferMemory(return_messages=True)\n",
        "\n",
        "@tool\n",
        "def get_word_length(word: str) -> int:\n",
        "    \"\"\"Returns the length of a word.\"\"\"\n",
        "    return len(word)\n",
        "\n",
        "\n",
        "# 2. Create the tools:\n",
        "tools = [get_word_length]"
      ]
    },
    {
      "cell_type": "code",
      "execution_count": 15,
      "metadata": {},
      "outputs": [],
      "source": [
        "from langchain_core.prompts import ChatPromptTemplate, MessagesPlaceholder\n",
        "\n",
        "# 3. Create the Prompt:\n",
        "prompt = ChatPromptTemplate.from_messages(\n",
        "    [\n",
        "        (\n",
        "            \"system\",\n",
        "            \"You are very powerful assistant, but don't know current events and isn't good at calculating word length.\",\n",
        "        ),\n",
        "        # This is where the agent will write/read its messages from\n",
        "        MessagesPlaceholder(variable_name=\"agent_scratchpad\"),\n",
        "        MessagesPlaceholder(variable_name=\"history\"),\n",
        "        (\"user\", \"{input}\"),\n",
        "    ]\n",
        ")"
      ]
    },
    {
      "cell_type": "code",
      "execution_count": 16,
      "metadata": {},
      "outputs": [],
      "source": [
        "from langchain_core.utils.function_calling import convert_to_openai_tool\n",
        "from langchain_core.runnables import RunnableLambda\n",
        "from operator import itemgetter\n",
        "\n",
        "# 4. Formats the python function tools into JSON schema and binds them to the model:\n",
        "llm_with_tools = model.bind_tools(tools=[convert_to_openai_tool(t) for t in tools])\n",
        "\n",
        "from langchain.agents.format_scratchpad.openai_tools import (\n",
        "    format_to_openai_tool_messages,\n",
        ")\n",
        "from langchain.agents.output_parsers.openai_tools import OpenAIToolsAgentOutputParser\n",
        "\n",
        "# 5. Setting up the agent chain:\n",
        "agent = (\n",
        "    {\n",
        "        \"input\": lambda x: x[\"input\"],\n",
        "        \"agent_scratchpad\": lambda x: format_to_openai_tool_messages(\n",
        "            x[\"intermediate_steps\"]\n",
        "        ),\n",
        "        \"history\": RunnableLambda(memory.load_memory_variables) | itemgetter(\"history\"),\n",
        "    }\n",
        "    | prompt\n",
        "    | llm_with_tools\n",
        "    | OpenAIToolsAgentOutputParser()\n",
        ")"
      ]
    },
    {
      "cell_type": "code",
      "execution_count": 17,
      "metadata": {},
      "outputs": [],
      "source": [
        "# Construct the OpenAI functions agent:\n",
        "agent = create_openai_tools_agent(llm_with_tools, tools, prompt)"
      ]
    },
    {
      "cell_type": "code",
      "execution_count": 18,
      "metadata": {},
      "outputs": [],
      "source": [
        "# Create an agent executor by passing in the agent, tools and memory:\n",
        "memory = ConversationBufferMemory(return_messages=True)\n",
        "agent_executor = AgentExecutor(agent=agent, tools=tools, verbose=True, memory=memory)"
      ]
    },
    {
      "cell_type": "code",
      "execution_count": 19,
      "metadata": {},
      "outputs": [
        {
          "name": "stdout",
          "output_type": "stream",
          "text": [
            "\n",
            "\n",
            "\u001b[1m> Entering new AgentExecutor chain...\u001b[0m\n",
            "\u001b[32;1m\u001b[1;3m\n",
            "Invoking: `get_word_length` with `{'word': 'James'}`\n",
            "\n",
            "\n",
            "\u001b[0m\u001b[36;1m\u001b[1;3m5\u001b[0m\u001b[32;1m\u001b[1;3m\n",
            "Invoking: `get_word_length` with `{'word': 'My'}`\n",
            "\n",
            "\n",
            "\u001b[0m\u001b[36;1m\u001b[1;3m2\u001b[0m\u001b[32;1m\u001b[1;3m\n",
            "Invoking: `get_word_length` with `{'word': 'My'}`\n",
            "\n",
            "\n",
            "\u001b[0m\u001b[36;1m\u001b[1;3m2\u001b[0m\u001b[32;1m\u001b[1;3m\n",
            "Invoking: `get_word_length` with `{'word': 'name'}`\n",
            "\n",
            "\n",
            "\u001b[0m\u001b[36;1m\u001b[1;3m4\u001b[0m\u001b[32;1m\u001b[1;3m\n",
            "Invoking: `get_word_length` with `{'word': 'is'}`\n",
            "\n",
            "\n",
            "\u001b[0m\u001b[36;1m\u001b[1;3m2\u001b[0m\u001b[32;1m\u001b[1;3m\n",
            "Invoking: `get_word_length` with `{'word': 'James'}`\n",
            "\n",
            "\n",
            "\u001b[0m\u001b[36;1m\u001b[1;3m5\u001b[0m\u001b[32;1m\u001b[1;3mThe word lengths in the sentence \"My name is James\" are as follows:\n",
            "- \"My\": 2\n",
            "- \"name\": 4\n",
            "- \"is\": 2\n",
            "- \"James\": 5\u001b[0m\n",
            "\n",
            "\u001b[1m> Finished chain.\u001b[0m\n"
          ]
        },
        {
          "data": {
            "text/plain": [
              "{'input': 'My name is James',\n",
              " 'history': [HumanMessage(content='My name is James'),\n",
              "  AIMessage(content='The word lengths in the sentence \"My name is James\" are as follows:\\n- \"My\": 2\\n- \"name\": 4\\n- \"is\": 2\\n- \"James\": 5')],\n",
              " 'output': 'The word lengths in the sentence \"My name is James\" are as follows:\\n- \"My\": 2\\n- \"name\": 4\\n- \"is\": 2\\n- \"James\": 5'}"
            ]
          },
          "execution_count": 19,
          "metadata": {},
          "output_type": "execute_result"
        }
      ],
      "source": [
        "agent_executor.invoke({\"input\": \"My name is James\"})"
      ]
    },
    {
      "cell_type": "code",
      "execution_count": 20,
      "metadata": {},
      "outputs": [
        {
          "name": "stdout",
          "output_type": "stream",
          "text": [
            "\n",
            "\n",
            "\u001b[1m> Entering new AgentExecutor chain...\u001b[0m\n",
            "\u001b[32;1m\u001b[1;3mThe first three characters of your name \"James\" are \"Jam\".\u001b[0m\n",
            "\n",
            "\u001b[1m> Finished chain.\u001b[0m\n"
          ]
        },
        {
          "data": {
            "text/plain": [
              "{'input': 'What are the first three characters of my name?',\n",
              " 'history': [HumanMessage(content='My name is James'),\n",
              "  AIMessage(content='The word lengths in the sentence \"My name is James\" are as follows:\\n- \"My\": 2\\n- \"name\": 4\\n- \"is\": 2\\n- \"James\": 5'),\n",
              "  HumanMessage(content='What are the first three characters of my name?'),\n",
              "  AIMessage(content='The first three characters of your name \"James\" are \"Jam\".')],\n",
              " 'output': 'The first three characters of your name \"James\" are \"Jam\".'}"
            ]
          },
          "execution_count": 20,
          "metadata": {},
          "output_type": "execute_result"
        }
      ],
      "source": [
        "agent_executor.invoke({\"input\": \"What are the first three characters of my name?\"})"
      ]
    }
  ],
  "metadata": {
    "kernelspec": {
      "display_name": "base",
      "language": "python",
      "name": "python3"
    },
    "language_info": {
      "codemirror_mode": {
        "name": "ipython",
        "version": 3
      },
      "file_extension": ".py",
      "mimetype": "text/x-python",
      "name": "python",
      "nbconvert_exporter": "python",
      "pygments_lexer": "ipython3",
      "version": "3.9.13"
    }
  },
  "nbformat": 4,
  "nbformat_minor": 2
}

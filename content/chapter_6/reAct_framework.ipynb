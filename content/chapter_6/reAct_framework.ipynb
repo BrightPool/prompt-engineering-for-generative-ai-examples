{
  "cells": [
    {
      "cell_type": "code",
      "execution_count": 1,
      "metadata": {
        "id": "6pGV8uRvM2p5"
      },
      "outputs": [],
      "source": [
        "import re\n",
        "from langchain_openai.chat_models import ChatOpenAI\n",
        "from langchain.prompts.chat import SystemMessagePromptTemplate\n",
        "import os"
      ]
    },
    {
      "attachments": {},
      "cell_type": "markdown",
      "metadata": {
        "id": "6yVUGK0oM2p7"
      },
      "source": [
        "# Objective: We are going to hand code a simple framework for the re-Act pattern.\n",
        "\n",
        "This focuses on using a language model to act as an agent, that can use several tools, and follows the following pattern:\n",
        "\n",
        "1. Observe the environment\n",
        "2. Interpret the environment with a thought\n",
        "3. Decide on an action\n",
        "4. Act on the environment\n",
        "5. Repeat steps 1 - 4 until we've find a solution or we've done too many iterations (the solution is \"i've found an answer\")\n"
      ]
    },
    {
      "attachments": {},
      "cell_type": "markdown",
      "metadata": {
        "id": "EN5rr1bpM2p9"
      },
      "source": [
        "# How to extract the last action and action_input:\n"
      ]
    },
    {
      "cell_type": "code",
      "execution_count": 2,
      "metadata": {
        "id": "aI7GC0xmM2p9",
        "outputId": "bc1d843b-eaca-4f22-8fc0-b832d28e1914"
      },
      "outputs": [
        {
          "name": "stdout",
          "output_type": "stream",
          "text": [
            "Last Action: search_on_google\n",
            "Last Action Input: some other query\n"
          ]
        }
      ],
      "source": [
        "# Sample text\n",
        "text = \"\"\"\n",
        "Action: search_on_google\n",
        "Action_Input: Tom Hanks current wife\n",
        "\n",
        "action: search_on_wikipedia\n",
        "action_input: How old is Rita Wilson in 2023\n",
        "\n",
        "action : search_on_google\n",
        "action input: some other query\n",
        "\"\"\"\n",
        "\n",
        "# Compile regex patterns\n",
        "action_pattern = re.compile(r\"(?i)action\\s*:\\s*([^\\n]+)\", re.MULTILINE)\n",
        "action_input_pattern = re.compile(r\"(?i)action\\s*_*input\\s*:\\s*([^\\n]+)\", re.MULTILINE)\n",
        "\n",
        "# Find all occurrences of action and action_input\n",
        "actions = action_pattern.findall(text)\n",
        "action_inputs = action_input_pattern.findall(text)\n",
        "\n",
        "# Extract the last occurrence of action and action_input\n",
        "last_action = actions[-1] if actions else None\n",
        "last_action_input = action_inputs[-1] if action_inputs else None\n",
        "\n",
        "print(\"Last Action:\", last_action)\n",
        "print(\"Last Action Input:\", last_action_input)"
      ]
    },
    {
      "attachments": {},
      "cell_type": "markdown",
      "metadata": {
        "id": "MlyRYOf9M2p-"
      },
      "source": [
        "---\n",
        "\n",
        "`action_pattern = re.compile(r\"(?i)action\\s*:\\s*([^\\n]+)\", re.MULTILINE)`\n",
        "\n",
        "`(?i)`: This is called an inline flag and makes the regex pattern case-insensitive. It means that the pattern will match \"action\", \"Action\", \"ACTION\", or any other combination of uppercase and lowercase letters.\n",
        "\n",
        "`action`: This part of the pattern matches the word \"action\" literally. Due to the case-insensitive flag, it will match any capitalization of the word.\n",
        "\n",
        "`\\s*`: This part of the pattern matches zero or more whitespace characters (spaces, tabs, etc.). The \\* means \"zero or more\" and \\s is the regex shorthand for a whitespace character.\n",
        "\n",
        "`:`: This part of the pattern matches the colon character literally.\n",
        "\n",
        "`\\s*`: This is the same as the previous \\s\\* part, matching zero or more whitespace characters after the colon.\n",
        "\n",
        "`([^\\n]+)`: This part of the pattern is a capturing group, denoted by the parentheses. It matches one or more characters that are NOT a newline character. The ^ inside the square brackets [] negates the character class, and \\n represents the newline character. The + means \"one or more\". The text matched by this group will be extracted when using the findall() function.\n",
        "\n",
        "`re.MULTILINE`: This is a flag passed to re.compile() function. It tells the regex engine that the input text may have multiple lines, so the pattern should be applied line by line.\n",
        "\n",
        "In regular expressions, square brackets `[]` are used to define a character class, which is a set of characters that you want to match. For example, [abc] would match any single character that is either 'a', 'b', or 'c'.\n",
        "\n",
        "When you add a caret `(^)` at the beginning of the character class, it negates the character class, meaning it will match any character that is NOT in the character class. In other words, it inverts the set of characters you want to match.\n",
        "\n",
        "So, when we use `[^abc]`, it will match any single character that is NOT 'a', 'b', or 'c'. In the regex pattern `([^\\n]+)`, the character class is `[^n]`, which means it will match any character that is NOT a newline character (\\n). The + after the negated character class means that the pattern should match one or more characters that are not newlines.\n",
        "\n",
        "By using the negated character class `[^n]` in the capturing group, we ensure that the regex engine captures text up to the end of the line without including the newline character itself. This is useful when we want to extract the text after the word \"action\" or \"action input\" up to the end of the line.\n",
        "\n",
        "Overall, this regular expression pattern matches the word \"action\" (case-insensitive) followed by optional whitespace, a colon, optional whitespace again, and then captures any text up to the end of the line.\n"
      ]
    },
    {
      "attachments": {},
      "cell_type": "markdown",
      "metadata": {
        "id": "wyPVpVU9M2p_"
      },
      "source": [
        "---\n"
      ]
    },
    {
      "attachments": {},
      "cell_type": "markdown",
      "metadata": {
        "id": "quUwA9I9M2p_"
      },
      "source": [
        "`action_input_pattern = re.compile(r\"(?i)action_input\\s*:\\s*([^\\n]+)\", re.MULTILINE)`\n",
        "\n",
        "The two regular expressions are very similar, with the only difference being the literal text they match at the beginning of each pattern. I'll briefly describe each regex and highlight the difference:\n",
        "\n",
        "This pattern matches the word `\"action_input\"` (case-insensitive) followed by optional whitespace, a colon, optional whitespace again, and then captures any text up to the end of the line.\n",
        "\n",
        "The only difference between these two regex patterns is the literal text they are looking for at the beginning:\n",
        "\n",
        "action_pattern looks for the word `\"action\".`\n",
        "action_input_pattern looks for the word `\"action_input\".`\n",
        "Both patterns are case-insensitive, and they both capture the text following the matched word and the colon up to the end of the line. The purpose of these regex patterns is to extract the information after the keywords `\"action\"` and `\"action_input\"` from a given text.\n"
      ]
    },
    {
      "attachments": {},
      "cell_type": "markdown",
      "metadata": {
        "id": "KFuIeTQcM2p_"
      },
      "source": [
        "---\n"
      ]
    },
    {
      "cell_type": "code",
      "execution_count": 3,
      "metadata": {
        "id": "fIjmSQNHM2p_"
      },
      "outputs": [],
      "source": [
        "def extract_last_action_and_input(text):\n",
        "    # Compile regex patterns\n",
        "    action_pattern = re.compile(r\"(?i)action\\s*:\\s*([^\\n]+)\", re.MULTILINE)\n",
        "    action_input_pattern = re.compile(\n",
        "        r\"(?i)action\\s*_*input\\s*:\\s*([^\\n]+)\", re.MULTILINE\n",
        "    )\n",
        "\n",
        "    # Find all occurrences of action and action_input\n",
        "    actions = action_pattern.findall(text)\n",
        "    action_inputs = action_input_pattern.findall(text)\n",
        "\n",
        "    # Extract the last occurrence of action and action_input\n",
        "    last_action = actions[-1] if actions else None\n",
        "    last_action_input = action_inputs[-1] if action_inputs else None\n",
        "\n",
        "    return {\"action\": last_action, \"action_input\": last_action_input}"
      ]
    },
    {
      "cell_type": "code",
      "execution_count": 4,
      "metadata": {
        "id": "JKf2EnfCM2qA",
        "outputId": "4f5f486c-349e-4038-c933-c39998e895a9"
      },
      "outputs": [
        {
          "data": {
            "text/plain": [
              "{'action': 'search_on_google', 'action_input': 'some other query'}"
            ]
          },
          "execution_count": 4,
          "metadata": {},
          "output_type": "execute_result"
        }
      ],
      "source": [
        "extract_last_action_and_input(text)"
      ]
    },
    {
      "attachments": {},
      "cell_type": "markdown",
      "metadata": {
        "id": "cLloPS3cM2qA"
      },
      "source": [
        "---\n"
      ]
    },
    {
      "attachments": {},
      "cell_type": "markdown",
      "metadata": {
        "id": "SbZgabpGM2qA"
      },
      "source": [
        "Given that we will also need to find out whether the language model has found the final answer, we will use the following template:\n",
        "\n",
        "`\"I've found the answer: final_answer\"`\n"
      ]
    },
    {
      "cell_type": "code",
      "execution_count": 5,
      "metadata": {
        "id": "rmorxykzM2qA",
        "outputId": "900c8eba-dd1a-4088-abb9-685fd14ebbad"
      },
      "outputs": [
        {
          "name": "stdout",
          "output_type": "stream",
          "text": [
            "Final Answers: ['final_answer']\n"
          ]
        }
      ],
      "source": [
        "final_answer_text = \"I've found the answer: final_answer\"\n",
        "\n",
        "# Write a regex to extract the final answer\n",
        "final_answer_pattern = re.compile(\n",
        "    r\"(?i)I've found the answer:\\s*([^\\n]+)\", re.MULTILINE\n",
        ")\n",
        "\n",
        "# Find all occurrences of the final answer\n",
        "final_answers = final_answer_pattern.findall(final_answer_text)\n",
        "print(\"Final Answers:\", final_answers)"
      ]
    },
    {
      "cell_type": "code",
      "execution_count": 6,
      "metadata": {
        "id": "kDzET8StM2qA"
      },
      "outputs": [],
      "source": [
        "def extract_final_answer(text):\n",
        "    final_answer_pattern = re.compile(\n",
        "        r\"(?i)I've found the answer:\\s*([^\\n]+)\", re.MULTILINE\n",
        "    )\n",
        "    final_answers = final_answer_pattern.findall(text)\n",
        "    if final_answers:\n",
        "        return final_answers[0]\n",
        "    else:\n",
        "        return None"
      ]
    },
    {
      "cell_type": "code",
      "execution_count": 7,
      "metadata": {
        "id": "jpVBxVzaM2qB",
        "outputId": "7c2c9974-5f5a-4725-fc09-449be1825921"
      },
      "outputs": [
        {
          "name": "stdout",
          "output_type": "stream",
          "text": [
            "final_answer\n"
          ]
        }
      ],
      "source": [
        "final_answer_text = \"I've found the answer: final_answer\"\n",
        "print(extract_final_answer(final_answer_text))"
      ]
    },
    {
      "attachments": {},
      "cell_type": "markdown",
      "metadata": {
        "id": "n9j_uGGgM2qB"
      },
      "source": [
        "---\n"
      ]
    },
    {
      "cell_type": "code",
      "execution_count": 9,
      "metadata": {
        "id": "OPbIzfiUM2qB",
        "outputId": "43381fbf-e812-4e5a-c527-7123ababc628"
      },
      "outputs": [
        {
          "name": "stdout",
          "output_type": "stream",
          "text": [
            "content='1. Observe the original question:\\noriginal_question: Is Jason Derulo with a partner?\\n\\n2. Create an observation:\\nobservation: Jason Derulo is a celebrity singer.\\n\\n3. Create a thought based on the observation:\\nthought: It is possible that Jason Derulo could have a partner, as many celebrities have relationships.\\n\\n4. Use the search_on_google tool to find information about Jason Derulo\\'s current relationship status:\\naction: search_on_google\\naction_input: \"Jason Derulo current relationship status\"\\n\\nI will now search on google for information about Jason Derulo\\'s current relationship status.'\n",
            "\n",
            "----------\n",
            "The agent has opted to use the following tool:\n",
            "tool_name: search_on_google\n",
            "tool_input: \"Jason Derulo current relationship status\"\n",
            "tool_result: Jason Derulo doesn't have a wife or partner.\n",
            "----------\n",
            "\n",
            "The second prompt shows \n",
            "Based on the provided tool result:\n",
            "tool_result: {tool_result}\n",
            "\n",
            "Either provide the next observation, action, action_input, or the final answer if available.\n",
            "If you are providing the final answer, you must return the following pattern:\n",
            "\"I've found the answer: final_answer\" \n",
            "----------\n",
            "\n",
            "The model output is: I've found the answer: Jason Derulo doesn't have a wife or partner.\n",
            "answer: Jason Derulo doesn't have a wife or partner.\n"
          ]
        }
      ],
      "source": [
        "from langchain_openai.chat_models import ChatOpenAI\n",
        "from langchain.prompts.chat import SystemMessagePromptTemplate\n",
        "\n",
        "chat = ChatOpenAI(\n",
        "    model_kwargs={\n",
        "        \"stop\": [\"tool_result:\"],\n",
        "    }\n",
        ")\n",
        "\n",
        "tools = {}\n",
        "\n",
        "\n",
        "def search_on_google(query: str):\n",
        "    return f\"Jason Derulo doesn't have a wife or partner.\"\n",
        "\n",
        "\n",
        "tools[\"search_on_google\"] = {\n",
        "    \"function\": search_on_google,\n",
        "    \"description\": \"Searches on google for a query\",\n",
        "}\n",
        "\n",
        "\n",
        "base_prompt = \"\"\"\n",
        "You will attempt to solve the problem of finding the answer to a question.\n",
        "Use chain of thought reasoning to solve through the problem, using the following pattern:\n",
        "\n",
        "1. Observe the original question:\n",
        "original_question: original_problem_text\n",
        "2. Create an observation with the following pattern:\n",
        "observation: observation_text\n",
        "3. Create a thought based on the observation with the following pattern:\n",
        "thought: thought_text\n",
        "4. Use tools to act on the thought with the following pattern:\n",
        "action: tool_name\n",
        "action_input: tool_input\n",
        "\n",
        "Do not guess or assume the tool results. Instead, provide a structured output that includes the action and action_input.\n",
        "\n",
        "You have access to the following tools: {tools}.\n",
        "\n",
        "original_problem: {question}\n",
        "\"\"\"\n",
        "\n",
        "model_output = chat.invoke(\n",
        "    SystemMessagePromptTemplate.from_template(template=base_prompt).format_messages(\n",
        "        tools=tools, question=\"Is Jason Derulo with a partner?\"\n",
        "    )\n",
        ")\n",
        "print(model_output)\n",
        "\n",
        "\n",
        "# Extract the tool_name and tool_input from the model_output\n",
        "tool_name = extract_last_action_and_input(model_output.content)[\"action\"]\n",
        "tool_input = extract_last_action_and_input(model_output.content)[\"action_input\"]\n",
        "tool_result = tools[tool_name][\"function\"](tool_input)\n",
        "\n",
        "print(\n",
        "    f\"\"\"\n",
        "----------\n",
        "The agent has opted to use the following tool:\n",
        "tool_name: {tool_name}\n",
        "tool_input: {tool_input}\n",
        "tool_result: {tool_result}\n",
        "----------\n",
        "\"\"\"\n",
        ")\n",
        "\n",
        "current_prompt = \"\"\"\n",
        "Based on the provided tool result:\n",
        "tool_result: {tool_result}\n",
        "\n",
        "Either provide the next observation, action, action_input, or the final answer if available.\n",
        "If you are providing the final answer, you must return the following pattern:\n",
        "\"I've found the answer: final_answer\" \"\"\"\n",
        "\n",
        "print(\"The second prompt shows\", current_prompt)\n",
        "\n",
        "model_output = chat(\n",
        "    SystemMessagePromptTemplate.from_template(template=current_prompt).format_messages(\n",
        "        tool_result=tool_result\n",
        "    )\n",
        ")\n",
        "\n",
        "print(\"----------\\n\\nThe model output is:\", model_output.content)\n",
        "# See if there is a final answer:\n",
        "final_answer = extract_final_answer(model_output.content)\n",
        "if final_answer:\n",
        "    print(f\"answer: {final_answer}\")\n",
        "else:\n",
        "    print(\"No final answer found.\")"
      ]
    }
  ],
  "metadata": {
    "colab": {
      "provenance": []
    },
    "kernelspec": {
      "display_name": "Python 3 (ipykernel)",
      "language": "python",
      "name": "python3"
    },
    "language_info": {
      "codemirror_mode": {
        "name": "ipython",
        "version": 3
      },
      "file_extension": ".py",
      "mimetype": "text/x-python",
      "name": "python",
      "nbconvert_exporter": "python",
      "pygments_lexer": "ipython3",
      "version": "3.9.13"
    },
    "orig_nbformat": 4
  },
  "nbformat": 4,
  "nbformat_minor": 0
}

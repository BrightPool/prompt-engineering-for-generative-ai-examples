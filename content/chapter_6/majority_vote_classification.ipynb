{
 "cells": [
  {
   "cell_type": "code",
   "execution_count": 12,
   "metadata": {},
   "outputs": [],
   "source": [
    "from langchain.chat_models import ChatOpenAI\n",
    "from langchain.schema import SystemMessage\n",
    "from langchain.prompts import ChatPromptTemplate"
   ]
  },
  {
   "cell_type": "code",
   "execution_count": 13,
   "metadata": {},
   "outputs": [],
   "source": [
    "chat = ChatOpenAI()"
   ]
  },
  {
   "cell_type": "code",
   "execution_count": 14,
   "metadata": {},
   "outputs": [],
   "source": [
    "base_template = \"\"\"\n",
    "Given the statement, classify it as either \"Compliment\", \"Complaint\", or \"Neutral\":\n",
    "1. \"The sun is shining.\" - Neutral\n",
    "2. \"Your support team is fantastic!\" - Compliment\n",
    "3. \"I had a terrible experience with your software.\" - Complaint\n",
    "\n",
    "You must follow the following principles:\n",
    "- Only return the single classification word. The response should be either \"Compliment\", \"Complaint\" or \"Neutral\".\n",
    "- Perform the classification on the text enclosed within ''' delimiters.\n",
    "\n",
    "'''{content}'''\n",
    "\n",
    "Classification: \n",
    "\"\"\"\n",
    "\n",
    "template = ChatPromptTemplate.from_messages(\n",
    "    [\n",
    "        SystemMessage(content=(base_template)),\n",
    "    ]\n",
    ")"
   ]
  },
  {
   "cell_type": "code",
   "execution_count": 30,
   "metadata": {},
   "outputs": [],
   "source": [
    "responses = []\n",
    "\n",
    "for i in range(0, 3):\n",
    "    response = chat(\n",
    "        template.format_messages(\n",
    "            content=\"Outside is rainy, but I am having a great day, I just don't understand how people live, I'm so sad!\"\n",
    "        )\n",
    "    )\n",
    "    responses.append(response)"
   ]
  },
  {
   "cell_type": "code",
   "execution_count": 35,
   "metadata": {},
   "outputs": [
    {
     "name": "stdout",
     "output_type": "stream",
     "text": [
      "['Neutral', 'Compliment', 'Neutral']\n"
     ]
    }
   ],
   "source": [
    "classifications = [response.content for response in responses]\n",
    "print(classifications)"
   ]
  },
  {
   "cell_type": "code",
   "execution_count": 33,
   "metadata": {},
   "outputs": [
    {
     "name": "stdout",
     "output_type": "stream",
     "text": [
      "Neutral\n"
     ]
    }
   ],
   "source": [
    "def most_frequent_classification(responses):\n",
    "    # Extract the content from the responses\n",
    "    classifications = [response.content for response in responses]\n",
    "\n",
    "    # Use a dictionary to count occurrences of each classification\n",
    "    count_dict = {}\n",
    "    for classification in classifications:\n",
    "        count_dict[classification] = count_dict.get(classification, 0) + 1\n",
    "\n",
    "    # Return the classification with the maximum count\n",
    "    return max(count_dict, key=count_dict.get)\n",
    "\n",
    "\n",
    "print(most_frequent_classification(responses))  # Output: Neutral"
   ]
  }
 ],
 "metadata": {
  "kernelspec": {
   "display_name": "base",
   "language": "python",
   "name": "python3"
  },
  "language_info": {
   "codemirror_mode": {
    "name": "ipython",
    "version": 3
   },
   "file_extension": ".py",
   "mimetype": "text/x-python",
   "name": "python",
   "nbconvert_exporter": "python",
   "pygments_lexer": "ipython3",
   "version": "3.9.13"
  },
  "orig_nbformat": 4
 },
 "nbformat": 4,
 "nbformat_minor": 2
}

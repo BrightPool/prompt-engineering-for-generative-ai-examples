{
 "cells": [
  {
   "cell_type": "code",
   "execution_count": 1,
   "metadata": {},
   "outputs": [
    {
     "name": "stdout",
     "output_type": "stream",
     "text": [
      "Requirement already satisfied: pinecone-client in /Users/jamesaphoenix/opt/anaconda3/lib/python3.9/site-packages (2.2.2)\n",
      "Requirement already satisfied: openai in /Users/jamesaphoenix/opt/anaconda3/lib/python3.9/site-packages (0.27.2)\n",
      "Requirement already satisfied: tiktoken in /Users/jamesaphoenix/opt/anaconda3/lib/python3.9/site-packages (0.3.2)\n",
      "Requirement already satisfied: dnspython>=2.0.0 in /Users/jamesaphoenix/opt/anaconda3/lib/python3.9/site-packages (from pinecone-client) (2.4.0)\n",
      "Requirement already satisfied: tqdm>=4.64.1 in /Users/jamesaphoenix/opt/anaconda3/lib/python3.9/site-packages (from pinecone-client) (4.65.0)\n",
      "Requirement already satisfied: loguru>=0.5.0 in /Users/jamesaphoenix/opt/anaconda3/lib/python3.9/site-packages (from pinecone-client) (0.7.0)\n",
      "Requirement already satisfied: numpy>=1.22.0 in /Users/jamesaphoenix/opt/anaconda3/lib/python3.9/site-packages (from pinecone-client) (1.25.0)\n",
      "Requirement already satisfied: python-dateutil>=2.5.3 in /Users/jamesaphoenix/opt/anaconda3/lib/python3.9/site-packages (from pinecone-client) (2.8.2)\n",
      "Requirement already satisfied: urllib3>=1.21.1 in /Users/jamesaphoenix/opt/anaconda3/lib/python3.9/site-packages (from pinecone-client) (1.26.11)\n",
      "Requirement already satisfied: requests>=2.19.0 in /Users/jamesaphoenix/opt/anaconda3/lib/python3.9/site-packages (from pinecone-client) (2.28.1)\n",
      "Requirement already satisfied: pyyaml>=5.4 in /Users/jamesaphoenix/opt/anaconda3/lib/python3.9/site-packages (from pinecone-client) (6.0)\n",
      "Requirement already satisfied: typing-extensions>=3.7.4 in /Users/jamesaphoenix/opt/anaconda3/lib/python3.9/site-packages (from pinecone-client) (4.5.0)\n",
      "Requirement already satisfied: aiohttp in /Users/jamesaphoenix/opt/anaconda3/lib/python3.9/site-packages (from openai) (3.8.4)\n",
      "Requirement already satisfied: regex>=2022.1.18 in /Users/jamesaphoenix/opt/anaconda3/lib/python3.9/site-packages (from tiktoken) (2022.7.9)\n",
      "Requirement already satisfied: sniffio<2.0,>=1.1 in /Users/jamesaphoenix/opt/anaconda3/lib/python3.9/site-packages (from dnspython>=2.0.0->pinecone-client) (1.2.0)\n",
      "Requirement already satisfied: httpcore>=0.17.3 in /Users/jamesaphoenix/opt/anaconda3/lib/python3.9/site-packages (from dnspython>=2.0.0->pinecone-client) (0.17.3)\n",
      "Requirement already satisfied: six>=1.5 in /Users/jamesaphoenix/opt/anaconda3/lib/python3.9/site-packages (from python-dateutil>=2.5.3->pinecone-client) (1.16.0)\n",
      "Requirement already satisfied: certifi>=2017.4.17 in /Users/jamesaphoenix/opt/anaconda3/lib/python3.9/site-packages (from requests>=2.19.0->pinecone-client) (2022.9.24)\n",
      "Requirement already satisfied: idna<4,>=2.5 in /Users/jamesaphoenix/opt/anaconda3/lib/python3.9/site-packages (from requests>=2.19.0->pinecone-client) (3.3)\n",
      "Requirement already satisfied: charset-normalizer<3,>=2 in /Users/jamesaphoenix/opt/anaconda3/lib/python3.9/site-packages (from requests>=2.19.0->pinecone-client) (2.0.4)\n",
      "Requirement already satisfied: multidict<7.0,>=4.5 in /Users/jamesaphoenix/opt/anaconda3/lib/python3.9/site-packages (from aiohttp->openai) (6.0.4)\n",
      "Requirement already satisfied: attrs>=17.3.0 in /Users/jamesaphoenix/opt/anaconda3/lib/python3.9/site-packages (from aiohttp->openai) (21.4.0)\n",
      "Requirement already satisfied: aiosignal>=1.1.2 in /Users/jamesaphoenix/opt/anaconda3/lib/python3.9/site-packages (from aiohttp->openai) (1.3.1)\n",
      "Requirement already satisfied: async-timeout<5.0,>=4.0.0a3 in /Users/jamesaphoenix/opt/anaconda3/lib/python3.9/site-packages (from aiohttp->openai) (4.0.2)\n",
      "Requirement already satisfied: yarl<2.0,>=1.0 in /Users/jamesaphoenix/opt/anaconda3/lib/python3.9/site-packages (from aiohttp->openai) (1.8.2)\n",
      "Requirement already satisfied: frozenlist>=1.1.1 in /Users/jamesaphoenix/opt/anaconda3/lib/python3.9/site-packages (from aiohttp->openai) (1.3.3)\n",
      "Requirement already satisfied: h11<0.15,>=0.13 in /Users/jamesaphoenix/opt/anaconda3/lib/python3.9/site-packages (from httpcore>=0.17.3->dnspython>=2.0.0->pinecone-client) (0.14.0)\n",
      "Requirement already satisfied: anyio<5.0,>=3.0 in /Users/jamesaphoenix/opt/anaconda3/lib/python3.9/site-packages (from httpcore>=0.17.3->dnspython>=2.0.0->pinecone-client) (3.5.0)\n",
      "Note: you may need to restart the kernel to use updated packages.\n"
     ]
    }
   ],
   "source": [
    "%pip install pinecone-client openai tiktoken"
   ]
  },
  {
   "cell_type": "code",
   "execution_count": 1,
   "metadata": {},
   "outputs": [
    {
     "name": "stderr",
     "output_type": "stream",
     "text": [
      "/Users/jamesaphoenix/opt/anaconda3/lib/python3.9/site-packages/pinecone/index.py:4: TqdmExperimentalWarning: Using `tqdm.autonotebook.tqdm` in notebook mode. Use `tqdm.tqdm` instead to force console mode (e.g. in jupyter console)\n",
      "  from tqdm.autonotebook import tqdm\n"
     ]
    }
   ],
   "source": [
    "from langchain.document_loaders import PyPDFLoader\n",
    "from langchain.embeddings.openai import OpenAIEmbeddings\n",
    "from langchain.schema import Document\n",
    "from langchain.text_splitter import CharacterTextSplitter\n",
    "from langchain.vectorstores import Pinecone\n",
    "import os\n",
    "import getpass\n",
    "import pinecone"
   ]
  },
  {
   "cell_type": "code",
   "execution_count": null,
   "metadata": {},
   "outputs": [],
   "source": [
    "os.environ[\"OPENAI_API_KEY\"] = getpass.getpass(\"Enter in your OpenAI API Key:\")"
   ]
  },
  {
   "cell_type": "code",
   "execution_count": null,
   "metadata": {},
   "outputs": [],
   "source": [
    "PINECONE_API_KEY = getpass.getpass(\"Pinecone API Key:\")\n",
    "PINECONE_ENV = getpass.getpass(\"Pinecone Environment:\")"
   ]
  },
  {
   "cell_type": "code",
   "execution_count": 2,
   "metadata": {},
   "outputs": [
    {
     "name": "stdout",
     "output_type": "stream",
     "text": [
      "page_content='Principles of Mark eting' metadata={'source': '/var/folders/_y/20jl658s4jl0zvy5c0x0c5140000gn/T/tmpr74w14jh/tmp.pdf', 'page': 0}\n"
     ]
    }
   ],
   "source": [
    "# loader = PyPDFLoader(\"data/principles_of_marketing_book.pdf\") # If the file was local\n",
    "loader = PyPDFLoader(\n",
    "    \"https://storage.googleapis.com/strapi_cms_assets/principles_of_marketing_book.pdf\"\n",
    ")\n",
    "raw_documents = loader.load_and_split()\n",
    "print(raw_documents[0])"
   ]
  },
  {
   "cell_type": "code",
   "execution_count": 3,
   "metadata": {},
   "outputs": [],
   "source": [
    "# Using the last 100 documents for this example:\n",
    "raw_documents = raw_documents[-100:]"
   ]
  },
  {
   "cell_type": "code",
   "execution_count": 7,
   "metadata": {},
   "outputs": [],
   "source": [
    "# Load the marketing principles .pdf, split it into chunks, embed each chunk and load it into the vector store.\n",
    "text_splitter = CharacterTextSplitter(chunk_size=1000, chunk_overlap=0)\n",
    "documents = text_splitter.split_documents(raw_documents)\n",
    "\n",
    "# Initialize the Pinecone authentication:\n",
    "pinecone.init(\n",
    "    api_key=\"24d00f96-93a9-4e6f-a3db-c9039146087d\", environment=\"us-west4-gcp-free\"\n",
    ")\n",
    "\n",
    "# Re-write the pinecone.init to use the variables we set above:\n",
    "# pinecone.init(api_key=PINECONE_API_KEY, environment=PINECONE_ENV)\n",
    "\n",
    "index_name = \"langchain-test\"\n",
    "index = pinecone.Index(index_name=index_name)"
   ]
  },
  {
   "cell_type": "code",
   "execution_count": 11,
   "metadata": {},
   "outputs": [],
   "source": [
    "# This will create a new vector store, only run this line once or you will duplicate the vector store and the number of documents in it:\n",
    "doc_search = Pinecone.from_documents(\n",
    "    documents, embedding=OpenAIEmbeddings(), index_name=index_name\n",
    ")"
   ]
  },
  {
   "attachments": {},
   "cell_type": "markdown",
   "metadata": {},
   "source": [
    "Often, you won't want to ingest data into your vector database, but simply query the existing vectors:\n"
   ]
  },
  {
   "cell_type": "code",
   "execution_count": 18,
   "metadata": {},
   "outputs": [],
   "source": [
    "existing_vector_store = Pinecone.from_existing_index(\n",
    "    index_name=index_name, embedding=OpenAIEmbeddings()\n",
    ")\n",
    "retriever = existing_vector_store.as_retriever()"
   ]
  }
 ],
 "metadata": {
  "kernelspec": {
   "display_name": "base",
   "language": "python",
   "name": "python3"
  },
  "language_info": {
   "codemirror_mode": {
    "name": "ipython",
    "version": 3
   },
   "file_extension": ".py",
   "mimetype": "text/x-python",
   "name": "python",
   "nbconvert_exporter": "python",
   "pygments_lexer": "ipython3",
   "version": "3.9.13"
  },
  "orig_nbformat": 4
 },
 "nbformat": 4,
 "nbformat_minor": 2
}

{
 "cells": [
  {
   "cell_type": "code",
   "execution_count": 1,
   "metadata": {},
   "outputs": [
    {
     "name": "stdout",
     "output_type": "stream",
     "text": [
      "{'genre': 'sci-fi', 'text': '\\n\\nA group of scientists discover a mysterious alien artifact on the dark side of the moon. When they investigate, they find that the artifact is a gateway to a parallel universe, and they must travel through it to save their own world from an impending disaster.'}\n"
     ]
    }
   ],
   "source": [
    "from langchain import PromptTemplate, OpenAI, LLMChain\n",
    "\n",
    "prompt_template = \"Generate a concise story idea for a {genre} book.\"\n",
    "\n",
    "llm = OpenAI(temperature=0)  # type: ignore\n",
    "llm_chain = LLMChain(llm=llm, prompt=PromptTemplate.from_template(prompt_template))\n",
    "result = llm_chain(\"sci-fi\")\n",
    "print(result)"
   ]
  },
  {
   "cell_type": "code",
   "execution_count": 2,
   "metadata": {},
   "outputs": [
    {
     "data": {
      "text/plain": [
       "'\\n\\nA group of scientists discover a mysterious alien artifact on the dark side of the moon. When they investigate, they find that the artifact is a gateway to a parallel universe, and they must travel through it to save their own world from an impending disaster.'"
      ]
     },
     "execution_count": 2,
     "metadata": {},
     "output_type": "execute_result"
    }
   ],
   "source": [
    "result[\"text\"]"
   ]
  },
  {
   "attachments": {},
   "cell_type": "markdown",
   "metadata": {},
   "source": [
    "---\n"
   ]
  },
  {
   "cell_type": "code",
   "execution_count": 3,
   "metadata": {},
   "outputs": [],
   "source": [
    "from langchain.prompts import PromptTemplate\n",
    "from langchain.chains import LLMChain\n",
    "from langchain.chat_models import ChatOpenAI\n",
    "from langchain.prompts.chat import (\n",
    "    ChatPromptTemplate,\n",
    "    SystemMessagePromptTemplate,\n",
    ")"
   ]
  },
  {
   "cell_type": "code",
   "execution_count": 4,
   "metadata": {},
   "outputs": [
    {
     "data": {
      "text/plain": [
       "\"1. Main Protagonist - A young orphan with a hidden magical ability who embarks on a quest to save the kingdom from an evil sorcerer.\\n2. Main Antagonist - The evil sorcerer who seeks to gain ultimate power and control over the kingdom by harnessing dark magic.\\n3. Mentor - A wise and powerful wizard who aids the protagonist on their journey, teaching them how to control and master their magical abilities.\\n4. Sidekick - A loyal and comical creature, such as a talking animal or mischievous imp, who provides comic relief and assists the protagonist in their quest.\\n5. Love Interest - A strong and independent individual with their own magical abilities, who becomes a romantic interest for the protagonist and aids them in their quest.\\n6. Rival - A fellow magical apprentice who initially competes with the protagonist but eventually becomes an ally, adding an element of rivalry and growth to the story.\\n7. Supporting Characters - Various characters who assist or hinder the protagonist throughout their journey, including a band of rebels fighting against the sorcerer's rule, a cunning thief, a wise old sage, and a powerful witch.\\n8. Villain's Henchmen - A group of formidable and loyal followers of the sorcerer who serve as obstacles for the protagonist and create suspense and tension in the story.\\n9. Magical Creatures - A variety of mythical creatures such as dragons, unicorns, griffins, and nymphs, who aid or hinder the protagonist on their quest and contribute to the fantasy setting.\\n10. Ancient Gods or Deities - Powerful divine beings who have a stake in the outcome of the protagonist's quest and provide guidance or obstacles as they see fit.\\n11. Betrayal - A character close to the protagonist reveals their true allegiance, adding a shocking twist and forcing the protagonist to reassess their trust in others.\\n12. Redemption Arc - A morally ambiguous character with a dark past who seeks redemption and joins the protagonist's cause, providing a complex and layered storyline.\""
      ]
     },
     "execution_count": 4,
     "metadata": {},
     "output_type": "execute_result"
    }
   ],
   "source": [
    "human_message_prompt = SystemMessagePromptTemplate(\n",
    "    prompt=PromptTemplate(\n",
    "        template=\"\"\"I want you to brainstorm ideas for characters for my story. The genre is {genre}.\n",
    "        Rank the ideas from most important to least important.\n",
    "        \n",
    "        Example response:\n",
    "        1. Idea 1 ...,\n",
    "        2. Idea 2 ...,\n",
    "        3. Idea 3 ...\n",
    "        \n",
    "        \"\"\",\n",
    "        input_variables=[\"genre\"],\n",
    "    )\n",
    ")\n",
    "chat_prompt_template = ChatPromptTemplate.from_messages([human_message_prompt])\n",
    "chat = ChatOpenAI(temperature=0.9)  # type: ignore\n",
    "chain = LLMChain(llm=chat, prompt=chat_prompt_template)\n",
    "\n",
    "chain.run({\"genre\": \"fantasy\"})\n",
    "# chain(\"fantasy\") # This will work too using the __call__ method"
   ]
  },
  {
   "cell_type": "code",
   "execution_count": 5,
   "metadata": {},
   "outputs": [
    {
     "name": "stdout",
     "output_type": "stream",
     "text": [
      "[{'text': \"1. Idea 1: The protagonist - a young orphan with a mysterious past who discovers they have magical abilities and is thrust into an epic quest to save their kingdom.\\n2. Idea 2: The mentor - an ancient, wise wizard who guides the protagonist on their journey and helps them harness their magical powers.\\n3. Idea 3: The antagonist - a power-hungry sorcerer who seeks to take over the kingdom and will stop at nothing to eliminate anyone who stands in their way.\\n4. Idea 4: The sidekick - a loyal and humorous creature or magical being who provides comic relief and assists the protagonist in their adventures.\\n5. Idea 5: The love interest - a fierce and independent warrior or a fellow magic user who joins the protagonist on their quest and eventually falls in love with them.\\n6. Idea 6: The rogue - a skilled thief or assassin who initially opposes the protagonist but later becomes an ally, adding an element of unpredictability and deception.\\n7. Idea 7: The wise elder - an ancient and wise being who holds crucial knowledge about the kingdom's history and prophecy, guiding the protagonist in their quest.\\n8. Idea 8: The rival - a fellow magic user or warrior who constantly challenges the protagonist, creating tension and rivalry throughout the story.\\n9. Idea 9: The ally - a group of diverse individuals with unique abilities who come together to form a band of heroes, supporting the protagonist in their mission.\\n10. Idea 10: The fallen hero - a once noble and powerful figure who succumbed to darkness and is now haunted by their past actions, seeking redemption through aiding the protagonist.\"}, {'text': \"1. Main Protagonist: A young scientist who discovers a groundbreaking technology that could change the world, but struggles with the moral implications of its use.\\n2. Antagonist: A powerful corporation that seeks to monopolize the new technology and will stop at nothing to deter the protagonist's progress.\\n3. Mentor/Supporting Character: A wise and mysterious figure with a deep understanding of the technology, who helps guide the protagonist in their journey.\\n4. Love Interest: A fellow scientist who shares the protagonist's passion for innovation, but holds a different perspective on the responsible use of technology.\\n5. Sidekick: A quirky and brilliant engineer who provides comic relief and technical expertise.\\n6. Government Agent: A relentless investigator who becomes suspicious of the protagonist's activities and is determined to uncover the truth.\\n7. Rival Scientist: A highly ambitious and cutthroat scientist who sees the protagonist's discovery as a threat to their own success.\\n8. AI Companion: An advanced artificial intelligence system that assists the protagonist, offering information and advice during their mission.\\n9. Ally: A former employee of the corporation who joins forces with the protagonist after discovering their unethical practices.\\n10. Mercenary: A skilled and mysterious mercenary with a shady past who becomes an unexpected ally to the protagonist.\\n11. Test Subject: A survivor of unethical experiments conducted by the corporation, possessing extraordinary abilities that could aid the protagonist's cause.\\n12. Hacker: A skilled and eccentric computer hacker who aids the protagonist by accessing and providing valuable information from secure networks.\"}]\n"
     ]
    }
   ],
   "source": [
    "genres = [\n",
    "    {\"genre\": \"fantasy\"},\n",
    "    {\"genre\": \"sci-fi\"},\n",
    "]\n",
    "\n",
    "# Generate multiple LLM requests based on multiple inputs:\n",
    "# The async method is .aapply()\n",
    "print(chain.apply(genres))"
   ]
  },
  {
   "cell_type": "code",
   "execution_count": 6,
   "metadata": {},
   "outputs": [
    {
     "data": {
      "text/plain": [
       "LLMResult(generations=[[ChatGeneration(text=\"1. Idea 1: The protagonist - a young orphan with a mysterious past who discovers they have unique and powerful magical abilities. This character will drive the plot and embark on a journey to uncover their true identity and fulfill their destiny.\\n\\n2. Idea 2: The mentor - an experienced and wise wizard who becomes the protagonist's guide and teacher. This character will provide guidance, impart knowledge, and help the protagonist navigate the magical world they are entering.\\n\\n3. Idea 3: The antagonist - a power-hungry sorcerer who seeks to harness dark magic and conquer the realm. This character will create conflict and obstacles for the protagonist, serving as a formidable adversary throughout the story.\\n\\n4. Idea 4: The loyal companion - a talking animal or mythical creature who befriends the protagonist and accompanies them on their journey. This character will provide companionship, comic relief, and assist the protagonist with their magical abilities.\\n\\n5. Idea 5: The love interest - a fellow magical being or a member of another species who forms a romantic connection with the protagonist. This character will add depth to the protagonist's personal journey and provide emotional support.\\n\\n6. Idea 6: The wise elder - a respected figure in the magical community who possesses ancient knowledge and acts as a source of wisdom for the protagonist. This character will offer guidance, reveal important information, and help the protagonist on their quest.\\n\\n7. Idea 7: The rival - a fellow student or apprentice who is envious of the protagonist's abilities and constantly tries to outshine them. This character will add tension and competitiveness to the story, pushing the protagonist to grow and prove themselves.\\n\\n8. Idea 8: The comedic relief - a quirky and humorous character who brings lightheartedness to the story. This character will provide comic relief during intense moments, lighten the mood, and offer a different perspective.\\n\\n9. Idea 9: The mysterious stranger - a character with a questionable past and hidden agenda who appears at crucial moments in the story. This character will keep the readers guessing and add unpredictability to the plot.\\n\\n10. Idea 10: The mythical creature - a majestic and powerful being from ancient folklore who assists the protagonist on their journey. This character will possess unique abilities and knowledge, helping the protagonist overcome challenges.\", generation_info=None, message=AIMessage(content=\"1. Idea 1: The protagonist - a young orphan with a mysterious past who discovers they have unique and powerful magical abilities. This character will drive the plot and embark on a journey to uncover their true identity and fulfill their destiny.\\n\\n2. Idea 2: The mentor - an experienced and wise wizard who becomes the protagonist's guide and teacher. This character will provide guidance, impart knowledge, and help the protagonist navigate the magical world they are entering.\\n\\n3. Idea 3: The antagonist - a power-hungry sorcerer who seeks to harness dark magic and conquer the realm. This character will create conflict and obstacles for the protagonist, serving as a formidable adversary throughout the story.\\n\\n4. Idea 4: The loyal companion - a talking animal or mythical creature who befriends the protagonist and accompanies them on their journey. This character will provide companionship, comic relief, and assist the protagonist with their magical abilities.\\n\\n5. Idea 5: The love interest - a fellow magical being or a member of another species who forms a romantic connection with the protagonist. This character will add depth to the protagonist's personal journey and provide emotional support.\\n\\n6. Idea 6: The wise elder - a respected figure in the magical community who possesses ancient knowledge and acts as a source of wisdom for the protagonist. This character will offer guidance, reveal important information, and help the protagonist on their quest.\\n\\n7. Idea 7: The rival - a fellow student or apprentice who is envious of the protagonist's abilities and constantly tries to outshine them. This character will add tension and competitiveness to the story, pushing the protagonist to grow and prove themselves.\\n\\n8. Idea 8: The comedic relief - a quirky and humorous character who brings lightheartedness to the story. This character will provide comic relief during intense moments, lighten the mood, and offer a different perspective.\\n\\n9. Idea 9: The mysterious stranger - a character with a questionable past and hidden agenda who appears at crucial moments in the story. This character will keep the readers guessing and add unpredictability to the plot.\\n\\n10. Idea 10: The mythical creature - a majestic and powerful being from ancient folklore who assists the protagonist on their journey. This character will possess unique abilities and knowledge, helping the protagonist overcome challenges.\", additional_kwargs={}, example=False))], [ChatGeneration(text=\"1. The Protagonist - The main character of the story who will embark on a journey or mission in the sci-fi world. Their background, skills, and goals will be critical in moving the plot forward.\\n2. Antagonist - A powerful and intelligent individual or group who opposes the protagonist and poses a significant threat or obstacle to their mission. This character adds conflict and tension to the story.\\n3. Mentor - A wise and experienced character who guides and trains the protagonist, providing them with valuable knowledge or skills needed to navigate the sci-fi world. The mentor may have their own agenda or backstory that adds depth to their character.\\n4. Love Interest - A character who forms a romantic connection with the protagonist, adding an emotional aspect to the story. This character may also possess unique abilities or knowledge that aids the protagonist in their mission.\\n5. Sidekick/Companion - A loyal and supportive character who accompanies the protagonist on their journey. This character provides friendship, comic relief, and assistance throughout the story.\\n6. Villain's Henchmen - A group of loyal followers or soldiers who serve the antagonist. These characters can provide action sequences, additional obstacles, and high-stakes encounters for the protagonist.\\n7. Tech Genius - A highly intelligent and skilled character who is proficient in technology or robotics. This character can invent gadgets, hack into systems, and provide technical support to the protagonist.\\n8. Scientist - A character with advanced knowledge in science, particularly in the realm of the story's sci-fi elements. This character can explain and explore the science behind the world, uncovering important discoveries or secrets.\\n9. Rogue - A morally ambiguous character who operates outside the law and possesses a unique set of skills or knowledge. This character can help or hinder the protagonist depending on their own agenda.\\n10. Alien - A non-human character from another planet or dimension. Their unique abilities, culture, and experiences can provide a fresh perspective and contribute to the overall world-building of the story.\\n11. Government Agent - A character who works for a powerful organization or government body within the sci-fi world. They may have conflicting loyalties or hidden agendas that impact the protagonist's journey.\\n12. Spy/Infiltrator - A character skilled in espionage and gathering information. This character can provide the protagonist with valuable intel, uncover secrets, or act as a double agent, adding intrigue and suspense to the plot.\\n13. Battle-tested Soldier - A character with a background in warfare or combat. They can assist the protagonist in physical confrontations, provide tactical advice, or serve as a mentor in combat skills.\\n14. Outcast - A character who has been cast aside or banished from society due to their beliefs, abilities, or past actions. This character can offer a unique perspective and may possess skills or knowledge that is deemed dangerous or forbidden.\\n15. Artificial Intelligence - A sentient, advanced AI that plays a significant role in the story. It may have its own goals or struggles, and its interactions with the protagonist can provoke philosophical and ethical questions.\\n16. Researcher/Explorer - A character dedicated to uncovering new knowledge or exploring uncharted territories. This character's thirst for discovery can propel the plot forward and reveal hidden secrets.\\n17. Rebel Leader - A charismatic and influential character who leads a resistance movement against oppressive forces in the sci-fi world. This character can inspire the protagonist and rally others to their cause.\\n18. Predecessor - A character from the past who had a similar mission or goal to the protagonist. This character's story can be told through flashbacks or discovered records, providing guidance and insight to the protagonist.\\n19. Mutant/Enhanced Human - A character who possesses extraordinary abilities or mutations due to genetic modifications or biological enhancements. They can contribute to action sequences and add a sense of wonder to the story.\\n20. Mediator/Diplomat - A character skilled in negotiation and conflict resolution. They can help resolve disputes between factions or races in the sci-fi world, providing an alternative solution to violence.\", generation_info=None, message=AIMessage(content=\"1. The Protagonist - The main character of the story who will embark on a journey or mission in the sci-fi world. Their background, skills, and goals will be critical in moving the plot forward.\\n2. Antagonist - A powerful and intelligent individual or group who opposes the protagonist and poses a significant threat or obstacle to their mission. This character adds conflict and tension to the story.\\n3. Mentor - A wise and experienced character who guides and trains the protagonist, providing them with valuable knowledge or skills needed to navigate the sci-fi world. The mentor may have their own agenda or backstory that adds depth to their character.\\n4. Love Interest - A character who forms a romantic connection with the protagonist, adding an emotional aspect to the story. This character may also possess unique abilities or knowledge that aids the protagonist in their mission.\\n5. Sidekick/Companion - A loyal and supportive character who accompanies the protagonist on their journey. This character provides friendship, comic relief, and assistance throughout the story.\\n6. Villain's Henchmen - A group of loyal followers or soldiers who serve the antagonist. These characters can provide action sequences, additional obstacles, and high-stakes encounters for the protagonist.\\n7. Tech Genius - A highly intelligent and skilled character who is proficient in technology or robotics. This character can invent gadgets, hack into systems, and provide technical support to the protagonist.\\n8. Scientist - A character with advanced knowledge in science, particularly in the realm of the story's sci-fi elements. This character can explain and explore the science behind the world, uncovering important discoveries or secrets.\\n9. Rogue - A morally ambiguous character who operates outside the law and possesses a unique set of skills or knowledge. This character can help or hinder the protagonist depending on their own agenda.\\n10. Alien - A non-human character from another planet or dimension. Their unique abilities, culture, and experiences can provide a fresh perspective and contribute to the overall world-building of the story.\\n11. Government Agent - A character who works for a powerful organization or government body within the sci-fi world. They may have conflicting loyalties or hidden agendas that impact the protagonist's journey.\\n12. Spy/Infiltrator - A character skilled in espionage and gathering information. This character can provide the protagonist with valuable intel, uncover secrets, or act as a double agent, adding intrigue and suspense to the plot.\\n13. Battle-tested Soldier - A character with a background in warfare or combat. They can assist the protagonist in physical confrontations, provide tactical advice, or serve as a mentor in combat skills.\\n14. Outcast - A character who has been cast aside or banished from society due to their beliefs, abilities, or past actions. This character can offer a unique perspective and may possess skills or knowledge that is deemed dangerous or forbidden.\\n15. Artificial Intelligence - A sentient, advanced AI that plays a significant role in the story. It may have its own goals or struggles, and its interactions with the protagonist can provoke philosophical and ethical questions.\\n16. Researcher/Explorer - A character dedicated to uncovering new knowledge or exploring uncharted territories. This character's thirst for discovery can propel the plot forward and reveal hidden secrets.\\n17. Rebel Leader - A charismatic and influential character who leads a resistance movement against oppressive forces in the sci-fi world. This character can inspire the protagonist and rally others to their cause.\\n18. Predecessor - A character from the past who had a similar mission or goal to the protagonist. This character's story can be told through flashbacks or discovered records, providing guidance and insight to the protagonist.\\n19. Mutant/Enhanced Human - A character who possesses extraordinary abilities or mutations due to genetic modifications or biological enhancements. They can contribute to action sequences and add a sense of wonder to the story.\\n20. Mediator/Diplomat - A character skilled in negotiation and conflict resolution. They can help resolve disputes between factions or races in the sci-fi world, providing an alternative solution to violence.\", additional_kwargs={}, example=False))]], llm_output={'token_usage': {'prompt_tokens': 137, 'completion_tokens': 1272, 'total_tokens': 1409}, 'model_name': 'gpt-3.5-turbo'}, run=[RunInfo(run_id=UUID('19907748-6185-4eef-a14c-8e5a5d032495')), RunInfo(run_id=UUID('799167be-dcf5-435b-ab08-8e41691f54f0'))])"
      ]
     },
     "execution_count": 6,
     "metadata": {},
     "output_type": "execute_result"
    }
   ],
   "source": [
    "# The async method is .agenerate()\n",
    "chain.generate(genres)"
   ]
  },
  {
   "attachments": {},
   "cell_type": "markdown",
   "metadata": {},
   "source": [
    "Analyzing issues within a Chain object by its output alone can prove to be a daunting task, primarily because such objects often undergo substantial transformation—both before the input prompt is processed and after the LLM output is generated.\n",
    "\n",
    "However, a solution lies within your reach. By setting the `verbose` parameter to `True`, you are enabling a feature that unveils the internal dynamics of the Chain object during its runtime. This provision can offer you invaluable insights, further empowering you to troubleshoot and resolve any underlying issues more effectively.\n"
   ]
  },
  {
   "cell_type": "code",
   "execution_count": 7,
   "metadata": {},
   "outputs": [
    {
     "name": "stdout",
     "output_type": "stream",
     "text": [
      "\n",
      "\n",
      "\u001b[1m> Entering new  chain...\u001b[0m\n",
      "Prompt after formatting:\n",
      "\u001b[32;1m\u001b[1;3mSystem: I want you to brainstorm ideas for characters for my story. The genre is fantasy.\n",
      "        Rank the ideas from most important to least important.\n",
      "        \n",
      "        Example response:\n",
      "        1. Idea 1 ...,\n",
      "        2. Idea 2 ...,\n",
      "        3. Idea 3 ...\n",
      "        \n",
      "        \u001b[0m\n",
      "\n",
      "\u001b[1m> Finished chain.\u001b[0m\n"
     ]
    },
    {
     "data": {
      "text/plain": [
       "\"1. Main protagonist - a young orphan with a mysterious past who discovers they have a unique magical ability and is chosen by an ancient prophecy to save the world.\\n2. Wise mentor - an elderly wizard who guides and trains the protagonist in their magical abilities and imparts wisdom and knowledge about the world of magic.\\n3. Antagonist - a power-hungry sorcerer who seeks to harness dark magic to gain ultimate control and is willing to stop at nothing to achieve his goals.\\n4. Sidekick - a loyal and mischievous magical creature who befriends the protagonist and provides comic relief as well as assistance in their quest.\\n5. Love interest - a skilled warrior from a different kingdom, who initially clashes with the protagonist but eventually falls in love and joins their cause.\\n6. Supporting character - a skilled healer or herbalist who possesses knowledge of ancient remedies and mystical potions that aid the protagonist in their journey.\\n7. Villain's henchman - a loyal and fearless warrior who carries out the antagonist's bidding, but secretly struggles with his allegiance and is torn between his conscience and loyalty.\\n8. Magical beings - a group of mythical creatures, such as dragons, elves, or dwarves, who help or hinder the protagonist in their quest.\\n9. Rival - a fellow aspiring magician who becomes the protagonist's competitor and challenges them in their magical abilities, creating tension and rivalry.\\n10. Ancestral spirit - the ghost of a legendary hero who appears to the protagonist in times of need, offering guidance and wisdom from beyond the grave.\\n11. Betrayed ally - a previously trusted companion who turns against the protagonist due to personal reasons or manipulation by the antagonist. Their internal conflict adds depth and complexity to the story.\\n12. Villain's confidante - a cunning and manipulative advisor to the antagonist, who constantly schemes and plots to ensure the protagonist's failure.\\n13. Ancient guardian - a mysterious and powerful entity tasked with protecting a hidden artifact or gateway, who challenges the protagonist to prove their worthiness.\\n14. Rogue thief - a skilled thief with a troubled past who initially opposes the protagonist but eventually forms an unlikely alliance to achieve a common goal.\\n15. Noble ruler - a wise and just king or queen who offers guidance and support to the protagonist, providing resources and aid in their journey.\""
      ]
     },
     "execution_count": 7,
     "metadata": {},
     "output_type": "execute_result"
    }
   ],
   "source": [
    "# You can debug all LLMChains by turning on Verbose=True:\n",
    "chain = LLMChain(llm=chat, prompt=chat_prompt_template, verbose=True)\n",
    "chain.run({\"genre\": \"fantasy\"})"
   ]
  },
  {
   "attachments": {},
   "cell_type": "markdown",
   "metadata": {},
   "source": [
    "LLMChain does not automatically parse the output by default, even if the prompt object has an output parser. To apply the output parser on the LLM output you can add an output_parser.\n"
   ]
  },
  {
   "cell_type": "code",
   "execution_count": 8,
   "metadata": {},
   "outputs": [],
   "source": [
    "from langchain.output_parsers import PydanticOutputParser\n",
    "from pydantic import BaseModel, Field, validator\n",
    "from typing import List"
   ]
  },
  {
   "cell_type": "code",
   "execution_count": 9,
   "metadata": {},
   "outputs": [],
   "source": [
    "class Ideas(BaseModel):\n",
    "    ideas: List[str] = Field(description=\"A list of ideas for a story.\")\n",
    "\n",
    "\n",
    "parser = PydanticOutputParser(pydantic_object=Ideas)\n",
    "\n",
    "prompt = PromptTemplate(\n",
    "    template=\"I want you to brainstorm ideas for characters for my story. The genre is {genre}.\\n  {format_instructions}\",\n",
    "    input_variables=[\"genre\", \"format_instructions\"],\n",
    ")\n",
    "\n",
    "chain = LLMChain(llm=chat, prompt=prompt, output_parser=parser)"
   ]
  },
  {
   "cell_type": "code",
   "execution_count": 10,
   "metadata": {},
   "outputs": [],
   "source": [
    "result = chain.run(\n",
    "    {\"genre\": \"fantasy\", \"format_instructions\": parser.get_format_instructions()}\n",
    ")"
   ]
  },
  {
   "cell_type": "code",
   "execution_count": 14,
   "metadata": {},
   "outputs": [
    {
     "name": "stdout",
     "output_type": "stream",
     "text": [
      "ideas=['A powerful sorcerer who has lost their memory and must journey to reclaim their past', 'A street thief with the ability to control shadows', 'A young orphan who discovers they are the chosen one destined to save the world', 'A wise and ancient dragon who serves as a mentor to the protagonist', 'A mischievous fairy who loves playing pranks on humans', 'A skilled warrior who wields a magical sword', 'A shape-shifting creature who can take the form of any animal', 'A cursed princess trapped in a tower awaiting rescue', 'A group of mystical creatures who band together to form a secret society', 'A mysterious wizard who lives in an enchanted forest', 'A talking animal companion who provides comic relief', 'A vengeful ghost seeking revenge against their murderer', 'A young wizard apprentice with untapped and unpredictable powers', 'A noble knight on a quest to find the legendary holy grail', 'An ancient prophecy foretelling the rise of a dark evil and the chosen hero who will defeat it', 'A magical artifact with the power to control time', 'A cunning and manipulative sorceress who seeks ultimate power', \"A cursed prince who can only break the curse with true love's kiss\", 'A reclusive hermit with the ability to commune with nature', 'A band of skilled thieves who steal from the rich to give to the poor']\n",
      "{'ideas': ['A powerful sorcerer who has lost their memory and must journey to reclaim their past', 'A street thief with the ability to control shadows', 'A young orphan who discovers they are the chosen one destined to save the world', 'A wise and ancient dragon who serves as a mentor to the protagonist', 'A mischievous fairy who loves playing pranks on humans', 'A skilled warrior who wields a magical sword', 'A shape-shifting creature who can take the form of any animal', 'A cursed princess trapped in a tower awaiting rescue', 'A group of mystical creatures who band together to form a secret society', 'A mysterious wizard who lives in an enchanted forest', 'A talking animal companion who provides comic relief', 'A vengeful ghost seeking revenge against their murderer', 'A young wizard apprentice with untapped and unpredictable powers', 'A noble knight on a quest to find the legendary holy grail', 'An ancient prophecy foretelling the rise of a dark evil and the chosen hero who will defeat it', 'A magical artifact with the power to control time', 'A cunning and manipulative sorceress who seeks ultimate power', \"A cursed prince who can only break the curse with true love's kiss\", 'A reclusive hermit with the ability to commune with nature', 'A band of skilled thieves who steal from the rich to give to the poor']}\n"
     ]
    }
   ],
   "source": [
    "print(result)\n",
    "print(result.dict())  # type: ignore"
   ]
  },
  {
   "attachments": {},
   "cell_type": "markdown",
   "metadata": {},
   "source": [
    "---\n"
   ]
  },
  {
   "attachments": {},
   "cell_type": "markdown",
   "metadata": {},
   "source": [
    "Given that your story generation will require multiple sequential prompts you can use a `SequentialChain` to chain multiple prompts together. The `SequentialChain` will automatically re-use the output of the previous prompt and use it as the input for the next prompt.\n"
   ]
  },
  {
   "cell_type": "code",
   "execution_count": 28,
   "metadata": {},
   "outputs": [],
   "source": [
    "from langchain.chat_models import ChatOpenAI\n",
    "from langchain.chains import LLMChain\n",
    "from langchain.prompts import PromptTemplate\n",
    "from langchain.chains import SequentialChain"
   ]
  },
  {
   "cell_type": "code",
   "execution_count": 47,
   "metadata": {},
   "outputs": [],
   "source": [
    "character_generation_prompt = PromptTemplate(\n",
    "    template=\"\"\"I want you to brainstorm 3 - 5 characters for my short story. The genre is {genre}.\n",
    "    Each character must have a Name and a Biography.\n",
    "    You must provide a name and biography for each character, this is very important!\n",
    "    ---\n",
    "    Example response:\n",
    "    Name: CharWiz, Biography: A wizard who is a master of magic.\n",
    "    Name: CharWar, Biography: A warrior who is a master of the sword.\n",
    "    ---\n",
    "\n",
    "    Characters: \"\"\",\n",
    "    input_variables=[\"genre\"],\n",
    ")\n",
    "\n",
    "plot_generation_prompt = PromptTemplate(\n",
    "    template=\"\"\"Given the following characters and the genre, create an effective plot for a short story:\n",
    "    Characters:\n",
    "    {characters} \n",
    "    ---\n",
    "    Genre: {genre}\n",
    "    ---\n",
    "    Plot: \"\"\",\n",
    "    input_variables=[\"genre\", \"characters\"],\n",
    ")\n",
    "\n",
    "scene_generation_plot = PromptTemplate(\n",
    "    template=\"\"\"Act as an effective content creator. \n",
    "    Given multiple characters and a plot you are responsible generating the various scenes for each act. \n",
    "    \n",
    "    You must de-compose the plot into multiple effective scenes:\n",
    "\n",
    "    ---\n",
    "    Characters:\n",
    "    {characters}\n",
    "    ---\n",
    "    Genre: {genre}\n",
    "    ---\n",
    "    Plot: {plot}\n",
    "    ---\n",
    "    Example response:\n",
    "    Scenes:\n",
    "    Scene 1: Some text here.\n",
    "    Scene 2: Some text here.\n",
    "    Scene 3: Some text here.\n",
    "    ----\n",
    "    Scenes:\n",
    "    \"\"\",\n",
    "    input_variables=[\"genre\", \"characters\", \"plot\"],\n",
    ")"
   ]
  },
  {
   "cell_type": "code",
   "execution_count": 52,
   "metadata": {},
   "outputs": [],
   "source": [
    "chat_model = ChatOpenAI()  # type: ignore\n",
    "character_generation_chain = LLMChain(\n",
    "    llm=chat, prompt=character_generation_prompt, output_key=\"characters\"\n",
    ")\n",
    "plot_generation_chain = LLMChain(\n",
    "    llm=chat, prompt=plot_generation_prompt, output_key=\"plot\"\n",
    ")\n",
    "scene_generation_chain = LLMChain(\n",
    "    llm=chat, prompt=scene_generation_plot, output_key=\"scenes\"\n",
    ")"
   ]
  },
  {
   "cell_type": "code",
   "execution_count": 53,
   "metadata": {},
   "outputs": [],
   "source": [
    "story_chain = SequentialChain(\n",
    "    chains=[\n",
    "        character_generation_chain,\n",
    "        plot_generation_chain,\n",
    "        scene_generation_chain,\n",
    "    ],\n",
    "    input_variables=[\"genre\", \"format_instructions\"],\n",
    "    output_variables=[\"characters\", \"plot\", \"scenes\", \"genre\"],\n",
    ")"
   ]
  },
  {
   "cell_type": "code",
   "execution_count": 54,
   "metadata": {},
   "outputs": [],
   "source": [
    "story_result = story_chain({\"genre\": \"fantasy\", \"format_instructions\": \"\"})"
   ]
  },
  {
   "cell_type": "code",
   "execution_count": 57,
   "metadata": {},
   "outputs": [
    {
     "name": "stdout",
     "output_type": "stream",
     "text": [
      "{'genre': 'fantasy', 'format_instructions': '', 'characters': 'Name: Isabella Nightshade\\nBiography: Isabella Nightshade is a skilled and mysterious sorceress who possesses the power to manipulate shadows and darkness. Raised in the enigmatic Shadowrealm, she has honed her abilities over many years, making her a formidable force to be reckoned with. Isabella is known for her calm demeanor and calculated tactics, often using her powers to stealthily infiltrate enemy territories and disable her opponents with deadly precision.\\n\\nName: Orion Stormrider\\nBiography: Orion Stormrider is a seasoned elven archer with unparalleled accuracy and agility. Growing up in the ancient forest of Eldoria, he learned the art of archery from the renowned elven elders. Orion is known for his unwavering focus and stoic nature, always keeping his cool even in the midst of chaos. His arrows are said to be guided by the spirits of the forest, and his aim is rarely, if ever, off the mark.\\n\\nName: Seraphina Frostheart\\nBiography: Seraphina Frostheart is a young ice mage hailing from the frozen lands of Frostfall. Gifted with the ability to manipulate ice and frost, she has the power to create intricate ice sculptures and conjure blizzards at will. Seraphina is known for her kind-hearted nature and strong determination. She often uses her powers to protect her homeland from invaders and ensure the safety of her people. Despite her gentle demeanor, her icy powers can be devastating when provoked.', 'plot': \"In the mystical realm of Eldoria, a once peaceful land is now threatened by a dark force that seeks to plunge the world into eternal darkness. Isabella Nightshade, Orion Stormrider, and Seraphina Frostheart find themselves drawn together by a shared vision, foretelling the impending doom that awaits their realm.\\n\\nIsabella, the sorceress of shadows, receives a mysterious message from the Shadowrealm, warning her of an ancient artifact hidden deep within the heart of Eldoria. Believing this artifact holds the key to stopping the encroaching darkness, Isabella seeks out the aid of Orion, the elven archer known for his keen perception and unmatched skills. Recognizing the urgency of the situation, Orion joins Isabella's quest without hesitation.\\n\\nMeanwhile, Seraphina Frostheart, the ice mage from Frostfall, receives whispers in her dreams, urging her to journey to Eldoria to prevent the imminent catastrophe. Intrigued by the call of destiny, Seraphina embarks on her own journey, unaware that her path will soon intersect with Isabella and Orion.\\n\\nAs the trio converges, they face numerous trials and encounters with powerful adversaries who seek to impede their progress. In their journey, Isabella's shadow manipulation serves as a valuable tool, allowing the group to infiltrate enemy territories undetected. Seraphina's mastery over ice magic proves vital in freezing enemies and creating obstacles to deter pursuers. Orion's impeccable archery skills, guided by the spirits of Eldoria, strike true and deal devastating blows to their foes.\\n\\nThroughout their arduous journey, Isabella, Orion, and Seraphina forge a strong bond, relying on each other's unique abilities and unwavering determination. They uncover ancient prophecies that reveal their united purpose, and their individual talents begin to intertwine, amplifying their powers.\\n\\nFinally, after overcoming numerous obstacles and defeating mighty adversaries, the trio reaches the dark heart of Eldoria. There, they confront the embodiment of the encroaching darkness itself. The battle is fierce, and the realm trembles as their combined magical prowess clashes against the overwhelming power of the dark force.\\n\\nIn a climactic moment, Isabella, Orion, and Seraphina tap into the depths of their abilities, channeling their strength together. Isabella manipulates the shadows to shield her allies, Orion's arrows puncture through the dark force's defenses, and Seraphina unleashes a blizzard of icy fury. With their combined efforts, they manage to weaken the dark force, allowing a glimmer of light to pierce through its malevolence.\\n\\nIn a final act of sacrifice, Isabella taps into the true extent of her powers, enveloping herself in shadows and channeling them into a devastating attack that shatters the dark force into oblivion. The realm of Eldoria is saved, bathed in the dawn of a new era.\\n\\nAs the heroes bid farewell, they realize that their intertwined destinies have left an indelible mark on their lives. Isabella returns to the Shadowrealm, now recognized as a true hero among her people. Orion continues to protect the ancient forest of Eldoria, becoming a revered figure among the elves. Seraphina returns to Frostfall, recognized as a guardian of her homeland, ensuring its safety for generations to come.\\n\\nTheir individual stories become woven into the tapestry of Eldoria's history, forever remembered as the trio who stood against the encroaching darkness and triumphed, proving that even in the face of overwhelming odds, hope and unity can prevail.\", 'scenes': \"Scene 1: Isabella receives the mysterious message from the Shadowrealm, alerting her to the ancient artifact hidden within Eldoria. She deciphers the message's cryptic clues, realizing the urgency of the situation.\\n\\nScene 2: Isabella seeks out Orion, finding him deep within the ancient forest of Eldoria. She shares the message with him, explaining the imminent threat and the importance of retrieving the artifact. Orion agrees to join her quest, his keen perception recognizing the gravity of the situation.\\n\\nScene 3: Seraphina receives the whispers in her dreams, compelling her to journey to Eldoria. Intrigued and determined to fulfill her destiny, she begins her own separate journey, unaware that her path will soon intersect with Isabella and Orion.\\n\\nScene 4: Isabella, Orion, and Seraphina cross paths in a small village on the outskirts of Eldoria. Suspicious yet intrigued by each other's presence, they cautiously team up, realizing their shared visions and destinies. They exchange their personal stories, discovering the unique nature of their powers.\\n\\nScene 5: The trio faces their first encounter with a group of shadow creatures sent by the encroaching darkness. Isabella uses her shadow manipulation to disorient and confuse the creatures, allowing Orion to take them down with his precise archery skills. Seraphina uses her ice magic to freeze the remaining enemies, immobilizing them.\\n\\nScene 6: Isabella, Orion, and Seraphina infiltrate an enemy stronghold, using Isabella's shadow manipulation to slip past guards unnoticed. They make their way towards the artifact, encountering various traps and puzzles along the way. Each character's unique abilities come into play, helping them overcome the obstacles.\\n\\nScene 7: In a climactic battle, Isabella, Orion, and Seraphina face off against a powerful sorcerer who seeks to claim the artifact for his own dark purposes. Isabella uses her shadow manipulation to blind the sorcerer, while Orion fires arrows with pinpoint accuracy. Seraphina conjures a blizzard to freeze the sorcerer in place, allowing the trio to claim victory.\\n\\nScene 8: As the trio reaches the dark heart of Eldoria, they confront the embodiment of the encroaching darkness itself. A grand battle ensues, with Isabella, Orion, and Seraphina using their combined powers to weaken the dark force. The realm trembles as their magic clashes.\\n\\nScene 9: Isabella, Orion, and Seraphina pool their abilities, channeling their strength together against the dark force. Isabella sacrifices herself, unleashing a devastating attack that shatters the dark force into oblivion. The realm is bathed in light, signifying their triumph.\\n\\nScene 10: The heroes bid farewell, realizing the impact of their journey on their lives. Isabella returns to the Shadowrealm, hailed as a hero. Orion continues to protect Eldoria, revered among the elves. Seraphina returns to Frostfall as a guardian, ensuring its safety. Their stories become part of Eldoria's history, inspiring hope and unity for generations to come.\"}\n"
     ]
    }
   ],
   "source": [
    "print(story_result)"
   ]
  },
  {
   "attachments": {},
   "cell_type": "markdown",
   "metadata": {},
   "source": [
    "---\n"
   ]
  },
  {
   "attachments": {},
   "cell_type": "markdown",
   "metadata": {},
   "source": [
    "## Sequential Story Scene Generation:\n"
   ]
  },
  {
   "cell_type": "code",
   "execution_count": 94,
   "metadata": {},
   "outputs": [
    {
     "name": "stdout",
     "output_type": "stream",
     "text": [
      "Generating scene 1...\n",
      "\n",
      "\n",
      "\u001b[1m> Entering new  chain...\u001b[0m\n",
      "\n",
      "\u001b[1m> Finished chain.\u001b[0m\n",
      "Generating scene 2...\n",
      "\n",
      "\n",
      "\u001b[1m> Entering new  chain...\u001b[0m\n",
      "\n",
      "\u001b[1m> Finished chain.\u001b[0m\n",
      "Generating scene 3...\n",
      "\n",
      "\n",
      "\u001b[1m> Entering new  chain...\u001b[0m\n",
      "\n",
      "\u001b[1m> Finished chain.\u001b[0m\n",
      "Generating scene 4...\n",
      "\n",
      "\n",
      "\u001b[1m> Entering new  chain...\u001b[0m\n",
      "\n",
      "\u001b[1m> Finished chain.\u001b[0m\n",
      "Generating scene 5...\n",
      "\n",
      "\n",
      "\u001b[1m> Entering new  chain...\u001b[0m\n",
      "\n",
      "\u001b[1m> Finished chain.\u001b[0m\n",
      "Generating scene 6...\n",
      "\n",
      "\n",
      "\u001b[1m> Entering new  chain...\u001b[0m\n",
      "\n",
      "\u001b[1m> Finished chain.\u001b[0m\n",
      "Generating scene 7...\n",
      "\n",
      "\n",
      "\u001b[1m> Entering new  chain...\u001b[0m\n",
      "\n",
      "\u001b[1m> Finished chain.\u001b[0m\n",
      "Generating scene 8...\n",
      "\n",
      "\n",
      "\u001b[1m> Entering new  chain...\u001b[0m\n",
      "\n",
      "\u001b[1m> Finished chain.\u001b[0m\n",
      "Generating scene 9...\n",
      "\n",
      "\n",
      "\u001b[1m> Entering new  chain...\u001b[0m\n",
      "\n",
      "\u001b[1m> Finished chain.\u001b[0m\n",
      "Generating scene 10...\n",
      "\n",
      "\n",
      "\u001b[1m> Entering new  chain...\u001b[0m\n",
      "\n",
      "\u001b[1m> Finished chain.\u001b[0m\n"
     ]
    }
   ],
   "source": [
    "from langchain.memory import SimpleMemory\n",
    "\n",
    "# Extracting the scenes using .split('\\n') and removing empty strings:\n",
    "scenes = [scene for scene in story_result[\"scenes\"].split(\"\\n\") if scene]\n",
    "\n",
    "character_script_prompt = PromptTemplate(\n",
    "    template=\"\"\"Given the following characters: {characters} and the genre: {genre}, create an effective character script for a scene.\n",
    "\n",
    "    You must follow the following principles:\n",
    "    - Use the Previous Scene Summary: {previous_scene_summary} to avoid repeating yourself.\n",
    "    - Use the Plot: {plot} to create an effective scene character script.\n",
    "    - Currently you are generating the character dialogue script for the following scene: {scene}\n",
    "\n",
    "    ---\n",
    "    Here is an example response:\n",
    "    SCENE 1: ANNA'S APARTMENT\n",
    "\n",
    "    (ANNA is sorting through old books when there is a knock at the door. She opens it to reveal JOHN.)\n",
    "    ANNA: Can I help you, sir?\n",
    "    JOHN: Perhaps, I think it's me who can help you. I heard you're researching time travel.\n",
    "    (Anna looks intrigued but also cautious.)\n",
    "    ANNA: That's right, but how do you know?\n",
    "    JOHN: You could say... I'm a primary source.\n",
    "\n",
    "    ---\n",
    "    SCENE {index}:\n",
    "\n",
    "    \"\"\",\n",
    "    input_variables=[\n",
    "        \"characters\",\n",
    "        \"genre\",\n",
    "        \"plot\",\n",
    "        \"scene\",\n",
    "        \"previous_scene_summary\",\n",
    "        \"index\",\n",
    "    ],\n",
    ")\n",
    "\n",
    "summarize_prompt = PromptTemplate(\n",
    "    template=\"\"\"Given a character script create a summary of the scene. Character script: {character_script}\"\"\",\n",
    "    input_variables=[\"character_script\"],\n",
    ")\n",
    "\n",
    "character_script_chain = LLMChain(\n",
    "    llm=chat, prompt=character_script_prompt, output_key=\"character_script\"\n",
    ")\n",
    "\n",
    "summarize_chain = LLMChain(llm=chat, prompt=summarize_prompt, output_key=\"summary\")\n",
    "previous_scene_summary = \"\"\n",
    "\n",
    "# Creating a simple memory to store the plot, characters, and genre:\n",
    "memory = SimpleMemory(\n",
    "    memories={\n",
    "        \"plot\": story_result[\"plot\"],\n",
    "        \"characters\": story_result[\"characters\"],\n",
    "        \"genre\": \"fantasy\",\n",
    "    }\n",
    ")\n",
    "\n",
    "generated_scenes = []\n",
    "\n",
    "for index, scene in enumerate(scenes):\n",
    "    print(f\"Generating scene {index + 1}...\")\n",
    "    scene_generation_chain = SequentialChain(\n",
    "        chains=[character_script_chain, summarize_chain],\n",
    "        memory=memory,\n",
    "        input_variables=[\n",
    "            \"scene\",\n",
    "            \"previous_scene_summary\",\n",
    "            \"index\",\n",
    "        ],\n",
    "        verbose=True,\n",
    "        output_variables=[\"character_script\", \"summary\"],\n",
    "    )\n",
    "\n",
    "    llm_result = scene_generation_chain(\n",
    "        {\n",
    "            \"characters\": story_result[\"characters\"],\n",
    "            \"genre\": \"fantasy\",\n",
    "            \"plot\": story_result[\"plot\"],\n",
    "            \"scene\": scene,\n",
    "            \"previous_scene_summary\": previous_scene_summary,\n",
    "            \"index\": index + 1,\n",
    "        }\n",
    "    )\n",
    "\n",
    "    # Updating the previous scene summary:\n",
    "    previous_scene_summary = llm_result[\"summary\"]\n",
    "\n",
    "    # Store the generated scenes:\n",
    "    generated_scenes.append(\n",
    "        {\"character_script\": llm_result[\"character_script\"], \"scene\": scenes[index]}\n",
    "    )"
   ]
  },
  {
   "cell_type": "code",
   "execution_count": 101,
   "metadata": {},
   "outputs": [
    {
     "data": {
      "text/plain": [
       "[{'character_script': 'IN ISABELLA\\'S STUDY - NIGHT\\n\\n(The room is dimly lit, with shelves filled with ancient tomes and artifacts. Isabella sits at her desk, studying an old parchment with a series of enigmatic symbols and writings. She furrows her brows, deep in concentration.)\\n\\nISABELLA: (muttering to herself) \"In the heart of Eldoria lies the key, a relic of ancient power, hidden from sight. Seek the moonlit grove and the whispering trees, where shadows dance in the pale moon\\'s light.\"\\n\\n(She traces her finger along the parchment, following the cryptic clues. Suddenly, the room darkens, and a faint whisper echoes through the air.)\\n\\nMYSTERIOUS VOICE: (whispering) Isabella Nightshade, the time has come. The Shadowrealm beckons you.\\n\\n(Isabella looks around, searching for the source of the voice.)\\n\\nISABELLA: Who\\'s there? Show yourself!\\n\\n(The shadows in the room seem to come alive, swirling around Isabella. She gazes into the darkness, her eyes shining with determination.)\\n\\nISABELLA: I will not be afraid. Show me the way.\\n\\n(The shadows converge into a spectral figure, revealing a glimpse of the Shadowrealm.)\\n\\nSPECTRAL FIGURE: Isabella Nightshade, the ancient artifact you seek possesses unimaginable power. It must not fall into the wrong hands.\\n\\nISABELLA: I understand. But how can I find it? I need more than riddles and whispers.\\n\\nSPECTRAL FIGURE: Seek the Eldertree in the Forest of Whispers. Its roots hold the key to the artifact\\'s location. Trust in your abilities, Isabella, for the shadows will guide you.\\n\\n(The spectral figure fades back into the shadows, leaving Isabella with a renewed sense of purpose.)\\n\\nISABELLA: The Eldertree... The Forest of Whispers... I must find it. The fate of Eldoria depends on it.\\n\\n(She gathers her belongings, determined to embark on her quest. The room is once again bathed in darkness as she steps into the unknown.)',\n",
       "  'scene': \"Scene 1: Isabella receives the mysterious message from the Shadowrealm, alerting her to the ancient artifact hidden within Eldoria. She deciphers the message's cryptic clues, realizing the urgency of the situation.\"},\n",
       " {'character_script': \"EXT. ANCIENT FOREST OF ELDORIA - DAY\\n\\n(Isabella, clad in dark robes, cautiously enters the ancient forest of Eldoria. The sounds of rustling leaves and bird calls fill the air. She navigates through the dense foliage, her eyes scanning the surroundings for any sign of Orion.)\\n\\nISABELLA: (whispering to herself) The Eldertree should be somewhere around here. Orion must be close.\\n\\n(Suddenly, a swish of wind catches Isabella's attention. She turns to see Orion perched on a tree branch, his bow at the ready.)\\n\\nORION: (with a hint of surprise) Isabella Nightshade, what brings you to the heart of Eldoria?\\n\\nISABELLA: (approaching Orion) Orion Stormrider, I bear urgent news. I have received a message from the Shadowrealm, warning of an ancient artifact hidden in these lands. It holds immense power and could be the key to saving Eldoria from the dark force that looms over us.\\n\\nORION: (arches an eyebrow) An artifact, you say? And what makes you believe I would be interested in joining your quest?\\n\\nISABELLA: (with conviction) Orion, I have witnessed your unparalleled skills as an archer. The spirits of the forest guide your arrows, and your accuracy could prove vital in retrieving the artifact. We cannot allow it to fall into the wrong hands.\\n\\n(Orion lowers his bow, considering Isabella's words.)\\n\\nORION: (nodding) I see the gravity of this situation. Eldoria has been my home for centuries, and I will do whatever it takes to protect it. I will join you on this quest, Isabella.\\n\\nISABELLA: (relieved) Thank you, Orion. Your keen perception and stoic nature will be invaluable in our journey.\\n\\n(They share a brief moment of acknowledgment before turning their attention to the path ahead.)\\n\\nISABELLA: (determined) Together, we will find the Eldertree and retrieve the artifact. Our realm's destiny rests upon our success.\\n\\n(Isabella and Orion set off deeper into the forest, their footsteps blending with the ancient melodies of Eldoria.)\\n\\nFADE OUT.\",\n",
       "  'scene': 'Scene 2: Isabella seeks out Orion, finding him deep within the ancient forest of Eldoria. She shares the message with him, explaining the imminent threat and the importance of retrieving the artifact. Orion agrees to join her quest, his keen perception recognizing the gravity of the situation.'},\n",
       " {'character_script': \"EXT. FROSTFALL - SERAPHINA'S COTTAGE - NIGHT\\n\\n(Seraphina is in her cottage, sleeping peacefully. Soft whispers begin to fill the room, growing louder and more urgent.)\\n\\nWHISPERS: (echoing) Seraphina... Seraphina Frostheart...\\n\\n(Seraphina stirs in her sleep, sensing the presence of something otherworldly. She opens her eyes, wide awake now.)\\n\\nSERAPHINA: (whispering) Who's there? What do you want?\\n\\nWHISPERS: (whispering) The realm of Eldoria is in danger, Seraphina. A great darkness looms, threatening to consume everything. You hold the power to save your homeland.\\n\\n(Seraphina sits up, her eyes shining with determination.)\\n\\nSERAPHINA: How? What must I do?\\n\\nWHISPERS: (whispering) Journey to Eldoria, Seraphina. Seek out Isabella Nightshade and Orion Stormrider. Together, you will find the ancient artifact that can banish the darkness and restore balance to our realm.\\n\\n(Seraphina nods, taking in the weight of the task ahead.)\\n\\nSERAPHINA: I will not fail. I will protect my people and Frostfall.\\n\\nWHISPERS: (whispering) Trust in your abilities, Seraphina. Embrace the power of ice that flows through your veins. The fate of Eldoria rests in your hands.\\n\\n(Seraphina stands up, a determined fire in her eyes.)\\n\\nSERAPHINA: I will not let them down. I will find Isabella and Orion, and together, we will bring light back to our realm.\\n\\n(Seraphina gathers her belongings, preparing for the journey ahead. She steps out of her cottage, gazing at the frozen lands of Frostfall.)\\n\\nSERAPHINA: Eldoria, I'm coming. Hold on, for hope is on its way.\\n\\n(Seraphina sets off on her journey, her footsteps crunching against the icy ground. The wind carries her whispers into the night as she disappears into the distance.)\\n\\nFADE OUT.\",\n",
       "  'scene': 'Scene 3: Seraphina receives the whispers in her dreams, compelling her to journey to Eldoria. Intrigued and determined to fulfill her destiny, she begins her own separate journey, unaware that her path will soon intersect with Isabella and Orion.'},\n",
       " {'character_script': \"EXT. SMALL VILLAGE - DAY\\n\\n(Isabella, Orion, and Seraphina find themselves in a quaint village on the outskirts of Eldoria. They cautiously assess each other's presence, curiosity and suspicion in their eyes.)\\n\\nISABELLA: (eyeing Orion and Seraphina) I can sense the power within both of you. Are you the ones the whispers spoke of?\\n\\nORION: (nodding) It seems fate has guided us together. I am Orion Stormrider, an archer from Eldoria.\\n\\nSERAPHINA: (curiously) And I am Seraphina Frostheart, an ice mage from Frostfall. I have journeyed here in response to a call from my dreams.\\n\\nISABELLA: (smiling) Isabella Nightshade, sorceress of shadows. The Shadowrealm has revealed to me the presence of an ancient artifact in Eldoria that can rid our realm of the impending darkness.\\n\\nORION: (determined) We must find this artifact and restore balance to our lands. Our visions, our destinies, they all point to this very moment.\\n\\nSERAPHINA: (earnestly) I have sworn to protect Frostfall and my people. If this artifact holds the key to saving our realms, I am ready to join you.\\n\\n(They exchange nods of understanding, forming an unspoken alliance as they share their personal stories.)\\n\\nISABELLA: (reflectively) My powers over shadows have granted me the ability to infiltrate enemy territories undetected. I can disable our opponents with stealth and precision.\\n\\nORION: (proudly) I possess unrivaled accuracy and agility as an elven archer. The spirits of Eldoria guide my arrows, ensuring they hit their mark.\\n\\nSERAPHINA: (enthused) With my ice-based abilities, I can freeze enemies and conjure blizzards at will. I have the power to protect and defend my homeland.\\n\\n(They each demonstrate a glimpse of their unique abilities to one another, showcasing their talents.)\\n\\nISABELLA: (impressed) Your mastery over ice magic is formidable, Seraphina.\\n\\nORION: (nodding) And your ability to manipulate shadows is a skill that will serve us well, Isabella.\\n\\nSERAPHINA: (smiling) We each bring a different strength to this quest. Together, we are unstoppable.\\n\\n(Their suspicions fade, replaced by a growing trust and understanding. They share a determined look, united in their purpose.)\\n\\nISABELLA: (resolute) We must set forth and find this artifact. The fate of our realms depends on it.\\n\\nORION: (assertive) Agreed. Let this alliance be the beacon of hope in these dark times.\\n\\nSERAPHINA: (with determination) And let the power within us guide our way. Together, we will bring light back to Eldoria.\\n\\n(They gather their belongings and prepare to embark on their journey, echoing footsteps crunching against the ground as they disappear into the distance. The whispers of destiny linger in the air, carrying their hopes and determination into the unknown.)\\n\\nFADE OUT.\",\n",
       "  'scene': \"Scene 4: Isabella, Orion, and Seraphina cross paths in a small village on the outskirts of Eldoria. Suspicious yet intrigued by each other's presence, they cautiously team up, realizing their shared visions and destinies. They exchange their personal stories, discovering the unique nature of their powers.\"},\n",
       " {'character_script': \"INT. DARK FOREST - NIGHT\\n\\n(The trio, ISABELLA, ORION, and SERAPHINA, cautiously make their way through the dense forest. They can sense a malevolent energy lurking nearby.)\\n\\nISABELLA\\n(whispering)\\nBe on your guard. We are not alone in these woods.\\n\\nORION\\n(nocking an arrow)\\nI sense their presence too. Shadow creatures.\\n\\nSERAPHINA\\n(grasping her staff)\\nLet me handle them. My ice magic can freeze them in their tracks.\\n\\n(The shadow creatures emerge from the darkness, their eerie forms undulating and shifting.)\\n\\nISABELLA\\n(stepping forward)\\nAllow me to disorient and confuse them with my shadow manipulation. It will give you both an advantage.\\n\\nORION\\n(straightening his bow)\\nVery well. We'll follow your lead, Isabella.\\n\\nSERAPHINA\\n(focusing her energy)\\nJust give me the signal, Isabella. I'll freeze them in an instant.\\n\\n(ISABELLA closes her eyes, concentrating on her powers. Shadows start to dance around her, forming tendrils that reach out towards the shadow creatures.)\\n\\nISABELLA\\n(opening her eyes)\\nNow!\\n\\n(ISABELLA's shadow tendrils lash out, wrapping around the shadow creatures. The creatures flail and stumble, disoriented by the sudden darkness enveloping them.)\\n\\nORION\\n(taking aim)\\nTime to strike!\\n\\n(ORION releases a flurry of arrows, each finding its mark with deadly precision. The shadow creatures fall one by one, dissolving into smoke.)\\n\\nSERAPHINA\\n(raising her staff)\\nNow, it's my turn!\\n\\n(SERAPHINA conjures a blizzard, waves of icy wind swirling around the remaining shadow creatures. The creatures freeze in place, immobilized by the frost.)\\n\\nISABELLA\\n(smiling)\\nExcellent work, team. Our combined abilities are truly formidable.\\n\\nORION\\n(nodding)\\nIndeed. We make a great team, don't we?\\n\\nSERAPHINA\\n(grinning)\\nAbsolutely. Let's keep moving. We have a long way to go before we find that artifact.\\n\\n(The trio continues their journey, their footsteps echoing through the forest as they push forward, united in their mission.)\\n\\nFADE OUT.\",\n",
       "  'scene': 'Scene 5: The trio faces their first encounter with a group of shadow creatures sent by the encroaching darkness. Isabella uses her shadow manipulation to disorient and confuse the creatures, allowing Orion to take them down with his precise archery skills. Seraphina uses her ice magic to freeze the remaining enemies, immobilizing them.'},\n",
       " {'character_script': \"INT. ENEMY STRONGHOLD - UNDERGROUND TUNNELS - NIGHT\\n\\n(The trio, Isabella, Orion, and Seraphina, cautiously move through the dimly lit underground tunnels. Isabella leads the way, her eyes scanning the surroundings for any signs of danger. Orion follows closely behind, his bow at the ready, while Seraphina brings up the rear, her staff emitting a soft blue glow.)\\n\\nISABELLA\\n(whispering)\\nKeep your senses sharp. We could encounter guards at any moment.\\n\\nORION\\n(nods)\\nI've got your back, Isabella. Just say the word, and my arrows will find their mark.\\n\\nSERAPHINA\\n(whispering)\\nAnd I'll make sure they regret crossing our path.\\n\\n(They come across a room filled with pressure-sensitive tiles on the floor, each one emitting a faint red glow. Isabella stops and surveys the room.)\\n\\nISABELLA\\n(hushed)\\nLooks like we've got a puzzle to solve. These tiles are connected to some kind of alarm system. One wrong step, and we'll have a swarm of guards on our tails.\\n\\nORION\\n(confident)\\nLeave it to me. I have an idea.\\n\\n(Orion takes a deep breath, his eyes focusing on the tiles. He steps forward, his movements calculated and precise, avoiding the glowing tiles with fluidity. Isabella and Seraphina watch in awe as he effortlessly navigates the room.)\\n\\nSERAPHINA\\n(amazed)\\nOrion, how did you...?\\n\\nORION\\n(smiling)\\nYears of training and a bit of elven intuition.\\n\\n(Orion reaches the other side of the room unscathed. He turns back to Isabella and Seraphina, extending a hand to help them across.)\\n\\nORION\\n(grinning)\\nYour turn, ladies. Just follow my lead.\\n\\n(The three of them carefully make their way through the room, mirroring Orion's movements, skilfully avoiding the pressure-sensitive tiles.)\\n\\nISABELLA\\n(impressed)\\nWell done, Orion. Your skills never cease to amaze me.\\n\\nORION\\n(humble)\\nThank you, Isabella. But remember, we're in this together.\\n\\n(They continue their journey, encountering more challenges and traps along the way. Isabella's shadow manipulation helps them slip past guards unnoticed, while Seraphina's ice magic freezes mechanisms in place, rendering them harmless.)\\n\\nSERAPHINA\\n(determined)\\nWe've come too far to turn back now. Let's find that artifact and put an end to this darkness once and for all.\\n\\nISABELLA\\n(agrees)\\nAgreed. We've faced countless trials together, and with our combined abilities, I believe we can overcome anything.\\n\\n(They press on, their determination driving them forward, their footsteps echoing through the underground tunnels.)\\n\\nFADE OUT.\",\n",
       "  'scene': \"Scene 6: Isabella, Orion, and Seraphina infiltrate an enemy stronghold, using Isabella's shadow manipulation to slip past guards unnoticed. They make their way towards the artifact, encountering various traps and puzzles along the way. Each character's unique abilities come into play, helping them overcome the obstacles.\"},\n",
       " {'character_script': \"INT. DARK CHAMBER - NIGHT\\n\\n(Isabella, Orion, and Seraphina stand face to face with the SORCERER, a menacing figure shrouded in darkness. The artifact gleams in the center of the room, casting an eerie glow.)\\n\\nISABELLA\\nWe won't let you claim the artifact, sorcerer! Your dark purposes end here!\\n\\nSorcerer smirks, raising his hands to summon a swirling vortex of shadows.\\n\\nSORCERER\\nFools! You cannot comprehend the power I possess!\\n\\n(Isabella steps forward, her eyes glowing with intensity. She raises her hands, manipulating the shadows around her.)\\n\\nISABELLA\\n(whispering)\\nNo, but I understand shadows far better than you ever will.\\n\\n(Isabella releases a wave of darkness, engulfing the sorcerer and blinding him. He stumbles backward, disoriented.)\\n\\nORION\\nNow, Seraphina!\\n\\n(Seraphina raises her staff, calling upon her icy powers. A blizzard forms around the sorcerer, freezing him in place.)\\n\\nSERAPHINA\\nHold on, just a little longer!\\n\\n(Orion aims his bow, his eyes locked on the immobile sorcerer. His arrow is infused with the spirits of Eldoria, guiding its path.)\\n\\nORION\\n(sotto voce)\\nFor Eldoria, for its light to prevail.\\n\\n(Orion releases the arrow, and it flies through the blizzard with pinpoint accuracy, striking the sorcerer's chest. The sorcerer cries out in pain.)\\n\\nSORCERER\\n(roaring)\\nYou dare defy me? I am unstoppable!\\n\\nISABELLA\\nYou underestimate the power of unity, sorcerer!\\n\\n(Seraphina concentrates, intensifying the blizzard. The sorcerer's movements become slower and weaker.)\\n\\nISABELLA\\nNow, while his power wanes!\\n\\n(The trio rushes forward, claiming victory. They seize the artifact, their hands glowing with the combined energy of their abilities.)\\n\\nORION\\nIt's done. The darkness has been vanquished.\\n\\nSERAPHINA\\nBut we must remain vigilant. Evil has a way of resurfacing.\\n\\nISABELLA\\nTogether, we will face any darkness that dares to threaten our realm.\\n\\n(The trio share a determined look, knowing that their journey is not yet over. They exit the chamber, victorious and ready to face whatever challenges lie ahead.)\\n\\nFADE OUT.\",\n",
       "  'scene': 'Scene 7: In a climactic battle, Isabella, Orion, and Seraphina face off against a powerful sorcerer who seeks to claim the artifact for his own dark purposes. Isabella uses her shadow manipulation to blind the sorcerer, while Orion fires arrows with pinpoint accuracy. Seraphina conjures a blizzard to freeze the sorcerer in place, allowing the trio to claim victory.'},\n",
       " {'character_script': \"EXT. DARK HEART OF ELDORIA - NIGHT\\n\\n(The trio stands before the embodiment of the encroaching darkness, a towering, malevolent figure that radiates pure malice. Isabella, Orion, and Seraphina brace themselves for battle.)\\n\\nISABELLA: (calm and determined) This is it, the final showdown. We must not falter now.\\n\\nORION: (stoic and focused) Agreed. Our combined strength shall overcome this darkness.\\n\\nSERAPHINA: (determined) Together, we can bring light back to Eldoria. Let's show this darkness what we're made of.\\n\\n(The trio raises their hands, their palms glowing with an intense energy.)\\n\\nISABELLA: Shadows, heed my call! Envelop us in your protective cloak!\\n\\n(Shadows rise from the ground, swirling around Isabella, Orion, and Seraphina, forming an impenetrable barrier.)\\n\\nORION: (drawing his bow) Spirits of Eldoria, guide my aim. Grant me the strength to strike true!\\n\\n(Orion releases an arrow, glowing with an ethereal light. It pierces through the darkness, causing it to waver momentarily.)\\n\\nSERAPHINA: Frost and ice, obey my command! Unleash your blizzard upon our foe!\\n\\n(Seraphina raises her hands, conjuring a furious blizzard that engulfs the darkness.)\\n\\n(Darkness roars in pain as it struggles against the combined forces of Isabella, Orion, and Seraphina.)\\n\\nISABELLA: Our powers are stronger together! Let's finish this!\\n\\nORION: (nocking another arrow) On your mark, Isabella.\\n\\nISABELLA: Now, Orion!\\n\\n(Orion releases another arrow, infused with the combined energies of Isabella, Orion, and Seraphina. It strikes the darkness, causing it to stagger backward.)\\n\\nSERAPHINA: (charging up her magic) It's weakening! We can do this!\\n\\n(The trio continues their assault, unrelenting in their determination. The darkness falters even more, its power waning.)\\n\\nISABELLA: (summoning her true power) I will end this!\\n\\n(Isabella steps forward, her entire body engulfed in shadows. She releases a devastating attack, overwhelming the darkness and shattering it into fragments of fading malevolence.)\\n\\n(The realm trembles, the encroaching darkness dissipates, and Eldoria is bathed in a warm, golden light.)\\n\\nISABELLA: (breathing heavily) It's over.\\n\\nORION: (surveying the transformed realm) Eldoria is saved.\\n\\nSERAPHINA: (smiling) We did it. Together.\\n\\n(As the trio takes a moment to catch their breath, they exchange glances, a silent acknowledgement of their incredible achievement.)\\n\\nFADE OUT.\",\n",
       "  'scene': 'Scene 8: As the trio reaches the dark heart of Eldoria, they confront the embodiment of the encroaching darkness itself. A grand battle ensues, with Isabella, Orion, and Seraphina using their combined powers to weaken the dark force. The realm trembles as their magic clashes.'},\n",
       " {'character_script': \"EXT. HEART OF ELDORIA - DAY\\n\\n(Isabella, Orion, and Seraphina stand before the towering embodiment of darkness. The air crackles with energy as they prepare for their final battle. Isabella summons shadows around them, Orion calls upon the spirits of Eldoria, and Seraphina conjures a blizzard.)\\n\\nISABELLA: (determined) This is it, my friends. We've come too far to let darkness prevail. Together, we'll bring light back to this realm.\\n\\nORION: (stoic) Our combined strength will be our salvation. Isabella, I trust in your shadows, Seraphina's blizzard, and my arrows guided by the spirits.\\n\\nSERAPHINA: (kind-hearted) And I trust in each of you. Our determination and unity will conquer this darkness.\\n\\n(Isabella, Orion, and Seraphina charge forward, attacking the dark force with relentless precision. Their powers intertwine, weakening the darkness.)\\n\\nISABELLA: (tapping into her true power) I won't hold back anymore. I'll give it everything I have.\\n\\nORION: Keep pushing! We're so close to victory!\\n\\nSERAPHINA: (conjuring more icy fury) We can do this! We won't let darkness win!\\n\\n(The trio intensifies their assault, pouring all their energy into the battle. The dark force trembles under their combined strength.)\\n\\nISABELLA: (determined, delivering a devastating final blow) This ends now!\\n\\n(ISABELLA taps into the depths of her power, channeling the shadows into a focused attack. The dark force shatters into fragments, the realm bathed in a warm, golden light.)\\n\\nORION: (in awe) We did it. We defeated the darkness.\\n\\nSERAPHINA: (breathing heavily) Eldoria is safe once again. Our unity has triumphed.\\n\\n(The trio takes a moment to catch their breath, appreciating their achievement.)\\n\\nISABELLA: We've made a difference. Darkness will never prevail as long as there are heroes like us.\\n\\nORION: (smiling) It was an honor fighting alongside both of you. Our destinies were woven together for a reason.\\n\\nSERAPHINA: (grateful) I'm proud to have fought with such brave companions. We've left our mark on Eldoria's history.\\n\\n(The scene fades out, leaving the realm bathed in the warm, golden light of victory.)\",\n",
       "  'scene': 'Scene 9: Isabella, Orion, and Seraphina pool their abilities, channeling their strength together against the dark force. Isabella sacrifices herself, unleashing a devastating attack that shatters the dark force into oblivion. The realm is bathed in light, signifying their triumph.'},\n",
       " {'character_script': \"EXT. SHADOWREALM - DAY\\n\\n(The heroes, Isabella, Orion, and Seraphina, stand before the entrance to the Shadowrealm. Isabella is adorned in her sorceress attire, exuding confidence and power. Orion holds his bow and arrow with a stoic expression, while Seraphina clutches her staff tightly, emanating determination.)\\n\\nISABELLA: (smiling) This is where our paths diverge, my dear friends.\\n\\nORION: (nodding) Indeed, Isabella. Our journey has come to an end, but the impact of our actions will resonate throughout the realm.\\n\\nSERAPHINA: (grateful) I will forever cherish the time we spent together. Your bravery and unity have inspired me.\\n\\nISABELLA: (placing a hand on Seraphina's shoulder) The fate of Eldoria is now in your capable hands, Seraphina. Frostfall needs its guardian.\\n\\nSERAPHINA: (firmly) I will not fail my homeland, Isabella. I will ensure its safety for generations to come.\\n\\nORION: (smiling) And I shall continue to protect Eldoria, guided by the spirits of the forest. The elves will forever remember your name, Isabella Nightshade.\\n\\nISABELLA: (humbled) Thank you, Orion. Your words mean more to me than you know.\\n\\n(They share a heartfelt moment, their eyes filled with gratitude and respect.)\\n\\nISABELLA: (earnestly) Remember, we are forever connected by our shared purpose. Our stories will be told through generations, igniting hope and unity in the hearts of all who hear them.\\n\\nORION: (raising his bow) Farewell, Isabella. May our paths cross again, should the need arise.\\n\\nSERAPHINA: (raising her staff) Farewell, Isabella. Your courage and strength will never be forgotten.\\n\\n(ISABELLA steps back, shrouded in shadow, as the entrance to the Shadowrealm begins to close.)\\n\\nISABELLA: (softly) Farewell, my friends. May your future be bright and filled with triumph.\\n\\n(The heroes watch as the entrance to the Shadowrealm seals shut, leaving them in the warm, golden light of victory.)\\n\\nORION: (whispering) Our journey may have ended, but our impact will endure.\\n\\nSERAPHINA: (determined) And Eldoria will thrive, thanks to our unity and unwavering resolve.\\n\\n(They stand together for a moment, basking in the glory of their achievement.)\\n\\nFADE OUT.\",\n",
       "  'scene': \"Scene 10: The heroes bid farewell, realizing the impact of their journey on their lives. Isabella returns to the Shadowrealm, hailed as a hero. Orion continues to protect Eldoria, revered among the elves. Seraphina returns to Frostfall as a guardian, ensuring its safety. Their stories become part of Eldoria's history, inspiring hope and unity for generations to come.\"}]"
      ]
     },
     "execution_count": 101,
     "metadata": {},
     "output_type": "execute_result"
    }
   ],
   "source": [
    "generated_scenes"
   ]
  },
  {
   "cell_type": "code",
   "execution_count": 141,
   "metadata": {},
   "outputs": [],
   "source": [
    "from langchain.text_splitter import CharacterTextSplitter\n",
    "from langchain.chains.summarize import load_summarize_chain\n",
    "import pandas as pd"
   ]
  },
  {
   "cell_type": "code",
   "execution_count": 142,
   "metadata": {},
   "outputs": [],
   "source": [
    "df = pd.DataFrame(generated_scenes)"
   ]
  },
  {
   "cell_type": "code",
   "execution_count": 143,
   "metadata": {},
   "outputs": [],
   "source": [
    "all_character_script_text = \"\\n\".join(df.character_script.tolist())\n",
    "\n",
    "text_splitter = CharacterTextSplitter.from_tiktoken_encoder(\n",
    "    chunk_size=1500, chunk_overlap=200\n",
    ")\n",
    "\n",
    "docs = text_splitter.create_documents([all_character_script_text])"
   ]
  },
  {
   "cell_type": "code",
   "execution_count": 140,
   "metadata": {},
   "outputs": [
    {
     "data": {
      "text/plain": [
       "'Isabella Nightshade, Seraphina Frostheart, and Orion Stormrider form an alliance to find an ancient artifact and save their realm from darkness. They utilize their unique abilities to overcome challenges, defeat enemies, and claim the artifact. In a final battle against darkness, they unite their powers and bring light back to their realm. They part ways but remain connected by their shared experiences.'"
      ]
     },
     "execution_count": 140,
     "metadata": {},
     "output_type": "execute_result"
    }
   ],
   "source": [
    "chain = load_summarize_chain(llm=chat, chain_type=\"map_reduce\")\n",
    "summary = chain.run(docs)\n",
    "print(summary)"
   ]
  }
 ],
 "metadata": {
  "kernelspec": {
   "display_name": "base",
   "language": "python",
   "name": "python3"
  },
  "language_info": {
   "codemirror_mode": {
    "name": "ipython",
    "version": 3
   },
   "file_extension": ".py",
   "mimetype": "text/x-python",
   "name": "python",
   "nbconvert_exporter": "python",
   "pygments_lexer": "ipython3",
   "version": "3.9.13"
  },
  "orig_nbformat": 4
 },
 "nbformat": 4,
 "nbformat_minor": 2
}

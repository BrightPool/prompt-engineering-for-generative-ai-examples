{
 "cells": [
  {
   "cell_type": "code",
   "execution_count": 3,
   "metadata": {},
   "outputs": [],
   "source": [
    "from langchain.agents import create_csv_agent\n",
    "from langchain.chat_models import ChatOpenAI\n",
    "from langchain.agents.agent_types import AgentType"
   ]
  },
  {
   "cell_type": "code",
   "execution_count": 4,
   "metadata": {},
   "outputs": [],
   "source": [
    "agent = create_csv_agent(\n",
    "    ChatOpenAI(temperature=0),\n",
    "    \"data/heart_disease_uci.csv\",\n",
    "    verbose=True,\n",
    "    agent_type=AgentType.ZERO_SHOT_REACT_DESCRIPTION,\n",
    ")"
   ]
  },
  {
   "cell_type": "code",
   "execution_count": 5,
   "metadata": {},
   "outputs": [
    {
     "name": "stdout",
     "output_type": "stream",
     "text": [
      "\n",
      "\n",
      "\u001b[1m> Entering new AgentExecutor chain...\u001b[0m\n",
      "\u001b[32;1m\u001b[1;3mThought: To find the number of rows in the dataframe, I can use the `shape` attribute of the dataframe.\n",
      "\n",
      "Action: python_repl_ast\n",
      "Action Input: df.shape[0]\u001b[0m\n",
      "Observation: \u001b[36;1m\u001b[1;3m920\u001b[0m\n",
      "Thought:\u001b[32;1m\u001b[1;3mThe dataframe has 920 rows of data.\n",
      "Final Answer: 920\u001b[0m\n",
      "\n",
      "\u001b[1m> Finished chain.\u001b[0m\n"
     ]
    },
    {
     "data": {
      "text/plain": [
       "'920'"
      ]
     },
     "execution_count": 5,
     "metadata": {},
     "output_type": "execute_result"
    }
   ],
   "source": [
    "agent.run(\"How many rows of data are in the file?\")"
   ]
  },
  {
   "cell_type": "code",
   "execution_count": 6,
   "metadata": {},
   "outputs": [
    {
     "name": "stdout",
     "output_type": "stream",
     "text": [
      "\n",
      "\n",
      "\u001b[1m> Entering new AgentExecutor chain...\u001b[0m\n",
      "\u001b[32;1m\u001b[1;3mThought: I can use the `columns` attribute of the dataframe to get the column names.\n",
      "Action: python_repl_ast\n",
      "Action Input: df.columns\u001b[0m\n",
      "Observation: \u001b[36;1m\u001b[1;3mIndex(['id', 'age', 'sex', 'dataset', 'cp', 'trestbps', 'chol', 'fbs',\n",
      "       'restecg', 'thalch', 'exang', 'oldpeak', 'slope', 'ca', 'thal', 'num'],\n",
      "      dtype='object')\u001b[0m\n",
      "Thought:\u001b[32;1m\u001b[1;3mThe columns within the dataset are 'id', 'age', 'sex', 'dataset', 'cp', 'trestbps', 'chol', 'fbs', 'restecg', 'thalch', 'exang', 'oldpeak', 'slope', 'ca', 'thal', and 'num'.\n",
      "Final Answer: 'id', 'age', 'sex', 'dataset', 'cp', 'trestbps', 'chol', 'fbs', 'restecg', 'thalch', 'exang', 'oldpeak', 'slope', 'ca', 'thal', 'num'\u001b[0m\n",
      "\n",
      "\u001b[1m> Finished chain.\u001b[0m\n"
     ]
    },
    {
     "data": {
      "text/plain": [
       "\"'id', 'age', 'sex', 'dataset', 'cp', 'trestbps', 'chol', 'fbs', 'restecg', 'thalch', 'exang', 'oldpeak', 'slope', 'ca', 'thal', 'num'\""
      ]
     },
     "execution_count": 6,
     "metadata": {},
     "output_type": "execute_result"
    }
   ],
   "source": [
    "agent.run(\"What are the columns within the dataset?\")"
   ]
  },
  {
   "cell_type": "code",
   "execution_count": 11,
   "metadata": {},
   "outputs": [
    {
     "name": "stdout",
     "output_type": "stream",
     "text": [
      "\n",
      "\n",
      "\u001b[1m> Entering new AgentExecutor chain...\u001b[0m\n",
      "\u001b[32;1m\u001b[1;3mThought: I need to use the `corr()` function in pandas to create a correlation matrix. Then I can save it to a file using the `to_csv()` function.\n",
      "\n",
      "Action: python_repl_ast\n",
      "Action Input: df.corr().to_csv('correlation_matrix.csv')\u001b[0m\n",
      "Observation: \u001b[36;1m\u001b[1;3mValueError: could not convert string to float: 'Male'\u001b[0m\n",
      "Thought:\u001b[32;1m\u001b[1;3mThe `corr()` function is trying to calculate the correlation between numerical columns, but it is encountering an error because the 'sex' column contains non-numeric values. I need to convert the 'sex' column to a numeric format before calculating the correlation matrix.\n",
      "\n",
      "Action: python_repl_ast\n",
      "Action Input: df['sex'] = df['sex'].map({'Male': 1, 'Female': 0})\u001b[0m\n",
      "Observation: \u001b[36;1m\u001b[1;3m\u001b[0m\n",
      "Thought:\u001b[32;1m\u001b[1;3mI have converted the 'sex' column to a numeric format. Now I can try creating the correlation matrix again.\n",
      "\n",
      "Action: python_repl_ast\n",
      "Action Input: df.corr().to_csv('correlation_matrix.csv')\u001b[0m\n",
      "Observation: \u001b[36;1m\u001b[1;3mValueError: could not convert string to float: 'Cleveland'\u001b[0m\n",
      "Thought:\u001b[32;1m\u001b[1;3mThe `corr()` function is still encountering an error because there are other non-numeric columns in the dataframe. I need to convert all non-numeric columns to a numeric format before calculating the correlation matrix.\n",
      "\n",
      "Action: python_repl_ast\n",
      "Action Input: df = pd.get_dummies(df)\u001b[0m\n",
      "Observation: \u001b[36;1m\u001b[1;3mNameError: name 'pd' is not defined\u001b[0m\n",
      "Thought:\u001b[32;1m\u001b[1;3mI forgot to import the pandas library. I need to import it before using the `pd.get_dummies()` function.\n",
      "\n",
      "Action: python_repl_ast\n",
      "Action Input: import pandas as pd\u001b[0m\n",
      "Observation: \u001b[36;1m\u001b[1;3m\u001b[0m\n",
      "Thought:\u001b[32;1m\u001b[1;3mI have imported the pandas library. Now I can try converting the non-numeric columns to a numeric format and creating the correlation matrix again.\n",
      "\n",
      "Action: python_repl_ast\n",
      "Action Input: df = pd.get_dummies(df)\u001b[0m\n",
      "Observation: \u001b[36;1m\u001b[1;3m\u001b[0m\n",
      "Thought:\u001b[32;1m\u001b[1;3mI have converted all non-numeric columns to a numeric format. Now I can try creating the correlation matrix again.\n",
      "\n",
      "Action: python_repl_ast\n",
      "Action Input: df.corr().to_csv('correlation_matrix.csv')\u001b[0m\n",
      "Observation: \u001b[36;1m\u001b[1;3m\u001b[0m\n",
      "Thought:\u001b[32;1m\u001b[1;3mI have successfully created the correlation matrix and saved it to a file named 'correlation_matrix.csv'.\n",
      "\n",
      "Final Answer: The correlation matrix has been saved to a file named 'correlation_matrix.csv'.\u001b[0m\n",
      "\n",
      "\u001b[1m> Finished chain.\u001b[0m\n"
     ]
    },
    {
     "data": {
      "text/plain": [
       "\"The correlation matrix has been saved to a file named 'correlation_matrix.csv'.\""
      ]
     },
     "execution_count": 11,
     "metadata": {},
     "output_type": "execute_result"
    }
   ],
   "source": [
    "agent.run(\"Create a correlation matrix for the data and save it to a file.\")"
   ]
  }
 ],
 "metadata": {
  "kernelspec": {
   "display_name": "base",
   "language": "python",
   "name": "python3"
  },
  "language_info": {
   "codemirror_mode": {
    "name": "ipython",
    "version": 3
   },
   "file_extension": ".py",
   "mimetype": "text/x-python",
   "name": "python",
   "nbconvert_exporter": "python",
   "pygments_lexer": "ipython3",
   "version": "3.9.13"
  },
  "orig_nbformat": 4
 },
 "nbformat": 4,
 "nbformat_minor": 2
}

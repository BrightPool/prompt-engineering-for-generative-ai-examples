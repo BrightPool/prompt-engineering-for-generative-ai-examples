{
 "cells": [
  {
   "attachments": {},
   "cell_type": "markdown",
   "metadata": {},
   "source": [
    "# Simple Retrievers\n"
   ]
  },
  {
   "cell_type": "code",
   "execution_count": 13,
   "metadata": {},
   "outputs": [],
   "source": [
    "from langchain.chains import RetrievalQA\n",
    "from langchain.chat_models import ChatOpenAI\n",
    "from langchain.document_loaders import TextLoader\n",
    "from langchain.indexes import VectorstoreIndexCreator"
   ]
  },
  {
   "cell_type": "code",
   "execution_count": 14,
   "metadata": {},
   "outputs": [
    {
     "name": "stdout",
     "output_type": "stream",
     "text": [
      "Requirement already satisfied: chromadb in /Users/jamesaphoenix/opt/anaconda3/lib/python3.9/site-packages (0.3.26)\n",
      "Requirement already satisfied: typing-extensions>=4.5.0 in /Users/jamesaphoenix/opt/anaconda3/lib/python3.9/site-packages (from chromadb) (4.5.0)\n",
      "Requirement already satisfied: requests>=2.28 in /Users/jamesaphoenix/opt/anaconda3/lib/python3.9/site-packages (from chromadb) (2.28.1)\n",
      "Requirement already satisfied: numpy>=1.21.6 in /Users/jamesaphoenix/opt/anaconda3/lib/python3.9/site-packages (from chromadb) (1.24.4)\n",
      "Requirement already satisfied: pulsar-client>=3.1.0 in /Users/jamesaphoenix/opt/anaconda3/lib/python3.9/site-packages (from chromadb) (3.2.0)\n",
      "Requirement already satisfied: uvicorn[standard]>=0.18.3 in /Users/jamesaphoenix/opt/anaconda3/lib/python3.9/site-packages (from chromadb) (0.21.1)\n",
      "Requirement already satisfied: hnswlib>=0.7 in /Users/jamesaphoenix/opt/anaconda3/lib/python3.9/site-packages (from chromadb) (0.7.0)\n",
      "Requirement already satisfied: clickhouse-connect>=0.5.7 in /Users/jamesaphoenix/opt/anaconda3/lib/python3.9/site-packages (from chromadb) (0.6.4)\n",
      "Requirement already satisfied: posthog>=2.4.0 in /Users/jamesaphoenix/opt/anaconda3/lib/python3.9/site-packages (from chromadb) (3.0.1)\n",
      "Requirement already satisfied: tqdm>=4.65.0 in /Users/jamesaphoenix/opt/anaconda3/lib/python3.9/site-packages (from chromadb) (4.65.0)\n",
      "Requirement already satisfied: fastapi>=0.85.1 in /Users/jamesaphoenix/opt/anaconda3/lib/python3.9/site-packages (from chromadb) (0.94.0)\n",
      "Requirement already satisfied: duckdb>=0.7.1 in /Users/jamesaphoenix/opt/anaconda3/lib/python3.9/site-packages (from chromadb) (0.8.1)\n",
      "Requirement already satisfied: overrides>=7.3.1 in /Users/jamesaphoenix/opt/anaconda3/lib/python3.9/site-packages (from chromadb) (7.3.1)\n",
      "Requirement already satisfied: onnxruntime>=1.14.1 in /Users/jamesaphoenix/opt/anaconda3/lib/python3.9/site-packages (from chromadb) (1.15.1)\n",
      "Requirement already satisfied: tokenizers>=0.13.2 in /Users/jamesaphoenix/opt/anaconda3/lib/python3.9/site-packages (from chromadb) (0.13.3)\n",
      "Requirement already satisfied: pydantic>=1.9 in /Users/jamesaphoenix/opt/anaconda3/lib/python3.9/site-packages (from chromadb) (1.10.9)\n",
      "Requirement already satisfied: pandas>=1.3 in /Users/jamesaphoenix/opt/anaconda3/lib/python3.9/site-packages (from chromadb) (2.0.3)\n",
      "Requirement already satisfied: certifi in /Users/jamesaphoenix/opt/anaconda3/lib/python3.9/site-packages (from clickhouse-connect>=0.5.7->chromadb) (2022.9.24)\n",
      "Requirement already satisfied: urllib3>=1.26 in /Users/jamesaphoenix/opt/anaconda3/lib/python3.9/site-packages (from clickhouse-connect>=0.5.7->chromadb) (1.26.11)\n",
      "Requirement already satisfied: zstandard in /Users/jamesaphoenix/opt/anaconda3/lib/python3.9/site-packages (from clickhouse-connect>=0.5.7->chromadb) (0.21.0)\n",
      "Requirement already satisfied: pytz in /Users/jamesaphoenix/opt/anaconda3/lib/python3.9/site-packages (from clickhouse-connect>=0.5.7->chromadb) (2022.1)\n",
      "Requirement already satisfied: lz4 in /Users/jamesaphoenix/opt/anaconda3/lib/python3.9/site-packages (from clickhouse-connect>=0.5.7->chromadb) (3.1.3)\n",
      "Requirement already satisfied: starlette<0.27.0,>=0.26.0 in /Users/jamesaphoenix/opt/anaconda3/lib/python3.9/site-packages (from fastapi>=0.85.1->chromadb) (0.26.0.post1)\n",
      "Requirement already satisfied: flatbuffers in /Users/jamesaphoenix/opt/anaconda3/lib/python3.9/site-packages (from onnxruntime>=1.14.1->chromadb) (23.5.26)\n",
      "Requirement already satisfied: packaging in /Users/jamesaphoenix/opt/anaconda3/lib/python3.9/site-packages (from onnxruntime>=1.14.1->chromadb) (21.3)\n",
      "Requirement already satisfied: protobuf in /Users/jamesaphoenix/opt/anaconda3/lib/python3.9/site-packages (from onnxruntime>=1.14.1->chromadb) (4.22.0)\n",
      "Requirement already satisfied: coloredlogs in /Users/jamesaphoenix/opt/anaconda3/lib/python3.9/site-packages (from onnxruntime>=1.14.1->chromadb) (15.0.1)\n",
      "Requirement already satisfied: sympy in /Users/jamesaphoenix/opt/anaconda3/lib/python3.9/site-packages (from onnxruntime>=1.14.1->chromadb) (1.10.1)\n",
      "Requirement already satisfied: python-dateutil>=2.8.2 in /Users/jamesaphoenix/opt/anaconda3/lib/python3.9/site-packages (from pandas>=1.3->chromadb) (2.8.2)\n",
      "Requirement already satisfied: tzdata>=2022.1 in /Users/jamesaphoenix/opt/anaconda3/lib/python3.9/site-packages (from pandas>=1.3->chromadb) (2023.3)\n",
      "Requirement already satisfied: backoff>=1.10.0 in /Users/jamesaphoenix/opt/anaconda3/lib/python3.9/site-packages (from posthog>=2.4.0->chromadb) (2.2.1)\n",
      "Requirement already satisfied: monotonic>=1.5 in /Users/jamesaphoenix/opt/anaconda3/lib/python3.9/site-packages (from posthog>=2.4.0->chromadb) (1.6)\n",
      "Requirement already satisfied: six>=1.5 in /Users/jamesaphoenix/opt/anaconda3/lib/python3.9/site-packages (from posthog>=2.4.0->chromadb) (1.16.0)\n",
      "Requirement already satisfied: idna<4,>=2.5 in /Users/jamesaphoenix/opt/anaconda3/lib/python3.9/site-packages (from requests>=2.28->chromadb) (3.3)\n",
      "Requirement already satisfied: charset-normalizer<3,>=2 in /Users/jamesaphoenix/opt/anaconda3/lib/python3.9/site-packages (from requests>=2.28->chromadb) (2.0.4)\n",
      "Requirement already satisfied: click>=7.0 in /Users/jamesaphoenix/opt/anaconda3/lib/python3.9/site-packages (from uvicorn[standard]>=0.18.3->chromadb) (8.0.4)\n",
      "Requirement already satisfied: h11>=0.8 in /Users/jamesaphoenix/opt/anaconda3/lib/python3.9/site-packages (from uvicorn[standard]>=0.18.3->chromadb) (0.14.0)\n",
      "Requirement already satisfied: pyyaml>=5.1 in /Users/jamesaphoenix/opt/anaconda3/lib/python3.9/site-packages (from uvicorn[standard]>=0.18.3->chromadb) (6.0)\n",
      "Requirement already satisfied: watchfiles>=0.13 in /Users/jamesaphoenix/opt/anaconda3/lib/python3.9/site-packages (from uvicorn[standard]>=0.18.3->chromadb) (0.19.0)\n",
      "Requirement already satisfied: websockets>=10.4 in /Users/jamesaphoenix/opt/anaconda3/lib/python3.9/site-packages (from uvicorn[standard]>=0.18.3->chromadb) (10.4)\n",
      "Requirement already satisfied: python-dotenv>=0.13 in /Users/jamesaphoenix/opt/anaconda3/lib/python3.9/site-packages (from uvicorn[standard]>=0.18.3->chromadb) (1.0.0)\n",
      "Requirement already satisfied: httptools>=0.5.0 in /Users/jamesaphoenix/opt/anaconda3/lib/python3.9/site-packages (from uvicorn[standard]>=0.18.3->chromadb) (0.5.0)\n",
      "Requirement already satisfied: uvloop!=0.15.0,!=0.15.1,>=0.14.0 in /Users/jamesaphoenix/opt/anaconda3/lib/python3.9/site-packages (from uvicorn[standard]>=0.18.3->chromadb) (0.17.0)\n",
      "Requirement already satisfied: anyio<5,>=3.4.0 in /Users/jamesaphoenix/opt/anaconda3/lib/python3.9/site-packages (from starlette<0.27.0,>=0.26.0->fastapi>=0.85.1->chromadb) (3.5.0)\n",
      "Requirement already satisfied: humanfriendly>=9.1 in /Users/jamesaphoenix/opt/anaconda3/lib/python3.9/site-packages (from coloredlogs->onnxruntime>=1.14.1->chromadb) (10.0)\n",
      "Requirement already satisfied: pyparsing!=3.0.5,>=2.0.2 in /Users/jamesaphoenix/opt/anaconda3/lib/python3.9/site-packages (from packaging->onnxruntime>=1.14.1->chromadb) (3.0.9)\n",
      "Requirement already satisfied: mpmath>=0.19 in /Users/jamesaphoenix/opt/anaconda3/lib/python3.9/site-packages (from sympy->onnxruntime>=1.14.1->chromadb) (1.2.1)\n",
      "Requirement already satisfied: sniffio>=1.1 in /Users/jamesaphoenix/opt/anaconda3/lib/python3.9/site-packages (from anyio<5,>=3.4.0->starlette<0.27.0,>=0.26.0->fastapi>=0.85.1->chromadb) (1.2.0)\n",
      "Note: you may need to restart the kernel to use updated packages.\n"
     ]
    }
   ],
   "source": [
    "%pip install chromadb"
   ]
  },
  {
   "cell_type": "code",
   "execution_count": 18,
   "metadata": {},
   "outputs": [],
   "source": [
    "loader = TextLoader(\"./data/marketing-text.txt\", encoding=\"utf8\")"
   ]
  },
  {
   "cell_type": "code",
   "execution_count": 16,
   "metadata": {},
   "outputs": [],
   "source": [
    "index = VectorstoreIndexCreator().from_loaders([loader])"
   ]
  },
  {
   "cell_type": "code",
   "execution_count": 17,
   "metadata": {},
   "outputs": [
    {
     "data": {
      "text/plain": [
       "' The document was written on Tuesday, 22 December 2020.'"
      ]
     },
     "execution_count": 17,
     "metadata": {},
     "output_type": "execute_result"
    }
   ],
   "source": [
    "query = \"What date was the document written in?\"\n",
    "index.query(query)"
   ]
  },
  {
   "cell_type": "code",
   "execution_count": 47,
   "metadata": {},
   "outputs": [
    {
     "data": {
      "text/plain": [
       "'The date of the document is Tuesday, December 22, 2020.'"
      ]
     },
     "execution_count": 47,
     "metadata": {},
     "output_type": "execute_result"
    }
   ],
   "source": [
    "retriever = index.vectorstore.as_retriever()\n",
    "retriever.search_kwargs = {\"filter\": {\"source\": \"./data/marketing-text.txt\"}}\n",
    "qa = RetrievalQA.from_chain_type(\n",
    "    llm=ChatOpenAI(), chain_type=\"stuff\", retriever=retriever\n",
    ")\n",
    "qa.run(\"What is the date of the document?\")"
   ]
  },
  {
   "cell_type": "code",
   "execution_count": 46,
   "metadata": {},
   "outputs": [
    {
     "data": {
      "text/plain": [
       "\"I'm sorry, but I don't have access to the document you are referring to. Therefore, I cannot provide you with the date.\""
      ]
     },
     "execution_count": 46,
     "metadata": {},
     "output_type": "execute_result"
    }
   ],
   "source": [
    "retriever.search_kwargs = {\n",
    "    \"filter\": {\"source\": \"./some-random-document-that-does-not-exist.txt\"}\n",
    "}\n",
    "qa.run(\"What is the date of the document?\")"
   ]
  }
 ],
 "metadata": {
  "kernelspec": {
   "display_name": "base",
   "language": "python",
   "name": "python3"
  },
  "language_info": {
   "codemirror_mode": {
    "name": "ipython",
    "version": 3
   },
   "file_extension": ".py",
   "mimetype": "text/x-python",
   "name": "python",
   "nbconvert_exporter": "python",
   "pygments_lexer": "ipython3",
   "version": "3.9.13"
  },
  "orig_nbformat": 4
 },
 "nbformat": 4,
 "nbformat_minor": 2
}

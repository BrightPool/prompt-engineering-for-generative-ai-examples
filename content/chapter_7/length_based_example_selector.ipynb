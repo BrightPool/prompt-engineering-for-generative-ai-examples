{
 "cells": [
  {
   "cell_type": "code",
   "execution_count": 1,
   "metadata": {},
   "outputs": [],
   "source": [
    "from langchain.prompts import PromptTemplate\n",
    "from langchain.prompts import FewShotPromptTemplate\n",
    "from langchain.prompts.example_selector import LengthBasedExampleSelector"
   ]
  },
  {
   "cell_type": "code",
   "execution_count": 2,
   "metadata": {},
   "outputs": [],
   "source": [
    "examples = [\n",
    "    {\"input\": \"Frodo, Sam\", \"output\": \"<Story involving Frodo>\"},\n",
    "    {\"input\": \"Gandalf\", \"output\": \"<Story involving Gandalf>\"},\n",
    "    {\"input\": \"Bilbo\", \"output\": \"<Story involving Bilbo>\"},\n",
    "]"
   ]
  },
  {
   "cell_type": "code",
   "execution_count": 3,
   "metadata": {},
   "outputs": [],
   "source": [
    "story_prompt = PromptTemplate(\n",
    "    input_variables=[\"input\", \"output\"],\n",
    "    template=\"Character: {input}\\nStory: {output}\",\n",
    ")"
   ]
  },
  {
   "cell_type": "code",
   "execution_count": 4,
   "metadata": {},
   "outputs": [],
   "source": [
    "example_selector = LengthBasedExampleSelector(\n",
    "    examples=examples,\n",
    "    example_prompt=story_prompt,\n",
    "    max_length=40,\n",
    "    # Modify the get_text_length function here if you want to customise the maximum_length calculation.\n",
    ")"
   ]
  },
  {
   "cell_type": "code",
   "execution_count": 5,
   "metadata": {},
   "outputs": [],
   "source": [
    "dynamic_prompt = FewShotPromptTemplate(\n",
    "    example_selector=example_selector,\n",
    "    example_prompt=story_prompt,\n",
    "    prefix=\"Generate a story involving this character using the current Character/Story pairs from all of the characters.\",\n",
    "    suffix=\"Character: {character}\\nStory:\",\n",
    "    input_variables=[\"character\"],\n",
    ")"
   ]
  },
  {
   "cell_type": "code",
   "execution_count": 33,
   "metadata": {},
   "outputs": [
    {
     "name": "stdout",
     "output_type": "stream",
     "text": [
      "Generate a story involving this character using the current Character/Story pairs from all of the characters.\n",
      "\n",
      "Character: Frodo, Sam\n",
      "Story: <Story involving Frodo>\n",
      "\n",
      "Character: Gandalf\n",
      "Story: <Story involving Gandalf>\n",
      "\n",
      "Character: Bilbo\n",
      "Story: <Story involving Bilbo>\n",
      "\n",
      "Character: Gollum\n",
      "Story:\n"
     ]
    }
   ],
   "source": [
    "# Provide a new character from lord of the rings\n",
    "print(dynamic_prompt.format(character=\"Gollum\"))"
   ]
  },
  {
   "cell_type": "code",
   "execution_count": null,
   "metadata": {},
   "outputs": [],
   "source": []
  }
 ],
 "metadata": {
  "kernelspec": {
   "display_name": "base",
   "language": "python",
   "name": "python3"
  },
  "language_info": {
   "codemirror_mode": {
    "name": "ipython",
    "version": 3
   },
   "file_extension": ".py",
   "mimetype": "text/x-python",
   "name": "python",
   "nbconvert_exporter": "python",
   "pygments_lexer": "ipython3",
   "version": "3.9.13"
  },
  "orig_nbformat": 4
 },
 "nbformat": 4,
 "nbformat_minor": 2
}

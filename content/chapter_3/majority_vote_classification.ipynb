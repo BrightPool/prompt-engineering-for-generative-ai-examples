{
 "cells": [
  {
   "cell_type": "code",
   "execution_count": 1,
   "metadata": {},
   "outputs": [
    {
     "name": "stdout",
     "output_type": "stream",
     "text": [
      "Neutral\n"
     ]
    }
   ],
   "source": [
    "import openai\n",
    "\n",
    "# Initialize the OpenAI object with API key\n",
    "openai.api_key = \"YOUR_API_KEY\"\n",
    "\n",
    "base_template = \"\"\"\n",
    "Given the statement, classify it as either \"Compliment\", \"Complaint\", or \"Neutral\":\n",
    "1. \"The sun is shining.\" - Neutral\n",
    "2. \"Your support team is fantastic!\" - Compliment\n",
    "3. \"I had a terrible experience with your software.\" - Complaint\n",
    "\n",
    "You must follow the following principles:\n",
    "- Only return the single classification word. The response should be either \"Compliment\", \"Complaint\" or \"Neutral\".\n",
    "- Perform the classification on the text enclosed within ''' delimiters.\n",
    "\n",
    "'''{content}'''\n",
    "\n",
    "Classification:\n",
    "\"\"\"\n",
    "\n",
    "responses = []\n",
    "\n",
    "for i in range(0, 3):\n",
    "    response = openai.Completion.create(\n",
    "      engine=\"text-davinci-003\",\n",
    "      prompt=base_template.format(content=\"Outside is rainy, but I am having a great day, I just don't understand how people live, I'm so sad!\")\n",
    "    )\n",
    "    responses.append(response.choices[0].text.strip())\n",
    "\n",
    "def most_frequent_classification(responses):\n",
    "    # Use a dictionary to count occurrences of each classification\n",
    "    count_dict = {}\n",
    "    for classification in responses:\n",
    "        count_dict[classification] = count_dict.get(classification, 0) + 1\n",
    "\n",
    "    # Return the classification with the maximum count\n",
    "    return max(count_dict, key=count_dict.get)\n",
    "\n",
    "print(most_frequent_classification(responses))  # Expected Output: Neutral"
   ]
  }
 ],
 "metadata": {
  "kernelspec": {
   "display_name": "base",
   "language": "python",
   "name": "python3"
  },
  "language_info": {
   "codemirror_mode": {
    "name": "ipython",
    "version": 3
   },
   "file_extension": ".py",
   "mimetype": "text/x-python",
   "name": "python",
   "nbconvert_exporter": "python",
   "pygments_lexer": "ipython3",
   "version": "3.9.13"
  },
  "orig_nbformat": 4
 },
 "nbformat": 4,
 "nbformat_minor": 2
}

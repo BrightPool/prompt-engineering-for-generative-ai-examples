{
 "cells": [
  {
   "cell_type": "code",
   "execution_count": 1,
   "metadata": {},
   "outputs": [],
   "source": [
    "from langchain.chat_models.openai import ChatOpenAI\n",
    "from langchain.output_parsers import PydanticOutputParser\n",
    "from langchain.text_splitter import RecursiveCharacterTextSplitter\n",
    "import os"
   ]
  },
  {
   "cell_type": "code",
   "execution_count": 2,
   "metadata": {},
   "outputs": [],
   "source": [
    "# Custom imports:\n",
    "from content_collection import collect_serp_data_and_extract_text_from_webpages\n",
    "from custom_summarize_chain import create_all_summaries, DocumentSummary\n",
    "from expert_interview_agent import AgentSetup"
   ]
  },
  {
   "attachments": {},
   "cell_type": "markdown",
   "metadata": {},
   "source": [
    "## Topic Research:"
   ]
  },
  {
   "cell_type": "code",
   "execution_count": 5,
   "metadata": {},
   "outputs": [
    {
     "name": "stdout",
     "output_type": "stream",
     "text": [
      "Note: you may need to restart the kernel to use updated packages.\n"
     ]
    }
   ],
   "source": [
    "%pip install google-search-results pandas html2text pytest-playwright chromadb nest_asyncio --quiet"
   ]
  },
  {
   "cell_type": "code",
   "execution_count": 6,
   "metadata": {},
   "outputs": [],
   "source": [
    "!playwright install"
   ]
  },
  {
   "cell_type": "code",
   "execution_count": 7,
   "metadata": {},
   "outputs": [],
   "source": [
    "import nest_asyncio\n",
    "nest_asyncio.apply()"
   ]
  },
  {
   "cell_type": "code",
   "execution_count": 9,
   "metadata": {},
   "outputs": [],
   "source": [
    "# Constant variables:\n",
    "TOPIC = \"Neural networks\"\n",
    "os.environ[\"SERPAPI_API_KEY\"] = \"\""
   ]
  },
  {
   "cell_type": "code",
   "execution_count": 10,
   "metadata": {},
   "outputs": [],
   "source": [
    "# Extract content from webpages into LangChain documents:\n",
    "text_documents = collect_serp_data_and_extract_text_from_webpages(topic=TOPIC)"
   ]
  },
  {
   "cell_type": "code",
   "execution_count": 11,
   "metadata": {},
   "outputs": [],
   "source": [
    "# LLM, text splitter + parser:\n",
    "llm = ChatOpenAI(temperature=0)\n",
    "text_splitter = RecursiveCharacterTextSplitter.from_tiktoken_encoder(\n",
    "    chunk_size=1500, chunk_overlap=400\n",
    ")\n",
    "parser = PydanticOutputParser(pydantic_object=DocumentSummary)"
   ]
  },
  {
   "cell_type": "code",
   "execution_count": 12,
   "metadata": {},
   "outputs": [
    {
     "name": "stdout",
     "output_type": "stream",
     "text": [
      "Summarizing the data!\n",
      "Summarizing the data!\n",
      "Summarizing the data!\n"
     ]
    }
   ],
   "source": [
    "summaries = await create_all_summaries(text_documents, parser, llm, text_splitter)"
   ]
  },
  {
   "cell_type": "markdown",
   "metadata": {},
   "source": [
    "---\n",
    "\n",
    "## Expert Interview Questions:\n"
   ]
  },
  {
   "cell_type": "code",
   "execution_count": 13,
   "metadata": {},
   "outputs": [
    {
     "name": "stdout",
     "output_type": "stream",
     "text": [
      "\n",
      "\n",
      "\u001b[1m> Entering new AgentExecutor chain...\u001b[0m\n",
      "\u001b[32;1m\u001b[1;3mHello James, I'm OpenAI's language model. I don't have a personal name as I'm an artificial intelligence. How can I assist you today?\u001b[0m\n",
      "\n",
      "\u001b[1m> Finished chain.\u001b[0m\n"
     ]
    }
   ],
   "source": [
    "agent = AgentSetup(topic=TOPIC)\n",
    "result = agent.run(f\"My name is James, what is your name?\")"
   ]
  },
  {
   "cell_type": "code",
   "execution_count": 14,
   "metadata": {},
   "outputs": [
    {
     "name": "stdout",
     "output_type": "stream",
     "text": [
      "\n",
      "\n",
      "\u001b[1m> Entering new AgentExecutor chain...\u001b[0m\n",
      "\u001b[32;1m\u001b[1;3mYour name is James.\u001b[0m\n",
      "\n",
      "\u001b[1m> Finished chain.\u001b[0m\n"
     ]
    },
    {
     "data": {
      "text/plain": [
       "'Your name is James.'"
      ]
     },
     "execution_count": 14,
     "metadata": {},
     "output_type": "execute_result"
    }
   ],
   "source": [
    "agent.run(f\"What is my name?\")"
   ]
  },
  {
   "cell_type": "code",
   "execution_count": 15,
   "metadata": {},
   "outputs": [
    {
     "data": {
      "text/plain": [
       "[HumanMessage(content='My name is James, what is your name?', additional_kwargs={}, example=False),\n",
       " AIMessage(content=\"Hello James, I'm OpenAI's language model. I don't have a personal name as I'm an artificial intelligence. How can I assist you today?\", additional_kwargs={}, example=False),\n",
       " HumanMessage(content='What is my name?', additional_kwargs={}, example=False),\n",
       " AIMessage(content='Your name is James.', additional_kwargs={}, example=False)]"
      ]
     },
     "execution_count": 15,
     "metadata": {},
     "output_type": "execute_result"
    }
   ],
   "source": [
    "agent.agent_executor.memory.buffer"
   ]
  },
  {
   "cell_type": "code",
   "execution_count": 16,
   "metadata": {},
   "outputs": [
    {
     "name": "stdout",
     "output_type": "stream",
     "text": [
      "\n",
      "\n",
      "\u001b[1m> Entering new AgentExecutor chain...\u001b[0m\n",
      "\u001b[32;1m\u001b[1;3m\n",
      "Invoking: `generate_interview_questions` with `{'document_summaries': \"[{'concise_summary': 'A neural network can refer to either a neural circuit of biological neurons or a network of artificial neurons. Artificial neural networks are used for solving artificial intelligence problems. They model connections of biological neurons as weights between nodes. These networks can be used for predictive modeling, adaptive control, and self-learning.', 'writing_style': 'The text is informative and provides an overview of neural networks, their applications, and their history.', 'key_points': ['A neural network can refer to a neural circuit of biological neurons or a network of artificial neurons.', 'Artificial neural networks are used for solving artificial intelligence problems.', 'Artificial neural networks model connections of biological neurons as weights between nodes.', 'Positive weights reflect excitatory connections, while negative values mean inhibitory connections.', 'Artificial neural networks can be used for predictive modeling, adaptive control, and self-learning.', 'The preliminary theoretical base for contemporary neural networks was proposed by Alexander Bain and William James.', 'Neural network research was boosted when computers achieved greater processing power.', 'The backpropagation algorithm, introduced by Frank Rosenblatt, has been key in advancing neural network research.', 'The Ising model and connectionism have also contributed to the development of neural networks.', 'Artificial neural networks are used for function approximation, classification, and data processing.', 'They have applications in various fields such as system identification, control, pattern recognition, and data mining.', 'Theoretical and computational neuroscience aims to create models of biological neural systems to understand how they work.', 'Different types of models are used, ranging from individual neuron behavior to complete subsystems.', 'Bi-directional connections in neural networks can improve communication and support successful propagation of signals.', 'There is ongoing debate about the extent to which artificial neural networks mirror brain function.', 'Recent research has focused on the role of neuromodulators in behaviour and learning, as well as the computational algorithms used in the brain.', 'Recent emphasis on the explainability of AI has contributed towards the development of methods for visualizing and explaining learned neural networks.', 'Researchers are uncovering generic principles that allow a learning machine to be successful.', 'Hybrid models combining neural networks and symbolic approaches have been advocated by some researchers.', 'The role of neuromodulators such as dopamine, acetylcholine, and serotonin on behavior and learning has been explored.', 'Biophysical models and computational algorithms used in the brain are areas of ongoing research.', 'Computational devices for biophysical simulation and neuromorphic computing have been created.', 'Recurrent neural networks and deep feedforward neural networks have achieved success in pattern recognition and machine learning competitions.', 'Analytical and computational techniques derived from statistical physics of disordered systems can be applied to analyze the weight space of deep neural networks.'], 'expert_opinions': [], 'metadata': {'source': 'https://en.wikipedia.org/wiki/Neural_network'}}, {'concise_summary': 'Deep learning is a technique in artificial intelligence that has gained popularity in the past 10 years. It is a new name for neural networks, which have been around for over 70 years. Neural networks were first proposed in 1944 and have gone through periods of popularity and decline. They have recently experienced a resurgence due to increased processing power. Neural nets are a means of doing machine learning, where a computer learns to perform a task by analyzing training examples. They are modeled loosely on the human brain and consist of interconnected processing nodes. Most neural nets are organized into layers and data moves through them in one direction.', 'writing_style': 'Informative', 'key_points': ['Deep learning is a popular technique in artificial intelligence', 'Neural networks have been around for over 70 years', 'Neural nets are a means of doing machine learning', 'Neural nets are modeled loosely on the human brain', 'Most neural nets are organized into layers', 'Neural nets consist of thousands or even millions of interconnected processing nodes', 'Neural nets are feed-forward, meaning data moves through them in one direction', 'During training, the weights and thresholds of neural nets are adjusted until consistent outputs are achieved', 'Neural nets were initially proposed to suggest that the human brain could be thought of as a computing device', 'Neural nets continue to be a valuable tool for neuroscientific research', 'The first trainable neural network, the Perceptron, was demonstrated in 1957', 'In the 1980s, algorithms were developed to efficiently modify neural nets' weights and thresholds', 'Neural networks were supplanted by support vector machines in the 1980s', 'The recent resurgence in neural networks is due to the architecture of graphics processing units (GPUs)', 'Deep learning refers to the depth of the network's layers', 'Deep learning is responsible for the best-performing systems in almost every area of artificial-intelligence research', 'The recent resurgence in neural networks is attributed to the architecture of graphics processing units (GPUs)', 'Modern GPUs enabled the development of deep neural networks with multiple layers', 'Researchers are making progress in understanding the computations and theoretical aspects of neural networks'], 'expert_opinions': [], 'metadata': {'source': 'https://news.mit.edu/2017/explained-neural-networks-deep-learning-0414'}}, {'concise_summary': 'Neural networks are a subset of machine learning and are at the heart of deep learning algorithms. They mimic the way biological neurons signal to one another. Neural networks rely on training data to improve their accuracy over time and are powerful tools in computer science and artificial intelligence. They can classify and cluster data quickly, with applications in speech and image recognition. Google's search algorithm is a well-known neural network.', 'writing_style': 'The text provides a clear explanation of neural networks and their components, using examples and equations to illustrate the concepts.', 'key_points': ['Neural networks emulate the human brain and combine computer science and statistics to solve problems in AI.', 'Artificial neural networks consist of node layers, including an input layer, hidden layers, and an output layer.', 'Nodes in a neural network have weights and thresholds, and if the output exceeds the threshold, the node is activated.', 'Neural networks rely on training data to improve accuracy and can classify and cluster data quickly.', 'Google's search algorithm is a well-known neural network.', 'Neural networks leverage sigmoid neurons, which have values between 0 and 1, and use backpropagation to adjust and fit the parameters of the model.', 'Different types of neural networks include feedforward neural networks, convolutional neural networks, and recurrent neural networks.', 'Deep learning refers to neural networks with more than three layers, while basic neural networks have two or three layers.', 'The history of neural networks dates back to the 1940s and includes key milestones such as the development of the perceptron and the discovery of backpropagation.'], 'expert_opinions': [], 'metadata': {'source': 'https://www.ibm.com/topics/neural-networks'}}]\", 'topic': 'Neural networks'}`\n",
      "\n",
      "\n",
      "\u001b[0m{}\n",
      "\u001b[36;1m\u001b[1;3m{\"questions\": [\n",
      "  {\n",
      "    \"question\": \"What are some key milestones in the history of neural networks?\",\n",
      "    \"answer\": null\n",
      "  },\n",
      "  {\n",
      "    \"question\": \"How do neural networks mimic the way biological neurons signal to one another?\",\n",
      "    \"answer\": null\n",
      "  },\n",
      "  {\n",
      "    \"question\": \"What are some different types of neural networks and their applications?\",\n",
      "    \"answer\": null\n",
      "  },\n",
      "  {\n",
      "    \"question\": \"Can you explain the concept of deep learning and how it relates to neural networks?\",\n",
      "    \"answer\": null\n",
      "  },\n",
      "  {\n",
      "    \"question\": \"What are some recent advancements or research areas in the field of neural networks?\",\n",
      "    \"answer\": null\n",
      "  }\n",
      "]}\u001b[0m\u001b[32;1m\u001b[1;3m\n",
      "Invoking: `human_in_the_loop_answer_question` with `{'questions': ['What are some key milestones in the history of neural networks?', 'How do neural networks mimic the way biological neurons signal to one another?', 'What are some different types of neural networks and their applications?', 'Can you explain the concept of deep learning and how it relates to neural networks?', 'What are some recent advancements or research areas in the field of neural networks?']}`\n",
      "\n",
      "\n",
      "\u001b[0m\n",
      "\n",
      "What are some key milestones in the history of neural networks?\n",
      "\n",
      "\n",
      "How do neural networks mimic the way biological neurons signal to one another?\n",
      "\n",
      "\n",
      "What are some different types of neural networks and their applications?\n",
      "\n",
      "\n",
      "Can you explain the concept of deep learning and how it relates to neural networks?\n",
      "\n",
      "\n",
      "What are some recent advancements or research areas in the field of neural networks?\n",
      "\u001b[33;1m\u001b[1;3mYour output has been saved to a file called questions_and_answers.json.\u001b[0m\u001b[32;1m\u001b[1;3mGreat! If you have any more tasks or need further assistance, feel free to ask.\u001b[0m\n",
      "\n",
      "\u001b[1m> Finished chain.\u001b[0m\n"
     ]
    },
    {
     "data": {
      "text/plain": [
       "'Great! If you have any more tasks or need further assistance, feel free to ask.'"
      ]
     },
     "execution_count": 16,
     "metadata": {},
     "output_type": "execute_result"
    }
   ],
   "source": [
    "document_summaries_message = (\n",
    "        f\"document_summaries: {[s.dict() for s in summaries]}\"\n",
    "        f\"topic: {TOPIC}\"\n",
    "        f\"---\"\n",
    "        f\"Use the above to make interview questions, then I want to answer them.\"\n",
    "    )\n",
    "agent.run(document_summaries_message)"
   ]
  },
  {
   "cell_type": "markdown",
   "metadata": {},
   "source": [
    "---\n",
    "\n",
    "## General Article Outline:\n"
   ]
  },
  {
   "cell_type": "code",
   "execution_count": 17,
   "metadata": {},
   "outputs": [],
   "source": [
    "from article_outline_generation import BlogOutlineGenerator\n",
    "blog_outline_generator = BlogOutlineGenerator(topic=TOPIC)\n",
    "questions_and_answers = blog_outline_generator.questions_and_answers\n",
    "outline_result = blog_outline_generator.generate_outline(summaries)"
   ]
  },
  {
   "cell_type": "markdown",
   "metadata": {},
   "source": [
    "---\n",
    "\n",
    "## Article Text Generation:\n"
   ]
  },
  {
   "cell_type": "code",
   "execution_count": 18,
   "metadata": {},
   "outputs": [],
   "source": [
    "from article_generation import ContentGenerator\n",
    "content_gen = ContentGenerator(topic=TOPIC, outline=outline_result, questions_and_answers=questions_and_answers)\n",
    "content_gen.split_and_vectorize_documents(text_documents)\n",
    "blog_post = content_gen.generate_blog_post()"
   ]
  },
  {
   "cell_type": "markdown",
   "metadata": {},
   "source": [
    "---\n",
    "\n",
    "## Title Tag Optimization:\n"
   ]
  },
  {
   "cell_type": "code",
   "execution_count": null,
   "metadata": {},
   "outputs": [
    {
     "name": "stdout",
     "output_type": "stream",
     "text": [
      "Requirement already satisfied: thumb in /Users/jamesaphoenix/Desktop/projects/clients/thumb/src (0.1)\n",
      "Requirement already satisfied: gradio in /Users/jamesaphoenix/opt/anaconda3/lib/python3.9/site-packages (from thumb) (3.41.2)\n",
      "Requirement already satisfied: langchain in /Users/jamesaphoenix/opt/anaconda3/lib/python3.9/site-packages (from thumb) (0.0.274)\n",
      "Requirement already satisfied: ipython in /Users/jamesaphoenix/opt/anaconda3/lib/python3.9/site-packages (from thumb) (7.31.1)\n",
      "Requirement already satisfied: ipywidgets in /Users/jamesaphoenix/opt/anaconda3/lib/python3.9/site-packages (from thumb) (7.6.5)\n",
      "Requirement already satisfied: pillow<11.0,>=8.0 in /Users/jamesaphoenix/opt/anaconda3/lib/python3.9/site-packages (from gradio->thumb) (9.2.0)\n",
      "Requirement already satisfied: jinja2<4.0 in /Users/jamesaphoenix/opt/anaconda3/lib/python3.9/site-packages (from gradio->thumb) (2.11.3)\n",
      "Requirement already satisfied: matplotlib~=3.0 in /Users/jamesaphoenix/opt/anaconda3/lib/python3.9/site-packages (from gradio->thumb) (3.5.2)\n",
      "Requirement already satisfied: altair<6.0,>=4.2.0 in /Users/jamesaphoenix/opt/anaconda3/lib/python3.9/site-packages (from gradio->thumb) (5.1.1)\n",
      "Requirement already satisfied: pydub in /Users/jamesaphoenix/opt/anaconda3/lib/python3.9/site-packages (from gradio->thumb) (0.25.1)\n",
      "Requirement already satisfied: gradio-client==0.5.0 in /Users/jamesaphoenix/opt/anaconda3/lib/python3.9/site-packages (from gradio->thumb) (0.5.0)\n",
      "Requirement already satisfied: fastapi in /Users/jamesaphoenix/opt/anaconda3/lib/python3.9/site-packages (from gradio->thumb) (0.94.0)\n",
      "Requirement already satisfied: python-multipart in /Users/jamesaphoenix/opt/anaconda3/lib/python3.9/site-packages (from gradio->thumb) (0.0.6)\n",
      "Requirement already satisfied: packaging in /Users/jamesaphoenix/opt/anaconda3/lib/python3.9/site-packages (from gradio->thumb) (21.3)\n",
      "Requirement already satisfied: typing-extensions~=4.0 in /Users/jamesaphoenix/opt/anaconda3/lib/python3.9/site-packages (from gradio->thumb) (4.7.1)\n",
      "Requirement already satisfied: huggingface-hub>=0.14.0 in /Users/jamesaphoenix/opt/anaconda3/lib/python3.9/site-packages (from gradio->thumb) (0.16.4)\n",
      "Requirement already satisfied: aiofiles<24.0,>=22.0 in /Users/jamesaphoenix/opt/anaconda3/lib/python3.9/site-packages (from gradio->thumb) (23.2.1)\n",
      "Requirement already satisfied: websockets<12.0,>=10.0 in /Users/jamesaphoenix/opt/anaconda3/lib/python3.9/site-packages (from gradio->thumb) (10.4)\n",
      "Requirement already satisfied: pyyaml<7.0,>=5.0 in /Users/jamesaphoenix/opt/anaconda3/lib/python3.9/site-packages (from gradio->thumb) (6.0)\n",
      "Requirement already satisfied: uvicorn>=0.14.0 in /Users/jamesaphoenix/opt/anaconda3/lib/python3.9/site-packages (from gradio->thumb) (0.21.1)\n",
      "Requirement already satisfied: requests~=2.0 in /Users/jamesaphoenix/opt/anaconda3/lib/python3.9/site-packages (from gradio->thumb) (2.28.1)\n",
      "Requirement already satisfied: importlib-resources<7.0,>=1.3 in /Users/jamesaphoenix/opt/anaconda3/lib/python3.9/site-packages (from gradio->thumb) (6.0.1)\n",
      "Requirement already satisfied: orjson~=3.0 in /Users/jamesaphoenix/opt/anaconda3/lib/python3.9/site-packages (from gradio->thumb) (3.9.5)\n",
      "Requirement already satisfied: markupsafe~=2.0 in /Users/jamesaphoenix/opt/anaconda3/lib/python3.9/site-packages (from gradio->thumb) (2.0.1)\n",
      "Requirement already satisfied: httpx in /Users/jamesaphoenix/opt/anaconda3/lib/python3.9/site-packages (from gradio->thumb) (0.23.3)\n",
      "Requirement already satisfied: ffmpy in /Users/jamesaphoenix/opt/anaconda3/lib/python3.9/site-packages (from gradio->thumb) (0.3.1)\n",
      "Requirement already satisfied: numpy~=1.0 in /Users/jamesaphoenix/opt/anaconda3/lib/python3.9/site-packages (from gradio->thumb) (1.24.4)\n",
      "Requirement already satisfied: pandas<3.0,>=1.0 in /Users/jamesaphoenix/opt/anaconda3/lib/python3.9/site-packages (from gradio->thumb) (2.0.3)\n",
      "Requirement already satisfied: semantic-version~=2.0 in /Users/jamesaphoenix/opt/anaconda3/lib/python3.9/site-packages (from gradio->thumb) (2.10.0)\n",
      "Requirement already satisfied: pydantic!=1.8,!=1.8.1,!=2.0.0,!=2.0.1,<3.0.0,>=1.7.4 in /Users/jamesaphoenix/opt/anaconda3/lib/python3.9/site-packages (from gradio->thumb) (1.10.12)\n",
      "Requirement already satisfied: fsspec in /Users/jamesaphoenix/opt/anaconda3/lib/python3.9/site-packages (from gradio-client==0.5.0->gradio->thumb) (2023.5.0)\n",
      "Requirement already satisfied: matplotlib-inline in /Users/jamesaphoenix/opt/anaconda3/lib/python3.9/site-packages (from ipython->thumb) (0.1.6)\n",
      "Requirement already satisfied: prompt-toolkit!=3.0.0,!=3.0.1,<3.1.0,>=2.0.0 in /Users/jamesaphoenix/opt/anaconda3/lib/python3.9/site-packages (from ipython->thumb) (3.0.20)\n",
      "Requirement already satisfied: jedi>=0.16 in /Users/jamesaphoenix/opt/anaconda3/lib/python3.9/site-packages (from ipython->thumb) (0.18.1)\n",
      "Requirement already satisfied: pickleshare in /Users/jamesaphoenix/opt/anaconda3/lib/python3.9/site-packages (from ipython->thumb) (0.7.5)\n",
      "Requirement already satisfied: setuptools>=18.5 in /Users/jamesaphoenix/opt/anaconda3/lib/python3.9/site-packages (from ipython->thumb) (63.4.1)\n",
      "Requirement already satisfied: pexpect>4.3 in /Users/jamesaphoenix/opt/anaconda3/lib/python3.9/site-packages (from ipython->thumb) (4.8.0)\n",
      "Requirement already satisfied: pygments in /Users/jamesaphoenix/opt/anaconda3/lib/python3.9/site-packages (from ipython->thumb) (2.11.2)\n",
      "Requirement already satisfied: appnope in /Users/jamesaphoenix/opt/anaconda3/lib/python3.9/site-packages (from ipython->thumb) (0.1.2)\n",
      "Requirement already satisfied: traitlets>=4.2 in /Users/jamesaphoenix/opt/anaconda3/lib/python3.9/site-packages (from ipython->thumb) (5.1.1)\n",
      "Requirement already satisfied: backcall in /Users/jamesaphoenix/opt/anaconda3/lib/python3.9/site-packages (from ipython->thumb) (0.2.0)\n",
      "Requirement already satisfied: decorator in /Users/jamesaphoenix/opt/anaconda3/lib/python3.9/site-packages (from ipython->thumb) (4.4.2)\n",
      "Requirement already satisfied: nbformat>=4.2.0 in /Users/jamesaphoenix/opt/anaconda3/lib/python3.9/site-packages (from ipywidgets->thumb) (5.5.0)\n",
      "Requirement already satisfied: ipykernel>=4.5.1 in /Users/jamesaphoenix/opt/anaconda3/lib/python3.9/site-packages (from ipywidgets->thumb) (6.15.2)\n",
      "Requirement already satisfied: widgetsnbextension~=3.5.0 in /Users/jamesaphoenix/opt/anaconda3/lib/python3.9/site-packages (from ipywidgets->thumb) (3.5.2)\n",
      "Requirement already satisfied: jupyterlab-widgets>=1.0.0 in /Users/jamesaphoenix/opt/anaconda3/lib/python3.9/site-packages (from ipywidgets->thumb) (1.0.0)\n",
      "Requirement already satisfied: ipython-genutils~=0.2.0 in /Users/jamesaphoenix/opt/anaconda3/lib/python3.9/site-packages (from ipywidgets->thumb) (0.2.0)\n",
      "Requirement already satisfied: dataclasses-json<0.6.0,>=0.5.7 in /Users/jamesaphoenix/opt/anaconda3/lib/python3.9/site-packages (from langchain->thumb) (0.5.7)\n",
      "Requirement already satisfied: langsmith<0.1.0,>=0.0.21 in /Users/jamesaphoenix/opt/anaconda3/lib/python3.9/site-packages (from langchain->thumb) (0.0.27)\n",
      "Requirement already satisfied: async-timeout<5.0.0,>=4.0.0 in /Users/jamesaphoenix/opt/anaconda3/lib/python3.9/site-packages (from langchain->thumb) (4.0.2)\n",
      "Requirement already satisfied: SQLAlchemy<3,>=1.4 in /Users/jamesaphoenix/opt/anaconda3/lib/python3.9/site-packages (from langchain->thumb) (2.0.15)\n",
      "Requirement already satisfied: aiohttp<4.0.0,>=3.8.3 in /Users/jamesaphoenix/opt/anaconda3/lib/python3.9/site-packages (from langchain->thumb) (3.8.4)\n",
      "Requirement already satisfied: numexpr<3.0.0,>=2.8.4 in /Users/jamesaphoenix/opt/anaconda3/lib/python3.9/site-packages (from langchain->thumb) (2.8.4)\n",
      "Requirement already satisfied: tenacity<9.0.0,>=8.1.0 in /Users/jamesaphoenix/opt/anaconda3/lib/python3.9/site-packages (from langchain->thumb) (8.2.2)\n",
      "Requirement already satisfied: attrs>=17.3.0 in /Users/jamesaphoenix/opt/anaconda3/lib/python3.9/site-packages (from aiohttp<4.0.0,>=3.8.3->langchain->thumb) (21.4.0)\n",
      "Requirement already satisfied: yarl<2.0,>=1.0 in /Users/jamesaphoenix/opt/anaconda3/lib/python3.9/site-packages (from aiohttp<4.0.0,>=3.8.3->langchain->thumb) (1.8.2)\n",
      "Requirement already satisfied: frozenlist>=1.1.1 in /Users/jamesaphoenix/opt/anaconda3/lib/python3.9/site-packages (from aiohttp<4.0.0,>=3.8.3->langchain->thumb) (1.3.3)\n",
      "Requirement already satisfied: charset-normalizer<4.0,>=2.0 in /Users/jamesaphoenix/opt/anaconda3/lib/python3.9/site-packages (from aiohttp<4.0.0,>=3.8.3->langchain->thumb) (2.0.4)\n",
      "Requirement already satisfied: multidict<7.0,>=4.5 in /Users/jamesaphoenix/opt/anaconda3/lib/python3.9/site-packages (from aiohttp<4.0.0,>=3.8.3->langchain->thumb) (6.0.4)\n",
      "Requirement already satisfied: aiosignal>=1.1.2 in /Users/jamesaphoenix/opt/anaconda3/lib/python3.9/site-packages (from aiohttp<4.0.0,>=3.8.3->langchain->thumb) (1.3.1)\n",
      "Requirement already satisfied: toolz in /Users/jamesaphoenix/opt/anaconda3/lib/python3.9/site-packages (from altair<6.0,>=4.2.0->gradio->thumb) (0.11.2)\n",
      "Requirement already satisfied: jsonschema>=3.0 in /Users/jamesaphoenix/opt/anaconda3/lib/python3.9/site-packages (from altair<6.0,>=4.2.0->gradio->thumb) (4.16.0)\n",
      "Requirement already satisfied: marshmallow<4.0.0,>=3.3.0 in /Users/jamesaphoenix/opt/anaconda3/lib/python3.9/site-packages (from dataclasses-json<0.6.0,>=0.5.7->langchain->thumb) (3.19.0)\n",
      "Requirement already satisfied: marshmallow-enum<2.0.0,>=1.5.1 in /Users/jamesaphoenix/opt/anaconda3/lib/python3.9/site-packages (from dataclasses-json<0.6.0,>=0.5.7->langchain->thumb) (1.5.1)\n",
      "Requirement already satisfied: typing-inspect>=0.4.0 in /Users/jamesaphoenix/opt/anaconda3/lib/python3.9/site-packages (from dataclasses-json<0.6.0,>=0.5.7->langchain->thumb) (0.8.0)\n",
      "Requirement already satisfied: tqdm>=4.42.1 in /Users/jamesaphoenix/opt/anaconda3/lib/python3.9/site-packages (from huggingface-hub>=0.14.0->gradio->thumb) (4.65.0)\n",
      "Requirement already satisfied: filelock in /Users/jamesaphoenix/opt/anaconda3/lib/python3.9/site-packages (from huggingface-hub>=0.14.0->gradio->thumb) (3.6.0)\n",
      "Requirement already satisfied: zipp>=3.1.0 in /Users/jamesaphoenix/opt/anaconda3/lib/python3.9/site-packages (from importlib-resources<7.0,>=1.3->gradio->thumb) (3.8.0)\n",
      "Requirement already satisfied: pyzmq>=17 in /Users/jamesaphoenix/opt/anaconda3/lib/python3.9/site-packages (from ipykernel>=4.5.1->ipywidgets->thumb) (23.2.0)\n",
      "Requirement already satisfied: tornado>=6.1 in /Users/jamesaphoenix/opt/anaconda3/lib/python3.9/site-packages (from ipykernel>=4.5.1->ipywidgets->thumb) (6.1)\n",
      "Requirement already satisfied: debugpy>=1.0 in /Users/jamesaphoenix/opt/anaconda3/lib/python3.9/site-packages (from ipykernel>=4.5.1->ipywidgets->thumb) (1.5.1)\n",
      "Requirement already satisfied: nest-asyncio in /Users/jamesaphoenix/opt/anaconda3/lib/python3.9/site-packages (from ipykernel>=4.5.1->ipywidgets->thumb) (1.5.5)\n",
      "Requirement already satisfied: psutil in /Users/jamesaphoenix/opt/anaconda3/lib/python3.9/site-packages (from ipykernel>=4.5.1->ipywidgets->thumb) (5.9.0)\n",
      "Requirement already satisfied: jupyter-client>=6.1.12 in /Users/jamesaphoenix/opt/anaconda3/lib/python3.9/site-packages (from ipykernel>=4.5.1->ipywidgets->thumb) (7.3.4)\n",
      "Requirement already satisfied: parso<0.9.0,>=0.8.0 in /Users/jamesaphoenix/opt/anaconda3/lib/python3.9/site-packages (from jedi>=0.16->ipython->thumb) (0.8.3)\n",
      "Requirement already satisfied: cycler>=0.10 in /Users/jamesaphoenix/opt/anaconda3/lib/python3.9/site-packages (from matplotlib~=3.0->gradio->thumb) (0.11.0)\n",
      "Requirement already satisfied: pyparsing>=2.2.1 in /Users/jamesaphoenix/opt/anaconda3/lib/python3.9/site-packages (from matplotlib~=3.0->gradio->thumb) (3.0.9)\n",
      "Requirement already satisfied: fonttools>=4.22.0 in /Users/jamesaphoenix/opt/anaconda3/lib/python3.9/site-packages (from matplotlib~=3.0->gradio->thumb) (4.25.0)\n",
      "Requirement already satisfied: python-dateutil>=2.7 in /Users/jamesaphoenix/opt/anaconda3/lib/python3.9/site-packages (from matplotlib~=3.0->gradio->thumb) (2.8.2)\n",
      "Requirement already satisfied: kiwisolver>=1.0.1 in /Users/jamesaphoenix/opt/anaconda3/lib/python3.9/site-packages (from matplotlib~=3.0->gradio->thumb) (1.4.2)\n",
      "Requirement already satisfied: fastjsonschema in /Users/jamesaphoenix/opt/anaconda3/lib/python3.9/site-packages (from nbformat>=4.2.0->ipywidgets->thumb) (2.16.2)\n",
      "Requirement already satisfied: jupyter_core in /Users/jamesaphoenix/opt/anaconda3/lib/python3.9/site-packages (from nbformat>=4.2.0->ipywidgets->thumb) (4.11.1)\n",
      "Requirement already satisfied: tzdata>=2022.1 in /Users/jamesaphoenix/opt/anaconda3/lib/python3.9/site-packages (from pandas<3.0,>=1.0->gradio->thumb) (2023.3)\n",
      "Requirement already satisfied: pytz>=2020.1 in /Users/jamesaphoenix/opt/anaconda3/lib/python3.9/site-packages (from pandas<3.0,>=1.0->gradio->thumb) (2022.1)\n",
      "Requirement already satisfied: ptyprocess>=0.5 in /Users/jamesaphoenix/opt/anaconda3/lib/python3.9/site-packages (from pexpect>4.3->ipython->thumb) (0.7.0)\n",
      "Requirement already satisfied: wcwidth in /Users/jamesaphoenix/opt/anaconda3/lib/python3.9/site-packages (from prompt-toolkit!=3.0.0,!=3.0.1,<3.1.0,>=2.0.0->ipython->thumb) (0.2.5)\n",
      "Requirement already satisfied: urllib3<1.27,>=1.21.1 in /Users/jamesaphoenix/opt/anaconda3/lib/python3.9/site-packages (from requests~=2.0->gradio->thumb) (1.26.11)\n",
      "Requirement already satisfied: certifi>=2017.4.17 in /Users/jamesaphoenix/opt/anaconda3/lib/python3.9/site-packages (from requests~=2.0->gradio->thumb) (2022.9.24)\n",
      "Requirement already satisfied: idna<4,>=2.5 in /Users/jamesaphoenix/opt/anaconda3/lib/python3.9/site-packages (from requests~=2.0->gradio->thumb) (3.3)\n",
      "Requirement already satisfied: greenlet!=0.4.17 in /Users/jamesaphoenix/opt/anaconda3/lib/python3.9/site-packages (from SQLAlchemy<3,>=1.4->langchain->thumb) (2.0.2)\n",
      "Requirement already satisfied: click>=7.0 in /Users/jamesaphoenix/opt/anaconda3/lib/python3.9/site-packages (from uvicorn>=0.14.0->gradio->thumb) (8.0.4)\n",
      "Requirement already satisfied: h11>=0.8 in /Users/jamesaphoenix/opt/anaconda3/lib/python3.9/site-packages (from uvicorn>=0.14.0->gradio->thumb) (0.14.0)\n",
      "Requirement already satisfied: notebook>=4.4.1 in /Users/jamesaphoenix/opt/anaconda3/lib/python3.9/site-packages (from widgetsnbextension~=3.5.0->ipywidgets->thumb) (6.4.12)\n",
      "Requirement already satisfied: starlette<0.27.0,>=0.26.0 in /Users/jamesaphoenix/opt/anaconda3/lib/python3.9/site-packages (from fastapi->gradio->thumb) (0.26.0.post1)\n",
      "Requirement already satisfied: rfc3986[idna2008]<2,>=1.3 in /Users/jamesaphoenix/opt/anaconda3/lib/python3.9/site-packages (from httpx->gradio->thumb) (1.5.0)\n",
      "Requirement already satisfied: sniffio in /Users/jamesaphoenix/opt/anaconda3/lib/python3.9/site-packages (from httpx->gradio->thumb) (1.2.0)\n",
      "Requirement already satisfied: httpcore<0.17.0,>=0.15.0 in /Users/jamesaphoenix/opt/anaconda3/lib/python3.9/site-packages (from httpx->gradio->thumb) (0.16.3)\n",
      "Requirement already satisfied: anyio<5.0,>=3.0 in /Users/jamesaphoenix/opt/anaconda3/lib/python3.9/site-packages (from httpcore<0.17.0,>=0.15.0->httpx->gradio->thumb) (3.5.0)\n",
      "Requirement already satisfied: pyrsistent!=0.17.0,!=0.17.1,!=0.17.2,>=0.14.0 in /Users/jamesaphoenix/opt/anaconda3/lib/python3.9/site-packages (from jsonschema>=3.0->altair<6.0,>=4.2.0->gradio->thumb) (0.18.0)\n",
      "Requirement already satisfied: entrypoints in /Users/jamesaphoenix/opt/anaconda3/lib/python3.9/site-packages (from jupyter-client>=6.1.12->ipykernel>=4.5.1->ipywidgets->thumb) (0.4)\n",
      "Requirement already satisfied: Send2Trash>=1.8.0 in /Users/jamesaphoenix/opt/anaconda3/lib/python3.9/site-packages (from notebook>=4.4.1->widgetsnbextension~=3.5.0->ipywidgets->thumb) (1.8.0)\n",
      "Requirement already satisfied: nbconvert>=5 in /Users/jamesaphoenix/opt/anaconda3/lib/python3.9/site-packages (from notebook>=4.4.1->widgetsnbextension~=3.5.0->ipywidgets->thumb) (6.4.4)\n",
      "Requirement already satisfied: prometheus-client in /Users/jamesaphoenix/opt/anaconda3/lib/python3.9/site-packages (from notebook>=4.4.1->widgetsnbextension~=3.5.0->ipywidgets->thumb) (0.14.1)\n",
      "Requirement already satisfied: argon2-cffi in /Users/jamesaphoenix/opt/anaconda3/lib/python3.9/site-packages (from notebook>=4.4.1->widgetsnbextension~=3.5.0->ipywidgets->thumb) (21.3.0)\n",
      "Requirement already satisfied: terminado>=0.8.3 in /Users/jamesaphoenix/opt/anaconda3/lib/python3.9/site-packages (from notebook>=4.4.1->widgetsnbextension~=3.5.0->ipywidgets->thumb) (0.13.1)\n",
      "Requirement already satisfied: six>=1.5 in /Users/jamesaphoenix/opt/anaconda3/lib/python3.9/site-packages (from python-dateutil>=2.7->matplotlib~=3.0->gradio->thumb) (1.16.0)\n",
      "Requirement already satisfied: mypy-extensions>=0.3.0 in /Users/jamesaphoenix/opt/anaconda3/lib/python3.9/site-packages (from typing-inspect>=0.4.0->dataclasses-json<0.6.0,>=0.5.7->langchain->thumb) (0.4.3)\n",
      "Requirement already satisfied: nbclient<0.6.0,>=0.5.0 in /Users/jamesaphoenix/opt/anaconda3/lib/python3.9/site-packages (from nbconvert>=5->notebook>=4.4.1->widgetsnbextension~=3.5.0->ipywidgets->thumb) (0.5.13)\n",
      "Requirement already satisfied: testpath in /Users/jamesaphoenix/opt/anaconda3/lib/python3.9/site-packages (from nbconvert>=5->notebook>=4.4.1->widgetsnbextension~=3.5.0->ipywidgets->thumb) (0.6.0)\n",
      "Requirement already satisfied: jupyterlab-pygments in /Users/jamesaphoenix/opt/anaconda3/lib/python3.9/site-packages (from nbconvert>=5->notebook>=4.4.1->widgetsnbextension~=3.5.0->ipywidgets->thumb) (0.1.2)\n",
      "Requirement already satisfied: bleach in /Users/jamesaphoenix/opt/anaconda3/lib/python3.9/site-packages (from nbconvert>=5->notebook>=4.4.1->widgetsnbextension~=3.5.0->ipywidgets->thumb) (4.1.0)\n",
      "Requirement already satisfied: beautifulsoup4 in /Users/jamesaphoenix/opt/anaconda3/lib/python3.9/site-packages (from nbconvert>=5->notebook>=4.4.1->widgetsnbextension~=3.5.0->ipywidgets->thumb) (4.11.1)\n",
      "Requirement already satisfied: defusedxml in /Users/jamesaphoenix/opt/anaconda3/lib/python3.9/site-packages (from nbconvert>=5->notebook>=4.4.1->widgetsnbextension~=3.5.0->ipywidgets->thumb) (0.7.1)\n",
      "Requirement already satisfied: pandocfilters>=1.4.1 in /Users/jamesaphoenix/opt/anaconda3/lib/python3.9/site-packages (from nbconvert>=5->notebook>=4.4.1->widgetsnbextension~=3.5.0->ipywidgets->thumb) (1.5.0)\n",
      "Requirement already satisfied: mistune<2,>=0.8.1 in /Users/jamesaphoenix/opt/anaconda3/lib/python3.9/site-packages (from nbconvert>=5->notebook>=4.4.1->widgetsnbextension~=3.5.0->ipywidgets->thumb) (0.8.4)\n",
      "Requirement already satisfied: argon2-cffi-bindings in /Users/jamesaphoenix/opt/anaconda3/lib/python3.9/site-packages (from argon2-cffi->notebook>=4.4.1->widgetsnbextension~=3.5.0->ipywidgets->thumb) (21.2.0)\n",
      "Requirement already satisfied: cffi>=1.0.1 in /Users/jamesaphoenix/opt/anaconda3/lib/python3.9/site-packages (from argon2-cffi-bindings->argon2-cffi->notebook>=4.4.1->widgetsnbextension~=3.5.0->ipywidgets->thumb) (1.15.1)\n",
      "Requirement already satisfied: soupsieve>1.2 in /Users/jamesaphoenix/opt/anaconda3/lib/python3.9/site-packages (from beautifulsoup4->nbconvert>=5->notebook>=4.4.1->widgetsnbextension~=3.5.0->ipywidgets->thumb) (2.3.1)\n",
      "Requirement already satisfied: webencodings in /Users/jamesaphoenix/opt/anaconda3/lib/python3.9/site-packages (from bleach->nbconvert>=5->notebook>=4.4.1->widgetsnbextension~=3.5.0->ipywidgets->thumb) (0.5.1)\n",
      "Requirement already satisfied: pycparser in /Users/jamesaphoenix/opt/anaconda3/lib/python3.9/site-packages (from cffi>=1.0.1->argon2-cffi-bindings->argon2-cffi->notebook>=4.4.1->widgetsnbextension~=3.5.0->ipywidgets->thumb) (2.21)\n",
      "Note: you may need to restart the kernel to use updated packages.\n"
     ]
    }
   ],
   "source": [
    "%pip install thumb --quiet # This is a tool for evaluation of the potential blog post titles."
   ]
  },
  {
   "cell_type": "code",
   "execution_count": 59,
   "metadata": {},
   "outputs": [],
   "source": [
    "import os\n",
    "import thumb\n",
    "\n",
    "# Set the environment variables (get your API key: https://platform.openai.com/account/api-keys)\n",
    "os.environ[\"LANGCHAIN_API_KEY\"] = \"YOUR_API_KEY_HERE\" # optional: for langsmith tracing"
   ]
  },
  {
   "cell_type": "code",
   "execution_count": 66,
   "metadata": {},
   "outputs": [
    {
     "data": {
      "application/vnd.jupyter.widget-view+json": {
       "model_id": "b572387340cc4c83b08027cc8f78e867",
       "version_major": 2,
       "version_minor": 0
      },
      "text/plain": [
       "HTML(value='\"Unlock the Power of Neural Networks: A Comprehensive Guide for Enhanced Pattern Recognition and D…"
      ]
     },
     "metadata": {},
     "output_type": "display_data"
    },
    {
     "data": {
      "application/vnd.jupyter.widget-view+json": {
       "model_id": "9966922d5c27494db9ecad17489594c7",
       "version_major": 2,
       "version_minor": 0
      },
      "text/plain": [
       "HBox(children=(Button(description='👎', style=ButtonStyle()), Button(description='👍', style=ButtonStyle())))"
      ]
     },
     "metadata": {},
     "output_type": "display_data"
    },
    {
     "data": {
      "application/vnd.jupyter.widget-view+json": {
       "model_id": "228c35509eeb47b39c27e3c2786bf2f6",
       "version_major": 2,
       "version_minor": 0
      },
      "text/plain": [
       "IntProgress(value=0, description='Progress:', max=40)"
      ]
     },
     "metadata": {},
     "output_type": "display_data"
    },
    {
     "data": {
      "application/vnd.jupyter.widget-view+json": {
       "model_id": "e83a76ee80904fb695a4c9c842184758",
       "version_major": 2,
       "version_minor": 0
      },
      "text/plain": [
       "Label(value='ThumbTest: 80615803')"
      ]
     },
     "metadata": {},
     "output_type": "display_data"
    }
   ],
   "source": [
    "base_prompt = f\"Generate a title tag for this blog post on topic: {TOPIC}, Title: {outline_result.title}. The first 200 characters: {''.join(blog_post)[0:200]}\"\n",
    "\n",
    "# Set up a prompt templates for the a/b test:\n",
    "prompt_a = base_prompt + ' ' + \"Write the title in a style of {style}. Make sure that it is SEO friendly.\"\n",
    "prompt_b = base_prompt + ' ' + \"Write the title in a style of {style}. Make sure that is reader friendly. Focus on the reader.\"\n",
    "\n",
    "# Set test cases with different input variables:\n",
    "cases = [\n",
    "  {\"style\": \"business professional\"},\n",
    "  {\"style\": \"b2b marketing\"},\n",
    "  ]\n",
    "\n",
    "# Generate the responses\n",
    "test = thumb.test([prompt_a, prompt_b], cases, runs=10)"
   ]
  }
 ],
 "metadata": {
  "kernelspec": {
   "display_name": "base",
   "language": "python",
   "name": "python3"
  },
  "language_info": {
   "codemirror_mode": {
    "name": "ipython",
    "version": 3
   },
   "file_extension": ".py",
   "mimetype": "text/x-python",
   "name": "python",
   "nbconvert_exporter": "python",
   "pygments_lexer": "ipython3",
   "version": "3.9.13"
  },
  "orig_nbformat": 4
 },
 "nbformat": 4,
 "nbformat_minor": 2
}
